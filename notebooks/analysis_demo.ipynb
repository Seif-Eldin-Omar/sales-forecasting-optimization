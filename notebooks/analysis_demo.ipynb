{
 "cells": [
  {
   "cell_type": "code",
   "execution_count": 120,
   "id": "f3289c08",
   "metadata": {},
   "outputs": [],
   "source": [
    "import pandas as pd\n",
    "import numpy as np\n",
    "pd.set_option('display.max_columns', None)\n",
    "pd.set_option('display.float_format', '{:,.0f}'.format)\n",
    "\n",
    "import warnings\n",
    "warnings.filterwarnings(\"ignore\")"
   ]
  },
  {
   "cell_type": "code",
   "execution_count": 121,
   "id": "169ffafe",
   "metadata": {},
   "outputs": [
    {
     "data": {
      "text/html": [
       "<div>\n",
       "<style scoped>\n",
       "    .dataframe tbody tr th:only-of-type {\n",
       "        vertical-align: middle;\n",
       "    }\n",
       "\n",
       "    .dataframe tbody tr th {\n",
       "        vertical-align: top;\n",
       "    }\n",
       "\n",
       "    .dataframe thead th {\n",
       "        text-align: right;\n",
       "    }\n",
       "</style>\n",
       "<table border=\"1\" class=\"dataframe\">\n",
       "  <thead>\n",
       "    <tr style=\"text-align: right;\">\n",
       "      <th></th>\n",
       "      <th>date</th>\n",
       "      <th>store_nbr</th>\n",
       "      <th>family</th>\n",
       "      <th>sales</th>\n",
       "      <th>onpromotion</th>\n",
       "      <th>holiday_type</th>\n",
       "      <th>locale</th>\n",
       "      <th>transferred</th>\n",
       "      <th>dcoilwtico</th>\n",
       "      <th>city</th>\n",
       "      <th>state</th>\n",
       "      <th>store_type</th>\n",
       "      <th>cluster</th>\n",
       "      <th>transactions</th>\n",
       "      <th>year</th>\n",
       "      <th>month</th>\n",
       "      <th>week</th>\n",
       "      <th>quarter</th>\n",
       "      <th>day_of_week</th>\n",
       "      <th>is_crisis</th>\n",
       "      <th>sales_lag_7</th>\n",
       "      <th>rolling_mean_7</th>\n",
       "      <th>is_weekend</th>\n",
       "      <th>is_holiday</th>\n",
       "      <th>promo_last_7_days</th>\n",
       "    </tr>\n",
       "  </thead>\n",
       "  <tbody>\n",
       "    <tr>\n",
       "      <th>0</th>\n",
       "      <td>2013-01-01</td>\n",
       "      <td>1</td>\n",
       "      <td>AUTOMOTIVE</td>\n",
       "      <td>0</td>\n",
       "      <td>0</td>\n",
       "      <td>Holiday</td>\n",
       "      <td>National</td>\n",
       "      <td>False</td>\n",
       "      <td>93</td>\n",
       "      <td>Quito</td>\n",
       "      <td>Pichincha</td>\n",
       "      <td>D</td>\n",
       "      <td>13</td>\n",
       "      <td>0</td>\n",
       "      <td>2013</td>\n",
       "      <td>1</td>\n",
       "      <td>1</td>\n",
       "      <td>1</td>\n",
       "      <td>Tuesday</td>\n",
       "      <td>0</td>\n",
       "      <td>0</td>\n",
       "      <td>0</td>\n",
       "      <td>0</td>\n",
       "      <td>1</td>\n",
       "      <td>0</td>\n",
       "    </tr>\n",
       "    <tr>\n",
       "      <th>1</th>\n",
       "      <td>2013-01-01</td>\n",
       "      <td>1</td>\n",
       "      <td>BABY CARE</td>\n",
       "      <td>0</td>\n",
       "      <td>0</td>\n",
       "      <td>Holiday</td>\n",
       "      <td>National</td>\n",
       "      <td>False</td>\n",
       "      <td>93</td>\n",
       "      <td>Quito</td>\n",
       "      <td>Pichincha</td>\n",
       "      <td>D</td>\n",
       "      <td>13</td>\n",
       "      <td>0</td>\n",
       "      <td>2013</td>\n",
       "      <td>1</td>\n",
       "      <td>1</td>\n",
       "      <td>1</td>\n",
       "      <td>Tuesday</td>\n",
       "      <td>0</td>\n",
       "      <td>0</td>\n",
       "      <td>0</td>\n",
       "      <td>0</td>\n",
       "      <td>1</td>\n",
       "      <td>0</td>\n",
       "    </tr>\n",
       "    <tr>\n",
       "      <th>2</th>\n",
       "      <td>2013-01-01</td>\n",
       "      <td>1</td>\n",
       "      <td>BEAUTY</td>\n",
       "      <td>0</td>\n",
       "      <td>0</td>\n",
       "      <td>Holiday</td>\n",
       "      <td>National</td>\n",
       "      <td>False</td>\n",
       "      <td>93</td>\n",
       "      <td>Quito</td>\n",
       "      <td>Pichincha</td>\n",
       "      <td>D</td>\n",
       "      <td>13</td>\n",
       "      <td>0</td>\n",
       "      <td>2013</td>\n",
       "      <td>1</td>\n",
       "      <td>1</td>\n",
       "      <td>1</td>\n",
       "      <td>Tuesday</td>\n",
       "      <td>0</td>\n",
       "      <td>0</td>\n",
       "      <td>0</td>\n",
       "      <td>0</td>\n",
       "      <td>1</td>\n",
       "      <td>0</td>\n",
       "    </tr>\n",
       "    <tr>\n",
       "      <th>3</th>\n",
       "      <td>2013-01-01</td>\n",
       "      <td>1</td>\n",
       "      <td>BEVERAGES</td>\n",
       "      <td>0</td>\n",
       "      <td>0</td>\n",
       "      <td>Holiday</td>\n",
       "      <td>National</td>\n",
       "      <td>False</td>\n",
       "      <td>93</td>\n",
       "      <td>Quito</td>\n",
       "      <td>Pichincha</td>\n",
       "      <td>D</td>\n",
       "      <td>13</td>\n",
       "      <td>0</td>\n",
       "      <td>2013</td>\n",
       "      <td>1</td>\n",
       "      <td>1</td>\n",
       "      <td>1</td>\n",
       "      <td>Tuesday</td>\n",
       "      <td>0</td>\n",
       "      <td>0</td>\n",
       "      <td>0</td>\n",
       "      <td>0</td>\n",
       "      <td>1</td>\n",
       "      <td>0</td>\n",
       "    </tr>\n",
       "    <tr>\n",
       "      <th>4</th>\n",
       "      <td>2013-01-01</td>\n",
       "      <td>1</td>\n",
       "      <td>BOOKS</td>\n",
       "      <td>0</td>\n",
       "      <td>0</td>\n",
       "      <td>Holiday</td>\n",
       "      <td>National</td>\n",
       "      <td>False</td>\n",
       "      <td>93</td>\n",
       "      <td>Quito</td>\n",
       "      <td>Pichincha</td>\n",
       "      <td>D</td>\n",
       "      <td>13</td>\n",
       "      <td>0</td>\n",
       "      <td>2013</td>\n",
       "      <td>1</td>\n",
       "      <td>1</td>\n",
       "      <td>1</td>\n",
       "      <td>Tuesday</td>\n",
       "      <td>0</td>\n",
       "      <td>0</td>\n",
       "      <td>0</td>\n",
       "      <td>0</td>\n",
       "      <td>1</td>\n",
       "      <td>0</td>\n",
       "    </tr>\n",
       "  </tbody>\n",
       "</table>\n",
       "</div>"
      ],
      "text/plain": [
       "        date  store_nbr      family  sales  onpromotion holiday_type  \\\n",
       "0 2013-01-01          1  AUTOMOTIVE      0            0      Holiday   \n",
       "1 2013-01-01          1   BABY CARE      0            0      Holiday   \n",
       "2 2013-01-01          1      BEAUTY      0            0      Holiday   \n",
       "3 2013-01-01          1   BEVERAGES      0            0      Holiday   \n",
       "4 2013-01-01          1       BOOKS      0            0      Holiday   \n",
       "\n",
       "     locale  transferred  dcoilwtico   city      state store_type  cluster  \\\n",
       "0  National        False          93  Quito  Pichincha          D       13   \n",
       "1  National        False          93  Quito  Pichincha          D       13   \n",
       "2  National        False          93  Quito  Pichincha          D       13   \n",
       "3  National        False          93  Quito  Pichincha          D       13   \n",
       "4  National        False          93  Quito  Pichincha          D       13   \n",
       "\n",
       "   transactions  year  month  week  quarter day_of_week  is_crisis  \\\n",
       "0             0  2013      1     1        1     Tuesday          0   \n",
       "1             0  2013      1     1        1     Tuesday          0   \n",
       "2             0  2013      1     1        1     Tuesday          0   \n",
       "3             0  2013      1     1        1     Tuesday          0   \n",
       "4             0  2013      1     1        1     Tuesday          0   \n",
       "\n",
       "   sales_lag_7  rolling_mean_7  is_weekend  is_holiday  promo_last_7_days  \n",
       "0            0               0           0           1                  0  \n",
       "1            0               0           0           1                  0  \n",
       "2            0               0           0           1                  0  \n",
       "3            0               0           0           1                  0  \n",
       "4            0               0           0           1                  0  "
      ]
     },
     "execution_count": 121,
     "metadata": {},
     "output_type": "execute_result"
    }
   ],
   "source": [
    "df = pd.read_csv('../data/cleaned_data.csv')\n",
    "\n",
    "df['date'] = pd.to_datetime(df['date'])\n",
    "df.head()"
   ]
  },
  {
   "cell_type": "markdown",
   "id": "ce31c4ad",
   "metadata": {},
   "source": [
    "## 🔍 1. How Have Total Sales Evolved Over Time?\n",
    "\n",
    "To understand the overall business trend, we calculated the total sales per day from the dataset."
   ]
  },
  {
   "cell_type": "code",
   "execution_count": 122,
   "id": "dd3c2182",
   "metadata": {},
   "outputs": [
    {
     "data": {
      "text/html": [
       "<div>\n",
       "<style scoped>\n",
       "    .dataframe tbody tr th:only-of-type {\n",
       "        vertical-align: middle;\n",
       "    }\n",
       "\n",
       "    .dataframe tbody tr th {\n",
       "        vertical-align: top;\n",
       "    }\n",
       "\n",
       "    .dataframe thead th {\n",
       "        text-align: right;\n",
       "    }\n",
       "</style>\n",
       "<table border=\"1\" class=\"dataframe\">\n",
       "  <thead>\n",
       "    <tr style=\"text-align: right;\">\n",
       "      <th></th>\n",
       "      <th>date</th>\n",
       "      <th>sales</th>\n",
       "    </tr>\n",
       "  </thead>\n",
       "  <tbody>\n",
       "    <tr>\n",
       "      <th>0</th>\n",
       "      <td>2013-01-01</td>\n",
       "      <td>2,512</td>\n",
       "    </tr>\n",
       "    <tr>\n",
       "      <th>1</th>\n",
       "      <td>2013-01-02</td>\n",
       "      <td>496,092</td>\n",
       "    </tr>\n",
       "    <tr>\n",
       "      <th>2</th>\n",
       "      <td>2013-01-03</td>\n",
       "      <td>361,461</td>\n",
       "    </tr>\n",
       "    <tr>\n",
       "      <th>3</th>\n",
       "      <td>2013-01-04</td>\n",
       "      <td>354,460</td>\n",
       "    </tr>\n",
       "    <tr>\n",
       "      <th>4</th>\n",
       "      <td>2013-01-05</td>\n",
       "      <td>477,350</td>\n",
       "    </tr>\n",
       "    <tr>\n",
       "      <th>...</th>\n",
       "      <td>...</td>\n",
       "      <td>...</td>\n",
       "    </tr>\n",
       "    <tr>\n",
       "      <th>1679</th>\n",
       "      <td>2017-08-11</td>\n",
       "      <td>826,374</td>\n",
       "    </tr>\n",
       "    <tr>\n",
       "      <th>1680</th>\n",
       "      <td>2017-08-12</td>\n",
       "      <td>792,631</td>\n",
       "    </tr>\n",
       "    <tr>\n",
       "      <th>1681</th>\n",
       "      <td>2017-08-13</td>\n",
       "      <td>865,640</td>\n",
       "    </tr>\n",
       "    <tr>\n",
       "      <th>1682</th>\n",
       "      <td>2017-08-14</td>\n",
       "      <td>760,922</td>\n",
       "    </tr>\n",
       "    <tr>\n",
       "      <th>1683</th>\n",
       "      <td>2017-08-15</td>\n",
       "      <td>762,662</td>\n",
       "    </tr>\n",
       "  </tbody>\n",
       "</table>\n",
       "<p>1684 rows × 2 columns</p>\n",
       "</div>"
      ],
      "text/plain": [
       "           date   sales\n",
       "0    2013-01-01   2,512\n",
       "1    2013-01-02 496,092\n",
       "2    2013-01-03 361,461\n",
       "3    2013-01-04 354,460\n",
       "4    2013-01-05 477,350\n",
       "...         ...     ...\n",
       "1679 2017-08-11 826,374\n",
       "1680 2017-08-12 792,631\n",
       "1681 2017-08-13 865,640\n",
       "1682 2017-08-14 760,922\n",
       "1683 2017-08-15 762,662\n",
       "\n",
       "[1684 rows x 2 columns]"
      ]
     },
     "execution_count": 122,
     "metadata": {},
     "output_type": "execute_result"
    }
   ],
   "source": [
    "sales_over_time = df.groupby('date')['sales'].sum().reset_index()\n",
    "sales_over_time"
   ]
  },
  {
   "cell_type": "markdown",
   "id": "a91150ae",
   "metadata": {},
   "source": [
    "### Key Findings:\n",
    "- Daily sales range from as low as ~2.5K to over 860K in some peak days.\n",
    "- There is a clear upward trend in daily revenue, with seasonal fluctuations likely present (to be analyzed in later steps)."
   ]
  },
  {
   "cell_type": "markdown",
   "id": "f5dcc5b0",
   "metadata": {},
   "source": [
    "> Corresponding plots will be in cell `4` in `visualization_demo.ipynb`"
   ]
  },
  {
   "cell_type": "markdown",
   "id": "b0db5ccc",
   "metadata": {},
   "source": [
    "## 🔍 2. Which products or categories contribute the most to total revenue?\n",
    "\n",
    "Based on the total sales data, the following products or categories contribute the most to the total revenue:"
   ]
  },
  {
   "cell_type": "code",
   "execution_count": 123,
   "id": "eb428367",
   "metadata": {},
   "outputs": [
    {
     "data": {
      "text/plain": [
       "family\n",
       "GROCERY I             350,827,298\n",
       "BEVERAGES             221,663,540\n",
       "PRODUCE               125,447,968\n",
       "CLEANING               99,421,019\n",
       "DAIRY                  65,823,605\n",
       "BREAD/BAKERY           42,959,924\n",
       "POULTRY                32,494,451\n",
       "MEATS                  31,650,996\n",
       "PERSONAL CARE          25,100,482\n",
       "DELI                   24,585,627\n",
       "HOME CARE              16,409,522\n",
       "EGGS                   15,881,196\n",
       "FROZEN FOODS           14,646,940\n",
       "PREPARED FOODS          8,966,728\n",
       "LIQUOR,WINE,BEER        7,937,172\n",
       "SEAFOOD                 2,051,636\n",
       "GROCERY II              2,004,966\n",
       "HOME AND KITCHEN I      1,905,076\n",
       "HOME AND KITCHEN II     1,556,511\n",
       "CELEBRATION               779,502\n",
       "Name: sales, dtype: float64"
      ]
     },
     "execution_count": 123,
     "metadata": {},
     "output_type": "execute_result"
    }
   ],
   "source": [
    "top_products = df.groupby('family')['sales'].sum().sort_values(ascending=False).head(20)\n",
    "top_products"
   ]
  },
  {
   "cell_type": "markdown",
   "id": "3d22df12",
   "metadata": {},
   "source": [
    "1. **GROCERY I**: $350,827,298\n",
    "2. **BEVERAGES**: $221,663,540\n",
    "3. **PRODUCE**: $125,447,968\n",
    "4. **CLEANING**: $99,421,019\n",
    "5. **DAIRY**: $65,823,605\n",
    "\n",
    "These categories make up the bulk of the revenue, with **GROCERY I** leading by a significant margin. The top five categories contribute substantially to the overall sales, while the remaining categories (such as **CELEBRATION** and **HOME AND KITCHEN II**) have relatively smaller contributions.\n",
    "\n",
    "In the analysis, we can observe that categories related to essential products (like groceries, beverages, and produce) lead in sales, which might reflect consistent consumer demand. Further analysis could explore seasonality and trends within these top categories."
   ]
  },
  {
   "cell_type": "markdown",
   "id": "6e968fc8",
   "metadata": {},
   "source": [
    "> Corresponding plots will be in cell `6` in `visualization_demo.ipynb`"
   ]
  },
  {
   "cell_type": "markdown",
   "id": "dff48e7f",
   "metadata": {},
   "source": [
    "## 🔍 3. Which stores, cities, or states are the top performers in terms of revenue?"
   ]
  },
  {
   "cell_type": "code",
   "execution_count": 124,
   "id": "1643b6c9",
   "metadata": {},
   "outputs": [
    {
     "name": "stdout",
     "output_type": "stream",
     "text": [
      "Top Stores by Revenue:\n",
      "store_nbr\n",
      "44   63,356,137\n",
      "45   55,689,022\n",
      "47   52,024,476\n",
      "3    51,533,528\n",
      "49   44,346,823\n",
      "Name: sales, dtype: float64\n",
      "\n",
      " \n",
      "Top Cities by Revenue:\n",
      "city\n",
      "Quito           568,679,349\n",
      "Guayaquil       125,572,186\n",
      "Cuenca           50,194,046\n",
      "Ambato           41,159,773\n",
      "Santo Domingo    36,617,572\n",
      "Name: sales, dtype: float64\n",
      "\n",
      " \n",
      "Top States by Revenue:\n",
      "state\n",
      "Pichincha                        597,585,883\n",
      "Guayas                           168,649,985\n",
      "Azuay                             50,194,046\n",
      "Tungurahua                        41,159,773\n",
      "Santo Domingo de los Tsachilas    36,617,572\n",
      "Name: sales, dtype: float64\n"
     ]
    }
   ],
   "source": [
    "top_stores = df.groupby('store_nbr')['sales'].sum().sort_values(ascending=False)\n",
    "top_cities = df.groupby('city')['sales'].sum().sort_values(ascending=False)\n",
    "top_regions = df.groupby('state')['sales'].sum().sort_values(ascending=False)\n",
    "\n",
    "print(\"Top Stores by Revenue:\")\n",
    "print(top_stores.head())  \n",
    "\n",
    "print(\"\\n \\nTop Cities by Revenue:\")\n",
    "print(top_cities.head()) \n",
    "\n",
    "print(\"\\n \\nTop States by Revenue:\")\n",
    "print(top_regions.head()) "
   ]
  },
  {
   "cell_type": "markdown",
   "id": "31a41cef",
   "metadata": {},
   "source": [
    "Based on the total sales data, the following stores, cities, and regions are the top performers:\n",
    "\n",
    "### **Top Stores by Revenue:**\n",
    "1. **Store 44**: $63,356,137\n",
    "2. **Store 45**: $55,689,022\n",
    "3. **Store 47**: $52,024,476\n",
    "4. **Store 3**: $51,533,528\n",
    "5. **Store 49**: $44,346,823\n",
    "\n",
    "### **Top Cities by Revenue:**\n",
    "1. **Quito**: $568,679,349\n",
    "2. **Guayaquil**: $125,572,186\n",
    "3. **Cuenca**: $50,194,046\n",
    "4. **Ambato**: $41,159,773\n",
    "5. **Santo Domingo**: $36,617,572\n",
    "\n",
    "### **Top States by Revenue:**\n",
    "1. **Pichincha**: $597,585,883\n",
    "2. **Guayas**: $168,649,985\n",
    "3. **Azuay**: $50,194,046\n",
    "4. **Tungurahua**: $41,159,773\n",
    "5. **Santo Domingo de los Tsachilas**: $36,617,572\n",
    "\n",
    "These top performers highlight the most significant contributors to revenue, with **Quito** leading at the city level and **Pichincha** being the highest-performing state. In terms of stores, Store 44 generates the highest revenue.\n",
    "\n",
    "This analysis can help identify key areas for growth and focus, particularly in high-revenue cities and states."
   ]
  },
  {
   "cell_type": "markdown",
   "id": "348b8fb8",
   "metadata": {},
   "source": [
    "> Corresponding plots will be in cell `8`, `10` and `12` in `visualization_demo.ipynb`"
   ]
  },
  {
   "cell_type": "markdown",
   "id": "f8f7d1b7",
   "metadata": {},
   "source": [
    "## 🔍 4. What is the average order size across stores, regions, and categories?"
   ]
  },
  {
   "cell_type": "code",
   "execution_count": 125,
   "id": "680546cf",
   "metadata": {},
   "outputs": [
    {
     "data": {
      "text/plain": [
       "dtype('float64')"
      ]
     },
     "execution_count": 125,
     "metadata": {},
     "output_type": "execute_result"
    }
   ],
   "source": [
    "df['transactions'].dtype"
   ]
  },
  {
   "cell_type": "code",
   "execution_count": 126,
   "id": "ec58adb6",
   "metadata": {},
   "outputs": [
    {
     "name": "stdout",
     "output_type": "stream",
     "text": [
      "249117\n"
     ]
    }
   ],
   "source": [
    "print((df['transactions'] == 0).sum())"
   ]
  },
  {
   "cell_type": "code",
   "execution_count": 127,
   "id": "14d0528b",
   "metadata": {},
   "outputs": [
    {
     "data": {
      "text/html": [
       "<div>\n",
       "<style scoped>\n",
       "    .dataframe tbody tr th:only-of-type {\n",
       "        vertical-align: middle;\n",
       "    }\n",
       "\n",
       "    .dataframe tbody tr th {\n",
       "        vertical-align: top;\n",
       "    }\n",
       "\n",
       "    .dataframe thead th {\n",
       "        text-align: right;\n",
       "    }\n",
       "</style>\n",
       "<table border=\"1\" class=\"dataframe\">\n",
       "  <thead>\n",
       "    <tr style=\"text-align: right;\">\n",
       "      <th></th>\n",
       "      <th>sales</th>\n",
       "      <th>transactions</th>\n",
       "    </tr>\n",
       "  </thead>\n",
       "  <tbody>\n",
       "    <tr>\n",
       "      <th>count</th>\n",
       "      <td>3,054,348</td>\n",
       "      <td>3,054,348</td>\n",
       "    </tr>\n",
       "    <tr>\n",
       "      <th>mean</th>\n",
       "      <td>359</td>\n",
       "      <td>1,559</td>\n",
       "    </tr>\n",
       "    <tr>\n",
       "      <th>std</th>\n",
       "      <td>1,107</td>\n",
       "      <td>1,036</td>\n",
       "    </tr>\n",
       "    <tr>\n",
       "      <th>min</th>\n",
       "      <td>0</td>\n",
       "      <td>0</td>\n",
       "    </tr>\n",
       "    <tr>\n",
       "      <th>25%</th>\n",
       "      <td>0</td>\n",
       "      <td>931</td>\n",
       "    </tr>\n",
       "    <tr>\n",
       "      <th>50%</th>\n",
       "      <td>11</td>\n",
       "      <td>1,332</td>\n",
       "    </tr>\n",
       "    <tr>\n",
       "      <th>75%</th>\n",
       "      <td>196</td>\n",
       "      <td>1,980</td>\n",
       "    </tr>\n",
       "    <tr>\n",
       "      <th>max</th>\n",
       "      <td>124,717</td>\n",
       "      <td>8,359</td>\n",
       "    </tr>\n",
       "  </tbody>\n",
       "</table>\n",
       "</div>"
      ],
      "text/plain": [
       "          sales  transactions\n",
       "count 3,054,348     3,054,348\n",
       "mean        359         1,559\n",
       "std       1,107         1,036\n",
       "min           0             0\n",
       "25%           0           931\n",
       "50%          11         1,332\n",
       "75%         196         1,980\n",
       "max     124,717         8,359"
      ]
     },
     "execution_count": 127,
     "metadata": {},
     "output_type": "execute_result"
    }
   ],
   "source": [
    "df[['sales', 'transactions']].describe()"
   ]
  },
  {
   "cell_type": "code",
   "execution_count": 128,
   "id": "7972575a",
   "metadata": {},
   "outputs": [
    {
     "name": "stdout",
     "output_type": "stream",
     "text": [
      "All zero transactions have zero sales: False\n"
     ]
    }
   ],
   "source": [
    "zero_transactions = df[df['transactions'] == 0]\n",
    "zero_sales_with_zero_transactions = zero_transactions[zero_transactions['sales'] == 0]\n",
    "\n",
    "# Check if all zero transactions have zero sales\n",
    "all_match = len(zero_transactions) == len(zero_sales_with_zero_transactions)\n",
    "print(\"All zero transactions have zero sales:\", all_match)"
   ]
  },
  {
   "cell_type": "code",
   "execution_count": 129,
   "id": "5edc605e",
   "metadata": {},
   "outputs": [
    {
     "name": "stdout",
     "output_type": "stream",
     "text": [
      "Average Order Size by Store:\n",
      "store_nbr\n",
      "51   0\n",
      "42   0\n",
      "21   0\n",
      "29   0\n",
      "52   0\n",
      "dtype: float64\n",
      "\n",
      "Average Order Size by Region:\n",
      "state\n",
      "Azuay      0\n",
      "Manabi     0\n",
      "El Oro     0\n",
      "Pastaza    0\n",
      "Los Rios   0\n",
      "dtype: float64\n",
      "\n",
      "Average Order Size by Category:\n",
      "family\n",
      "GROCERY I   2\n",
      "BEVERAGES   2\n",
      "PRODUCE     1\n",
      "CLEANING    1\n",
      "DAIRY       0\n",
      "dtype: float64\n"
     ]
    }
   ],
   "source": [
    "df_valid = df[~((df['transactions'] == 0) & (df['sales'] > 0))]\n",
    "\n",
    "avg_order_size_store = df_valid.groupby('store_nbr').apply(lambda x: x['sales'].sum() / x['transactions'].sum()).sort_values(ascending=False)\n",
    "avg_order_size_region = df_valid.groupby('state').apply(lambda x: x['sales'].sum() / x['transactions'].sum()).sort_values(ascending=False)\n",
    "avg_order_size_category = df_valid.groupby('family').apply(lambda x: x['sales'].sum() / x['transactions'].sum()).sort_values(ascending=False)\n",
    "\n",
    "print(\"Average Order Size by Store:\")\n",
    "print(avg_order_size_store.head())  \n",
    "\n",
    "print(\"\\nAverage Order Size by Region:\")\n",
    "print(avg_order_size_region.head()) \n",
    "\n",
    "print(\"\\nAverage Order Size by Category:\")\n",
    "print(avg_order_size_category.head())  "
   ]
  },
  {
   "cell_type": "code",
   "execution_count": 130,
   "id": "9ebaf2e8",
   "metadata": {},
   "outputs": [
    {
     "data": {
      "text/plain": [
       "Index(['date', 'store_nbr', 'family', 'sales', 'onpromotion', 'holiday_type',\n",
       "       'locale', 'transferred', 'dcoilwtico', 'city', 'state', 'store_type',\n",
       "       'cluster', 'transactions', 'year', 'month', 'week', 'quarter',\n",
       "       'day_of_week', 'is_crisis', 'sales_lag_7', 'rolling_mean_7',\n",
       "       'is_weekend', 'is_holiday', 'promo_last_7_days'],\n",
       "      dtype='object')"
      ]
     },
     "execution_count": 130,
     "metadata": {},
     "output_type": "execute_result"
    }
   ],
   "source": [
    "df.columns"
   ]
  },
  {
   "cell_type": "markdown",
   "id": "a28138d5",
   "metadata": {},
   "source": [
    "## ⏳ 5. Are there noticeable weekly, monthly, or quarterly seasonality patterns in sales?"
   ]
  },
  {
   "cell_type": "markdown",
   "id": "334e9eff",
   "metadata": {},
   "source": [
    "### What are the trends in sales per day of the week?\n"
   ]
  },
  {
   "cell_type": "code",
   "execution_count": 131,
   "id": "d921a758",
   "metadata": {},
   "outputs": [],
   "source": [
    "day_order = ['Monday', 'Tuesday', 'Wednesday', 'Thursday', 'Friday', 'Saturday', 'Sunday']"
   ]
  },
  {
   "cell_type": "code",
   "execution_count": 132,
   "id": "e1cce815",
   "metadata": {},
   "outputs": [
    {
     "data": {
      "text/plain": [
       "day_of_week\n",
       "Monday      348\n",
       "Tuesday     320\n",
       "Wednesday   331\n",
       "Thursday    287\n",
       "Friday      327\n",
       "Saturday    435\n",
       "Sunday      465\n",
       "Name: sales, dtype: float64"
      ]
     },
     "execution_count": 132,
     "metadata": {},
     "output_type": "execute_result"
    }
   ],
   "source": [
    "avg_sales_by_day = df.groupby('day_of_week')['sales'].mean().reindex(day_order)\n",
    "avg_sales_by_day"
   ]
  },
  {
   "cell_type": "markdown",
   "id": "3c52b6ef",
   "metadata": {},
   "source": [
    "#### Key Observations:\n",
    "- **Weekend Effect**: Sales are noticeably higher on **Saturday** (435) and **Sunday** (465) compared to weekdays, with Sunday being the highest.\n",
    "- **Weekday Pattern**: Sales tend to be lower on weekdays, with **Thursday** (287) showing the lowest average sales.\n",
    "- **Midweek Consistency**: **Monday**, **Tuesday**, and **Wednesday** have relatively similar sales, with a slight dip on **Thursday**.\n",
    "  \n",
    "These trends suggest that sales are highest on the weekends, potentially due to increased customer activity, while weekdays (especially Thursday) see a decline in sales."
   ]
  },
  {
   "cell_type": "markdown",
   "id": "9e6b1d0e",
   "metadata": {},
   "source": [
    "### What are the trends in sales per week?"
   ]
  },
  {
   "cell_type": "code",
   "execution_count": 133,
   "id": "5406d877",
   "metadata": {},
   "outputs": [
    {
     "data": {
      "text/html": [
       "<div>\n",
       "<style scoped>\n",
       "    .dataframe tbody tr th:only-of-type {\n",
       "        vertical-align: middle;\n",
       "    }\n",
       "\n",
       "    .dataframe tbody tr th {\n",
       "        vertical-align: top;\n",
       "    }\n",
       "\n",
       "    .dataframe thead th {\n",
       "        text-align: right;\n",
       "    }\n",
       "</style>\n",
       "<table border=\"1\" class=\"dataframe\">\n",
       "  <thead>\n",
       "    <tr style=\"text-align: right;\">\n",
       "      <th></th>\n",
       "      <th>week</th>\n",
       "      <th>sales</th>\n",
       "    </tr>\n",
       "  </thead>\n",
       "  <tbody>\n",
       "    <tr>\n",
       "      <th>0</th>\n",
       "      <td>1</td>\n",
       "      <td>409</td>\n",
       "    </tr>\n",
       "    <tr>\n",
       "      <th>1</th>\n",
       "      <td>2</td>\n",
       "      <td>348</td>\n",
       "    </tr>\n",
       "    <tr>\n",
       "      <th>2</th>\n",
       "      <td>3</td>\n",
       "      <td>338</td>\n",
       "    </tr>\n",
       "    <tr>\n",
       "      <th>3</th>\n",
       "      <td>4</td>\n",
       "      <td>329</td>\n",
       "    </tr>\n",
       "    <tr>\n",
       "      <th>4</th>\n",
       "      <td>5</td>\n",
       "      <td>344</td>\n",
       "    </tr>\n",
       "    <tr>\n",
       "      <th>5</th>\n",
       "      <td>6</td>\n",
       "      <td>320</td>\n",
       "    </tr>\n",
       "    <tr>\n",
       "      <th>6</th>\n",
       "      <td>7</td>\n",
       "      <td>310</td>\n",
       "    </tr>\n",
       "    <tr>\n",
       "      <th>7</th>\n",
       "      <td>8</td>\n",
       "      <td>312</td>\n",
       "    </tr>\n",
       "    <tr>\n",
       "      <th>8</th>\n",
       "      <td>9</td>\n",
       "      <td>358</td>\n",
       "    </tr>\n",
       "    <tr>\n",
       "      <th>9</th>\n",
       "      <td>10</td>\n",
       "      <td>359</td>\n",
       "    </tr>\n",
       "    <tr>\n",
       "      <th>10</th>\n",
       "      <td>11</td>\n",
       "      <td>343</td>\n",
       "    </tr>\n",
       "    <tr>\n",
       "      <th>11</th>\n",
       "      <td>12</td>\n",
       "      <td>338</td>\n",
       "    </tr>\n",
       "    <tr>\n",
       "      <th>12</th>\n",
       "      <td>13</td>\n",
       "      <td>361</td>\n",
       "    </tr>\n",
       "    <tr>\n",
       "      <th>13</th>\n",
       "      <td>14</td>\n",
       "      <td>350</td>\n",
       "    </tr>\n",
       "    <tr>\n",
       "      <th>14</th>\n",
       "      <td>15</td>\n",
       "      <td>323</td>\n",
       "    </tr>\n",
       "    <tr>\n",
       "      <th>15</th>\n",
       "      <td>16</td>\n",
       "      <td>363</td>\n",
       "    </tr>\n",
       "    <tr>\n",
       "      <th>16</th>\n",
       "      <td>17</td>\n",
       "      <td>333</td>\n",
       "    </tr>\n",
       "    <tr>\n",
       "      <th>17</th>\n",
       "      <td>18</td>\n",
       "      <td>374</td>\n",
       "    </tr>\n",
       "    <tr>\n",
       "      <th>18</th>\n",
       "      <td>19</td>\n",
       "      <td>325</td>\n",
       "    </tr>\n",
       "    <tr>\n",
       "      <th>19</th>\n",
       "      <td>20</td>\n",
       "      <td>334</td>\n",
       "    </tr>\n",
       "    <tr>\n",
       "      <th>20</th>\n",
       "      <td>21</td>\n",
       "      <td>321</td>\n",
       "    </tr>\n",
       "    <tr>\n",
       "      <th>21</th>\n",
       "      <td>22</td>\n",
       "      <td>368</td>\n",
       "    </tr>\n",
       "    <tr>\n",
       "      <th>22</th>\n",
       "      <td>23</td>\n",
       "      <td>369</td>\n",
       "    </tr>\n",
       "    <tr>\n",
       "      <th>23</th>\n",
       "      <td>24</td>\n",
       "      <td>342</td>\n",
       "    </tr>\n",
       "    <tr>\n",
       "      <th>24</th>\n",
       "      <td>25</td>\n",
       "      <td>365</td>\n",
       "    </tr>\n",
       "    <tr>\n",
       "      <th>25</th>\n",
       "      <td>26</td>\n",
       "      <td>337</td>\n",
       "    </tr>\n",
       "    <tr>\n",
       "      <th>26</th>\n",
       "      <td>27</td>\n",
       "      <td>398</td>\n",
       "    </tr>\n",
       "    <tr>\n",
       "      <th>27</th>\n",
       "      <td>28</td>\n",
       "      <td>362</td>\n",
       "    </tr>\n",
       "    <tr>\n",
       "      <th>28</th>\n",
       "      <td>29</td>\n",
       "      <td>361</td>\n",
       "    </tr>\n",
       "    <tr>\n",
       "      <th>29</th>\n",
       "      <td>30</td>\n",
       "      <td>360</td>\n",
       "    </tr>\n",
       "    <tr>\n",
       "      <th>30</th>\n",
       "      <td>31</td>\n",
       "      <td>384</td>\n",
       "    </tr>\n",
       "    <tr>\n",
       "      <th>31</th>\n",
       "      <td>32</td>\n",
       "      <td>335</td>\n",
       "    </tr>\n",
       "    <tr>\n",
       "      <th>32</th>\n",
       "      <td>33</td>\n",
       "      <td>327</td>\n",
       "    </tr>\n",
       "    <tr>\n",
       "      <th>33</th>\n",
       "      <td>34</td>\n",
       "      <td>307</td>\n",
       "    </tr>\n",
       "    <tr>\n",
       "      <th>34</th>\n",
       "      <td>35</td>\n",
       "      <td>334</td>\n",
       "    </tr>\n",
       "    <tr>\n",
       "      <th>35</th>\n",
       "      <td>36</td>\n",
       "      <td>400</td>\n",
       "    </tr>\n",
       "    <tr>\n",
       "      <th>36</th>\n",
       "      <td>37</td>\n",
       "      <td>353</td>\n",
       "    </tr>\n",
       "    <tr>\n",
       "      <th>37</th>\n",
       "      <td>38</td>\n",
       "      <td>351</td>\n",
       "    </tr>\n",
       "    <tr>\n",
       "      <th>38</th>\n",
       "      <td>39</td>\n",
       "      <td>354</td>\n",
       "    </tr>\n",
       "    <tr>\n",
       "      <th>39</th>\n",
       "      <td>40</td>\n",
       "      <td>400</td>\n",
       "    </tr>\n",
       "    <tr>\n",
       "      <th>40</th>\n",
       "      <td>41</td>\n",
       "      <td>362</td>\n",
       "    </tr>\n",
       "    <tr>\n",
       "      <th>41</th>\n",
       "      <td>42</td>\n",
       "      <td>355</td>\n",
       "    </tr>\n",
       "    <tr>\n",
       "      <th>42</th>\n",
       "      <td>43</td>\n",
       "      <td>340</td>\n",
       "    </tr>\n",
       "    <tr>\n",
       "      <th>43</th>\n",
       "      <td>44</td>\n",
       "      <td>359</td>\n",
       "    </tr>\n",
       "    <tr>\n",
       "      <th>44</th>\n",
       "      <td>45</td>\n",
       "      <td>407</td>\n",
       "    </tr>\n",
       "    <tr>\n",
       "      <th>45</th>\n",
       "      <td>46</td>\n",
       "      <td>362</td>\n",
       "    </tr>\n",
       "    <tr>\n",
       "      <th>46</th>\n",
       "      <td>47</td>\n",
       "      <td>359</td>\n",
       "    </tr>\n",
       "    <tr>\n",
       "      <th>47</th>\n",
       "      <td>48</td>\n",
       "      <td>379</td>\n",
       "    </tr>\n",
       "    <tr>\n",
       "      <th>48</th>\n",
       "      <td>49</td>\n",
       "      <td>417</td>\n",
       "    </tr>\n",
       "    <tr>\n",
       "      <th>49</th>\n",
       "      <td>50</td>\n",
       "      <td>413</td>\n",
       "    </tr>\n",
       "    <tr>\n",
       "      <th>50</th>\n",
       "      <td>51</td>\n",
       "      <td>484</td>\n",
       "    </tr>\n",
       "    <tr>\n",
       "      <th>51</th>\n",
       "      <td>52</td>\n",
       "      <td>483</td>\n",
       "    </tr>\n",
       "    <tr>\n",
       "      <th>52</th>\n",
       "      <td>53</td>\n",
       "      <td>478</td>\n",
       "    </tr>\n",
       "  </tbody>\n",
       "</table>\n",
       "</div>"
      ],
      "text/plain": [
       "    week  sales\n",
       "0      1    409\n",
       "1      2    348\n",
       "2      3    338\n",
       "3      4    329\n",
       "4      5    344\n",
       "5      6    320\n",
       "6      7    310\n",
       "7      8    312\n",
       "8      9    358\n",
       "9     10    359\n",
       "10    11    343\n",
       "11    12    338\n",
       "12    13    361\n",
       "13    14    350\n",
       "14    15    323\n",
       "15    16    363\n",
       "16    17    333\n",
       "17    18    374\n",
       "18    19    325\n",
       "19    20    334\n",
       "20    21    321\n",
       "21    22    368\n",
       "22    23    369\n",
       "23    24    342\n",
       "24    25    365\n",
       "25    26    337\n",
       "26    27    398\n",
       "27    28    362\n",
       "28    29    361\n",
       "29    30    360\n",
       "30    31    384\n",
       "31    32    335\n",
       "32    33    327\n",
       "33    34    307\n",
       "34    35    334\n",
       "35    36    400\n",
       "36    37    353\n",
       "37    38    351\n",
       "38    39    354\n",
       "39    40    400\n",
       "40    41    362\n",
       "41    42    355\n",
       "42    43    340\n",
       "43    44    359\n",
       "44    45    407\n",
       "45    46    362\n",
       "46    47    359\n",
       "47    48    379\n",
       "48    49    417\n",
       "49    50    413\n",
       "50    51    484\n",
       "51    52    483\n",
       "52    53    478"
      ]
     },
     "execution_count": 133,
     "metadata": {},
     "output_type": "execute_result"
    }
   ],
   "source": [
    "weekly_avg_sales = df.groupby('week')['sales'].mean().reset_index()\n",
    "weekly_avg_sales"
   ]
  },
  {
   "cell_type": "markdown",
   "id": "997f5bb3",
   "metadata": {},
   "source": [
    "#### Key Observations:\n",
    "- **Seasonal Pattern**: Sales generally fluctuate throughout the year, with some notable peaks and valleys.\n",
    "- **Peak Sales Weeks**: Weeks **51** (484) and **52** (483) show the highest sales, which could be related to the end-of-year sales spikes (e.g., holiday season).\n",
    "- **Lowest Sales Weeks**: Week **34** (307) experienced the lowest average sales, suggesting a potential dip in sales during that period.\n",
    "- **Consistent Highs**: Weeks **45** (407), **49** (417), and **36** (400) also saw relatively high sales, indicating strong performance during certain periods of the year.\n",
    "\n",
    "These trends suggest that there may be seasonal or external factors (such as holidays or promotions) that cause sales to rise or fall in certain weeks. Identifying and aligning marketing or sales strategies with these periods can be beneficial."
   ]
  },
  {
   "cell_type": "markdown",
   "id": "1c8227df",
   "metadata": {},
   "source": [
    "### What are the trends in sales per month?"
   ]
  },
  {
   "cell_type": "code",
   "execution_count": 134,
   "id": "fb561944",
   "metadata": {},
   "outputs": [
    {
     "data": {
      "text/plain": [
       "month\n",
       "1    342\n",
       "2    321\n",
       "3    352\n",
       "4    341\n",
       "5    346\n",
       "6    353\n",
       "7    376\n",
       "8    337\n",
       "9    362\n",
       "10   362\n",
       "11   377\n",
       "12   457\n",
       "Name: sales, dtype: float64"
      ]
     },
     "execution_count": 134,
     "metadata": {},
     "output_type": "execute_result"
    }
   ],
   "source": [
    "monthly_avg = df.groupby('month')['sales'].mean()\n",
    "monthly_avg"
   ]
  },
  {
   "cell_type": "markdown",
   "id": "7f76f4ea",
   "metadata": {},
   "source": [
    "#### Key Observations:\n",
    "- **Strong End-of-Year Sales**: The highest sales occur in **December** (457), likely due to the holiday season and increased consumer spending.\n",
    "- **Peak in Mid-Year**: **July** (376) also sees a significant rise in sales, potentially related to mid-year promotions or seasonal trends.\n",
    "- **Dip in Early Months**: **February** (321) experiences the lowest sales, possibly due to lower consumer activity after the holiday season.\n",
    "- **Stable Performance**: Other months like **March** (352), **June** (353), and **November** (377) show fairly consistent and strong performance.\n",
    "\n",
    "These trends suggest a potential seasonal pattern where sales peak in the second half of the year, especially during holidays or mid-year events. Analyzing external factors like promotions or holiday schedules could help explain these fluctuations."
   ]
  },
  {
   "cell_type": "markdown",
   "id": "91a147f4",
   "metadata": {},
   "source": [
    "### What are the trends in sales per quarter?"
   ]
  },
  {
   "cell_type": "code",
   "execution_count": 135,
   "id": "f6896b3d",
   "metadata": {},
   "outputs": [
    {
     "data": {
      "text/plain": [
       "quarter  year\n",
       "1        2013   196\n",
       "         2014   320\n",
       "         2015   276\n",
       "         2016   426\n",
       "         2017   476\n",
       "2        2013   211\n",
       "         2014   243\n",
       "         2015   334\n",
       "         2016   455\n",
       "         2017   486\n",
       "3        2013   212\n",
       "         2014   325\n",
       "         2015   417\n",
       "         2016   420\n",
       "         2017   482\n",
       "4        2013   248\n",
       "         2014   405\n",
       "         2015   458\n",
       "         2016   485\n",
       "Name: sales, dtype: float64"
      ]
     },
     "execution_count": 135,
     "metadata": {},
     "output_type": "execute_result"
    }
   ],
   "source": [
    "quarterly_avg = df.groupby(['quarter', 'year'])['sales'].mean()\n",
    "quarterly_avg"
   ]
  },
  {
   "cell_type": "markdown",
   "id": "b381f54c",
   "metadata": {},
   "source": [
    "#### Key Observations:\n",
    "- **Growth in Sales Over Time**: There is a clear upward trend in sales from 2013 to 2017 across all quarters, with the highest sales recorded in **2017**.\n",
    "  - Quarter 1 in **2017** (476) and Quarter 2 in **2017** (486) show a noticeable increase compared to previous years.\n",
    "- **Quarterly Performance**:\n",
    "  - **Quarter 1** has the lowest sales in the early years (2013-2014), but by **2017**, it shows strong growth.\n",
    "  - **Quarter 4** also shows solid performance in all years, with **2017** again leading the trend with **485**.\n",
    "  - **Quarter 3** tends to be the highest performer from **2015** onward, peaking at **482** in **2017**.\n",
    "  \n",
    "These trends suggest a steady growth trajectory in sales over the years, with significant improvement in later years, especially in **2017**, indicating possible business expansion, new product offerings, or other positive changes within the company."
   ]
  },
  {
   "cell_type": "markdown",
   "id": "53578e9d",
   "metadata": {},
   "source": [
    "## ⏳ 6. How do sales differ on weekdays versus weekends?"
   ]
  },
  {
   "cell_type": "code",
   "execution_count": 136,
   "id": "7389d716",
   "metadata": {},
   "outputs": [
    {
     "data": {
      "text/html": [
       "<div>\n",
       "<style scoped>\n",
       "    .dataframe tbody tr th:only-of-type {\n",
       "        vertical-align: middle;\n",
       "    }\n",
       "\n",
       "    .dataframe tbody tr th {\n",
       "        vertical-align: top;\n",
       "    }\n",
       "\n",
       "    .dataframe thead th {\n",
       "        text-align: right;\n",
       "    }\n",
       "</style>\n",
       "<table border=\"1\" class=\"dataframe\">\n",
       "  <thead>\n",
       "    <tr style=\"text-align: right;\">\n",
       "      <th></th>\n",
       "      <th>Total Sales</th>\n",
       "      <th>Average Sales per Day</th>\n",
       "      <th>Number of Days</th>\n",
       "    </tr>\n",
       "    <tr>\n",
       "      <th>is_weekend</th>\n",
       "      <th></th>\n",
       "      <th></th>\n",
       "      <th></th>\n",
       "    </tr>\n",
       "  </thead>\n",
       "  <tbody>\n",
       "    <tr>\n",
       "      <th>Weekday</th>\n",
       "      <td>701,364,353</td>\n",
       "      <td>322</td>\n",
       "      <td>2175822</td>\n",
       "    </tr>\n",
       "    <tr>\n",
       "      <th>Weekend</th>\n",
       "      <td>395,210,391</td>\n",
       "      <td>450</td>\n",
       "      <td>878526</td>\n",
       "    </tr>\n",
       "  </tbody>\n",
       "</table>\n",
       "</div>"
      ],
      "text/plain": [
       "            Total Sales  Average Sales per Day  Number of Days\n",
       "is_weekend                                                    \n",
       "Weekday     701,364,353                    322         2175822\n",
       "Weekend     395,210,391                    450          878526"
      ]
     },
     "execution_count": 136,
     "metadata": {},
     "output_type": "execute_result"
    }
   ],
   "source": [
    "sales_comparison = df.groupby('is_weekend')['sales'].agg(['sum', 'mean', 'count']).rename(index={True: 'Weekend', False: 'Weekday'})\n",
    "\n",
    "sales_comparison.columns = ['Total Sales', 'Average Sales per Day', 'Number of Days']\n",
    "sales_comparison"
   ]
  },
  {
   "cell_type": "markdown",
   "id": "0f76f779",
   "metadata": {},
   "source": [
    "#### 🔍 Insights:\n",
    "- **Weekends** show a **higher average sales per day**, despite having fewer days overall.\n",
    "- This indicates increased consumer activity or spending intensity during weekends.\n",
    "- **Weekdays** contribute more to total sales volume due to sheer number of days, but the **per-day performance is stronger on weekends**."
   ]
  },
  {
   "cell_type": "markdown",
   "id": "31b85483",
   "metadata": {},
   "source": [
    "## ⏳ 7. Are sales peaking during certain months, holidays, or quarters of the year?"
   ]
  },
  {
   "cell_type": "markdown",
   "id": "b5b99b7f",
   "metadata": {},
   "source": [
    "#### 1. Monthly Sales Peaks"
   ]
  },
  {
   "cell_type": "code",
   "execution_count": 172,
   "id": "b6f0f8af",
   "metadata": {},
   "outputs": [
    {
     "name": "stdout",
     "output_type": "stream",
     "text": [
      "Average Sales by Month (Highest to Lowest):\n",
      " month\n",
      "12   457\n",
      "11   377\n",
      "7    376\n",
      "10   362\n",
      "9    362\n",
      "6    353\n",
      "3    352\n",
      "5    346\n",
      "1    342\n",
      "4    341\n",
      "8    337\n",
      "2    321\n",
      "Name: sales, dtype: float64\n"
     ]
    }
   ],
   "source": [
    "monthly_sales = df.groupby('month')['sales'].mean().sort_values(ascending=False)\n",
    "print(\"Average Sales by Month (Highest to Lowest):\\n\", monthly_sales)"
   ]
  },
  {
   "cell_type": "markdown",
   "id": "edae2b53",
   "metadata": {},
   "source": [
    "**Insights:**\n",
    "- Sales **peak in December**, indicating strong end-of-year demand—likely driven by holidays and promotions.\n",
    "- **November and July** also show high sales, suggesting seasonal boosts during those months.\n",
    "- **February** consistently has the **lowest average sales**, possibly due to fewer days and post-holiday consumer fatigue."
   ]
  },
  {
   "cell_type": "markdown",
   "id": "609c1607",
   "metadata": {},
   "source": [
    "#### 2. Holiday vs. Non-Holiday Sales"
   ]
  },
  {
   "cell_type": "code",
   "execution_count": 173,
   "id": "eb2d4592",
   "metadata": {},
   "outputs": [
    {
     "name": "stdout",
     "output_type": "stream",
     "text": [
      "Average Sales:\n",
      " Non-Holiday   352\n",
      "Holiday       394\n",
      "Name: sales, dtype: float64\n"
     ]
    }
   ],
   "source": [
    "holiday_sales = df.groupby('is_holiday')['sales'].mean()\n",
    "holiday_sales.index = ['Non-Holiday', 'Holiday']\n",
    "print(\"Average Sales:\\n\", holiday_sales)"
   ]
  },
  {
   "cell_type": "markdown",
   "id": "2e285f1d",
   "metadata": {},
   "source": [
    "**Insights:**\n",
    "- Sales are **higher during holidays**, with an average of **394** compared to **352** on non-holidays.\n",
    "- This indicates that holidays positively impact sales, likely due to increased consumer activity, promotions, or special events."
   ]
  },
  {
   "cell_type": "markdown",
   "id": "6785df29",
   "metadata": {},
   "source": [
    "#### 4. Specific Holidays "
   ]
  },
  {
   "cell_type": "code",
   "execution_count": 174,
   "id": "33ec67f4",
   "metadata": {},
   "outputs": [
    {
     "name": "stdout",
     "output_type": "stream",
     "text": [
      "Average Sales by Holiday Type:\n",
      " holiday_type\n",
      "Additional   488\n",
      "Transfer     468\n",
      "Bridge       447\n",
      "Event        426\n",
      "Work Day     372\n",
      "Holiday      358\n",
      "Name: sales, dtype: float64\n"
     ]
    }
   ],
   "source": [
    "specific_holidays = df[df['is_holiday'] == 1].groupby('holiday_type')['sales'].mean().sort_values(ascending=False)\n",
    "print(\"Average Sales by Holiday Type:\\n\", specific_holidays)"
   ]
  },
  {
   "cell_type": "markdown",
   "id": "2733763c",
   "metadata": {},
   "source": [
    "**Insights:**\n",
    "- **Additional holidays** generate the highest average sales (**488**), followed by **Transfer** and **Bridge** holidays.\n",
    "- These spikes may indicate extended weekends or special shopping days where promotions are common.\n",
    "- Even regular **Work Days** labeled as holidays see a boost compared to non-holiday averages.\n",
    "- **Named \"Holiday\"** days have the lowest holiday-type sales, suggesting they may fall on less commercially significant days.\n",
    "\n",
    "This breakdown helps identify which types of holidays drive the most consumer spending."
   ]
  },
  {
   "cell_type": "markdown",
   "id": "10b42ad7",
   "metadata": {},
   "source": [
    "#### 5. Yearly + Quarterly Breakdown"
   ]
  },
  {
   "cell_type": "code",
   "execution_count": 175,
   "id": "5b22fd7d",
   "metadata": {},
   "outputs": [
    {
     "name": "stdout",
     "output_type": "stream",
     "text": [
      "Quarterly Sales by Year:\n",
      " year     2013  2014  2015  2016  2017\n",
      "quarter                              \n",
      "1         196   320   276   426   476\n",
      "2         211   243   334   455   486\n",
      "3         212   325   417   420   482\n",
      "4         248   405   458   485     0\n"
     ]
    }
   ],
   "source": [
    "qtr_year = df.groupby(['quarter', 'year'])['sales'].mean().unstack().fillna(0)\n",
    "print(\"Quarterly Sales by Year:\\n\", qtr_year)"
   ]
  },
  {
   "cell_type": "markdown",
   "id": "087840c9",
   "metadata": {},
   "source": [
    "The following table shows the **average sales per quarter** for each year:\n",
    "\n",
    "| Quarter | 2013 | 2014 | 2015 | 2016 | 2017 |\n",
    "|---------|------|------|------|------|------|\n",
    "| Q1      | 196  | 320  | 276  | 426  | 476  |\n",
    "| Q2      | 211  | 243  | 334  | 455  | 486  |\n",
    "| Q3      | 212  | 325  | 417  | 420  | 482  |\n",
    "| Q4      | 248  | 405  | 458  | 485  | 0    |\n",
    "\n",
    "**Insights:**\n",
    "- There is a **clear upward trend in quarterly sales over the years**, especially noticeable from 2013 to 2016.\n",
    "- **2017 shows strong Q1–Q3 performance**, but data for Q4 are not recorded (`0`).\n",
    "- **Q4** tends to have the **highest sales in most years**, aligning with end-of-year events and holiday shopping seasons.\n",
    "- The **largest year-over-year growth** appears between **2014 and 2015**, especially in Q3 and Q4.\n",
    "\n",
    "This trend analysis can be useful for planning inventory, staffing, and promotions based on seasonal peaks."
   ]
  },
  {
   "cell_type": "markdown",
   "id": "80638ccc",
   "metadata": {},
   "source": [
    "## ⏳ 8. Which months consistently generate peak sales?"
   ]
  },
  {
   "cell_type": "code",
   "execution_count": 177,
   "id": "b1b58b46",
   "metadata": {},
   "outputs": [
    {
     "name": "stdout",
     "output_type": "stream",
     "text": [
      "Average Sales by Month (Descending):\n",
      "month\n",
      "12   25,470,522\n",
      "7    21,598,791\n",
      "11   20,316,398\n",
      "6    20,227,237\n",
      "10   20,020,095\n",
      "5    19,710,506\n",
      "3    19,445,697\n",
      "9    19,368,420\n",
      "1    18,888,430\n",
      "4    18,482,017\n",
      "8    16,694,475\n",
      "2    16,127,446\n",
      "Name: sales, dtype: float64\n"
     ]
    }
   ],
   "source": [
    "monthly_sales = df.groupby(['year', 'month'])['sales'].sum().reset_index()\n",
    "\n",
    "monthly_sales_pivot = monthly_sales.pivot(index='month', columns='year', values='sales')\n",
    "\n",
    "monthly_avg = monthly_sales.groupby('month')['sales'].mean().sort_values(ascending=False)\n",
    "\n",
    "print(\"Average Sales by Month (Descending):\")\n",
    "print(monthly_avg)"
   ]
  },
  {
   "cell_type": "markdown",
   "id": "66b18393",
   "metadata": {},
   "source": [
    "**Insights:**\n",
    "- **December** consistently generates the **highest sales**, likely due to the holiday shopping season.\n",
    "- **July** and **November** follow closely, which may indicate summer and pre-holiday season peaks.\n",
    "- **February** and **August** tend to have the **lowest average sales**, possibly due to post-holiday lulls or mid-summer slowdowns.\n",
    "\n",
    "These trends can help identify the most profitable months for promotional campaigns, staffing, and inventory planning."
   ]
  },
  {
   "cell_type": "markdown",
   "id": "e7047d80",
   "metadata": {},
   "source": [
    "## 💸 9. What impact do promotions have on sales volume?"
   ]
  },
  {
   "cell_type": "code",
   "execution_count": 185,
   "id": "da85ca2d",
   "metadata": {},
   "outputs": [
    {
     "name": "stdout",
     "output_type": "stream",
     "text": [
      "promotion_status\n",
      "Not On Promotion    2428528\n",
      "On Promotion         625820\n",
      "Name: count, dtype: int64\n"
     ]
    }
   ],
   "source": [
    "df['promotion_status'] = df['onpromotion'].apply(lambda x: 'On Promotion' if x > 0 else 'Not On Promotion')\n",
    "print(df['promotion_status'].value_counts())"
   ]
  },
  {
   "cell_type": "code",
   "execution_count": 186,
   "id": "d6362a4d",
   "metadata": {},
   "outputs": [
    {
     "data": {
      "text/html": [
       "<div>\n",
       "<style scoped>\n",
       "    .dataframe tbody tr th:only-of-type {\n",
       "        vertical-align: middle;\n",
       "    }\n",
       "\n",
       "    .dataframe tbody tr th {\n",
       "        vertical-align: top;\n",
       "    }\n",
       "\n",
       "    .dataframe thead th {\n",
       "        text-align: right;\n",
       "    }\n",
       "</style>\n",
       "<table border=\"1\" class=\"dataframe\">\n",
       "  <thead>\n",
       "    <tr style=\"text-align: right;\">\n",
       "      <th></th>\n",
       "      <th>promotion_status</th>\n",
       "      <th>sales</th>\n",
       "    </tr>\n",
       "  </thead>\n",
       "  <tbody>\n",
       "    <tr>\n",
       "      <th>0</th>\n",
       "      <td>Not On Promotion</td>\n",
       "      <td>158</td>\n",
       "    </tr>\n",
       "    <tr>\n",
       "      <th>1</th>\n",
       "      <td>On Promotion</td>\n",
       "      <td>1,140</td>\n",
       "    </tr>\n",
       "  </tbody>\n",
       "</table>\n",
       "</div>"
      ],
      "text/plain": [
       "   promotion_status  sales\n",
       "0  Not On Promotion    158\n",
       "1      On Promotion  1,140"
      ]
     },
     "execution_count": 186,
     "metadata": {},
     "output_type": "execute_result"
    }
   ],
   "source": [
    "avg_sales_by_promotion = df.groupby('promotion_status')['sales'].mean().reset_index()\n",
    "avg_sales_by_promotion"
   ]
  },
  {
   "cell_type": "markdown",
   "id": "5167b833",
   "metadata": {},
   "source": [
    "**Insights:**\n",
    "- Sales are significantly higher when products are **on promotion**, with an average of **1,140** compared to **158** when not on promotion.\n",
    "- This highlights the effectiveness of promotional strategies in driving sales and suggests that marketing efforts, such as discounts and special offers, are highly impactful.\n",
    "\n",
    "These insights can help in strategizing promotions to maximize sales during peak periods."
   ]
  },
  {
   "cell_type": "markdown",
   "id": "77c93db2",
   "metadata": {},
   "source": [
    "## 💸 10. Is there a cumulative effect of promotions (e.g., last 7 days of promo)?"
   ]
  },
  {
   "cell_type": "code",
   "execution_count": 191,
   "id": "20a52050",
   "metadata": {},
   "outputs": [
    {
     "data": {
      "text/html": [
       "<div>\n",
       "<style scoped>\n",
       "    .dataframe tbody tr th:only-of-type {\n",
       "        vertical-align: middle;\n",
       "    }\n",
       "\n",
       "    .dataframe tbody tr th {\n",
       "        vertical-align: top;\n",
       "    }\n",
       "\n",
       "    .dataframe thead th {\n",
       "        text-align: right;\n",
       "    }\n",
       "</style>\n",
       "<table border=\"1\" class=\"dataframe\">\n",
       "  <thead>\n",
       "    <tr style=\"text-align: right;\">\n",
       "      <th></th>\n",
       "      <th>promo_last_7_days</th>\n",
       "      <th>sales</th>\n",
       "    </tr>\n",
       "  </thead>\n",
       "  <tbody>\n",
       "    <tr>\n",
       "      <th>0</th>\n",
       "      <td>0</td>\n",
       "      <td>198</td>\n",
       "    </tr>\n",
       "    <tr>\n",
       "      <th>1</th>\n",
       "      <td>1</td>\n",
       "      <td>237</td>\n",
       "    </tr>\n",
       "    <tr>\n",
       "      <th>2</th>\n",
       "      <td>2</td>\n",
       "      <td>294</td>\n",
       "    </tr>\n",
       "    <tr>\n",
       "      <th>3</th>\n",
       "      <td>3</td>\n",
       "      <td>338</td>\n",
       "    </tr>\n",
       "    <tr>\n",
       "      <th>4</th>\n",
       "      <td>4</td>\n",
       "      <td>355</td>\n",
       "    </tr>\n",
       "    <tr>\n",
       "      <th>...</th>\n",
       "      <td>...</td>\n",
       "      <td>...</td>\n",
       "    </tr>\n",
       "    <tr>\n",
       "      <th>905</th>\n",
       "      <td>1,497</td>\n",
       "      <td>5</td>\n",
       "    </tr>\n",
       "    <tr>\n",
       "      <th>906</th>\n",
       "      <td>1,521</td>\n",
       "      <td>29</td>\n",
       "    </tr>\n",
       "    <tr>\n",
       "      <th>907</th>\n",
       "      <td>1,524</td>\n",
       "      <td>6,825</td>\n",
       "    </tr>\n",
       "    <tr>\n",
       "      <th>908</th>\n",
       "      <td>1,545</td>\n",
       "      <td>2,275</td>\n",
       "    </tr>\n",
       "    <tr>\n",
       "      <th>909</th>\n",
       "      <td>1,606</td>\n",
       "      <td>6,712</td>\n",
       "    </tr>\n",
       "  </tbody>\n",
       "</table>\n",
       "<p>910 rows × 2 columns</p>\n",
       "</div>"
      ],
      "text/plain": [
       "     promo_last_7_days  sales\n",
       "0                    0    198\n",
       "1                    1    237\n",
       "2                    2    294\n",
       "3                    3    338\n",
       "4                    4    355\n",
       "..                 ...    ...\n",
       "905              1,497      5\n",
       "906              1,521     29\n",
       "907              1,524  6,825\n",
       "908              1,545  2,275\n",
       "909              1,606  6,712\n",
       "\n",
       "[910 rows x 2 columns]"
      ]
     },
     "execution_count": 191,
     "metadata": {},
     "output_type": "execute_result"
    }
   ],
   "source": [
    "avg_sales_by_promo_7_days = df.groupby('promo_last_7_days')['sales'].mean().reset_index()\n",
    "avg_sales_by_promo_7_days"
   ]
  },
  {
   "cell_type": "code",
   "execution_count": 189,
   "id": "50aaad73",
   "metadata": {},
   "outputs": [
    {
     "name": "stdout",
     "output_type": "stream",
     "text": [
      "Average Sales with Promotion in Last 7 Days: 490.6034945447221\n",
      "Average Sales without Promotion in Last 7 Days: 198.34919114678834\n"
     ]
    }
   ],
   "source": [
    "sales_with_promo = df[df['promo_last_7_days'] > 0]['sales'].mean()\n",
    "sales_without_promo = df[df['promo_last_7_days'] == 0]['sales'].mean()\n",
    "\n",
    "print(f\"Average Sales with Promotion in Last 7 Days: {sales_with_promo}\")\n",
    "print(f\"Average Sales without Promotion in Last 7 Days: {sales_without_promo}\")"
   ]
  },
  {
   "cell_type": "markdown",
   "id": "6bc13132",
   "metadata": {},
   "source": [
    "**Insights:**\n",
    "- Sales during periods with a promotion in the last 7 days are significantly higher (**490.60**) compared to periods without a promotion (**198.35**).\n",
    "- This indicates a clear **cumulative effect of promotions**, where promotions in the last 7 days have a positive impact on current sales.\n",
    "\n",
    "This insight can guide future marketing strategies by highlighting the importance of recent promotional efforts in boosting sales."
   ]
  },
  {
   "cell_type": "markdown",
   "id": "d091c7fb",
   "metadata": {},
   "source": [
    "## 💸 11. Are there specific families or stores where promotions are more effective?"
   ]
  },
  {
   "cell_type": "code",
   "execution_count": 192,
   "id": "5ca41c81",
   "metadata": {},
   "outputs": [
    {
     "data": {
      "text/html": [
       "<div>\n",
       "<style scoped>\n",
       "    .dataframe tbody tr th:only-of-type {\n",
       "        vertical-align: middle;\n",
       "    }\n",
       "\n",
       "    .dataframe tbody tr th {\n",
       "        vertical-align: top;\n",
       "    }\n",
       "\n",
       "    .dataframe thead th {\n",
       "        text-align: right;\n",
       "    }\n",
       "</style>\n",
       "<table border=\"1\" class=\"dataframe\">\n",
       "  <thead>\n",
       "    <tr style=\"text-align: right;\">\n",
       "      <th></th>\n",
       "      <th>family</th>\n",
       "      <th>promotion_status</th>\n",
       "      <th>sales</th>\n",
       "    </tr>\n",
       "  </thead>\n",
       "  <tbody>\n",
       "    <tr>\n",
       "      <th>0</th>\n",
       "      <td>GROCERY I</td>\n",
       "      <td>On Promotion</td>\n",
       "      <td>4,427</td>\n",
       "    </tr>\n",
       "    <tr>\n",
       "      <th>1</th>\n",
       "      <td>BEVERAGES</td>\n",
       "      <td>On Promotion</td>\n",
       "      <td>3,225</td>\n",
       "    </tr>\n",
       "    <tr>\n",
       "      <th>2</th>\n",
       "      <td>GROCERY I</td>\n",
       "      <td>Not On Promotion</td>\n",
       "      <td>2,717</td>\n",
       "    </tr>\n",
       "    <tr>\n",
       "      <th>3</th>\n",
       "      <td>PRODUCE</td>\n",
       "      <td>On Promotion</td>\n",
       "      <td>2,435</td>\n",
       "    </tr>\n",
       "    <tr>\n",
       "      <th>4</th>\n",
       "      <td>BEVERAGES</td>\n",
       "      <td>Not On Promotion</td>\n",
       "      <td>1,290</td>\n",
       "    </tr>\n",
       "    <tr>\n",
       "      <th>...</th>\n",
       "      <td>...</td>\n",
       "      <td>...</td>\n",
       "      <td>...</td>\n",
       "    </tr>\n",
       "    <tr>\n",
       "      <th>60</th>\n",
       "      <td>HARDWARE</td>\n",
       "      <td>Not On Promotion</td>\n",
       "      <td>1</td>\n",
       "    </tr>\n",
       "    <tr>\n",
       "      <th>61</th>\n",
       "      <td>SCHOOL AND OFFICE SUPPLIES</td>\n",
       "      <td>Not On Promotion</td>\n",
       "      <td>1</td>\n",
       "    </tr>\n",
       "    <tr>\n",
       "      <th>62</th>\n",
       "      <td>HOME APPLIANCES</td>\n",
       "      <td>Not On Promotion</td>\n",
       "      <td>0</td>\n",
       "    </tr>\n",
       "    <tr>\n",
       "      <th>63</th>\n",
       "      <td>BABY CARE</td>\n",
       "      <td>Not On Promotion</td>\n",
       "      <td>0</td>\n",
       "    </tr>\n",
       "    <tr>\n",
       "      <th>64</th>\n",
       "      <td>BOOKS</td>\n",
       "      <td>Not On Promotion</td>\n",
       "      <td>0</td>\n",
       "    </tr>\n",
       "  </tbody>\n",
       "</table>\n",
       "<p>65 rows × 3 columns</p>\n",
       "</div>"
      ],
      "text/plain": [
       "                        family  promotion_status  sales\n",
       "0                    GROCERY I      On Promotion  4,427\n",
       "1                    BEVERAGES      On Promotion  3,225\n",
       "2                    GROCERY I  Not On Promotion  2,717\n",
       "3                      PRODUCE      On Promotion  2,435\n",
       "4                    BEVERAGES  Not On Promotion  1,290\n",
       "..                         ...               ...    ...\n",
       "60                    HARDWARE  Not On Promotion      1\n",
       "61  SCHOOL AND OFFICE SUPPLIES  Not On Promotion      1\n",
       "62             HOME APPLIANCES  Not On Promotion      0\n",
       "63                   BABY CARE  Not On Promotion      0\n",
       "64                       BOOKS  Not On Promotion      0\n",
       "\n",
       "[65 rows x 3 columns]"
      ]
     },
     "execution_count": 192,
     "metadata": {},
     "output_type": "execute_result"
    }
   ],
   "source": [
    "avg_sales_by_family = df.groupby(['family', 'promotion_status'])['sales'].mean().sort_values(ascending=False).reset_index()\n",
    "avg_sales_by_family"
   ]
  },
  {
   "cell_type": "markdown",
   "id": "898b2765",
   "metadata": {},
   "source": [
    "The table below shows the average sales for each family, split by promotion status. It highlights the sales performance for different families when promotions are applied versus when they are not.\n",
    "\n",
    "| Family                        | Promotion Status   | Average Sales |\n",
    "|-------------------------------|--------------------|---------------|\n",
    "| GROCERY I                      | On Promotion       | 4,427         |\n",
    "| BEVERAGES                      | On Promotion       | 3,225         |\n",
    "| GROCERY I                      | Not On Promotion   | 2,717         |\n",
    "| PRODUCE                        | On Promotion       | 2,435         |\n",
    "| BEVERAGES                      | Not On Promotion   | 1,290         |\n",
    "| HARDWARE                       | Not On Promotion   | 1             |\n",
    "| SCHOOL AND OFFICE SUPPLIES     | Not On Promotion   | 1             |\n",
    "| HOME APPLIANCES                | Not On Promotion   | 0             |\n",
    "| BABY CARE                      | Not On Promotion   | 0             |\n",
    "| BOOKS                          | Not On Promotion   | 0             |\n",
    "\n",
    "This analysis helps identify which families are more responsive to promotions, with **GROCERY I** and **BEVERAGES** showing significantly higher sales when on promotion."
   ]
  },
  {
   "cell_type": "code",
   "execution_count": 193,
   "id": "3efe7f26",
   "metadata": {},
   "outputs": [
    {
     "data": {
      "text/html": [
       "<div>\n",
       "<style scoped>\n",
       "    .dataframe tbody tr th:only-of-type {\n",
       "        vertical-align: middle;\n",
       "    }\n",
       "\n",
       "    .dataframe tbody tr th {\n",
       "        vertical-align: top;\n",
       "    }\n",
       "\n",
       "    .dataframe thead th {\n",
       "        text-align: right;\n",
       "    }\n",
       "</style>\n",
       "<table border=\"1\" class=\"dataframe\">\n",
       "  <thead>\n",
       "    <tr style=\"text-align: right;\">\n",
       "      <th></th>\n",
       "      <th>store_nbr</th>\n",
       "      <th>promotion_status</th>\n",
       "      <th>sales</th>\n",
       "    </tr>\n",
       "  </thead>\n",
       "  <tbody>\n",
       "    <tr>\n",
       "      <th>0</th>\n",
       "      <td>44</td>\n",
       "      <td>On Promotion</td>\n",
       "      <td>2,782</td>\n",
       "    </tr>\n",
       "    <tr>\n",
       "      <th>1</th>\n",
       "      <td>45</td>\n",
       "      <td>On Promotion</td>\n",
       "      <td>2,496</td>\n",
       "    </tr>\n",
       "    <tr>\n",
       "      <th>2</th>\n",
       "      <td>3</td>\n",
       "      <td>On Promotion</td>\n",
       "      <td>2,396</td>\n",
       "    </tr>\n",
       "    <tr>\n",
       "      <th>3</th>\n",
       "      <td>47</td>\n",
       "      <td>On Promotion</td>\n",
       "      <td>2,321</td>\n",
       "    </tr>\n",
       "    <tr>\n",
       "      <th>4</th>\n",
       "      <td>49</td>\n",
       "      <td>On Promotion</td>\n",
       "      <td>2,136</td>\n",
       "    </tr>\n",
       "    <tr>\n",
       "      <th>...</th>\n",
       "      <td>...</td>\n",
       "      <td>...</td>\n",
       "      <td>...</td>\n",
       "    </tr>\n",
       "    <tr>\n",
       "      <th>103</th>\n",
       "      <td>29</td>\n",
       "      <td>Not On Promotion</td>\n",
       "      <td>28</td>\n",
       "    </tr>\n",
       "    <tr>\n",
       "      <th>104</th>\n",
       "      <td>42</td>\n",
       "      <td>Not On Promotion</td>\n",
       "      <td>28</td>\n",
       "    </tr>\n",
       "    <tr>\n",
       "      <th>105</th>\n",
       "      <td>21</td>\n",
       "      <td>Not On Promotion</td>\n",
       "      <td>26</td>\n",
       "    </tr>\n",
       "    <tr>\n",
       "      <th>106</th>\n",
       "      <td>22</td>\n",
       "      <td>Not On Promotion</td>\n",
       "      <td>13</td>\n",
       "    </tr>\n",
       "    <tr>\n",
       "      <th>107</th>\n",
       "      <td>52</td>\n",
       "      <td>Not On Promotion</td>\n",
       "      <td>4</td>\n",
       "    </tr>\n",
       "  </tbody>\n",
       "</table>\n",
       "<p>108 rows × 3 columns</p>\n",
       "</div>"
      ],
      "text/plain": [
       "     store_nbr  promotion_status  sales\n",
       "0           44      On Promotion  2,782\n",
       "1           45      On Promotion  2,496\n",
       "2            3      On Promotion  2,396\n",
       "3           47      On Promotion  2,321\n",
       "4           49      On Promotion  2,136\n",
       "..         ...               ...    ...\n",
       "103         29  Not On Promotion     28\n",
       "104         42  Not On Promotion     28\n",
       "105         21  Not On Promotion     26\n",
       "106         22  Not On Promotion     13\n",
       "107         52  Not On Promotion      4\n",
       "\n",
       "[108 rows x 3 columns]"
      ]
     },
     "execution_count": 193,
     "metadata": {},
     "output_type": "execute_result"
    }
   ],
   "source": [
    "avg_sales_by_store = df.groupby(['store_nbr', 'promotion_status'])['sales'].mean().sort_values(ascending=False).reset_index()\n",
    "avg_sales_by_store"
   ]
  },
  {
   "cell_type": "markdown",
   "id": "4de4e863",
   "metadata": {},
   "source": [
    "The table below shows the average sales for each store, split by promotion status. It highlights how promotions impact sales across different stores.\n",
    "\n",
    "| Store Number | Promotion Status | Average Sales |\n",
    "|--------------|------------------|---------------|\n",
    "| 44           | On Promotion     | 2,782         |\n",
    "| 45           | On Promotion     | 2,496         |\n",
    "| 3            | On Promotion     | 2,396         |\n",
    "| 47           | On Promotion     | 2,321         |\n",
    "| 49           | On Promotion     | 2,136         |\n",
    "| 29           | Not On Promotion | 28            |\n",
    "| 42           | Not On Promotion | 28            |\n",
    "| 21           | Not On Promotion | 26            |\n",
    "| 22           | Not On Promotion | 13            |\n",
    "| 52           | Not On Promotion | 4             |\n",
    "\n",
    "This analysis reveals that certain stores, like **Store 44** and **Store 45**, show significantly higher sales when promotions are active, while other stores, such as **Store 52**, experience very low sales without promotions."
   ]
  },
  {
   "cell_type": "markdown",
   "id": "ff73ff18",
   "metadata": {},
   "source": [
    "# 🌍7. Crisis Impact Analysis"
   ]
  },
  {
   "cell_type": "markdown",
   "id": "7bea1e30",
   "metadata": {},
   "source": [
    "### Crisis Impact by transactions"
   ]
  },
  {
   "cell_type": "code",
   "execution_count": 143,
   "id": "356caf77",
   "metadata": {},
   "outputs": [
    {
     "data": {
      "text/html": [
       "<div>\n",
       "<style scoped>\n",
       "    .dataframe tbody tr th:only-of-type {\n",
       "        vertical-align: middle;\n",
       "    }\n",
       "\n",
       "    .dataframe tbody tr th {\n",
       "        vertical-align: top;\n",
       "    }\n",
       "\n",
       "    .dataframe thead th {\n",
       "        text-align: right;\n",
       "    }\n",
       "</style>\n",
       "<table border=\"1\" class=\"dataframe\">\n",
       "  <thead>\n",
       "    <tr style=\"text-align: right;\">\n",
       "      <th></th>\n",
       "      <th>is_crisis</th>\n",
       "      <th>sales</th>\n",
       "      <th>transactions</th>\n",
       "    </tr>\n",
       "  </thead>\n",
       "  <tbody>\n",
       "    <tr>\n",
       "      <th>0</th>\n",
       "      <td>0</td>\n",
       "      <td>357</td>\n",
       "      <td>1,557</td>\n",
       "    </tr>\n",
       "    <tr>\n",
       "      <th>1</th>\n",
       "      <td>1</td>\n",
       "      <td>495</td>\n",
       "      <td>1,649</td>\n",
       "    </tr>\n",
       "  </tbody>\n",
       "</table>\n",
       "</div>"
      ],
      "text/plain": [
       "   is_crisis  sales  transactions\n",
       "0          0    357         1,557\n",
       "1          1    495         1,649"
      ]
     },
     "execution_count": 143,
     "metadata": {},
     "output_type": "execute_result"
    }
   ],
   "source": [
    "avg_sales_transactions_crisis = df.groupby('is_crisis')[['sales', 'transactions']].mean().reset_index()\n",
    "avg_sales_transactions_crisis"
   ]
  },
  {
   "cell_type": "markdown",
   "id": "98afe65b",
   "metadata": {},
   "source": [
    "### Crisis Impact by Store Type"
   ]
  },
  {
   "cell_type": "code",
   "execution_count": 144,
   "id": "aa9b79c2",
   "metadata": {},
   "outputs": [
    {
     "name": "stdout",
     "output_type": "stream",
     "text": [
      "  store_type  is_crisis  sales\n",
      "0          A          0    705\n",
      "1          A          1    907\n",
      "2          B          0    325\n",
      "3          B          1    505\n",
      "4          C          0    196\n",
      "5          C          1    268\n",
      "6          D          0    350\n",
      "7          D          1    490\n",
      "8          E          0    268\n",
      "9          E          1    420\n",
      "  store_type  is_crisis  transactions\n",
      "0          A          0         2,859\n",
      "1          A          1         2,837\n",
      "2          B          0         1,512\n",
      "3          B          1         1,702\n",
      "4          C          0           981\n",
      "5          C          1         1,062\n",
      "6          D          0         1,526\n",
      "7          D          1         1,617\n",
      "8          E          0         1,017\n",
      "9          E          1         1,221\n"
     ]
    }
   ],
   "source": [
    "avg_sales_by_store_crisis = df.groupby(['store_type', 'is_crisis'])['sales'].mean().reset_index()\n",
    "avg_transactions_by_store_crisis = df.groupby(['store_type', 'is_crisis'])['transactions'].mean().reset_index()\n",
    "\n",
    "\n",
    "print(avg_sales_by_store_crisis)\n",
    "print(avg_transactions_by_store_crisis)"
   ]
  },
  {
   "cell_type": "markdown",
   "id": "9cd37655",
   "metadata": {},
   "source": [
    "### Crisis Impact by promotions"
   ]
  },
  {
   "cell_type": "code",
   "execution_count": 145,
   "id": "1b21b38e",
   "metadata": {},
   "outputs": [
    {
     "name": "stdout",
     "output_type": "stream",
     "text": [
      "     is_crisis  onpromotion  sales\n",
      "0            0            0    159\n",
      "1            0            1    470\n",
      "2            0            2    668\n",
      "3            0            3    881\n",
      "4            0            4    990\n",
      "..         ...          ...    ...\n",
      "590          1          702  6,825\n",
      "591          1          710  5,948\n",
      "592          1          717  6,262\n",
      "593          1          718  6,712\n",
      "594          1          720  6,154\n",
      "\n",
      "[595 rows x 3 columns]\n"
     ]
    }
   ],
   "source": [
    "avg_sales_by_promotion_crisis = df.groupby(['is_crisis', 'onpromotion'])['sales'].mean().reset_index()\n",
    "\n",
    "\n",
    "print(avg_sales_by_promotion_crisis)"
   ]
  },
  {
   "cell_type": "markdown",
   "id": "5eae5789",
   "metadata": {},
   "source": [
    "### Crisis Impact by holiday"
   ]
  },
  {
   "cell_type": "code",
   "execution_count": 146,
   "id": "7da8f524",
   "metadata": {},
   "outputs": [
    {
     "name": "stdout",
     "output_type": "stream",
     "text": [
      "   is_crisis  is_holiday  sales\n",
      "0          0           0    352\n",
      "1          0           1    381\n",
      "2          1           1    495\n"
     ]
    }
   ],
   "source": [
    "avg_sales_by_holiday_crisis = df.groupby(['is_crisis', 'is_holiday'])['sales'].mean().reset_index()\n",
    "\n",
    "\n",
    "print(avg_sales_by_holiday_crisis)"
   ]
  },
  {
   "cell_type": "markdown",
   "id": "273ff32f",
   "metadata": {},
   "source": [
    "### Crisis Impact weekly and monthly"
   ]
  },
  {
   "cell_type": "code",
   "execution_count": 147,
   "id": "5241eac0",
   "metadata": {},
   "outputs": [
    {
     "name": "stdout",
     "output_type": "stream",
     "text": [
      "    is_crisis  month  sales\n",
      "0           0      1    342\n",
      "1           0      2    321\n",
      "2           0      3    352\n",
      "3           0      4    321\n",
      "4           0      5    332\n",
      "5           0      6    353\n",
      "6           0      7    376\n",
      "7           0      8    337\n",
      "8           0      9    362\n",
      "9           0     10    362\n",
      "10          0     11    377\n",
      "11          0     12    457\n",
      "12          1      4    523\n",
      "13          1      5    468\n",
      "    is_crisis  week  sales\n",
      "0           0     1    409\n",
      "1           0     2    348\n",
      "2           0     3    338\n",
      "3           0     4    329\n",
      "4           0     5    344\n",
      "5           0     6    320\n",
      "6           0     7    310\n",
      "7           0     8    312\n",
      "8           0     9    358\n",
      "9           0    10    359\n",
      "10          0    11    343\n",
      "11          0    12    338\n",
      "12          0    13    361\n",
      "13          0    14    350\n",
      "14          0    15    307\n",
      "15          0    16    306\n",
      "16          0    17    305\n",
      "17          0    18    352\n",
      "18          0    19    298\n",
      "19          0    20    332\n",
      "20          0    21    321\n",
      "21          0    22    368\n",
      "22          0    23    369\n",
      "23          0    24    342\n",
      "24          0    25    365\n",
      "25          0    26    337\n",
      "26          0    27    398\n",
      "27          0    28    362\n",
      "28          0    29    361\n",
      "29          0    30    360\n",
      "30          0    31    384\n",
      "31          0    32    335\n",
      "32          0    33    327\n",
      "33          0    34    307\n",
      "34          0    35    334\n",
      "35          0    36    400\n",
      "36          0    37    353\n",
      "37          0    38    351\n",
      "38          0    39    354\n",
      "39          0    40    400\n",
      "40          0    41    362\n",
      "41          0    42    355\n",
      "42          0    43    340\n",
      "43          0    44    359\n",
      "44          0    45    407\n",
      "45          0    46    362\n",
      "46          0    47    359\n",
      "47          0    48    379\n",
      "48          0    49    417\n",
      "49          0    50    413\n",
      "50          0    51    484\n",
      "51          0    52    483\n",
      "52          0    53    478\n",
      "53          1    15    599\n",
      "54          1    16    600\n",
      "55          1    17    453\n",
      "56          1    18    470\n",
      "57          1    19    438\n",
      "58          1    20    420\n"
     ]
    }
   ],
   "source": [
    "avg_sales_by_month_crisis = df.groupby(['is_crisis', 'month'])['sales'].mean().reset_index()\n",
    "avg_sales_by_week_crisis = df.groupby(['is_crisis', 'week'])['sales'].mean().reset_index()\n",
    "\n",
    "\n",
    "print(avg_sales_by_month_crisis)\n",
    "print(avg_sales_by_week_crisis)"
   ]
  },
  {
   "cell_type": "markdown",
   "id": "e9c8a676",
   "metadata": {},
   "source": [
    "### Crisis Impact by transactions, sales"
   ]
  },
  {
   "cell_type": "code",
   "execution_count": 148,
   "id": "1f7ed8c8",
   "metadata": {},
   "outputs": [
    {
     "name": "stdout",
     "output_type": "stream",
     "text": [
      "   is_crisis  transactions  sales\n",
      "0          0         1,557    357\n",
      "1          1         1,649    495\n"
     ]
    }
   ],
   "source": [
    "avg_transactions_sales_crisis = df.groupby('is_crisis')[['transactions', 'sales']].mean().reset_index()\n",
    "\n",
    "\n",
    "print(avg_transactions_sales_crisis)"
   ]
  },
  {
   "cell_type": "markdown",
   "id": "c4f2833b",
   "metadata": {},
   "source": [
    "### Crisis Impact by family"
   ]
  },
  {
   "cell_type": "code",
   "execution_count": 149,
   "id": "aec9d90d",
   "metadata": {},
   "outputs": [
    {
     "name": "stdout",
     "output_type": "stream",
     "text": [
      "                        family  is_crisis  sales\n",
      "0                   AUTOMOTIVE          0      6\n",
      "1                   AUTOMOTIVE          1      7\n",
      "2                    BABY CARE          0      0\n",
      "3                    BABY CARE          1      0\n",
      "4                       BEAUTY          0      4\n",
      "..                         ...        ...    ...\n",
      "61                     PRODUCE          1  2,265\n",
      "62  SCHOOL AND OFFICE SUPPLIES          0      3\n",
      "63  SCHOOL AND OFFICE SUPPLIES          1      9\n",
      "64                     SEAFOOD          0     22\n",
      "65                     SEAFOOD          1     24\n",
      "\n",
      "[66 rows x 3 columns]\n"
     ]
    }
   ],
   "source": [
    "avg_sales_by_family_crisis = df.groupby(['family', 'is_crisis'])['sales'].mean().reset_index()\n",
    "\n",
    "\n",
    "print(avg_sales_by_family_crisis)"
   ]
  },
  {
   "cell_type": "markdown",
   "id": "87e55e2e",
   "metadata": {},
   "source": [
    "### Crisis Impact by city and state"
   ]
  },
  {
   "cell_type": "code",
   "execution_count": 150,
   "id": "fcb16c98",
   "metadata": {},
   "outputs": [
    {
     "name": "stdout",
     "output_type": "stream",
     "text": [
      "             city  is_crisis  sales\n",
      "0          Ambato          0    363\n",
      "1          Ambato          1    429\n",
      "2        Babahoyo          0    319\n",
      "3        Babahoyo          1    417\n",
      "4         Cayambe          0    509\n",
      "5         Cayambe          1    636\n",
      "6          Cuenca          0    293\n",
      "7          Cuenca          1    434\n",
      "8           Daule          0    344\n",
      "9           Daule          1    505\n",
      "10      El Carmen          0    199\n",
      "11      El Carmen          1    269\n",
      "12     Esmeraldas          0    295\n",
      "13     Esmeraldas          1    348\n",
      "14       Guaranda          0    234\n",
      "15       Guaranda          1    305\n",
      "16      Guayaquil          0    275\n",
      "17      Guayaquil          1    400\n",
      "18         Ibarra          0    205\n",
      "19         Ibarra          1    267\n",
      "20      Latacunga          0    190\n",
      "21      Latacunga          1    248\n",
      "22       Libertad          0    275\n",
      "23       Libertad          1    389\n",
      "24           Loja          0    340\n",
      "25           Loja          1    378\n",
      "26        Machala          0    300\n",
      "27        Machala          1    393\n",
      "28          Manta          0    124\n",
      "29          Manta          1    246\n",
      "30         Playas          0    138\n",
      "31         Playas          1    173\n",
      "32           Puyo          0     72\n",
      "33           Puyo          1    189\n",
      "34        Quevedo          0    255\n",
      "35        Quevedo          1    307\n",
      "36          Quito          0    554\n",
      "37          Quito          1    779\n",
      "38       Riobamba          0    204\n",
      "39       Riobamba          1    254\n",
      "40        Salinas          0    206\n",
      "41        Salinas          1    196\n",
      "42  Santo Domingo          0    214\n",
      "43  Santo Domingo          1    308\n",
      "                             state  is_crisis  sales\n",
      "0                            Azuay          0    293\n",
      "1                            Azuay          1    434\n",
      "2                          Bolivar          0    234\n",
      "3                          Bolivar          1    305\n",
      "4                       Chimborazo          0    204\n",
      "5                       Chimborazo          1    254\n",
      "6                         Cotopaxi          0    190\n",
      "7                         Cotopaxi          1    248\n",
      "8                           El Oro          0    300\n",
      "9                           El Oro          1    393\n",
      "10                      Esmeraldas          0    295\n",
      "11                      Esmeraldas          1    348\n",
      "12                          Guayas          0    269\n",
      "13                          Guayas          1    388\n",
      "14                        Imbabura          0    205\n",
      "15                        Imbabura          1    267\n",
      "16                            Loja          0    340\n",
      "17                            Loja          1    378\n",
      "18                        Los Rios          0    287\n",
      "19                        Los Rios          1    362\n",
      "20                          Manabi          0    149\n",
      "21                          Manabi          1    254\n",
      "22                         Pastaza          0     72\n",
      "23                         Pastaza          1    189\n",
      "24                       Pichincha          0    552\n",
      "25                       Pichincha          1    772\n",
      "26                     Santa Elena          0    206\n",
      "27                     Santa Elena          1    196\n",
      "28  Santo Domingo de los Tsachilas          0    214\n",
      "29  Santo Domingo de los Tsachilas          1    308\n",
      "30                      Tungurahua          0    363\n",
      "31                      Tungurahua          1    429\n"
     ]
    }
   ],
   "source": [
    "avg_sales_by_city_crisis = df.groupby(['city', 'is_crisis'])['sales'].mean().reset_index()\n",
    "\n",
    "\n",
    "avg_sales_by_state_crisis = df.groupby(['state', 'is_crisis'])['sales'].mean().reset_index()\n",
    "\n",
    "\n",
    "print(avg_sales_by_city_crisis)\n",
    "print(avg_sales_by_state_crisis)"
   ]
  },
  {
   "cell_type": "markdown",
   "id": "69c2bf54",
   "metadata": {},
   "source": [
    "### Crisis Impact on Rolling Mean and Lagged Sales"
   ]
  },
  {
   "cell_type": "code",
   "execution_count": 151,
   "id": "74c1c76f",
   "metadata": {},
   "outputs": [
    {
     "name": "stdout",
     "output_type": "stream",
     "text": [
      "   is_crisis  sales_lag_7\n",
      "0          0          355\n",
      "1          1          492\n",
      "   is_crisis  rolling_mean_7\n",
      "0          0             356\n",
      "1          1             495\n"
     ]
    }
   ],
   "source": [
    "avg_sales_lag_7_crisis = df.groupby('is_crisis')['sales_lag_7'].mean().reset_index()\n",
    "avg_rolling_mean_7_crisis = df.groupby('is_crisis')['rolling_mean_7'].mean().reset_index()\n",
    "\n",
    "\n",
    "print(avg_sales_lag_7_crisis)\n",
    "print(avg_rolling_mean_7_crisis)"
   ]
  },
  {
   "cell_type": "markdown",
   "id": "95630f00",
   "metadata": {},
   "source": [
    "### Crisis and Store Cluster Performance"
   ]
  },
  {
   "cell_type": "code",
   "execution_count": 152,
   "id": "8a22e14a",
   "metadata": {},
   "outputs": [
    {
     "name": "stdout",
     "output_type": "stream",
     "text": [
      "    cluster  is_crisis  sales\n",
      "0         1          0    325\n",
      "1         1          1    432\n",
      "2         2          0    259\n",
      "3         2          1    390\n",
      "4         3          0    194\n",
      "5         3          1    254\n",
      "6         4          0    297\n",
      "7         4          1    338\n",
      "8         5          0  1,113\n",
      "9         5          1  1,510\n",
      "10        6          0    341\n",
      "11        6          1    533\n",
      "12        7          0    138\n",
      "13        7          1    221\n",
      "14        8          0    644\n",
      "15        8          1    896\n",
      "16        9          0    274\n",
      "17        9          1    351\n",
      "18       10          0    255\n",
      "19       10          1    375\n",
      "20       11          0    602\n",
      "21       11          1    814\n",
      "22       12          0    322\n",
      "23       12          1    512\n",
      "24       13          0    322\n",
      "25       13          1    548\n",
      "26       14          0    708\n",
      "27       14          1    853\n",
      "28       15          0    198\n",
      "29       15          1    257\n",
      "30       16          0    236\n",
      "31       16          1    424\n",
      "32       17          0    590\n",
      "33       17          1    803\n",
      "    cluster  is_crisis  transactions\n",
      "0         1          0         1,499\n",
      "1         1          1         1,526\n",
      "2         2          0           972\n",
      "3         2          1         1,275\n",
      "4         3          0           866\n",
      "5         3          1           890\n",
      "6         4          0         1,385\n",
      "7         4          1         1,325\n",
      "8         5          0         4,325\n",
      "9         5          1         4,416\n",
      "10        6          0         1,583\n",
      "11        6          1         1,805\n",
      "12        7          0           826\n",
      "13        7          1         1,064\n",
      "14        8          0         2,575\n",
      "15        8          1         2,668\n",
      "16        9          0         1,281\n",
      "17        9          1         1,280\n",
      "18       10          0         1,012\n",
      "19       10          1         1,146\n",
      "20       11          0         2,193\n",
      "21       11          1         2,205\n",
      "22       12          0         1,361\n",
      "23       12          1         1,619\n",
      "24       13          0         1,487\n",
      "25       13          1         1,722\n",
      "26       14          0         3,278\n",
      "27       14          1         3,184\n",
      "28       15          0         1,129\n",
      "29       15          1         1,190\n",
      "30       16          0         1,230\n",
      "31       16          1         1,344\n",
      "32       17          0         1,709\n",
      "33       17          1         1,767\n"
     ]
    }
   ],
   "source": [
    "avg_sales_by_cluster_crisis = df.groupby(['cluster', 'is_crisis'])['sales'].mean().reset_index()\n",
    "avg_transactions_by_cluster_crisis = df.groupby(['cluster', 'is_crisis'])['transactions'].mean().reset_index()\n",
    "\n",
    "\n",
    "print(avg_sales_by_cluster_crisis)\n",
    "print(avg_transactions_by_cluster_crisis)"
   ]
  },
  {
   "cell_type": "markdown",
   "id": "f325652d",
   "metadata": {},
   "source": [
    "# 📅 8. Holidays & Events "
   ]
  },
  {
   "cell_type": "markdown",
   "id": "e3b78267",
   "metadata": {},
   "source": [
    "### How do sales differ on holidays vs. non-holidays overall?"
   ]
  },
  {
   "cell_type": "code",
   "execution_count": 153,
   "id": "9fb9c494",
   "metadata": {},
   "outputs": [
    {
     "data": {
      "text/html": [
       "<div>\n",
       "<style scoped>\n",
       "    .dataframe tbody tr th:only-of-type {\n",
       "        vertical-align: middle;\n",
       "    }\n",
       "\n",
       "    .dataframe tbody tr th {\n",
       "        vertical-align: top;\n",
       "    }\n",
       "\n",
       "    .dataframe thead th {\n",
       "        text-align: right;\n",
       "    }\n",
       "</style>\n",
       "<table border=\"1\" class=\"dataframe\">\n",
       "  <thead>\n",
       "    <tr style=\"text-align: right;\">\n",
       "      <th></th>\n",
       "      <th>is_holiday</th>\n",
       "      <th>sales</th>\n",
       "    </tr>\n",
       "  </thead>\n",
       "  <tbody>\n",
       "    <tr>\n",
       "      <th>0</th>\n",
       "      <td>0</td>\n",
       "      <td>352</td>\n",
       "    </tr>\n",
       "    <tr>\n",
       "      <th>1</th>\n",
       "      <td>1</td>\n",
       "      <td>394</td>\n",
       "    </tr>\n",
       "  </tbody>\n",
       "</table>\n",
       "</div>"
      ],
      "text/plain": [
       "   is_holiday  sales\n",
       "0           0    352\n",
       "1           1    394"
      ]
     },
     "execution_count": 153,
     "metadata": {},
     "output_type": "execute_result"
    }
   ],
   "source": [
    "holiday_sales_comparison = df.groupby('is_holiday')['sales'].mean().reset_index()\n",
    "holiday_sales_comparison"
   ]
  },
  {
   "cell_type": "code",
   "execution_count": 154,
   "id": "cd1dbd4b",
   "metadata": {},
   "outputs": [
    {
     "name": "stdout",
     "output_type": "stream",
     "text": [
      "Holiday sales are 11.84% higher than non-holiday sales.\n"
     ]
    }
   ],
   "source": [
    "\n",
    "holiday_sales_comparison = df.groupby('is_holiday')['sales'].mean()\n",
    "\n",
    "\n",
    "percent_difference = ((holiday_sales_comparison[1] - holiday_sales_comparison[0]) / holiday_sales_comparison[0]) * 100\n",
    "\n",
    "\n",
    "print(f\"Holiday sales are {percent_difference:.2f}% {'higher' if percent_difference > 0 else 'lower'} than non-holiday sales.\")\n"
   ]
  },
  {
   "cell_type": "code",
   "execution_count": 155,
   "id": "a2cdb9b0",
   "metadata": {},
   "outputs": [
    {
     "name": "stdout",
     "output_type": "stream",
     "text": [
      "  holiday_type  sales  percent_difference_vs_normal\n",
      "0   Additional    488                            38\n",
      "4     Transfer    468                            33\n",
      "1       Bridge    447                            27\n",
      "2        Event    426                            21\n",
      "5     Work Day    372                             6\n",
      "3      Holiday    358                             2\n"
     ]
    }
   ],
   "source": [
    "\n",
    "holiday_df = df[df['is_holiday'] == 1]\n",
    "\n",
    "avg_sales_by_holiday_type = holiday_df.groupby('holiday_type')['sales'].mean()\n",
    "\n",
    "\n",
    "non_holiday_avg_sales = df[df['is_holiday'] == 0]['sales'].mean()\n",
    "\n",
    "\n",
    "percent_difference_by_holiday_type = ((avg_sales_by_holiday_type - non_holiday_avg_sales) / non_holiday_avg_sales) * 100\n",
    "\n",
    "\n",
    "holiday_impact = avg_sales_by_holiday_type.reset_index()\n",
    "holiday_impact['percent_difference_vs_normal'] = percent_difference_by_holiday_type.values\n",
    "\n",
    "\n",
    "holiday_impact = holiday_impact.sort_values(by='percent_difference_vs_normal', ascending=False)\n",
    "\n",
    "\n",
    "print(holiday_impact)\n"
   ]
  },
  {
   "cell_type": "markdown",
   "id": "69c25806",
   "metadata": {},
   "source": [
    "### Which type of holiday (national, regional, local) drives the highest sales?"
   ]
  },
  {
   "cell_type": "code",
   "execution_count": 156,
   "id": "00d7c822",
   "metadata": {},
   "outputs": [
    {
     "name": "stdout",
     "output_type": "stream",
     "text": [
      "  holiday_type  sales\n",
      "0   Additional    488\n",
      "4     Transfer    468\n",
      "1       Bridge    447\n",
      "2        Event    426\n",
      "5     Work Day    372\n",
      "3      Holiday    358\n"
     ]
    }
   ],
   "source": [
    "\n",
    "holiday_df = df[df['is_holiday'] == 1]\n",
    "\n",
    "\n",
    "avg_sales_by_holiday_type = holiday_df.groupby('holiday_type')['sales'].mean().reset_index()\n",
    "\n",
    "\n",
    "avg_sales_by_holiday_type = avg_sales_by_holiday_type.sort_values(by='sales', ascending=False)\n",
    "\n",
    "\n",
    "print(avg_sales_by_holiday_type)\n"
   ]
  },
  {
   "cell_type": "markdown",
   "id": "03b7e2f9",
   "metadata": {},
   "source": [
    "### Promotion vs. Holiday Impact"
   ]
  },
  {
   "cell_type": "code",
   "execution_count": 157,
   "id": "02b710ee",
   "metadata": {},
   "outputs": [
    {
     "name": "stdout",
     "output_type": "stream",
     "text": [
      "With Promotion:\n",
      "holiday_type\n",
      "Additional   1,426\n",
      "Bridge       1,176\n",
      "Event        1,201\n",
      "Holiday      1,161\n",
      "Transfer     1,048\n",
      "Work Day     1,330\n",
      "Name: sales, dtype: float64\n",
      "Without Promotion:\n",
      "holiday_type\n",
      "Additional   196\n",
      "Bridge        91\n",
      "Event        113\n",
      "Holiday      152\n",
      "Transfer      91\n",
      "Work Day     161\n",
      "Name: sales, dtype: float64\n"
     ]
    }
   ],
   "source": [
    "\n",
    "holiday_with_promo = holiday_df[holiday_df['onpromotion'] > 0]\n",
    "holiday_without_promo = holiday_df[holiday_df['onpromotion'] == 0]\n",
    "\n",
    "\n",
    "avg_sales_with_promo = holiday_with_promo.groupby('holiday_type')['sales'].mean()\n",
    "avg_sales_without_promo = holiday_without_promo.groupby('holiday_type')['sales'].mean()\n",
    "\n",
    "print(\"With Promotion:\")\n",
    "print(avg_sales_with_promo)\n",
    "print(\"Without Promotion:\")\n",
    "print(avg_sales_without_promo)\n"
   ]
  },
  {
   "cell_type": "markdown",
   "id": "8cb089d3",
   "metadata": {},
   "source": [
    "### Which product families see the biggest sales boost during holidays?"
   ]
  },
  {
   "cell_type": "code",
   "execution_count": 158,
   "id": "9f20f18a",
   "metadata": {},
   "outputs": [
    {
     "data": {
      "text/html": [
       "<div>\n",
       "<style scoped>\n",
       "    .dataframe tbody tr th:only-of-type {\n",
       "        vertical-align: middle;\n",
       "    }\n",
       "\n",
       "    .dataframe tbody tr th {\n",
       "        vertical-align: top;\n",
       "    }\n",
       "\n",
       "    .dataframe thead th {\n",
       "        text-align: right;\n",
       "    }\n",
       "</style>\n",
       "<table border=\"1\" class=\"dataframe\">\n",
       "  <thead>\n",
       "    <tr style=\"text-align: right;\">\n",
       "      <th></th>\n",
       "      <th>family</th>\n",
       "      <th>is_holiday</th>\n",
       "      <th>sales</th>\n",
       "    </tr>\n",
       "  </thead>\n",
       "  <tbody>\n",
       "    <tr>\n",
       "      <th>0</th>\n",
       "      <td>AUTOMOTIVE</td>\n",
       "      <td>0</td>\n",
       "      <td>6</td>\n",
       "    </tr>\n",
       "    <tr>\n",
       "      <th>1</th>\n",
       "      <td>AUTOMOTIVE</td>\n",
       "      <td>1</td>\n",
       "      <td>7</td>\n",
       "    </tr>\n",
       "    <tr>\n",
       "      <th>2</th>\n",
       "      <td>BABY CARE</td>\n",
       "      <td>0</td>\n",
       "      <td>0</td>\n",
       "    </tr>\n",
       "    <tr>\n",
       "      <th>3</th>\n",
       "      <td>BABY CARE</td>\n",
       "      <td>1</td>\n",
       "      <td>0</td>\n",
       "    </tr>\n",
       "    <tr>\n",
       "      <th>4</th>\n",
       "      <td>BEAUTY</td>\n",
       "      <td>0</td>\n",
       "      <td>4</td>\n",
       "    </tr>\n",
       "    <tr>\n",
       "      <th>...</th>\n",
       "      <td>...</td>\n",
       "      <td>...</td>\n",
       "      <td>...</td>\n",
       "    </tr>\n",
       "    <tr>\n",
       "      <th>61</th>\n",
       "      <td>PRODUCE</td>\n",
       "      <td>1</td>\n",
       "      <td>1,514</td>\n",
       "    </tr>\n",
       "    <tr>\n",
       "      <th>62</th>\n",
       "      <td>SCHOOL AND OFFICE SUPPLIES</td>\n",
       "      <td>0</td>\n",
       "      <td>3</td>\n",
       "    </tr>\n",
       "    <tr>\n",
       "      <th>63</th>\n",
       "      <td>SCHOOL AND OFFICE SUPPLIES</td>\n",
       "      <td>1</td>\n",
       "      <td>3</td>\n",
       "    </tr>\n",
       "    <tr>\n",
       "      <th>64</th>\n",
       "      <td>SEAFOOD</td>\n",
       "      <td>0</td>\n",
       "      <td>22</td>\n",
       "    </tr>\n",
       "    <tr>\n",
       "      <th>65</th>\n",
       "      <td>SEAFOOD</td>\n",
       "      <td>1</td>\n",
       "      <td>22</td>\n",
       "    </tr>\n",
       "  </tbody>\n",
       "</table>\n",
       "<p>66 rows × 3 columns</p>\n",
       "</div>"
      ],
      "text/plain": [
       "                        family  is_holiday  sales\n",
       "0                   AUTOMOTIVE           0      6\n",
       "1                   AUTOMOTIVE           1      7\n",
       "2                    BABY CARE           0      0\n",
       "3                    BABY CARE           1      0\n",
       "4                       BEAUTY           0      4\n",
       "..                         ...         ...    ...\n",
       "61                     PRODUCE           1  1,514\n",
       "62  SCHOOL AND OFFICE SUPPLIES           0      3\n",
       "63  SCHOOL AND OFFICE SUPPLIES           1      3\n",
       "64                     SEAFOOD           0     22\n",
       "65                     SEAFOOD           1     22\n",
       "\n",
       "[66 rows x 3 columns]"
      ]
     },
     "execution_count": 158,
     "metadata": {},
     "output_type": "execute_result"
    }
   ],
   "source": [
    "family_holiday_sales = df.groupby(['family', 'is_holiday'])['sales'].mean().reset_index()\n",
    "family_holiday_sales"
   ]
  },
  {
   "cell_type": "markdown",
   "id": "c9294037",
   "metadata": {},
   "source": [
    "### Are certain stores or store types more sensitive to holiday sales spikes?"
   ]
  },
  {
   "cell_type": "code",
   "execution_count": 159,
   "id": "7dac6560",
   "metadata": {},
   "outputs": [
    {
     "data": {
      "text/html": [
       "<div>\n",
       "<style scoped>\n",
       "    .dataframe tbody tr th:only-of-type {\n",
       "        vertical-align: middle;\n",
       "    }\n",
       "\n",
       "    .dataframe tbody tr th {\n",
       "        vertical-align: top;\n",
       "    }\n",
       "\n",
       "    .dataframe thead th {\n",
       "        text-align: right;\n",
       "    }\n",
       "</style>\n",
       "<table border=\"1\" class=\"dataframe\">\n",
       "  <thead>\n",
       "    <tr style=\"text-align: right;\">\n",
       "      <th></th>\n",
       "      <th>store_type</th>\n",
       "      <th>is_holiday</th>\n",
       "      <th>sales</th>\n",
       "    </tr>\n",
       "  </thead>\n",
       "  <tbody>\n",
       "    <tr>\n",
       "      <th>0</th>\n",
       "      <td>A</td>\n",
       "      <td>0</td>\n",
       "      <td>693</td>\n",
       "    </tr>\n",
       "    <tr>\n",
       "      <th>1</th>\n",
       "      <td>A</td>\n",
       "      <td>1</td>\n",
       "      <td>785</td>\n",
       "    </tr>\n",
       "    <tr>\n",
       "      <th>2</th>\n",
       "      <td>B</td>\n",
       "      <td>0</td>\n",
       "      <td>321</td>\n",
       "    </tr>\n",
       "    <tr>\n",
       "      <th>3</th>\n",
       "      <td>B</td>\n",
       "      <td>1</td>\n",
       "      <td>366</td>\n",
       "    </tr>\n",
       "    <tr>\n",
       "      <th>4</th>\n",
       "      <td>C</td>\n",
       "      <td>0</td>\n",
       "      <td>195</td>\n",
       "    </tr>\n",
       "    <tr>\n",
       "      <th>5</th>\n",
       "      <td>C</td>\n",
       "      <td>1</td>\n",
       "      <td>213</td>\n",
       "    </tr>\n",
       "    <tr>\n",
       "      <th>6</th>\n",
       "      <td>D</td>\n",
       "      <td>0</td>\n",
       "      <td>346</td>\n",
       "    </tr>\n",
       "    <tr>\n",
       "      <th>7</th>\n",
       "      <td>D</td>\n",
       "      <td>1</td>\n",
       "      <td>382</td>\n",
       "    </tr>\n",
       "    <tr>\n",
       "      <th>8</th>\n",
       "      <td>E</td>\n",
       "      <td>0</td>\n",
       "      <td>264</td>\n",
       "    </tr>\n",
       "    <tr>\n",
       "      <th>9</th>\n",
       "      <td>E</td>\n",
       "      <td>1</td>\n",
       "      <td>301</td>\n",
       "    </tr>\n",
       "  </tbody>\n",
       "</table>\n",
       "</div>"
      ],
      "text/plain": [
       "  store_type  is_holiday  sales\n",
       "0          A           0    693\n",
       "1          A           1    785\n",
       "2          B           0    321\n",
       "3          B           1    366\n",
       "4          C           0    195\n",
       "5          C           1    213\n",
       "6          D           0    346\n",
       "7          D           1    382\n",
       "8          E           0    264\n",
       "9          E           1    301"
      ]
     },
     "execution_count": 159,
     "metadata": {},
     "output_type": "execute_result"
    }
   ],
   "source": [
    "store_type_holiday_sales = df.groupby(['store_type', 'is_holiday'])['sales'].mean().reset_index()\n",
    "store_type_holiday_sales"
   ]
  },
  {
   "cell_type": "markdown",
   "id": "5b084b5a",
   "metadata": {},
   "source": [
    "### Do transactions (customer visits) increase significantly during holidays?"
   ]
  },
  {
   "cell_type": "code",
   "execution_count": 160,
   "id": "98552fe9",
   "metadata": {},
   "outputs": [
    {
     "name": "stdout",
     "output_type": "stream",
     "text": [
      "825639144.0 3935038272.0\n"
     ]
    }
   ],
   "source": [
    "holiday_transactions = df[df['is_holiday'] == 1]['transactions'].sum()\n",
    "non_holiday_transactions = df[df['is_holiday'] == 0]['transactions'].sum()\n",
    "print(holiday_transactions, non_holiday_transactions)"
   ]
  },
  {
   "cell_type": "markdown",
   "id": "cc5ca01e",
   "metadata": {},
   "source": [
    "### How many days before a holiday does sales start increasing?"
   ]
  },
  {
   "cell_type": "code",
   "execution_count": 161,
   "id": "aa75ff89",
   "metadata": {},
   "outputs": [
    {
     "data": {
      "text/html": [
       "<div>\n",
       "<style scoped>\n",
       "    .dataframe tbody tr th:only-of-type {\n",
       "        vertical-align: middle;\n",
       "    }\n",
       "\n",
       "    .dataframe tbody tr th {\n",
       "        vertical-align: top;\n",
       "    }\n",
       "\n",
       "    .dataframe thead th {\n",
       "        text-align: right;\n",
       "    }\n",
       "</style>\n",
       "<table border=\"1\" class=\"dataframe\">\n",
       "  <thead>\n",
       "    <tr style=\"text-align: right;\">\n",
       "      <th></th>\n",
       "      <th>is_holiday</th>\n",
       "      <th>sales</th>\n",
       "    </tr>\n",
       "  </thead>\n",
       "  <tbody>\n",
       "    <tr>\n",
       "      <th>0</th>\n",
       "      <td>0</td>\n",
       "      <td>232</td>\n",
       "    </tr>\n",
       "    <tr>\n",
       "      <th>1</th>\n",
       "      <td>1</td>\n",
       "      <td>135</td>\n",
       "    </tr>\n",
       "  </tbody>\n",
       "</table>\n",
       "</div>"
      ],
      "text/plain": [
       "   is_holiday  sales\n",
       "0           0    232\n",
       "1           1    135"
      ]
     },
     "execution_count": 161,
     "metadata": {},
     "output_type": "execute_result"
    }
   ],
   "source": [
    "df['days_to_holiday'] = (df['date'] - df['date'].min()).dt.days\n",
    "sales_increase_before_holiday = df[df['days_to_holiday'] < 7].groupby('is_holiday')['sales'].mean().reset_index()\n",
    "sales_increase_before_holiday"
   ]
  },
  {
   "cell_type": "markdown",
   "id": "f678e876",
   "metadata": {},
   "source": [
    "### Do sales drop after holidays (\"post-holiday effect\")?"
   ]
  },
  {
   "cell_type": "code",
   "execution_count": 162,
   "id": "fefc3f00",
   "metadata": {},
   "outputs": [
    {
     "name": "stdout",
     "output_type": "stream",
     "text": [
      "Post-holiday sales: 352.15918056230004, Pre-holiday sales: 134.64134125364757\n"
     ]
    }
   ],
   "source": [
    "post_holiday_sales = df[(df['is_holiday'] == 0) & (df['days_to_holiday'] > 0)]['sales'].mean()\n",
    "pre_holiday_sales = df[(df['is_holiday'] == 1) & (df['days_to_holiday'] < 7)]['sales'].mean()\n",
    "print(f\"Post-holiday sales: {post_holiday_sales}, Pre-holiday sales: {pre_holiday_sales}\")"
   ]
  },
  {
   "cell_type": "markdown",
   "id": "d4596b04",
   "metadata": {},
   "source": [
    "### Which city or state benefits the most from local holidays?"
   ]
  },
  {
   "cell_type": "code",
   "execution_count": 163,
   "id": "b2e7916b",
   "metadata": {},
   "outputs": [
    {
     "data": {
      "text/html": [
       "<div>\n",
       "<style scoped>\n",
       "    .dataframe tbody tr th:only-of-type {\n",
       "        vertical-align: middle;\n",
       "    }\n",
       "\n",
       "    .dataframe tbody tr th {\n",
       "        vertical-align: top;\n",
       "    }\n",
       "\n",
       "    .dataframe thead th {\n",
       "        text-align: right;\n",
       "    }\n",
       "</style>\n",
       "<table border=\"1\" class=\"dataframe\">\n",
       "  <thead>\n",
       "    <tr style=\"text-align: right;\">\n",
       "      <th></th>\n",
       "      <th>city</th>\n",
       "      <th>state</th>\n",
       "      <th>holiday_type</th>\n",
       "      <th>sales</th>\n",
       "    </tr>\n",
       "  </thead>\n",
       "  <tbody>\n",
       "    <tr>\n",
       "      <th>0</th>\n",
       "      <td>Ambato</td>\n",
       "      <td>Tungurahua</td>\n",
       "      <td>Additional</td>\n",
       "      <td>527</td>\n",
       "    </tr>\n",
       "    <tr>\n",
       "      <th>1</th>\n",
       "      <td>Ambato</td>\n",
       "      <td>Tungurahua</td>\n",
       "      <td>Bridge</td>\n",
       "      <td>506</td>\n",
       "    </tr>\n",
       "    <tr>\n",
       "      <th>2</th>\n",
       "      <td>Ambato</td>\n",
       "      <td>Tungurahua</td>\n",
       "      <td>Event</td>\n",
       "      <td>397</td>\n",
       "    </tr>\n",
       "    <tr>\n",
       "      <th>3</th>\n",
       "      <td>Ambato</td>\n",
       "      <td>Tungurahua</td>\n",
       "      <td>Holiday</td>\n",
       "      <td>363</td>\n",
       "    </tr>\n",
       "    <tr>\n",
       "      <th>4</th>\n",
       "      <td>Ambato</td>\n",
       "      <td>Tungurahua</td>\n",
       "      <td>Normal Day</td>\n",
       "      <td>357</td>\n",
       "    </tr>\n",
       "    <tr>\n",
       "      <th>...</th>\n",
       "      <td>...</td>\n",
       "      <td>...</td>\n",
       "      <td>...</td>\n",
       "      <td>...</td>\n",
       "    </tr>\n",
       "    <tr>\n",
       "      <th>149</th>\n",
       "      <td>Santo Domingo</td>\n",
       "      <td>Santo Domingo de los Tsachilas</td>\n",
       "      <td>Event</td>\n",
       "      <td>262</td>\n",
       "    </tr>\n",
       "    <tr>\n",
       "      <th>150</th>\n",
       "      <td>Santo Domingo</td>\n",
       "      <td>Santo Domingo de los Tsachilas</td>\n",
       "      <td>Holiday</td>\n",
       "      <td>214</td>\n",
       "    </tr>\n",
       "    <tr>\n",
       "      <th>151</th>\n",
       "      <td>Santo Domingo</td>\n",
       "      <td>Santo Domingo de los Tsachilas</td>\n",
       "      <td>Normal Day</td>\n",
       "      <td>211</td>\n",
       "    </tr>\n",
       "    <tr>\n",
       "      <th>152</th>\n",
       "      <td>Santo Domingo</td>\n",
       "      <td>Santo Domingo de los Tsachilas</td>\n",
       "      <td>Transfer</td>\n",
       "      <td>286</td>\n",
       "    </tr>\n",
       "    <tr>\n",
       "      <th>153</th>\n",
       "      <td>Santo Domingo</td>\n",
       "      <td>Santo Domingo de los Tsachilas</td>\n",
       "      <td>Work Day</td>\n",
       "      <td>197</td>\n",
       "    </tr>\n",
       "  </tbody>\n",
       "</table>\n",
       "<p>154 rows × 4 columns</p>\n",
       "</div>"
      ],
      "text/plain": [
       "              city                           state holiday_type  sales\n",
       "0           Ambato                      Tungurahua   Additional    527\n",
       "1           Ambato                      Tungurahua       Bridge    506\n",
       "2           Ambato                      Tungurahua        Event    397\n",
       "3           Ambato                      Tungurahua      Holiday    363\n",
       "4           Ambato                      Tungurahua   Normal Day    357\n",
       "..             ...                             ...          ...    ...\n",
       "149  Santo Domingo  Santo Domingo de los Tsachilas        Event    262\n",
       "150  Santo Domingo  Santo Domingo de los Tsachilas      Holiday    214\n",
       "151  Santo Domingo  Santo Domingo de los Tsachilas   Normal Day    211\n",
       "152  Santo Domingo  Santo Domingo de los Tsachilas     Transfer    286\n",
       "153  Santo Domingo  Santo Domingo de los Tsachilas     Work Day    197\n",
       "\n",
       "[154 rows x 4 columns]"
      ]
     },
     "execution_count": 163,
     "metadata": {},
     "output_type": "execute_result"
    }
   ],
   "source": [
    "city_state_holiday_sales = df.groupby(['city', 'state', 'holiday_type'])['sales'].mean().reset_index()\n",
    "city_state_holiday_sales"
   ]
  },
  {
   "cell_type": "markdown",
   "id": "13a4e228",
   "metadata": {},
   "source": [
    "### Is there a difference in sales between transferred holidays and non-transferred holidays?"
   ]
  },
  {
   "cell_type": "code",
   "execution_count": 164,
   "id": "5fd26d16",
   "metadata": {},
   "outputs": [
    {
     "name": "stdout",
     "output_type": "stream",
     "text": [
      "Transferred sales: 311.5602281117783, Non-transferred sales: 359.2714177512478\n"
     ]
    }
   ],
   "source": [
    "transferred_sales = df[df['transferred'] == 1]['sales'].mean()\n",
    "non_transferred_sales = df[df['transferred'] == 0]['sales'].mean()\n",
    "print(f\"Transferred sales: {transferred_sales}, Non-transferred sales: {non_transferred_sales}\")\n"
   ]
  },
  {
   "cell_type": "markdown",
   "id": "086087af",
   "metadata": {},
   "source": [
    "###  Do crisis periods reduce the usual holiday sales spike?"
   ]
  },
  {
   "cell_type": "code",
   "execution_count": 165,
   "id": "5f46baf4",
   "metadata": {},
   "outputs": [
    {
     "name": "stdout",
     "output_type": "stream",
     "text": [
      "Crisis holiday sales: 494.9040719977209, Non-crisis holiday sales: 381.385802875458\n"
     ]
    }
   ],
   "source": [
    "crisis_holiday_sales = df[(df['is_crisis'] == 1) & (df['is_holiday'] == 1)]['sales'].mean()\n",
    "non_crisis_holiday_sales = df[(df['is_crisis'] == 0) & (df['is_holiday'] == 1)]['sales'].mean()\n",
    "print(f\"Crisis holiday sales: {crisis_holiday_sales}, Non-crisis holiday sales: {non_crisis_holiday_sales}\")"
   ]
  },
  {
   "cell_type": "markdown",
   "id": "f27804e4",
   "metadata": {},
   "source": [
    "### Are weekend holidays (holidays falling on Saturday/Sunday) more profitable than weekday holidays?"
   ]
  },
  {
   "cell_type": "code",
   "execution_count": 166,
   "id": "187de0b3",
   "metadata": {},
   "outputs": [
    {
     "name": "stdout",
     "output_type": "stream",
     "text": [
      "Weekend holiday sales: 447.83476584036254, Weekday holiday sales: 354.4439809744127\n"
     ]
    }
   ],
   "source": [
    "df['is_weekend_holiday'] = (df['is_holiday'] == 1) & (df['day_of_week'].isin(['Saturday', 'Sunday']))\n",
    "weekend_holiday_sales = df[df['is_weekend_holiday'] == 1]['sales'].mean()\n",
    "weekday_holiday_sales = df[df['is_weekend_holiday'] == 0]['sales'].mean()\n",
    "print(f\"Weekend holiday sales: {weekend_holiday_sales}, Weekday holiday sales: {weekday_holiday_sales}\")"
   ]
  },
  {
   "cell_type": "markdown",
   "id": "3fdfd3e6",
   "metadata": {},
   "source": [
    "###  Which quarter has the highest number of holidays and how does that affect total sales?"
   ]
  },
  {
   "cell_type": "code",
   "execution_count": 167,
   "id": "0024aa2f",
   "metadata": {},
   "outputs": [
    {
     "data": {
      "text/html": [
       "<div>\n",
       "<style scoped>\n",
       "    .dataframe tbody tr th:only-of-type {\n",
       "        vertical-align: middle;\n",
       "    }\n",
       "\n",
       "    .dataframe tbody tr th {\n",
       "        vertical-align: top;\n",
       "    }\n",
       "\n",
       "    .dataframe thead th {\n",
       "        text-align: right;\n",
       "    }\n",
       "</style>\n",
       "<table border=\"1\" class=\"dataframe\">\n",
       "  <thead>\n",
       "    <tr style=\"text-align: right;\">\n",
       "      <th></th>\n",
       "      <th>quarter</th>\n",
       "      <th>is_holiday</th>\n",
       "      <th>sales</th>\n",
       "    </tr>\n",
       "  </thead>\n",
       "  <tbody>\n",
       "    <tr>\n",
       "      <th>0</th>\n",
       "      <td>1</td>\n",
       "      <td>0</td>\n",
       "      <td>258,703,353</td>\n",
       "    </tr>\n",
       "    <tr>\n",
       "      <th>1</th>\n",
       "      <td>1</td>\n",
       "      <td>1</td>\n",
       "      <td>13,604,515</td>\n",
       "    </tr>\n",
       "    <tr>\n",
       "      <th>2</th>\n",
       "      <td>2</td>\n",
       "      <td>0</td>\n",
       "      <td>215,526,817</td>\n",
       "    </tr>\n",
       "    <tr>\n",
       "      <th>3</th>\n",
       "      <td>2</td>\n",
       "      <td>1</td>\n",
       "      <td>76,571,987</td>\n",
       "    </tr>\n",
       "    <tr>\n",
       "      <th>4</th>\n",
       "      <td>3</td>\n",
       "      <td>0</td>\n",
       "      <td>230,369,980</td>\n",
       "    </tr>\n",
       "    <tr>\n",
       "      <th>5</th>\n",
       "      <td>3</td>\n",
       "      <td>1</td>\n",
       "      <td>38,570,033</td>\n",
       "    </tr>\n",
       "    <tr>\n",
       "      <th>6</th>\n",
       "      <td>4</td>\n",
       "      <td>0</td>\n",
       "      <td>194,048,098</td>\n",
       "    </tr>\n",
       "    <tr>\n",
       "      <th>7</th>\n",
       "      <td>4</td>\n",
       "      <td>1</td>\n",
       "      <td>69,179,961</td>\n",
       "    </tr>\n",
       "  </tbody>\n",
       "</table>\n",
       "</div>"
      ],
      "text/plain": [
       "   quarter  is_holiday       sales\n",
       "0        1           0 258,703,353\n",
       "1        1           1  13,604,515\n",
       "2        2           0 215,526,817\n",
       "3        2           1  76,571,987\n",
       "4        3           0 230,369,980\n",
       "5        3           1  38,570,033\n",
       "6        4           0 194,048,098\n",
       "7        4           1  69,179,961"
      ]
     },
     "execution_count": 167,
     "metadata": {},
     "output_type": "execute_result"
    }
   ],
   "source": [
    "quarter_holiday_sales = df.groupby(['quarter', 'is_holiday'])['sales'].sum().reset_index()\n",
    "quarter_holiday_sales"
   ]
  },
  {
   "cell_type": "markdown",
   "id": "42c4d673",
   "metadata": {},
   "source": [
    "### Is there a cumulative promotion , holiday effect?"
   ]
  },
  {
   "cell_type": "code",
   "execution_count": 168,
   "id": "c52a964e",
   "metadata": {},
   "outputs": [
    {
     "data": {
      "text/plain": [
       "1203.8338764363868"
      ]
     },
     "execution_count": 168,
     "metadata": {},
     "output_type": "execute_result"
    }
   ],
   "source": [
    "promo_holiday_sales_combined = df[(df['onpromotion'] > 0) & (df['is_holiday'] == 1)]['sales'].mean()\n",
    "promo_holiday_sales_combined"
   ]
  },
  {
   "cell_type": "markdown",
   "id": "116416cf",
   "metadata": {},
   "source": [
    "# 🌍 8. External Factors\n",
    "\n"
   ]
  },
  {
   "cell_type": "markdown",
   "id": "20aa7109",
   "metadata": {},
   "source": [
    "### Is there a correlation between oil prices (dcoilwtico) and sales behavior?\n"
   ]
  },
  {
   "cell_type": "code",
   "execution_count": 169,
   "id": "38527f11",
   "metadata": {},
   "outputs": [
    {
     "name": "stdout",
     "output_type": "stream",
     "text": [
      "Correlation between oil price and sales: -0.0750\n"
     ]
    }
   ],
   "source": [
    "\n",
    "oil_sales_corr = df[['dcoilwtico', 'sales']].corr().iloc[0, 1]\n",
    "print(f\"Correlation between oil price and sales: {oil_sales_corr:.4f}\")\n"
   ]
  },
  {
   "cell_type": "code",
   "execution_count": 170,
   "id": "f4852cca",
   "metadata": {},
   "outputs": [
    {
     "name": "stdout",
     "output_type": "stream",
     "text": [
      "Correlation between sales and sales_lag_7: 0.9310\n"
     ]
    }
   ],
   "source": [
    "\n",
    "lag_corr = df[['sales', 'sales_lag_7']].corr().iloc[0, 1]\n",
    "print(f\"Correlation between sales and sales_lag_7: {lag_corr:.4f}\")\n"
   ]
  },
  {
   "cell_type": "code",
   "execution_count": 171,
   "id": "aaa20cdf",
   "metadata": {},
   "outputs": [
    {
     "name": "stdout",
     "output_type": "stream",
     "text": [
      "Average Sales During Crisis: 494.90\n",
      "Average Sales Outside Crisis: 356.52\n",
      "Sales changed by 38.82% during crisis.\n"
     ]
    }
   ],
   "source": [
    "\n",
    "crisis_sales = df[df['is_crisis'] == 1]['sales'].mean()\n",
    "non_crisis_sales = df[df['is_crisis'] == 0]['sales'].mean()\n",
    "\n",
    "\n",
    "percent_change = ((crisis_sales - non_crisis_sales) / non_crisis_sales) * 100\n",
    "\n",
    "print(f\"Average Sales During Crisis: {crisis_sales:.2f}\")\n",
    "print(f\"Average Sales Outside Crisis: {non_crisis_sales:.2f}\")\n",
    "print(f\"Sales changed by {percent_change:.2f}% during crisis.\")\n"
   ]
  }
 ],
 "metadata": {
  "kernelspec": {
   "display_name": "sales_forecasting",
   "language": "python",
   "name": "python3"
  },
  "language_info": {
   "codemirror_mode": {
    "name": "ipython",
    "version": 3
   },
   "file_extension": ".py",
   "mimetype": "text/x-python",
   "name": "python",
   "nbconvert_exporter": "python",
   "pygments_lexer": "ipython3",
   "version": "3.9.21"
  }
 },
 "nbformat": 4,
 "nbformat_minor": 5
}
