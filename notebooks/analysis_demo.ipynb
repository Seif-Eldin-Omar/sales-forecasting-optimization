{
 "cells": [
  {
   "cell_type": "code",
   "execution_count": 74,
   "id": "f3289c08",
   "metadata": {},
   "outputs": [],
   "source": [
    "import pandas as pd\n",
    "import numpy as np\n",
    "pd.set_option('display.max_columns', None)\n",
    "pd.set_option('display.float_format', '{:,.0f}'.format)\n",
    "\n",
    "import warnings\n",
    "warnings.filterwarnings(\"ignore\")"
   ]
  },
  {
   "cell_type": "code",
   "execution_count": 75,
   "id": "169ffafe",
   "metadata": {},
   "outputs": [
    {
     "data": {
      "application/vnd.microsoft.datawrangler.viewer.v0+json": {
       "columns": [
        {
         "name": "index",
         "rawType": "int64",
         "type": "integer"
        },
        {
         "name": "date",
         "rawType": "datetime64[ns]",
         "type": "datetime"
        },
        {
         "name": "store_nbr",
         "rawType": "int64",
         "type": "integer"
        },
        {
         "name": "family",
         "rawType": "object",
         "type": "string"
        },
        {
         "name": "sales",
         "rawType": "float64",
         "type": "float"
        },
        {
         "name": "onpromotion",
         "rawType": "int64",
         "type": "integer"
        },
        {
         "name": "holiday_type",
         "rawType": "object",
         "type": "string"
        },
        {
         "name": "locale",
         "rawType": "object",
         "type": "string"
        },
        {
         "name": "transferred",
         "rawType": "bool",
         "type": "boolean"
        },
        {
         "name": "dcoilwtico",
         "rawType": "float64",
         "type": "float"
        },
        {
         "name": "city",
         "rawType": "object",
         "type": "string"
        },
        {
         "name": "state",
         "rawType": "object",
         "type": "string"
        },
        {
         "name": "store_type",
         "rawType": "object",
         "type": "string"
        },
        {
         "name": "cluster",
         "rawType": "int64",
         "type": "integer"
        },
        {
         "name": "transactions",
         "rawType": "float64",
         "type": "float"
        },
        {
         "name": "year",
         "rawType": "int64",
         "type": "integer"
        },
        {
         "name": "month",
         "rawType": "int64",
         "type": "integer"
        },
        {
         "name": "week",
         "rawType": "int64",
         "type": "integer"
        },
        {
         "name": "quarter",
         "rawType": "int64",
         "type": "integer"
        },
        {
         "name": "day_of_week",
         "rawType": "object",
         "type": "string"
        },
        {
         "name": "is_crisis",
         "rawType": "int64",
         "type": "integer"
        },
        {
         "name": "sales_lag_7",
         "rawType": "float64",
         "type": "float"
        },
        {
         "name": "rolling_mean_7",
         "rawType": "float64",
         "type": "float"
        },
        {
         "name": "is_weekend",
         "rawType": "int64",
         "type": "integer"
        },
        {
         "name": "is_holiday",
         "rawType": "int64",
         "type": "integer"
        },
        {
         "name": "promo_last_7_days",
         "rawType": "float64",
         "type": "float"
        }
       ],
       "conversionMethod": "pd.DataFrame",
       "ref": "3ac5a92d-3e59-4342-af23-f02ceef056a2",
       "rows": [
        [
         "0",
         "2013-01-01 00:00:00",
         "1",
         "AUTOMOTIVE",
         "0.0",
         "0",
         "Holiday",
         "National",
         "False",
         "93.14",
         "Quito",
         "Pichincha",
         "D",
         "13",
         "0.0",
         "2013",
         "1",
         "1",
         "1",
         "Tuesday",
         "0",
         "0.0",
         "0.0",
         "0",
         "1",
         "0.0"
        ],
        [
         "1",
         "2013-01-01 00:00:00",
         "1",
         "BABY CARE",
         "0.0",
         "0",
         "Holiday",
         "National",
         "False",
         "93.14",
         "Quito",
         "Pichincha",
         "D",
         "13",
         "0.0",
         "2013",
         "1",
         "1",
         "1",
         "Tuesday",
         "0",
         "0.0",
         "0.0",
         "0",
         "1",
         "0.0"
        ],
        [
         "2",
         "2013-01-01 00:00:00",
         "1",
         "BEAUTY",
         "0.0",
         "0",
         "Holiday",
         "National",
         "False",
         "93.14",
         "Quito",
         "Pichincha",
         "D",
         "13",
         "0.0",
         "2013",
         "1",
         "1",
         "1",
         "Tuesday",
         "0",
         "0.0",
         "0.0",
         "0",
         "1",
         "0.0"
        ],
        [
         "3",
         "2013-01-01 00:00:00",
         "1",
         "BEVERAGES",
         "0.0",
         "0",
         "Holiday",
         "National",
         "False",
         "93.14",
         "Quito",
         "Pichincha",
         "D",
         "13",
         "0.0",
         "2013",
         "1",
         "1",
         "1",
         "Tuesday",
         "0",
         "0.0",
         "0.0",
         "0",
         "1",
         "0.0"
        ],
        [
         "4",
         "2013-01-01 00:00:00",
         "1",
         "BOOKS",
         "0.0",
         "0",
         "Holiday",
         "National",
         "False",
         "93.14",
         "Quito",
         "Pichincha",
         "D",
         "13",
         "0.0",
         "2013",
         "1",
         "1",
         "1",
         "Tuesday",
         "0",
         "0.0",
         "0.0",
         "0",
         "1",
         "0.0"
        ]
       ],
       "shape": {
        "columns": 25,
        "rows": 5
       }
      },
      "text/html": [
       "<div>\n",
       "<style scoped>\n",
       "    .dataframe tbody tr th:only-of-type {\n",
       "        vertical-align: middle;\n",
       "    }\n",
       "\n",
       "    .dataframe tbody tr th {\n",
       "        vertical-align: top;\n",
       "    }\n",
       "\n",
       "    .dataframe thead th {\n",
       "        text-align: right;\n",
       "    }\n",
       "</style>\n",
       "<table border=\"1\" class=\"dataframe\">\n",
       "  <thead>\n",
       "    <tr style=\"text-align: right;\">\n",
       "      <th></th>\n",
       "      <th>date</th>\n",
       "      <th>store_nbr</th>\n",
       "      <th>family</th>\n",
       "      <th>sales</th>\n",
       "      <th>onpromotion</th>\n",
       "      <th>holiday_type</th>\n",
       "      <th>locale</th>\n",
       "      <th>transferred</th>\n",
       "      <th>dcoilwtico</th>\n",
       "      <th>city</th>\n",
       "      <th>state</th>\n",
       "      <th>store_type</th>\n",
       "      <th>cluster</th>\n",
       "      <th>transactions</th>\n",
       "      <th>year</th>\n",
       "      <th>month</th>\n",
       "      <th>week</th>\n",
       "      <th>quarter</th>\n",
       "      <th>day_of_week</th>\n",
       "      <th>is_crisis</th>\n",
       "      <th>sales_lag_7</th>\n",
       "      <th>rolling_mean_7</th>\n",
       "      <th>is_weekend</th>\n",
       "      <th>is_holiday</th>\n",
       "      <th>promo_last_7_days</th>\n",
       "    </tr>\n",
       "  </thead>\n",
       "  <tbody>\n",
       "    <tr>\n",
       "      <th>0</th>\n",
       "      <td>2013-01-01</td>\n",
       "      <td>1</td>\n",
       "      <td>AUTOMOTIVE</td>\n",
       "      <td>0</td>\n",
       "      <td>0</td>\n",
       "      <td>Holiday</td>\n",
       "      <td>National</td>\n",
       "      <td>False</td>\n",
       "      <td>93</td>\n",
       "      <td>Quito</td>\n",
       "      <td>Pichincha</td>\n",
       "      <td>D</td>\n",
       "      <td>13</td>\n",
       "      <td>0</td>\n",
       "      <td>2013</td>\n",
       "      <td>1</td>\n",
       "      <td>1</td>\n",
       "      <td>1</td>\n",
       "      <td>Tuesday</td>\n",
       "      <td>0</td>\n",
       "      <td>0</td>\n",
       "      <td>0</td>\n",
       "      <td>0</td>\n",
       "      <td>1</td>\n",
       "      <td>0</td>\n",
       "    </tr>\n",
       "    <tr>\n",
       "      <th>1</th>\n",
       "      <td>2013-01-01</td>\n",
       "      <td>1</td>\n",
       "      <td>BABY CARE</td>\n",
       "      <td>0</td>\n",
       "      <td>0</td>\n",
       "      <td>Holiday</td>\n",
       "      <td>National</td>\n",
       "      <td>False</td>\n",
       "      <td>93</td>\n",
       "      <td>Quito</td>\n",
       "      <td>Pichincha</td>\n",
       "      <td>D</td>\n",
       "      <td>13</td>\n",
       "      <td>0</td>\n",
       "      <td>2013</td>\n",
       "      <td>1</td>\n",
       "      <td>1</td>\n",
       "      <td>1</td>\n",
       "      <td>Tuesday</td>\n",
       "      <td>0</td>\n",
       "      <td>0</td>\n",
       "      <td>0</td>\n",
       "      <td>0</td>\n",
       "      <td>1</td>\n",
       "      <td>0</td>\n",
       "    </tr>\n",
       "    <tr>\n",
       "      <th>2</th>\n",
       "      <td>2013-01-01</td>\n",
       "      <td>1</td>\n",
       "      <td>BEAUTY</td>\n",
       "      <td>0</td>\n",
       "      <td>0</td>\n",
       "      <td>Holiday</td>\n",
       "      <td>National</td>\n",
       "      <td>False</td>\n",
       "      <td>93</td>\n",
       "      <td>Quito</td>\n",
       "      <td>Pichincha</td>\n",
       "      <td>D</td>\n",
       "      <td>13</td>\n",
       "      <td>0</td>\n",
       "      <td>2013</td>\n",
       "      <td>1</td>\n",
       "      <td>1</td>\n",
       "      <td>1</td>\n",
       "      <td>Tuesday</td>\n",
       "      <td>0</td>\n",
       "      <td>0</td>\n",
       "      <td>0</td>\n",
       "      <td>0</td>\n",
       "      <td>1</td>\n",
       "      <td>0</td>\n",
       "    </tr>\n",
       "    <tr>\n",
       "      <th>3</th>\n",
       "      <td>2013-01-01</td>\n",
       "      <td>1</td>\n",
       "      <td>BEVERAGES</td>\n",
       "      <td>0</td>\n",
       "      <td>0</td>\n",
       "      <td>Holiday</td>\n",
       "      <td>National</td>\n",
       "      <td>False</td>\n",
       "      <td>93</td>\n",
       "      <td>Quito</td>\n",
       "      <td>Pichincha</td>\n",
       "      <td>D</td>\n",
       "      <td>13</td>\n",
       "      <td>0</td>\n",
       "      <td>2013</td>\n",
       "      <td>1</td>\n",
       "      <td>1</td>\n",
       "      <td>1</td>\n",
       "      <td>Tuesday</td>\n",
       "      <td>0</td>\n",
       "      <td>0</td>\n",
       "      <td>0</td>\n",
       "      <td>0</td>\n",
       "      <td>1</td>\n",
       "      <td>0</td>\n",
       "    </tr>\n",
       "    <tr>\n",
       "      <th>4</th>\n",
       "      <td>2013-01-01</td>\n",
       "      <td>1</td>\n",
       "      <td>BOOKS</td>\n",
       "      <td>0</td>\n",
       "      <td>0</td>\n",
       "      <td>Holiday</td>\n",
       "      <td>National</td>\n",
       "      <td>False</td>\n",
       "      <td>93</td>\n",
       "      <td>Quito</td>\n",
       "      <td>Pichincha</td>\n",
       "      <td>D</td>\n",
       "      <td>13</td>\n",
       "      <td>0</td>\n",
       "      <td>2013</td>\n",
       "      <td>1</td>\n",
       "      <td>1</td>\n",
       "      <td>1</td>\n",
       "      <td>Tuesday</td>\n",
       "      <td>0</td>\n",
       "      <td>0</td>\n",
       "      <td>0</td>\n",
       "      <td>0</td>\n",
       "      <td>1</td>\n",
       "      <td>0</td>\n",
       "    </tr>\n",
       "  </tbody>\n",
       "</table>\n",
       "</div>"
      ],
      "text/plain": [
       "        date  store_nbr      family  sales  onpromotion holiday_type  \\\n",
       "0 2013-01-01          1  AUTOMOTIVE      0            0      Holiday   \n",
       "1 2013-01-01          1   BABY CARE      0            0      Holiday   \n",
       "2 2013-01-01          1      BEAUTY      0            0      Holiday   \n",
       "3 2013-01-01          1   BEVERAGES      0            0      Holiday   \n",
       "4 2013-01-01          1       BOOKS      0            0      Holiday   \n",
       "\n",
       "     locale  transferred  dcoilwtico   city      state store_type  cluster  \\\n",
       "0  National        False          93  Quito  Pichincha          D       13   \n",
       "1  National        False          93  Quito  Pichincha          D       13   \n",
       "2  National        False          93  Quito  Pichincha          D       13   \n",
       "3  National        False          93  Quito  Pichincha          D       13   \n",
       "4  National        False          93  Quito  Pichincha          D       13   \n",
       "\n",
       "   transactions  year  month  week  quarter day_of_week  is_crisis  \\\n",
       "0             0  2013      1     1        1     Tuesday          0   \n",
       "1             0  2013      1     1        1     Tuesday          0   \n",
       "2             0  2013      1     1        1     Tuesday          0   \n",
       "3             0  2013      1     1        1     Tuesday          0   \n",
       "4             0  2013      1     1        1     Tuesday          0   \n",
       "\n",
       "   sales_lag_7  rolling_mean_7  is_weekend  is_holiday  promo_last_7_days  \n",
       "0            0               0           0           1                  0  \n",
       "1            0               0           0           1                  0  \n",
       "2            0               0           0           1                  0  \n",
       "3            0               0           0           1                  0  \n",
       "4            0               0           0           1                  0  "
      ]
     },
     "execution_count": 75,
     "metadata": {},
     "output_type": "execute_result"
    }
   ],
   "source": [
    "df = pd.read_csv('../data/cleaned_data.csv')\n",
    "\n",
    "df['date'] = pd.to_datetime(df['date'])\n",
    "df.head()"
   ]
  },
  {
   "cell_type": "markdown",
   "id": "ce31c4ad",
   "metadata": {},
   "source": [
    "## 🔍 Question 1: How Have Total Sales Evolved Over Time?\n",
    "\n",
    "To understand the overall business trend, we calculated the total sales per day from the dataset."
   ]
  },
  {
   "cell_type": "code",
   "execution_count": 76,
   "id": "dd3c2182",
   "metadata": {},
   "outputs": [
    {
     "data": {
      "application/vnd.microsoft.datawrangler.viewer.v0+json": {
       "columns": [
        {
         "name": "index",
         "rawType": "int64",
         "type": "integer"
        },
        {
         "name": "date",
         "rawType": "datetime64[ns]",
         "type": "datetime"
        },
        {
         "name": "sales",
         "rawType": "float64",
         "type": "float"
        }
       ],
       "conversionMethod": "pd.DataFrame",
       "ref": "a311f27a-2c1d-4df7-ba50-c41a9f598534",
       "rows": [
        [
         "0",
         "2013-01-01 00:00:00",
         "2511.618999"
        ],
        [
         "1",
         "2013-01-02 00:00:00",
         "496092.417944"
        ],
        [
         "2",
         "2013-01-03 00:00:00",
         "361461.231124"
        ],
        [
         "3",
         "2013-01-04 00:00:00",
         "354459.6770927"
        ],
        [
         "4",
         "2013-01-05 00:00:00",
         "477350.121229"
        ],
        [
         "5",
         "2013-01-06 00:00:00",
         "519695.401088"
        ],
        [
         "6",
         "2013-01-07 00:00:00",
         "336122.801066"
        ],
        [
         "7",
         "2013-01-08 00:00:00",
         "318347.777981"
        ],
        [
         "8",
         "2013-01-09 00:00:00",
         "302530.809018"
        ],
        [
         "9",
         "2013-01-10 00:00:00",
         "258982.003049"
        ],
        [
         "10",
         "2013-01-11 00:00:00",
         "289737.6850845"
        ],
        [
         "11",
         "2013-01-12 00:00:00",
         "403258.2120105"
        ],
        [
         "12",
         "2013-01-13 00:00:00",
         "464638.547998"
        ],
        [
         "13",
         "2013-01-14 00:00:00",
         "293348.362078"
        ],
        [
         "14",
         "2013-01-15 00:00:00",
         "299129.549954"
        ],
        [
         "15",
         "2013-01-16 00:00:00",
         "318347.913946"
        ],
        [
         "16",
         "2013-01-17 00:00:00",
         "267498.5159755"
        ],
        [
         "17",
         "2013-01-18 00:00:00",
         "296130.850028"
        ],
        [
         "18",
         "2013-01-19 00:00:00",
         "432459.852021"
        ],
        [
         "19",
         "2013-01-20 00:00:00",
         "461092.386047"
        ],
        [
         "20",
         "2013-01-21 00:00:00",
         "311211.26595000003"
        ],
        [
         "21",
         "2013-01-22 00:00:00",
         "296214.728983"
        ],
        [
         "22",
         "2013-01-23 00:00:00",
         "283258.4530325"
        ],
        [
         "23",
         "2013-01-24 00:00:00",
         "247245.690995"
        ],
        [
         "24",
         "2013-01-25 00:00:00",
         "290022.77193"
        ],
        [
         "25",
         "2013-01-26 00:00:00",
         "413799.7679753"
        ],
        [
         "26",
         "2013-01-27 00:00:00",
         "430411.991233"
        ],
        [
         "27",
         "2013-01-28 00:00:00",
         "285460.169953"
        ],
        [
         "28",
         "2013-01-29 00:00:00",
         "264488.81807649997"
        ],
        [
         "29",
         "2013-01-30 00:00:00",
         "281061.127052"
        ],
        [
         "30",
         "2013-01-31 00:00:00",
         "271254.217996"
        ],
        [
         "31",
         "2013-02-01 00:00:00",
         "369402.055266"
        ],
        [
         "32",
         "2013-02-02 00:00:00",
         "518887.462705"
        ],
        [
         "33",
         "2013-02-03 00:00:00",
         "486336.82018"
        ],
        [
         "34",
         "2013-02-04 00:00:00",
         "344308.715017"
        ],
        [
         "35",
         "2013-02-05 00:00:00",
         "321245.83913"
        ],
        [
         "36",
         "2013-02-06 00:00:00",
         "321538.177149"
        ],
        [
         "37",
         "2013-02-07 00:00:00",
         "290807.530973"
        ],
        [
         "38",
         "2013-02-08 00:00:00",
         "347441.789912"
        ],
        [
         "39",
         "2013-02-09 00:00:00",
         "416176.2790747"
        ],
        [
         "40",
         "2013-02-10 00:00:00",
         "300951.328993"
        ],
        [
         "41",
         "2013-02-11 00:00:00",
         "278627.588926"
        ],
        [
         "42",
         "2013-02-12 00:00:00",
         "308800.7909121"
        ],
        [
         "43",
         "2013-02-13 00:00:00",
         "319597.929962"
        ],
        [
         "44",
         "2013-02-14 00:00:00",
         "308164.016957"
        ],
        [
         "45",
         "2013-02-15 00:00:00",
         "320168.883912"
        ],
        [
         "46",
         "2013-02-16 00:00:00",
         "485660.494008"
        ],
        [
         "47",
         "2013-02-17 00:00:00",
         "399588.910014"
        ],
        [
         "48",
         "2013-02-18 00:00:00",
         "350745.573191"
        ],
        [
         "49",
         "2013-02-19 00:00:00",
         "293637.801951"
        ]
       ],
       "shape": {
        "columns": 2,
        "rows": 1684
       }
      },
      "text/html": [
       "<div>\n",
       "<style scoped>\n",
       "    .dataframe tbody tr th:only-of-type {\n",
       "        vertical-align: middle;\n",
       "    }\n",
       "\n",
       "    .dataframe tbody tr th {\n",
       "        vertical-align: top;\n",
       "    }\n",
       "\n",
       "    .dataframe thead th {\n",
       "        text-align: right;\n",
       "    }\n",
       "</style>\n",
       "<table border=\"1\" class=\"dataframe\">\n",
       "  <thead>\n",
       "    <tr style=\"text-align: right;\">\n",
       "      <th></th>\n",
       "      <th>date</th>\n",
       "      <th>sales</th>\n",
       "    </tr>\n",
       "  </thead>\n",
       "  <tbody>\n",
       "    <tr>\n",
       "      <th>0</th>\n",
       "      <td>2013-01-01</td>\n",
       "      <td>2,512</td>\n",
       "    </tr>\n",
       "    <tr>\n",
       "      <th>1</th>\n",
       "      <td>2013-01-02</td>\n",
       "      <td>496,092</td>\n",
       "    </tr>\n",
       "    <tr>\n",
       "      <th>2</th>\n",
       "      <td>2013-01-03</td>\n",
       "      <td>361,461</td>\n",
       "    </tr>\n",
       "    <tr>\n",
       "      <th>3</th>\n",
       "      <td>2013-01-04</td>\n",
       "      <td>354,460</td>\n",
       "    </tr>\n",
       "    <tr>\n",
       "      <th>4</th>\n",
       "      <td>2013-01-05</td>\n",
       "      <td>477,350</td>\n",
       "    </tr>\n",
       "    <tr>\n",
       "      <th>...</th>\n",
       "      <td>...</td>\n",
       "      <td>...</td>\n",
       "    </tr>\n",
       "    <tr>\n",
       "      <th>1679</th>\n",
       "      <td>2017-08-11</td>\n",
       "      <td>826,374</td>\n",
       "    </tr>\n",
       "    <tr>\n",
       "      <th>1680</th>\n",
       "      <td>2017-08-12</td>\n",
       "      <td>792,631</td>\n",
       "    </tr>\n",
       "    <tr>\n",
       "      <th>1681</th>\n",
       "      <td>2017-08-13</td>\n",
       "      <td>865,640</td>\n",
       "    </tr>\n",
       "    <tr>\n",
       "      <th>1682</th>\n",
       "      <td>2017-08-14</td>\n",
       "      <td>760,922</td>\n",
       "    </tr>\n",
       "    <tr>\n",
       "      <th>1683</th>\n",
       "      <td>2017-08-15</td>\n",
       "      <td>762,662</td>\n",
       "    </tr>\n",
       "  </tbody>\n",
       "</table>\n",
       "<p>1684 rows × 2 columns</p>\n",
       "</div>"
      ],
      "text/plain": [
       "           date   sales\n",
       "0    2013-01-01   2,512\n",
       "1    2013-01-02 496,092\n",
       "2    2013-01-03 361,461\n",
       "3    2013-01-04 354,460\n",
       "4    2013-01-05 477,350\n",
       "...         ...     ...\n",
       "1679 2017-08-11 826,374\n",
       "1680 2017-08-12 792,631\n",
       "1681 2017-08-13 865,640\n",
       "1682 2017-08-14 760,922\n",
       "1683 2017-08-15 762,662\n",
       "\n",
       "[1684 rows x 2 columns]"
      ]
     },
     "execution_count": 76,
     "metadata": {},
     "output_type": "execute_result"
    }
   ],
   "source": [
    "sales_over_time = df.groupby('date')['sales'].sum().reset_index()\n",
    "sales_over_time"
   ]
  },
  {
   "cell_type": "markdown",
   "id": "a91150ae",
   "metadata": {},
   "source": [
    "### Key Findings:\n",
    "- Daily sales range from as low as ~2.5K to over 860K in some peak days.\n",
    "- There is a clear upward trend in daily revenue, with seasonal fluctuations likely present (to be analyzed in later steps)."
   ]
  },
  {
   "cell_type": "markdown",
   "id": "f5dcc5b0",
   "metadata": {},
   "source": [
    "> Corresponding plots will be in cell `4` in `visualization_demo.ipynb`"
   ]
  },
  {
   "cell_type": "markdown",
   "id": "b0db5ccc",
   "metadata": {},
   "source": [
    "## 🔍 2. Which products or categories contribute the most to total revenue?\n",
    "\n",
    "Based on the total sales data, the following products or categories contribute the most to the total revenue:"
   ]
  },
  {
   "cell_type": "code",
   "execution_count": 77,
   "id": "eb428367",
   "metadata": {},
   "outputs": [
    {
     "data": {
      "text/plain": [
       "family\n",
       "GROCERY I             350,827,298\n",
       "BEVERAGES             221,663,540\n",
       "PRODUCE               125,447,968\n",
       "CLEANING               99,421,019\n",
       "DAIRY                  65,823,605\n",
       "BREAD/BAKERY           42,959,924\n",
       "POULTRY                32,494,451\n",
       "MEATS                  31,650,996\n",
       "PERSONAL CARE          25,100,482\n",
       "DELI                   24,585,627\n",
       "HOME CARE              16,409,522\n",
       "EGGS                   15,881,196\n",
       "FROZEN FOODS           14,646,940\n",
       "PREPARED FOODS          8,966,728\n",
       "LIQUOR,WINE,BEER        7,937,172\n",
       "SEAFOOD                 2,051,636\n",
       "GROCERY II              2,004,966\n",
       "HOME AND KITCHEN I      1,905,076\n",
       "HOME AND KITCHEN II     1,556,511\n",
       "CELEBRATION               779,502\n",
       "Name: sales, dtype: float64"
      ]
     },
     "execution_count": 77,
     "metadata": {},
     "output_type": "execute_result"
    }
   ],
   "source": [
    "top_products = df.groupby('family')['sales'].sum().sort_values(ascending=False).head(20)\n",
    "top_products"
   ]
  },
  {
   "cell_type": "markdown",
   "id": "3d22df12",
   "metadata": {},
   "source": [
    "1. **GROCERY I**: $350,827,298\n",
    "2. **BEVERAGES**: $221,663,540\n",
    "3. **PRODUCE**: $125,447,968\n",
    "4. **CLEANING**: $99,421,019\n",
    "5. **DAIRY**: $65,823,605\n",
    "\n",
    "These categories make up the bulk of the revenue, with **GROCERY I** leading by a significant margin. The top five categories contribute substantially to the overall sales, while the remaining categories (such as **CELEBRATION** and **HOME AND KITCHEN II**) have relatively smaller contributions.\n",
    "\n",
    "In the analysis, we can observe that categories related to essential products (like groceries, beverages, and produce) lead in sales, which might reflect consistent consumer demand. Further analysis could explore seasonality and trends within these top categories."
   ]
  },
  {
   "cell_type": "markdown",
   "id": "6e968fc8",
   "metadata": {},
   "source": [
    "> Corresponding plots will be in cell `6` in `visualization_demo.ipynb`"
   ]
  },
  {
   "cell_type": "markdown",
   "id": "dff48e7f",
   "metadata": {},
   "source": [
    "## 🔍 3. Which stores, cities, or states are the top performers in terms of revenue?"
   ]
  },
  {
   "cell_type": "code",
   "execution_count": 78,
   "id": "1643b6c9",
   "metadata": {},
   "outputs": [
    {
     "name": "stdout",
     "output_type": "stream",
     "text": [
      "Top Stores by Revenue:\n",
      "store_nbr\n",
      "44   63,356,137\n",
      "45   55,689,022\n",
      "47   52,024,476\n",
      "3    51,533,528\n",
      "49   44,346,823\n",
      "Name: sales, dtype: float64\n",
      "\n",
      " \n",
      "Top Cities by Revenue:\n",
      "city\n",
      "Quito           568,679,349\n",
      "Guayaquil       125,572,186\n",
      "Cuenca           50,194,046\n",
      "Ambato           41,159,773\n",
      "Santo Domingo    36,617,572\n",
      "Name: sales, dtype: float64\n",
      "\n",
      " \n",
      "Top States by Revenue:\n",
      "state\n",
      "Pichincha                        597,585,883\n",
      "Guayas                           168,649,985\n",
      "Azuay                             50,194,046\n",
      "Tungurahua                        41,159,773\n",
      "Santo Domingo de los Tsachilas    36,617,572\n",
      "Name: sales, dtype: float64\n"
     ]
    }
   ],
   "source": [
    "top_stores = df.groupby('store_nbr')['sales'].sum().sort_values(ascending=False)\n",
    "top_cities = df.groupby('city')['sales'].sum().sort_values(ascending=False)\n",
    "top_regions = df.groupby('state')['sales'].sum().sort_values(ascending=False)\n",
    "\n",
    "print(\"Top Stores by Revenue:\")\n",
    "print(top_stores.head())  \n",
    "\n",
    "print(\"\\n \\nTop Cities by Revenue:\")\n",
    "print(top_cities.head()) \n",
    "\n",
    "print(\"\\n \\nTop States by Revenue:\")\n",
    "print(top_regions.head()) "
   ]
  },
  {
   "cell_type": "markdown",
   "id": "31a41cef",
   "metadata": {},
   "source": [
    "Based on the total sales data, the following stores, cities, and regions are the top performers:\n",
    "\n",
    "### **Top Stores by Revenue:**\n",
    "1. **Store 44**: $63,356,137\n",
    "2. **Store 45**: $55,689,022\n",
    "3. **Store 47**: $52,024,476\n",
    "4. **Store 3**: $51,533,528\n",
    "5. **Store 49**: $44,346,823\n",
    "\n",
    "### **Top Cities by Revenue:**\n",
    "1. **Quito**: $568,679,349\n",
    "2. **Guayaquil**: $125,572,186\n",
    "3. **Cuenca**: $50,194,046\n",
    "4. **Ambato**: $41,159,773\n",
    "5. **Santo Domingo**: $36,617,572\n",
    "\n",
    "### **Top States by Revenue:**\n",
    "1. **Pichincha**: $597,585,883\n",
    "2. **Guayas**: $168,649,985\n",
    "3. **Azuay**: $50,194,046\n",
    "4. **Tungurahua**: $41,159,773\n",
    "5. **Santo Domingo de los Tsachilas**: $36,617,572\n",
    "\n",
    "These top performers highlight the most significant contributors to revenue, with **Quito** leading at the city level and **Pichincha** being the highest-performing state. In terms of stores, Store 44 generates the highest revenue.\n",
    "\n",
    "This analysis can help identify key areas for growth and focus, particularly in high-revenue cities and states."
   ]
  },
  {
   "cell_type": "markdown",
   "id": "f8f7d1b7",
   "metadata": {},
   "source": [
    "## 🔍 4. What is the average order size across stores, regions, and categories?"
   ]
  },
  {
   "cell_type": "code",
   "execution_count": 79,
   "id": "680546cf",
   "metadata": {},
   "outputs": [
    {
     "data": {
      "text/plain": [
       "dtype('float64')"
      ]
     },
     "execution_count": 79,
     "metadata": {},
     "output_type": "execute_result"
    }
   ],
   "source": [
    "df['transactions'].dtype"
   ]
  },
  {
   "cell_type": "code",
   "execution_count": 80,
   "id": "5edc605e",
   "metadata": {},
   "outputs": [
    {
     "name": "stdout",
     "output_type": "stream",
     "text": [
      "Average Order Size by Store:\n",
      "store_nbr\n",
      "51   0\n",
      "42   0\n",
      "21   0\n",
      "29   0\n",
      "52   0\n",
      "dtype: float64\n",
      "\n",
      "Average Order Size by Region:\n",
      "state\n",
      "Azuay      0\n",
      "Manabi     0\n",
      "El Oro     0\n",
      "Pastaza    0\n",
      "Los Rios   0\n",
      "dtype: float64\n",
      "\n",
      "Average Order Size by Category:\n",
      "family\n",
      "GROCERY I   2\n",
      "BEVERAGES   2\n",
      "PRODUCE     1\n",
      "CLEANING    1\n",
      "DAIRY       0\n",
      "dtype: float64\n"
     ]
    }
   ],
   "source": [
    "df_filtered = df[df['transactions'] > 0]\n",
    "\n",
    "avg_order_size_store = df_filtered.groupby('store_nbr').apply(lambda x: x['sales'].sum() / x['transactions'].sum()).sort_values(ascending=False)\n",
    "avg_order_size_region = df_filtered.groupby('state').apply(lambda x: x['sales'].sum() / x['transactions'].sum()).sort_values(ascending=False)\n",
    "avg_order_size_category = df_filtered.groupby('family').apply(lambda x: x['sales'].sum() / x['transactions'].sum()).sort_values(ascending=False)\n",
    "\n",
    "print(\"Average Order Size by Store:\")\n",
    "print(avg_order_size_store.head())  \n",
    "\n",
    "print(\"\\nAverage Order Size by Region:\")\n",
    "print(avg_order_size_region.head()) \n",
    "\n",
    "print(\"\\nAverage Order Size by Category:\")\n",
    "print(avg_order_size_category.head())  "
   ]
  },
  {
   "cell_type": "code",
   "execution_count": 81,
   "id": "9ebaf2e8",
   "metadata": {},
   "outputs": [
    {
     "data": {
      "text/plain": [
       "Index(['date', 'store_nbr', 'family', 'sales', 'onpromotion', 'holiday_type',\n",
       "       'locale', 'transferred', 'dcoilwtico', 'city', 'state', 'store_type',\n",
       "       'cluster', 'transactions', 'year', 'month', 'week', 'quarter',\n",
       "       'day_of_week', 'is_crisis', 'sales_lag_7', 'rolling_mean_7',\n",
       "       'is_weekend', 'is_holiday', 'promo_last_7_days'],\n",
       "      dtype='object')"
      ]
     },
     "execution_count": 81,
     "metadata": {},
     "output_type": "execute_result"
    }
   ],
   "source": [
    "df.columns"
   ]
  },
  {
   "cell_type": "markdown",
   "id": "a28138d5",
   "metadata": {},
   "source": [
    "# 📊5. Are there noticeable weekly, monthly, or quarterly seasonality patterns in sales?\n",
    "\n",
    "\n"
   ]
  },
  {
   "cell_type": "code",
   "execution_count": 82,
   "id": "d921a758",
   "metadata": {},
   "outputs": [],
   "source": [
    "day_order = ['Monday', 'Tuesday', 'Wednesday', 'Thursday', 'Friday', 'Saturday', 'Sunday']"
   ]
  },
  {
   "cell_type": "markdown",
   "id": "334e9eff",
   "metadata": {},
   "source": [
    "### What are the trends in sales per day of the week?\n"
   ]
  },
  {
   "cell_type": "code",
   "execution_count": 83,
   "id": "e1cce815",
   "metadata": {},
   "outputs": [
    {
     "data": {
      "text/plain": [
       "day_of_week\n",
       "Monday      348\n",
       "Tuesday     320\n",
       "Wednesday   331\n",
       "Thursday    287\n",
       "Friday      327\n",
       "Saturday    435\n",
       "Sunday      465\n",
       "Name: sales, dtype: float64"
      ]
     },
     "execution_count": 83,
     "metadata": {},
     "output_type": "execute_result"
    }
   ],
   "source": [
    "avg_sales_by_day = df.groupby('day_of_week')['sales'].mean().reindex(day_order)\n",
    "avg_sales_by_day"
   ]
  },
  {
   "cell_type": "markdown",
   "id": "9e6b1d0e",
   "metadata": {},
   "source": [
    "### What are the trends in sales per week?"
   ]
  },
  {
   "cell_type": "code",
   "execution_count": 84,
   "id": "5406d877",
   "metadata": {},
   "outputs": [
    {
     "data": {
      "application/vnd.microsoft.datawrangler.viewer.v0+json": {
       "columns": [
        {
         "name": "index",
         "rawType": "int64",
         "type": "integer"
        },
        {
         "name": "week",
         "rawType": "int64",
         "type": "integer"
        },
        {
         "name": "sales",
         "rawType": "float64",
         "type": "float"
        }
       ],
       "conversionMethod": "pd.DataFrame",
       "ref": "c9f4a3e9-ffe2-4f51-8969-c4a63afc2919",
       "rows": [
        [
         "0",
         "1",
         "409.09951933767576"
        ],
        [
         "1",
         "2",
         "347.5346426442376"
        ],
        [
         "2",
         "3",
         "338.142199154778"
        ],
        [
         "3",
         "4",
         "329.1862579904537"
        ],
        [
         "4",
         "5",
         "344.19523331887285"
        ],
        [
         "5",
         "6",
         "320.0775057355636"
        ],
        [
         "6",
         "7",
         "310.37708371353375"
        ],
        [
         "7",
         "8",
         "311.92647791631236"
        ],
        [
         "8",
         "9",
         "358.230978284042"
        ],
        [
         "9",
         "10",
         "358.62361170898345"
        ],
        [
         "10",
         "11",
         "342.9734550356646"
        ],
        [
         "11",
         "12",
         "338.3864740723457"
        ],
        [
         "12",
         "13",
         "360.5054993898172"
        ],
        [
         "13",
         "14",
         "350.15422445769923"
        ],
        [
         "14",
         "15",
         "323.47142463536596"
        ],
        [
         "15",
         "16",
         "363.09567066038"
        ],
        [
         "16",
         "17",
         "333.4531208674803"
        ],
        [
         "17",
         "18",
         "374.12684548092943"
        ],
        [
         "18",
         "19",
         "324.733491146545"
        ],
        [
         "19",
         "20",
         "334.44129938622257"
        ],
        [
         "20",
         "21",
         "321.08043404279783"
        ],
        [
         "21",
         "22",
         "367.7097326432243"
        ],
        [
         "22",
         "23",
         "368.58918754473143"
        ],
        [
         "23",
         "24",
         "342.2137057435578"
        ],
        [
         "24",
         "25",
         "364.81451011131975"
        ],
        [
         "25",
         "26",
         "337.1573289794613"
        ],
        [
         "26",
         "27",
         "397.5257797727431"
        ],
        [
         "27",
         "28",
         "361.95173993006097"
        ],
        [
         "28",
         "29",
         "361.4197975866894"
        ],
        [
         "29",
         "30",
         "359.56581542694244"
        ],
        [
         "30",
         "31",
         "384.20340359099083"
        ],
        [
         "31",
         "32",
         "334.67387222844155"
        ],
        [
         "32",
         "33",
         "327.4667286718294"
        ],
        [
         "33",
         "34",
         "306.5800544635502"
        ],
        [
         "34",
         "35",
         "333.584232059608"
        ],
        [
         "35",
         "36",
         "400.2593379902938"
        ],
        [
         "36",
         "37",
         "352.5943541244609"
        ],
        [
         "37",
         "38",
         "351.48499803971055"
        ],
        [
         "38",
         "39",
         "354.1693747029962"
        ],
        [
         "39",
         "40",
         "400.3141742718074"
        ],
        [
         "40",
         "41",
         "362.2317358426928"
        ],
        [
         "41",
         "42",
         "354.9436057793912"
        ],
        [
         "42",
         "43",
         "339.6100186593855"
        ],
        [
         "43",
         "44",
         "358.76225027527255"
        ],
        [
         "44",
         "45",
         "407.34652516282944"
        ],
        [
         "45",
         "46",
         "361.5766698353095"
        ],
        [
         "46",
         "47",
         "358.6915651121432"
        ],
        [
         "47",
         "48",
         "378.55045032703225"
        ],
        [
         "48",
         "49",
         "417.32057941901155"
        ],
        [
         "49",
         "50",
         "412.93596449636044"
        ]
       ],
       "shape": {
        "columns": 2,
        "rows": 53
       }
      },
      "text/html": [
       "<div>\n",
       "<style scoped>\n",
       "    .dataframe tbody tr th:only-of-type {\n",
       "        vertical-align: middle;\n",
       "    }\n",
       "\n",
       "    .dataframe tbody tr th {\n",
       "        vertical-align: top;\n",
       "    }\n",
       "\n",
       "    .dataframe thead th {\n",
       "        text-align: right;\n",
       "    }\n",
       "</style>\n",
       "<table border=\"1\" class=\"dataframe\">\n",
       "  <thead>\n",
       "    <tr style=\"text-align: right;\">\n",
       "      <th></th>\n",
       "      <th>week</th>\n",
       "      <th>sales</th>\n",
       "    </tr>\n",
       "  </thead>\n",
       "  <tbody>\n",
       "    <tr>\n",
       "      <th>0</th>\n",
       "      <td>1</td>\n",
       "      <td>409</td>\n",
       "    </tr>\n",
       "    <tr>\n",
       "      <th>1</th>\n",
       "      <td>2</td>\n",
       "      <td>348</td>\n",
       "    </tr>\n",
       "    <tr>\n",
       "      <th>2</th>\n",
       "      <td>3</td>\n",
       "      <td>338</td>\n",
       "    </tr>\n",
       "    <tr>\n",
       "      <th>3</th>\n",
       "      <td>4</td>\n",
       "      <td>329</td>\n",
       "    </tr>\n",
       "    <tr>\n",
       "      <th>4</th>\n",
       "      <td>5</td>\n",
       "      <td>344</td>\n",
       "    </tr>\n",
       "    <tr>\n",
       "      <th>5</th>\n",
       "      <td>6</td>\n",
       "      <td>320</td>\n",
       "    </tr>\n",
       "    <tr>\n",
       "      <th>6</th>\n",
       "      <td>7</td>\n",
       "      <td>310</td>\n",
       "    </tr>\n",
       "    <tr>\n",
       "      <th>7</th>\n",
       "      <td>8</td>\n",
       "      <td>312</td>\n",
       "    </tr>\n",
       "    <tr>\n",
       "      <th>8</th>\n",
       "      <td>9</td>\n",
       "      <td>358</td>\n",
       "    </tr>\n",
       "    <tr>\n",
       "      <th>9</th>\n",
       "      <td>10</td>\n",
       "      <td>359</td>\n",
       "    </tr>\n",
       "    <tr>\n",
       "      <th>10</th>\n",
       "      <td>11</td>\n",
       "      <td>343</td>\n",
       "    </tr>\n",
       "    <tr>\n",
       "      <th>11</th>\n",
       "      <td>12</td>\n",
       "      <td>338</td>\n",
       "    </tr>\n",
       "    <tr>\n",
       "      <th>12</th>\n",
       "      <td>13</td>\n",
       "      <td>361</td>\n",
       "    </tr>\n",
       "    <tr>\n",
       "      <th>13</th>\n",
       "      <td>14</td>\n",
       "      <td>350</td>\n",
       "    </tr>\n",
       "    <tr>\n",
       "      <th>14</th>\n",
       "      <td>15</td>\n",
       "      <td>323</td>\n",
       "    </tr>\n",
       "    <tr>\n",
       "      <th>15</th>\n",
       "      <td>16</td>\n",
       "      <td>363</td>\n",
       "    </tr>\n",
       "    <tr>\n",
       "      <th>16</th>\n",
       "      <td>17</td>\n",
       "      <td>333</td>\n",
       "    </tr>\n",
       "    <tr>\n",
       "      <th>17</th>\n",
       "      <td>18</td>\n",
       "      <td>374</td>\n",
       "    </tr>\n",
       "    <tr>\n",
       "      <th>18</th>\n",
       "      <td>19</td>\n",
       "      <td>325</td>\n",
       "    </tr>\n",
       "    <tr>\n",
       "      <th>19</th>\n",
       "      <td>20</td>\n",
       "      <td>334</td>\n",
       "    </tr>\n",
       "    <tr>\n",
       "      <th>20</th>\n",
       "      <td>21</td>\n",
       "      <td>321</td>\n",
       "    </tr>\n",
       "    <tr>\n",
       "      <th>21</th>\n",
       "      <td>22</td>\n",
       "      <td>368</td>\n",
       "    </tr>\n",
       "    <tr>\n",
       "      <th>22</th>\n",
       "      <td>23</td>\n",
       "      <td>369</td>\n",
       "    </tr>\n",
       "    <tr>\n",
       "      <th>23</th>\n",
       "      <td>24</td>\n",
       "      <td>342</td>\n",
       "    </tr>\n",
       "    <tr>\n",
       "      <th>24</th>\n",
       "      <td>25</td>\n",
       "      <td>365</td>\n",
       "    </tr>\n",
       "    <tr>\n",
       "      <th>25</th>\n",
       "      <td>26</td>\n",
       "      <td>337</td>\n",
       "    </tr>\n",
       "    <tr>\n",
       "      <th>26</th>\n",
       "      <td>27</td>\n",
       "      <td>398</td>\n",
       "    </tr>\n",
       "    <tr>\n",
       "      <th>27</th>\n",
       "      <td>28</td>\n",
       "      <td>362</td>\n",
       "    </tr>\n",
       "    <tr>\n",
       "      <th>28</th>\n",
       "      <td>29</td>\n",
       "      <td>361</td>\n",
       "    </tr>\n",
       "    <tr>\n",
       "      <th>29</th>\n",
       "      <td>30</td>\n",
       "      <td>360</td>\n",
       "    </tr>\n",
       "    <tr>\n",
       "      <th>30</th>\n",
       "      <td>31</td>\n",
       "      <td>384</td>\n",
       "    </tr>\n",
       "    <tr>\n",
       "      <th>31</th>\n",
       "      <td>32</td>\n",
       "      <td>335</td>\n",
       "    </tr>\n",
       "    <tr>\n",
       "      <th>32</th>\n",
       "      <td>33</td>\n",
       "      <td>327</td>\n",
       "    </tr>\n",
       "    <tr>\n",
       "      <th>33</th>\n",
       "      <td>34</td>\n",
       "      <td>307</td>\n",
       "    </tr>\n",
       "    <tr>\n",
       "      <th>34</th>\n",
       "      <td>35</td>\n",
       "      <td>334</td>\n",
       "    </tr>\n",
       "    <tr>\n",
       "      <th>35</th>\n",
       "      <td>36</td>\n",
       "      <td>400</td>\n",
       "    </tr>\n",
       "    <tr>\n",
       "      <th>36</th>\n",
       "      <td>37</td>\n",
       "      <td>353</td>\n",
       "    </tr>\n",
       "    <tr>\n",
       "      <th>37</th>\n",
       "      <td>38</td>\n",
       "      <td>351</td>\n",
       "    </tr>\n",
       "    <tr>\n",
       "      <th>38</th>\n",
       "      <td>39</td>\n",
       "      <td>354</td>\n",
       "    </tr>\n",
       "    <tr>\n",
       "      <th>39</th>\n",
       "      <td>40</td>\n",
       "      <td>400</td>\n",
       "    </tr>\n",
       "    <tr>\n",
       "      <th>40</th>\n",
       "      <td>41</td>\n",
       "      <td>362</td>\n",
       "    </tr>\n",
       "    <tr>\n",
       "      <th>41</th>\n",
       "      <td>42</td>\n",
       "      <td>355</td>\n",
       "    </tr>\n",
       "    <tr>\n",
       "      <th>42</th>\n",
       "      <td>43</td>\n",
       "      <td>340</td>\n",
       "    </tr>\n",
       "    <tr>\n",
       "      <th>43</th>\n",
       "      <td>44</td>\n",
       "      <td>359</td>\n",
       "    </tr>\n",
       "    <tr>\n",
       "      <th>44</th>\n",
       "      <td>45</td>\n",
       "      <td>407</td>\n",
       "    </tr>\n",
       "    <tr>\n",
       "      <th>45</th>\n",
       "      <td>46</td>\n",
       "      <td>362</td>\n",
       "    </tr>\n",
       "    <tr>\n",
       "      <th>46</th>\n",
       "      <td>47</td>\n",
       "      <td>359</td>\n",
       "    </tr>\n",
       "    <tr>\n",
       "      <th>47</th>\n",
       "      <td>48</td>\n",
       "      <td>379</td>\n",
       "    </tr>\n",
       "    <tr>\n",
       "      <th>48</th>\n",
       "      <td>49</td>\n",
       "      <td>417</td>\n",
       "    </tr>\n",
       "    <tr>\n",
       "      <th>49</th>\n",
       "      <td>50</td>\n",
       "      <td>413</td>\n",
       "    </tr>\n",
       "    <tr>\n",
       "      <th>50</th>\n",
       "      <td>51</td>\n",
       "      <td>484</td>\n",
       "    </tr>\n",
       "    <tr>\n",
       "      <th>51</th>\n",
       "      <td>52</td>\n",
       "      <td>483</td>\n",
       "    </tr>\n",
       "    <tr>\n",
       "      <th>52</th>\n",
       "      <td>53</td>\n",
       "      <td>478</td>\n",
       "    </tr>\n",
       "  </tbody>\n",
       "</table>\n",
       "</div>"
      ],
      "text/plain": [
       "    week  sales\n",
       "0      1    409\n",
       "1      2    348\n",
       "2      3    338\n",
       "3      4    329\n",
       "4      5    344\n",
       "5      6    320\n",
       "6      7    310\n",
       "7      8    312\n",
       "8      9    358\n",
       "9     10    359\n",
       "10    11    343\n",
       "11    12    338\n",
       "12    13    361\n",
       "13    14    350\n",
       "14    15    323\n",
       "15    16    363\n",
       "16    17    333\n",
       "17    18    374\n",
       "18    19    325\n",
       "19    20    334\n",
       "20    21    321\n",
       "21    22    368\n",
       "22    23    369\n",
       "23    24    342\n",
       "24    25    365\n",
       "25    26    337\n",
       "26    27    398\n",
       "27    28    362\n",
       "28    29    361\n",
       "29    30    360\n",
       "30    31    384\n",
       "31    32    335\n",
       "32    33    327\n",
       "33    34    307\n",
       "34    35    334\n",
       "35    36    400\n",
       "36    37    353\n",
       "37    38    351\n",
       "38    39    354\n",
       "39    40    400\n",
       "40    41    362\n",
       "41    42    355\n",
       "42    43    340\n",
       "43    44    359\n",
       "44    45    407\n",
       "45    46    362\n",
       "46    47    359\n",
       "47    48    379\n",
       "48    49    417\n",
       "49    50    413\n",
       "50    51    484\n",
       "51    52    483\n",
       "52    53    478"
      ]
     },
     "execution_count": 84,
     "metadata": {},
     "output_type": "execute_result"
    }
   ],
   "source": [
    "weekly_avg_sales = df.groupby('week')['sales'].mean().reset_index()\n",
    "weekly_avg_sales"
   ]
  },
  {
   "cell_type": "markdown",
   "id": "1c8227df",
   "metadata": {},
   "source": [
    "### What are the trends in sales per month?"
   ]
  },
  {
   "cell_type": "code",
   "execution_count": 85,
   "id": "fb561944",
   "metadata": {},
   "outputs": [
    {
     "data": {
      "text/plain": [
       "month\n",
       "1    342\n",
       "2    321\n",
       "3    352\n",
       "4    341\n",
       "5    346\n",
       "6    353\n",
       "7    376\n",
       "8    337\n",
       "9    362\n",
       "10   362\n",
       "11   377\n",
       "12   457\n",
       "Name: sales, dtype: float64"
      ]
     },
     "execution_count": 85,
     "metadata": {},
     "output_type": "execute_result"
    }
   ],
   "source": [
    "monthly_avg = df.groupby('month')['sales'].mean()\n",
    "monthly_avg"
   ]
  },
  {
   "cell_type": "markdown",
   "id": "91a147f4",
   "metadata": {},
   "source": [
    "### What are the trends in sales per quarter?"
   ]
  },
  {
   "cell_type": "code",
   "execution_count": 86,
   "id": "f6896b3d",
   "metadata": {},
   "outputs": [
    {
     "data": {
      "text/plain": [
       "quarter\n",
       "1   339\n",
       "2   347\n",
       "3   359\n",
       "4   399\n",
       "Name: sales, dtype: float64"
      ]
     },
     "execution_count": 86,
     "metadata": {},
     "output_type": "execute_result"
    }
   ],
   "source": [
    "quarterly_avg = df.groupby('quarter')['sales'].mean()\n",
    "quarterly_avg"
   ]
  },
  {
   "cell_type": "markdown",
   "id": "980598c7",
   "metadata": {},
   "source": [
    "### What are the trends in sales per holiday?"
   ]
  },
  {
   "cell_type": "code",
   "execution_count": 87,
   "id": "9b7bf6d0",
   "metadata": {},
   "outputs": [
    {
     "data": {
      "application/vnd.microsoft.datawrangler.viewer.v0+json": {
       "columns": [
        {
         "name": "index",
         "rawType": "int64",
         "type": "integer"
        },
        {
         "name": "is_holiday",
         "rawType": "int64",
         "type": "integer"
        },
        {
         "name": "sales",
         "rawType": "float64",
         "type": "float"
        }
       ],
       "conversionMethod": "pd.DataFrame",
       "ref": "ce87927c-5bd2-43d7-b0fb-2d9c78d5d8d6",
       "rows": [
        [
         "0",
         "0",
         "352.1591805623003"
        ],
        [
         "1",
         "1",
         "393.8647615378344"
        ]
       ],
       "shape": {
        "columns": 2,
        "rows": 2
       }
      },
      "text/html": [
       "<div>\n",
       "<style scoped>\n",
       "    .dataframe tbody tr th:only-of-type {\n",
       "        vertical-align: middle;\n",
       "    }\n",
       "\n",
       "    .dataframe tbody tr th {\n",
       "        vertical-align: top;\n",
       "    }\n",
       "\n",
       "    .dataframe thead th {\n",
       "        text-align: right;\n",
       "    }\n",
       "</style>\n",
       "<table border=\"1\" class=\"dataframe\">\n",
       "  <thead>\n",
       "    <tr style=\"text-align: right;\">\n",
       "      <th></th>\n",
       "      <th>is_holiday</th>\n",
       "      <th>sales</th>\n",
       "    </tr>\n",
       "  </thead>\n",
       "  <tbody>\n",
       "    <tr>\n",
       "      <th>0</th>\n",
       "      <td>0</td>\n",
       "      <td>352</td>\n",
       "    </tr>\n",
       "    <tr>\n",
       "      <th>1</th>\n",
       "      <td>1</td>\n",
       "      <td>394</td>\n",
       "    </tr>\n",
       "  </tbody>\n",
       "</table>\n",
       "</div>"
      ],
      "text/plain": [
       "   is_holiday  sales\n",
       "0           0    352\n",
       "1           1    394"
      ]
     },
     "execution_count": 87,
     "metadata": {},
     "output_type": "execute_result"
    }
   ],
   "source": [
    "avg_sales_by_holiday = df.groupby('is_holiday')['sales'].mean().reset_index()\n",
    "avg_sales_by_holiday"
   ]
  },
  {
   "cell_type": "markdown",
   "id": "228c6925",
   "metadata": {},
   "source": [
    "### How do weekend sales compare to weekday sales?\n"
   ]
  },
  {
   "cell_type": "code",
   "execution_count": 88,
   "id": "f2d25e90",
   "metadata": {},
   "outputs": [
    {
     "data": {
      "application/vnd.microsoft.datawrangler.viewer.v0+json": {
       "columns": [
        {
         "name": "index",
         "rawType": "int64",
         "type": "integer"
        },
        {
         "name": "weekend",
         "rawType": "object",
         "type": "string"
        },
        {
         "name": "sales",
         "rawType": "float64",
         "type": "float"
        }
       ],
       "conversionMethod": "pd.DataFrame",
       "ref": "c6ec6c41-ed17-4d3f-9737-aa3af04da27e",
       "rows": [
        [
         "0",
         "Weekday",
         "322.3445452190209"
        ],
        [
         "1",
         "Weekend",
         "449.85622638226937"
        ]
       ],
       "shape": {
        "columns": 2,
        "rows": 2
       }
      },
      "text/html": [
       "<div>\n",
       "<style scoped>\n",
       "    .dataframe tbody tr th:only-of-type {\n",
       "        vertical-align: middle;\n",
       "    }\n",
       "\n",
       "    .dataframe tbody tr th {\n",
       "        vertical-align: top;\n",
       "    }\n",
       "\n",
       "    .dataframe thead th {\n",
       "        text-align: right;\n",
       "    }\n",
       "</style>\n",
       "<table border=\"1\" class=\"dataframe\">\n",
       "  <thead>\n",
       "    <tr style=\"text-align: right;\">\n",
       "      <th></th>\n",
       "      <th>weekend</th>\n",
       "      <th>sales</th>\n",
       "    </tr>\n",
       "  </thead>\n",
       "  <tbody>\n",
       "    <tr>\n",
       "      <th>0</th>\n",
       "      <td>Weekday</td>\n",
       "      <td>322</td>\n",
       "    </tr>\n",
       "    <tr>\n",
       "      <th>1</th>\n",
       "      <td>Weekend</td>\n",
       "      <td>450</td>\n",
       "    </tr>\n",
       "  </tbody>\n",
       "</table>\n",
       "</div>"
      ],
      "text/plain": [
       "   weekend  sales\n",
       "0  Weekday    322\n",
       "1  Weekend    450"
      ]
     },
     "execution_count": 88,
     "metadata": {},
     "output_type": "execute_result"
    }
   ],
   "source": [
    "df['weekend'] = df['day_of_week'].apply(lambda x: 'Weekend' if x in ['Saturday', 'Sunday'] else 'Weekday')\n",
    "avg_sales_by_weekend = df.groupby('weekend')['sales'].mean().reset_index()\n",
    "avg_sales_by_weekend"
   ]
  },
  {
   "cell_type": "markdown",
   "id": "e7047d80",
   "metadata": {},
   "source": [
    "# 💸 6. Promotion Impact: What impact do promotions have on sales volume?\n"
   ]
  },
  {
   "cell_type": "markdown",
   "id": "02dd5088",
   "metadata": {},
   "source": [
    "### How to compare between promoted and not promoted?"
   ]
  },
  {
   "cell_type": "code",
   "execution_count": 99,
   "id": "d6362a4d",
   "metadata": {},
   "outputs": [
    {
     "name": "stdout",
     "output_type": "stream",
     "text": [
      "promotion_status\n",
      "Not On Promotion    2428528\n",
      "On Promotion         625820\n",
      "Name: count, dtype: int64\n"
     ]
    },
    {
     "data": {
      "application/vnd.microsoft.datawrangler.viewer.v0+json": {
       "columns": [
        {
         "name": "index",
         "rawType": "int64",
         "type": "integer"
        },
        {
         "name": "promotion_status",
         "rawType": "object",
         "type": "string"
        },
        {
         "name": "sales",
         "rawType": "float64",
         "type": "float"
        }
       ],
       "conversionMethod": "pd.DataFrame",
       "ref": "f5e8570b-2d01-4ae2-9285-b9a084d1946c",
       "rows": [
        [
         "0",
         "Not On Promotion",
         "157.81047220093532"
        ],
        [
         "1",
         "On Promotion",
         "1139.8286947893275"
        ]
       ],
       "shape": {
        "columns": 2,
        "rows": 2
       }
      },
      "text/html": [
       "<div>\n",
       "<style scoped>\n",
       "    .dataframe tbody tr th:only-of-type {\n",
       "        vertical-align: middle;\n",
       "    }\n",
       "\n",
       "    .dataframe tbody tr th {\n",
       "        vertical-align: top;\n",
       "    }\n",
       "\n",
       "    .dataframe thead th {\n",
       "        text-align: right;\n",
       "    }\n",
       "</style>\n",
       "<table border=\"1\" class=\"dataframe\">\n",
       "  <thead>\n",
       "    <tr style=\"text-align: right;\">\n",
       "      <th></th>\n",
       "      <th>promotion_status</th>\n",
       "      <th>sales</th>\n",
       "    </tr>\n",
       "  </thead>\n",
       "  <tbody>\n",
       "    <tr>\n",
       "      <th>0</th>\n",
       "      <td>Not On Promotion</td>\n",
       "      <td>158</td>\n",
       "    </tr>\n",
       "    <tr>\n",
       "      <th>1</th>\n",
       "      <td>On Promotion</td>\n",
       "      <td>1,140</td>\n",
       "    </tr>\n",
       "  </tbody>\n",
       "</table>\n",
       "</div>"
      ],
      "text/plain": [
       "   promotion_status  sales\n",
       "0  Not On Promotion    158\n",
       "1      On Promotion  1,140"
      ]
     },
     "execution_count": 99,
     "metadata": {},
     "output_type": "execute_result"
    }
   ],
   "source": [
    "df['promotion_status'] = df['onpromotion'].apply(lambda x: 'On Promotion' if x > 0 else 'Not On Promotion')\n",
    "print(df['promotion_status'].value_counts())\n",
    "avg_sales_by_promotion = df.groupby('promotion_status')['sales'].mean().reset_index()\n",
    "avg_sales_by_promotion"
   ]
  },
  {
   "cell_type": "markdown",
   "id": "77c93db2",
   "metadata": {},
   "source": [
    "### Is there a cumulative effect of promotions (e.g., last 7 days of promo)?\n",
    "\n"
   ]
  },
  {
   "cell_type": "code",
   "execution_count": 100,
   "id": "20a52050",
   "metadata": {},
   "outputs": [
    {
     "data": {
      "application/vnd.microsoft.datawrangler.viewer.v0+json": {
       "columns": [
        {
         "name": "index",
         "rawType": "int64",
         "type": "integer"
        },
        {
         "name": "promo_last_7_days",
         "rawType": "float64",
         "type": "float"
        },
        {
         "name": "sales",
         "rawType": "float64",
         "type": "float"
        }
       ],
       "conversionMethod": "pd.DataFrame",
       "ref": "543d938f-58cb-4469-90a9-32d334ada233",
       "rows": [
        [
         "0",
         "0.0",
         "198.34919114678843"
        ],
        [
         "1",
         "1.0",
         "236.715922704786"
        ],
        [
         "2",
         "2.0",
         "294.3114731879087"
        ],
        [
         "3",
         "3.0",
         "338.32176212217763"
        ],
        [
         "4",
         "4.0",
         "355.0776874868721"
        ],
        [
         "5",
         "5.0",
         "360.63568717862165"
        ],
        [
         "6",
         "6.0",
         "365.5980767254559"
        ],
        [
         "7",
         "7.0",
         "373.0832259928445"
        ],
        [
         "8",
         "8.0",
         "366.2084214658394"
        ],
        [
         "9",
         "9.0",
         "372.69979532926493"
        ],
        [
         "10",
         "10.0",
         "391.2324389288823"
        ],
        [
         "11",
         "11.0",
         "387.2679917676213"
        ],
        [
         "12",
         "12.0",
         "392.6718839157811"
        ],
        [
         "13",
         "13.0",
         "404.2581214369202"
        ],
        [
         "14",
         "14.0",
         "418.42463128792934"
        ],
        [
         "15",
         "15.0",
         "439.4642370635926"
        ],
        [
         "16",
         "16.0",
         "468.7788515597863"
        ],
        [
         "17",
         "17.0",
         "490.71099186062906"
        ],
        [
         "18",
         "18.0",
         "509.59633044516386"
        ],
        [
         "19",
         "19.0",
         "537.0664315081297"
        ],
        [
         "20",
         "20.0",
         "542.9428316503962"
        ],
        [
         "21",
         "21.0",
         "554.5421061984869"
        ],
        [
         "22",
         "22.0",
         "534.2314938639706"
        ],
        [
         "23",
         "23.0",
         "590.2797629041809"
        ],
        [
         "24",
         "24.0",
         "572.222148608531"
        ],
        [
         "25",
         "25.0",
         "586.7105673737171"
        ],
        [
         "26",
         "26.0",
         "590.8980437786294"
        ],
        [
         "27",
         "27.0",
         "585.5052087916301"
        ],
        [
         "28",
         "28.0",
         "559.5317182469553"
        ],
        [
         "29",
         "29.0",
         "596.5017281793438"
        ],
        [
         "30",
         "30.0",
         "595.7771413729264"
        ],
        [
         "31",
         "31.0",
         "603.2791787426174"
        ],
        [
         "32",
         "32.0",
         "600.3966137915288"
        ],
        [
         "33",
         "33.0",
         "599.2484154831761"
        ],
        [
         "34",
         "34.0",
         "569.8246736866398"
        ],
        [
         "35",
         "35.0",
         "590.977066765829"
        ],
        [
         "36",
         "36.0",
         "576.4016931185805"
        ],
        [
         "37",
         "37.0",
         "588.4307265046593"
        ],
        [
         "38",
         "38.0",
         "618.9208888884334"
        ],
        [
         "39",
         "39.0",
         "589.6009691001655"
        ],
        [
         "40",
         "40.0",
         "559.5604380317154"
        ],
        [
         "41",
         "41.0",
         "548.5522883127413"
        ],
        [
         "42",
         "42.0",
         "557.1290019678389"
        ],
        [
         "43",
         "43.0",
         "551.591477785567"
        ],
        [
         "44",
         "44.0",
         "538.8893219958826"
        ],
        [
         "45",
         "45.0",
         "550.170560799649"
        ],
        [
         "46",
         "46.0",
         "505.5758975601351"
        ],
        [
         "47",
         "47.0",
         "525.1974758925433"
        ],
        [
         "48",
         "48.0",
         "541.0098470637772"
        ],
        [
         "49",
         "49.0",
         "526.043321195049"
        ]
       ],
       "shape": {
        "columns": 2,
        "rows": 910
       }
      },
      "text/html": [
       "<div>\n",
       "<style scoped>\n",
       "    .dataframe tbody tr th:only-of-type {\n",
       "        vertical-align: middle;\n",
       "    }\n",
       "\n",
       "    .dataframe tbody tr th {\n",
       "        vertical-align: top;\n",
       "    }\n",
       "\n",
       "    .dataframe thead th {\n",
       "        text-align: right;\n",
       "    }\n",
       "</style>\n",
       "<table border=\"1\" class=\"dataframe\">\n",
       "  <thead>\n",
       "    <tr style=\"text-align: right;\">\n",
       "      <th></th>\n",
       "      <th>promo_last_7_days</th>\n",
       "      <th>sales</th>\n",
       "    </tr>\n",
       "  </thead>\n",
       "  <tbody>\n",
       "    <tr>\n",
       "      <th>0</th>\n",
       "      <td>0</td>\n",
       "      <td>198</td>\n",
       "    </tr>\n",
       "    <tr>\n",
       "      <th>1</th>\n",
       "      <td>1</td>\n",
       "      <td>237</td>\n",
       "    </tr>\n",
       "    <tr>\n",
       "      <th>2</th>\n",
       "      <td>2</td>\n",
       "      <td>294</td>\n",
       "    </tr>\n",
       "    <tr>\n",
       "      <th>3</th>\n",
       "      <td>3</td>\n",
       "      <td>338</td>\n",
       "    </tr>\n",
       "    <tr>\n",
       "      <th>4</th>\n",
       "      <td>4</td>\n",
       "      <td>355</td>\n",
       "    </tr>\n",
       "    <tr>\n",
       "      <th>...</th>\n",
       "      <td>...</td>\n",
       "      <td>...</td>\n",
       "    </tr>\n",
       "    <tr>\n",
       "      <th>905</th>\n",
       "      <td>1,497</td>\n",
       "      <td>5</td>\n",
       "    </tr>\n",
       "    <tr>\n",
       "      <th>906</th>\n",
       "      <td>1,521</td>\n",
       "      <td>29</td>\n",
       "    </tr>\n",
       "    <tr>\n",
       "      <th>907</th>\n",
       "      <td>1,524</td>\n",
       "      <td>6,825</td>\n",
       "    </tr>\n",
       "    <tr>\n",
       "      <th>908</th>\n",
       "      <td>1,545</td>\n",
       "      <td>2,275</td>\n",
       "    </tr>\n",
       "    <tr>\n",
       "      <th>909</th>\n",
       "      <td>1,606</td>\n",
       "      <td>6,712</td>\n",
       "    </tr>\n",
       "  </tbody>\n",
       "</table>\n",
       "<p>910 rows × 2 columns</p>\n",
       "</div>"
      ],
      "text/plain": [
       "     promo_last_7_days  sales\n",
       "0                    0    198\n",
       "1                    1    237\n",
       "2                    2    294\n",
       "3                    3    338\n",
       "4                    4    355\n",
       "..                 ...    ...\n",
       "905              1,497      5\n",
       "906              1,521     29\n",
       "907              1,524  6,825\n",
       "908              1,545  2,275\n",
       "909              1,606  6,712\n",
       "\n",
       "[910 rows x 2 columns]"
      ]
     },
     "execution_count": 100,
     "metadata": {},
     "output_type": "execute_result"
    }
   ],
   "source": [
    "avg_sales_by_promo_7_days = df.groupby('promo_last_7_days')['sales'].mean().reset_index()\n",
    "avg_sales_by_promo_7_days"
   ]
  },
  {
   "cell_type": "markdown",
   "id": "d091c7fb",
   "metadata": {},
   "source": [
    "### Are there specific families or stores where promotions are more effective?"
   ]
  },
  {
   "cell_type": "code",
   "execution_count": 101,
   "id": "5ca41c81",
   "metadata": {},
   "outputs": [
    {
     "data": {
      "application/vnd.microsoft.datawrangler.viewer.v0+json": {
       "columns": [
        {
         "name": "index",
         "rawType": "int64",
         "type": "integer"
        },
        {
         "name": "family",
         "rawType": "object",
         "type": "string"
        },
        {
         "name": "promotion_status",
         "rawType": "object",
         "type": "string"
        },
        {
         "name": "sales",
         "rawType": "float64",
         "type": "float"
        }
       ],
       "conversionMethod": "pd.DataFrame",
       "ref": "c08335fd-0891-46b4-8a82-7458f8e9eede",
       "rows": [
        [
         "0",
         "AUTOMOTIVE",
         "Not On Promotion",
         "5.861714746100307"
        ],
        [
         "1",
         "AUTOMOTIVE",
         "On Promotion",
         "13.341692789968652"
        ],
        [
         "2",
         "BABY CARE",
         "Not On Promotion",
         "0.11070150592966563"
        ],
        [
         "3",
         "BABY CARE",
         "On Promotion",
         "1.6363636363636365"
        ],
        [
         "4",
         "BEAUTY",
         "Not On Promotion",
         "3.0804006463629747"
        ],
        [
         "5",
         "BEAUTY",
         "On Promotion",
         "8.34891616610081"
        ],
        [
         "6",
         "BEVERAGES",
         "Not On Promotion",
         "1290.3258455262032"
        ],
        [
         "7",
         "BEVERAGES",
         "On Promotion",
         "3224.894336480784"
        ],
        [
         "8",
         "BOOKS",
         "Not On Promotion",
         "0.07065992480228186"
        ],
        [
         "9",
         "BREAD/BAKERY",
         "Not On Promotion",
         "379.3926480313696"
        ],
        [
         "10",
         "BREAD/BAKERY",
         "On Promotion",
         "576.5095401801598"
        ],
        [
         "11",
         "CELEBRATION",
         "Not On Promotion",
         "7.990276797616247"
        ],
        [
         "12",
         "CELEBRATION",
         "On Promotion",
         "20.15281582952816"
        ],
        [
         "13",
         "CLEANING",
         "Not On Promotion",
         "867.5771351520551"
        ],
        [
         "14",
         "CLEANING",
         "On Promotion",
         "1242.3257814796668"
        ],
        [
         "15",
         "DAIRY",
         "Not On Promotion",
         "479.19555233260814"
        ],
        [
         "16",
         "DAIRY",
         "On Promotion",
         "935.5534230270569"
        ],
        [
         "17",
         "DELI",
         "Not On Promotion",
         "221.74795941469998"
        ],
        [
         "18",
         "DELI",
         "On Promotion",
         "322.50265845838607"
        ],
        [
         "19",
         "EGGS",
         "Not On Promotion",
         "154.94771221596187"
        ],
        [
         "20",
         "EGGS",
         "On Promotion",
         "210.03699198626217"
        ],
        [
         "21",
         "FROZEN FOODS",
         "Not On Promotion",
         "107.74989175388043"
        ],
        [
         "22",
         "FROZEN FOODS",
         "On Promotion",
         "235.11142797547618"
        ],
        [
         "23",
         "GROCERY I",
         "Not On Promotion",
         "2717.341388972722"
        ],
        [
         "24",
         "GROCERY I",
         "On Promotion",
         "4426.9435714334895"
        ],
        [
         "25",
         "GROCERY II",
         "Not On Promotion",
         "21.387313246729693"
        ],
        [
         "26",
         "GROCERY II",
         "On Promotion",
         "27.252189949285384"
        ],
        [
         "27",
         "HARDWARE",
         "Not On Promotion",
         "1.1377034279778393"
        ],
        [
         "28",
         "HARDWARE",
         "On Promotion",
         "2.3857142857142857"
        ],
        [
         "29",
         "HOME AND KITCHEN I",
         "Not On Promotion",
         "16.886466485308716"
        ],
        [
         "30",
         "HOME AND KITCHEN I",
         "On Promotion",
         "39.70592943373574"
        ],
        [
         "31",
         "HOME AND KITCHEN II",
         "Not On Promotion",
         "10.281843930873118"
        ],
        [
         "32",
         "HOME AND KITCHEN II",
         "On Promotion",
         "41.34355261130796"
        ],
        [
         "33",
         "HOME APPLIANCES",
         "Not On Promotion",
         "0.45668908253508333"
        ],
        [
         "34",
         "HOME APPLIANCES",
         "On Promotion",
         "1.3709677419354838"
        ],
        [
         "35",
         "HOME CARE",
         "Not On Promotion",
         "101.95294992479424"
        ],
        [
         "36",
         "HOME CARE",
         "On Promotion",
         "310.82414257900257"
        ],
        [
         "37",
         "LADIESWEAR",
         "Not On Promotion",
         "7.163070507878248"
        ],
        [
         "38",
         "LADIESWEAR",
         "On Promotion",
         "19.062098501070665"
        ],
        [
         "39",
         "LAWN AND GARDEN",
         "Not On Promotion",
         "5.529043293083528"
        ],
        [
         "40",
         "LAWN AND GARDEN",
         "On Promotion",
         "16.734674777725782"
        ],
        [
         "41",
         "LINGERIE",
         "Not On Promotion",
         "7.054316562679765"
        ],
        [
         "42",
         "LINGERIE",
         "On Promotion",
         "12.459722222222222"
        ],
        [
         "43",
         "LIQUOR,WINE,BEER",
         "Not On Promotion",
         "77.01551775187747"
        ],
        [
         "44",
         "LIQUOR,WINE,BEER",
         "On Promotion",
         "121.33039333844637"
        ],
        [
         "45",
         "MAGAZINES",
         "Not On Promotion",
         "2.957581530268755"
        ],
        [
         "46",
         "MAGAZINES",
         "On Promotion",
         "4.179640718562874"
        ],
        [
         "47",
         "MEATS",
         "Not On Promotion",
         "302.9493593957961"
        ],
        [
         "48",
         "MEATS",
         "On Promotion",
         "465.84418450408225"
        ],
        [
         "49",
         "PERSONAL CARE",
         "Not On Promotion",
         "220.73617761484363"
        ]
       ],
       "shape": {
        "columns": 3,
        "rows": 65
       }
      },
      "text/html": [
       "<div>\n",
       "<style scoped>\n",
       "    .dataframe tbody tr th:only-of-type {\n",
       "        vertical-align: middle;\n",
       "    }\n",
       "\n",
       "    .dataframe tbody tr th {\n",
       "        vertical-align: top;\n",
       "    }\n",
       "\n",
       "    .dataframe thead th {\n",
       "        text-align: right;\n",
       "    }\n",
       "</style>\n",
       "<table border=\"1\" class=\"dataframe\">\n",
       "  <thead>\n",
       "    <tr style=\"text-align: right;\">\n",
       "      <th></th>\n",
       "      <th>family</th>\n",
       "      <th>promotion_status</th>\n",
       "      <th>sales</th>\n",
       "    </tr>\n",
       "  </thead>\n",
       "  <tbody>\n",
       "    <tr>\n",
       "      <th>0</th>\n",
       "      <td>AUTOMOTIVE</td>\n",
       "      <td>Not On Promotion</td>\n",
       "      <td>6</td>\n",
       "    </tr>\n",
       "    <tr>\n",
       "      <th>1</th>\n",
       "      <td>AUTOMOTIVE</td>\n",
       "      <td>On Promotion</td>\n",
       "      <td>13</td>\n",
       "    </tr>\n",
       "    <tr>\n",
       "      <th>2</th>\n",
       "      <td>BABY CARE</td>\n",
       "      <td>Not On Promotion</td>\n",
       "      <td>0</td>\n",
       "    </tr>\n",
       "    <tr>\n",
       "      <th>3</th>\n",
       "      <td>BABY CARE</td>\n",
       "      <td>On Promotion</td>\n",
       "      <td>2</td>\n",
       "    </tr>\n",
       "    <tr>\n",
       "      <th>4</th>\n",
       "      <td>BEAUTY</td>\n",
       "      <td>Not On Promotion</td>\n",
       "      <td>3</td>\n",
       "    </tr>\n",
       "    <tr>\n",
       "      <th>...</th>\n",
       "      <td>...</td>\n",
       "      <td>...</td>\n",
       "      <td>...</td>\n",
       "    </tr>\n",
       "    <tr>\n",
       "      <th>60</th>\n",
       "      <td>PRODUCE</td>\n",
       "      <td>On Promotion</td>\n",
       "      <td>2,435</td>\n",
       "    </tr>\n",
       "    <tr>\n",
       "      <th>61</th>\n",
       "      <td>SCHOOL AND OFFICE SUPPLIES</td>\n",
       "      <td>Not On Promotion</td>\n",
       "      <td>1</td>\n",
       "    </tr>\n",
       "    <tr>\n",
       "      <th>62</th>\n",
       "      <td>SCHOOL AND OFFICE SUPPLIES</td>\n",
       "      <td>On Promotion</td>\n",
       "      <td>44</td>\n",
       "    </tr>\n",
       "    <tr>\n",
       "      <th>63</th>\n",
       "      <td>SEAFOOD</td>\n",
       "      <td>Not On Promotion</td>\n",
       "      <td>19</td>\n",
       "    </tr>\n",
       "    <tr>\n",
       "      <th>64</th>\n",
       "      <td>SEAFOOD</td>\n",
       "      <td>On Promotion</td>\n",
       "      <td>35</td>\n",
       "    </tr>\n",
       "  </tbody>\n",
       "</table>\n",
       "<p>65 rows × 3 columns</p>\n",
       "</div>"
      ],
      "text/plain": [
       "                        family  promotion_status  sales\n",
       "0                   AUTOMOTIVE  Not On Promotion      6\n",
       "1                   AUTOMOTIVE      On Promotion     13\n",
       "2                    BABY CARE  Not On Promotion      0\n",
       "3                    BABY CARE      On Promotion      2\n",
       "4                       BEAUTY  Not On Promotion      3\n",
       "..                         ...               ...    ...\n",
       "60                     PRODUCE      On Promotion  2,435\n",
       "61  SCHOOL AND OFFICE SUPPLIES  Not On Promotion      1\n",
       "62  SCHOOL AND OFFICE SUPPLIES      On Promotion     44\n",
       "63                     SEAFOOD  Not On Promotion     19\n",
       "64                     SEAFOOD      On Promotion     35\n",
       "\n",
       "[65 rows x 3 columns]"
      ]
     },
     "execution_count": 101,
     "metadata": {},
     "output_type": "execute_result"
    }
   ],
   "source": [
    "avg_sales_by_family = df.groupby(['family', 'promotion_status'])['sales'].mean().reset_index()\n",
    "avg_sales_by_family"
   ]
  },
  {
   "cell_type": "code",
   "execution_count": 102,
   "id": "3efe7f26",
   "metadata": {},
   "outputs": [
    {
     "data": {
      "application/vnd.microsoft.datawrangler.viewer.v0+json": {
       "columns": [
        {
         "name": "index",
         "rawType": "int64",
         "type": "integer"
        },
        {
         "name": "store_nbr",
         "rawType": "int64",
         "type": "integer"
        },
        {
         "name": "promotion_status",
         "rawType": "object",
         "type": "string"
        },
        {
         "name": "sales",
         "rawType": "float64",
         "type": "float"
        }
       ],
       "conversionMethod": "pd.DataFrame",
       "ref": "bc606247-dd99-443d-9948-9fe95474defd",
       "rows": [
        [
         "0",
         "1",
         "Not On Promotion",
         "127.31699493427685"
        ],
        [
         "1",
         "1",
         "On Promotion",
         "719.9540662085082"
        ],
        [
         "2",
         "2",
         "Not On Promotion",
         "178.2440902556614"
        ],
        [
         "3",
         "2",
         "On Promotion",
         "1082.6917066351177"
        ],
        [
         "4",
         "3",
         "Not On Promotion",
         "420.6671422431085"
        ],
        [
         "5",
         "3",
         "On Promotion",
         "2395.5890585392995"
        ],
        [
         "6",
         "4",
         "Not On Promotion",
         "161.00129913882012"
        ],
        [
         "7",
         "4",
         "On Promotion",
         "949.7589955875483"
        ],
        [
         "8",
         "5",
         "Not On Promotion",
         "137.4216398915563"
        ],
        [
         "9",
         "5",
         "On Promotion",
         "739.2226774781453"
        ],
        [
         "10",
         "6",
         "Not On Promotion",
         "202.0649525106504"
        ],
        [
         "11",
         "6",
         "On Promotion",
         "1204.069327542242"
        ],
        [
         "12",
         "7",
         "Not On Promotion",
         "245.62839237885095"
        ],
        [
         "13",
         "7",
         "On Promotion",
         "1364.9128682870928"
        ],
        [
         "14",
         "8",
         "Not On Promotion",
         "257.84282431652804"
        ],
        [
         "15",
         "8",
         "On Promotion",
         "1481.21274414179"
        ],
        [
         "16",
         "9",
         "Not On Promotion",
         "214.5721931397384"
        ],
        [
         "17",
         "9",
         "On Promotion",
         "1384.8481012501616"
        ],
        [
         "18",
         "10",
         "Not On Promotion",
         "92.71543679677302"
        ],
        [
         "19",
         "10",
         "On Promotion",
         "558.0677208794629"
        ],
        [
         "20",
         "11",
         "Not On Promotion",
         "237.7675286045929"
        ],
        [
         "21",
         "11",
         "On Promotion",
         "1543.2254262790304"
        ],
        [
         "22",
         "12",
         "Not On Promotion",
         "105.69589182596953"
        ],
        [
         "23",
         "12",
         "On Promotion",
         "640.0030592360384"
        ],
        [
         "24",
         "13",
         "Not On Promotion",
         "103.06228216627456"
        ],
        [
         "25",
         "13",
         "On Promotion",
         "625.5514011378318"
        ],
        [
         "26",
         "14",
         "Not On Promotion",
         "116.86315090586066"
        ],
        [
         "27",
         "14",
         "On Promotion",
         "650.7548194538757"
        ],
        [
         "28",
         "15",
         "Not On Promotion",
         "109.43189424043867"
        ],
        [
         "29",
         "15",
         "On Promotion",
         "679.8574046096646"
        ],
        [
         "30",
         "16",
         "Not On Promotion",
         "108.55430970429266"
        ],
        [
         "31",
         "16",
         "On Promotion",
         "611.8488341743839"
        ],
        [
         "32",
         "17",
         "Not On Promotion",
         "157.98135223041106"
        ],
        [
         "33",
         "17",
         "On Promotion",
         "1090.081576723036"
        ],
        [
         "34",
         "18",
         "Not On Promotion",
         "129.26917591439684"
        ],
        [
         "35",
         "18",
         "On Promotion",
         "813.4302710598837"
        ],
        [
         "36",
         "19",
         "Not On Promotion",
         "131.42488340553285"
        ],
        [
         "37",
         "19",
         "On Promotion",
         "795.8712071888776"
        ],
        [
         "38",
         "20",
         "Not On Promotion",
         "39.33047622477174"
        ],
        [
         "39",
         "20",
         "On Promotion",
         "1095.578986233914"
        ],
        [
         "40",
         "21",
         "Not On Promotion",
         "25.598796948051948"
        ],
        [
         "41",
         "21",
         "On Promotion",
         "893.7665028123653"
        ],
        [
         "42",
         "22",
         "Not On Promotion",
         "12.757846907691365"
        ],
        [
         "43",
         "22",
         "On Promotion",
         "471.4975377470007"
        ],
        [
         "44",
         "23",
         "Not On Promotion",
         "111.82643973186643"
        ],
        [
         "45",
         "23",
         "On Promotion",
         "582.3311182941112"
        ],
        [
         "46",
         "24",
         "Not On Promotion",
         "202.68146241277972"
        ],
        [
         "47",
         "24",
         "On Promotion",
         "1213.5042787413124"
        ],
        [
         "48",
         "25",
         "Not On Promotion",
         "104.13173207481358"
        ],
        [
         "49",
         "25",
         "On Promotion",
         "630.0154476204159"
        ]
       ],
       "shape": {
        "columns": 3,
        "rows": 108
       }
      },
      "text/html": [
       "<div>\n",
       "<style scoped>\n",
       "    .dataframe tbody tr th:only-of-type {\n",
       "        vertical-align: middle;\n",
       "    }\n",
       "\n",
       "    .dataframe tbody tr th {\n",
       "        vertical-align: top;\n",
       "    }\n",
       "\n",
       "    .dataframe thead th {\n",
       "        text-align: right;\n",
       "    }\n",
       "</style>\n",
       "<table border=\"1\" class=\"dataframe\">\n",
       "  <thead>\n",
       "    <tr style=\"text-align: right;\">\n",
       "      <th></th>\n",
       "      <th>store_nbr</th>\n",
       "      <th>promotion_status</th>\n",
       "      <th>sales</th>\n",
       "    </tr>\n",
       "  </thead>\n",
       "  <tbody>\n",
       "    <tr>\n",
       "      <th>0</th>\n",
       "      <td>1</td>\n",
       "      <td>Not On Promotion</td>\n",
       "      <td>127</td>\n",
       "    </tr>\n",
       "    <tr>\n",
       "      <th>1</th>\n",
       "      <td>1</td>\n",
       "      <td>On Promotion</td>\n",
       "      <td>720</td>\n",
       "    </tr>\n",
       "    <tr>\n",
       "      <th>2</th>\n",
       "      <td>2</td>\n",
       "      <td>Not On Promotion</td>\n",
       "      <td>178</td>\n",
       "    </tr>\n",
       "    <tr>\n",
       "      <th>3</th>\n",
       "      <td>2</td>\n",
       "      <td>On Promotion</td>\n",
       "      <td>1,083</td>\n",
       "    </tr>\n",
       "    <tr>\n",
       "      <th>4</th>\n",
       "      <td>3</td>\n",
       "      <td>Not On Promotion</td>\n",
       "      <td>421</td>\n",
       "    </tr>\n",
       "    <tr>\n",
       "      <th>...</th>\n",
       "      <td>...</td>\n",
       "      <td>...</td>\n",
       "      <td>...</td>\n",
       "    </tr>\n",
       "    <tr>\n",
       "      <th>103</th>\n",
       "      <td>52</td>\n",
       "      <td>On Promotion</td>\n",
       "      <td>1,268</td>\n",
       "    </tr>\n",
       "    <tr>\n",
       "      <th>104</th>\n",
       "      <td>53</td>\n",
       "      <td>Not On Promotion</td>\n",
       "      <td>43</td>\n",
       "    </tr>\n",
       "    <tr>\n",
       "      <th>105</th>\n",
       "      <td>53</td>\n",
       "      <td>On Promotion</td>\n",
       "      <td>726</td>\n",
       "    </tr>\n",
       "    <tr>\n",
       "      <th>106</th>\n",
       "      <td>54</td>\n",
       "      <td>Not On Promotion</td>\n",
       "      <td>80</td>\n",
       "    </tr>\n",
       "    <tr>\n",
       "      <th>107</th>\n",
       "      <td>54</td>\n",
       "      <td>On Promotion</td>\n",
       "      <td>677</td>\n",
       "    </tr>\n",
       "  </tbody>\n",
       "</table>\n",
       "<p>108 rows × 3 columns</p>\n",
       "</div>"
      ],
      "text/plain": [
       "     store_nbr  promotion_status  sales\n",
       "0            1  Not On Promotion    127\n",
       "1            1      On Promotion    720\n",
       "2            2  Not On Promotion    178\n",
       "3            2      On Promotion  1,083\n",
       "4            3  Not On Promotion    421\n",
       "..         ...               ...    ...\n",
       "103         52      On Promotion  1,268\n",
       "104         53  Not On Promotion     43\n",
       "105         53      On Promotion    726\n",
       "106         54  Not On Promotion     80\n",
       "107         54      On Promotion    677\n",
       "\n",
       "[108 rows x 3 columns]"
      ]
     },
     "execution_count": 102,
     "metadata": {},
     "output_type": "execute_result"
    }
   ],
   "source": [
    "avg_sales_by_store = df.groupby(['store_nbr', 'promotion_status'])['sales'].mean().reset_index()\n",
    "avg_sales_by_store"
   ]
  },
  {
   "cell_type": "markdown",
   "id": "ff73ff18",
   "metadata": {},
   "source": [
    "# 🌍7. Crisis Impact Analysis"
   ]
  },
  {
   "cell_type": "markdown",
   "id": "7bea1e30",
   "metadata": {},
   "source": [
    "### Crisis Impact by transactions"
   ]
  },
  {
   "cell_type": "code",
   "execution_count": 103,
   "id": "356caf77",
   "metadata": {},
   "outputs": [
    {
     "data": {
      "application/vnd.microsoft.datawrangler.viewer.v0+json": {
       "columns": [
        {
         "name": "index",
         "rawType": "int64",
         "type": "integer"
        },
        {
         "name": "is_crisis",
         "rawType": "int64",
         "type": "integer"
        },
        {
         "name": "sales",
         "rawType": "float64",
         "type": "float"
        },
        {
         "name": "transactions",
         "rawType": "float64",
         "type": "float"
        }
       ],
       "conversionMethod": "pd.DataFrame",
       "ref": "34f84874-c7d6-46c5-be77-8f7c2c3e2efc",
       "rows": [
        [
         "0",
         "0",
         "356.5179935157184",
         "1556.9841882881099"
        ],
        [
         "1",
         "1",
         "494.9040719977209",
         "1649.4115890083633"
        ]
       ],
       "shape": {
        "columns": 3,
        "rows": 2
       }
      },
      "text/html": [
       "<div>\n",
       "<style scoped>\n",
       "    .dataframe tbody tr th:only-of-type {\n",
       "        vertical-align: middle;\n",
       "    }\n",
       "\n",
       "    .dataframe tbody tr th {\n",
       "        vertical-align: top;\n",
       "    }\n",
       "\n",
       "    .dataframe thead th {\n",
       "        text-align: right;\n",
       "    }\n",
       "</style>\n",
       "<table border=\"1\" class=\"dataframe\">\n",
       "  <thead>\n",
       "    <tr style=\"text-align: right;\">\n",
       "      <th></th>\n",
       "      <th>is_crisis</th>\n",
       "      <th>sales</th>\n",
       "      <th>transactions</th>\n",
       "    </tr>\n",
       "  </thead>\n",
       "  <tbody>\n",
       "    <tr>\n",
       "      <th>0</th>\n",
       "      <td>0</td>\n",
       "      <td>357</td>\n",
       "      <td>1,557</td>\n",
       "    </tr>\n",
       "    <tr>\n",
       "      <th>1</th>\n",
       "      <td>1</td>\n",
       "      <td>495</td>\n",
       "      <td>1,649</td>\n",
       "    </tr>\n",
       "  </tbody>\n",
       "</table>\n",
       "</div>"
      ],
      "text/plain": [
       "   is_crisis  sales  transactions\n",
       "0          0    357         1,557\n",
       "1          1    495         1,649"
      ]
     },
     "execution_count": 103,
     "metadata": {},
     "output_type": "execute_result"
    }
   ],
   "source": [
    "avg_sales_transactions_crisis = df.groupby('is_crisis')[['sales', 'transactions']].mean().reset_index()\n",
    "avg_sales_transactions_crisis"
   ]
  },
  {
   "cell_type": "markdown",
   "id": "98afe65b",
   "metadata": {},
   "source": [
    "### Crisis Impact by Store Type"
   ]
  },
  {
   "cell_type": "code",
   "execution_count": 104,
   "id": "aa9b79c2",
   "metadata": {},
   "outputs": [
    {
     "name": "stdout",
     "output_type": "stream",
     "text": [
      "  store_type  is_crisis  sales\n",
      "0          A          0    705\n",
      "1          A          1    907\n",
      "2          B          0    325\n",
      "3          B          1    505\n",
      "4          C          0    196\n",
      "5          C          1    268\n",
      "6          D          0    350\n",
      "7          D          1    490\n",
      "8          E          0    268\n",
      "9          E          1    420\n",
      "  store_type  is_crisis  transactions\n",
      "0          A          0         2,859\n",
      "1          A          1         2,837\n",
      "2          B          0         1,512\n",
      "3          B          1         1,702\n",
      "4          C          0           981\n",
      "5          C          1         1,062\n",
      "6          D          0         1,526\n",
      "7          D          1         1,617\n",
      "8          E          0         1,017\n",
      "9          E          1         1,221\n"
     ]
    }
   ],
   "source": [
    "avg_sales_by_store_crisis = df.groupby(['store_type', 'is_crisis'])['sales'].mean().reset_index()\n",
    "avg_transactions_by_store_crisis = df.groupby(['store_type', 'is_crisis'])['transactions'].mean().reset_index()\n",
    "\n",
    "\n",
    "print(avg_sales_by_store_crisis)\n",
    "print(avg_transactions_by_store_crisis)"
   ]
  },
  {
   "cell_type": "markdown",
   "id": "9cd37655",
   "metadata": {},
   "source": [
    "### Crisis Impact by promotions"
   ]
  },
  {
   "cell_type": "code",
   "execution_count": 105,
   "id": "1b21b38e",
   "metadata": {},
   "outputs": [
    {
     "name": "stdout",
     "output_type": "stream",
     "text": [
      "     is_crisis  onpromotion  sales\n",
      "0            0            0    159\n",
      "1            0            1    470\n",
      "2            0            2    668\n",
      "3            0            3    881\n",
      "4            0            4    990\n",
      "..         ...          ...    ...\n",
      "590          1          702  6,825\n",
      "591          1          710  5,948\n",
      "592          1          717  6,262\n",
      "593          1          718  6,712\n",
      "594          1          720  6,154\n",
      "\n",
      "[595 rows x 3 columns]\n"
     ]
    }
   ],
   "source": [
    "avg_sales_by_promotion_crisis = df.groupby(['is_crisis', 'onpromotion'])['sales'].mean().reset_index()\n",
    "\n",
    "\n",
    "print(avg_sales_by_promotion_crisis)"
   ]
  },
  {
   "cell_type": "markdown",
   "id": "5eae5789",
   "metadata": {},
   "source": [
    "### Crisis Impact by holiday"
   ]
  },
  {
   "cell_type": "code",
   "execution_count": 106,
   "id": "7da8f524",
   "metadata": {},
   "outputs": [
    {
     "name": "stdout",
     "output_type": "stream",
     "text": [
      "   is_crisis  is_holiday  sales\n",
      "0          0           0    352\n",
      "1          0           1    381\n",
      "2          1           1    495\n"
     ]
    }
   ],
   "source": [
    "avg_sales_by_holiday_crisis = df.groupby(['is_crisis', 'is_holiday'])['sales'].mean().reset_index()\n",
    "\n",
    "\n",
    "print(avg_sales_by_holiday_crisis)"
   ]
  },
  {
   "cell_type": "markdown",
   "id": "273ff32f",
   "metadata": {},
   "source": [
    "### Crisis Impact weekly and monthly"
   ]
  },
  {
   "cell_type": "code",
   "execution_count": 107,
   "id": "5241eac0",
   "metadata": {},
   "outputs": [
    {
     "name": "stdout",
     "output_type": "stream",
     "text": [
      "    is_crisis  month  sales\n",
      "0           0      1    342\n",
      "1           0      2    321\n",
      "2           0      3    352\n",
      "3           0      4    321\n",
      "4           0      5    332\n",
      "5           0      6    353\n",
      "6           0      7    376\n",
      "7           0      8    337\n",
      "8           0      9    362\n",
      "9           0     10    362\n",
      "10          0     11    377\n",
      "11          0     12    457\n",
      "12          1      4    523\n",
      "13          1      5    468\n",
      "    is_crisis  week  sales\n",
      "0           0     1    409\n",
      "1           0     2    348\n",
      "2           0     3    338\n",
      "3           0     4    329\n",
      "4           0     5    344\n",
      "5           0     6    320\n",
      "6           0     7    310\n",
      "7           0     8    312\n",
      "8           0     9    358\n",
      "9           0    10    359\n",
      "10          0    11    343\n",
      "11          0    12    338\n",
      "12          0    13    361\n",
      "13          0    14    350\n",
      "14          0    15    307\n",
      "15          0    16    306\n",
      "16          0    17    305\n",
      "17          0    18    352\n",
      "18          0    19    298\n",
      "19          0    20    332\n",
      "20          0    21    321\n",
      "21          0    22    368\n",
      "22          0    23    369\n",
      "23          0    24    342\n",
      "24          0    25    365\n",
      "25          0    26    337\n",
      "26          0    27    398\n",
      "27          0    28    362\n",
      "28          0    29    361\n",
      "29          0    30    360\n",
      "30          0    31    384\n",
      "31          0    32    335\n",
      "32          0    33    327\n",
      "33          0    34    307\n",
      "34          0    35    334\n",
      "35          0    36    400\n",
      "36          0    37    353\n",
      "37          0    38    351\n",
      "38          0    39    354\n",
      "39          0    40    400\n",
      "40          0    41    362\n",
      "41          0    42    355\n",
      "42          0    43    340\n",
      "43          0    44    359\n",
      "44          0    45    407\n",
      "45          0    46    362\n",
      "46          0    47    359\n",
      "47          0    48    379\n",
      "48          0    49    417\n",
      "49          0    50    413\n",
      "50          0    51    484\n",
      "51          0    52    483\n",
      "52          0    53    478\n",
      "53          1    15    599\n",
      "54          1    16    600\n",
      "55          1    17    453\n",
      "56          1    18    470\n",
      "57          1    19    438\n",
      "58          1    20    420\n"
     ]
    }
   ],
   "source": [
    "avg_sales_by_month_crisis = df.groupby(['is_crisis', 'month'])['sales'].mean().reset_index()\n",
    "avg_sales_by_week_crisis = df.groupby(['is_crisis', 'week'])['sales'].mean().reset_index()\n",
    "\n",
    "\n",
    "print(avg_sales_by_month_crisis)\n",
    "print(avg_sales_by_week_crisis)"
   ]
  },
  {
   "cell_type": "markdown",
   "id": "e9c8a676",
   "metadata": {},
   "source": [
    "### Crisis Impact by transactions, sales"
   ]
  },
  {
   "cell_type": "code",
   "execution_count": null,
   "id": "1f7ed8c8",
   "metadata": {},
   "outputs": [
    {
     "name": "stdout",
     "output_type": "stream",
     "text": [
      "   is_crisis  transactions  sales\n",
      "0          0         1,557    357\n",
      "1          1         1,649    495\n"
     ]
    }
   ],
   "source": [
    "avg_transactions_sales_crisis = df.groupby('is_crisis')[['transactions', 'sales']].mean().reset_index()\n",
    "\n",
    "\n",
    "print(avg_transactions_sales_crisis)"
   ]
  },
  {
   "cell_type": "markdown",
   "id": "c4f2833b",
   "metadata": {},
   "source": [
    "### Crisis Impact by family"
   ]
  },
  {
   "cell_type": "code",
   "execution_count": 111,
   "id": "aec9d90d",
   "metadata": {},
   "outputs": [
    {
     "name": "stdout",
     "output_type": "stream",
     "text": [
      "                        family  is_crisis  sales\n",
      "0                   AUTOMOTIVE          0      6\n",
      "1                   AUTOMOTIVE          1      7\n",
      "2                    BABY CARE          0      0\n",
      "3                    BABY CARE          1      0\n",
      "4                       BEAUTY          0      4\n",
      "..                         ...        ...    ...\n",
      "61                     PRODUCE          1  2,265\n",
      "62  SCHOOL AND OFFICE SUPPLIES          0      3\n",
      "63  SCHOOL AND OFFICE SUPPLIES          1      9\n",
      "64                     SEAFOOD          0     22\n",
      "65                     SEAFOOD          1     24\n",
      "\n",
      "[66 rows x 3 columns]\n"
     ]
    }
   ],
   "source": [
    "avg_sales_by_family_crisis = df.groupby(['family', 'is_crisis'])['sales'].mean().reset_index()\n",
    "\n",
    "\n",
    "print(avg_sales_by_family_crisis)"
   ]
  },
  {
   "cell_type": "markdown",
   "id": "87e55e2e",
   "metadata": {},
   "source": [
    "### Crisis Impact by city and state"
   ]
  },
  {
   "cell_type": "code",
   "execution_count": 112,
   "id": "fcb16c98",
   "metadata": {},
   "outputs": [
    {
     "name": "stdout",
     "output_type": "stream",
     "text": [
      "             city  is_crisis  sales\n",
      "0          Ambato          0    363\n",
      "1          Ambato          1    429\n",
      "2        Babahoyo          0    319\n",
      "3        Babahoyo          1    417\n",
      "4         Cayambe          0    509\n",
      "5         Cayambe          1    636\n",
      "6          Cuenca          0    293\n",
      "7          Cuenca          1    434\n",
      "8           Daule          0    344\n",
      "9           Daule          1    505\n",
      "10      El Carmen          0    199\n",
      "11      El Carmen          1    269\n",
      "12     Esmeraldas          0    295\n",
      "13     Esmeraldas          1    348\n",
      "14       Guaranda          0    234\n",
      "15       Guaranda          1    305\n",
      "16      Guayaquil          0    275\n",
      "17      Guayaquil          1    400\n",
      "18         Ibarra          0    205\n",
      "19         Ibarra          1    267\n",
      "20      Latacunga          0    190\n",
      "21      Latacunga          1    248\n",
      "22       Libertad          0    275\n",
      "23       Libertad          1    389\n",
      "24           Loja          0    340\n",
      "25           Loja          1    378\n",
      "26        Machala          0    300\n",
      "27        Machala          1    393\n",
      "28          Manta          0    124\n",
      "29          Manta          1    246\n",
      "30         Playas          0    138\n",
      "31         Playas          1    173\n",
      "32           Puyo          0     72\n",
      "33           Puyo          1    189\n",
      "34        Quevedo          0    255\n",
      "35        Quevedo          1    307\n",
      "36          Quito          0    554\n",
      "37          Quito          1    779\n",
      "38       Riobamba          0    204\n",
      "39       Riobamba          1    254\n",
      "40        Salinas          0    206\n",
      "41        Salinas          1    196\n",
      "42  Santo Domingo          0    214\n",
      "43  Santo Domingo          1    308\n",
      "                             state  is_crisis  sales\n",
      "0                            Azuay          0    293\n",
      "1                            Azuay          1    434\n",
      "2                          Bolivar          0    234\n",
      "3                          Bolivar          1    305\n",
      "4                       Chimborazo          0    204\n",
      "5                       Chimborazo          1    254\n",
      "6                         Cotopaxi          0    190\n",
      "7                         Cotopaxi          1    248\n",
      "8                           El Oro          0    300\n",
      "9                           El Oro          1    393\n",
      "10                      Esmeraldas          0    295\n",
      "11                      Esmeraldas          1    348\n",
      "12                          Guayas          0    269\n",
      "13                          Guayas          1    388\n",
      "14                        Imbabura          0    205\n",
      "15                        Imbabura          1    267\n",
      "16                            Loja          0    340\n",
      "17                            Loja          1    378\n",
      "18                        Los Rios          0    287\n",
      "19                        Los Rios          1    362\n",
      "20                          Manabi          0    149\n",
      "21                          Manabi          1    254\n",
      "22                         Pastaza          0     72\n",
      "23                         Pastaza          1    189\n",
      "24                       Pichincha          0    552\n",
      "25                       Pichincha          1    772\n",
      "26                     Santa Elena          0    206\n",
      "27                     Santa Elena          1    196\n",
      "28  Santo Domingo de los Tsachilas          0    214\n",
      "29  Santo Domingo de los Tsachilas          1    308\n",
      "30                      Tungurahua          0    363\n",
      "31                      Tungurahua          1    429\n"
     ]
    }
   ],
   "source": [
    "avg_sales_by_city_crisis = df.groupby(['city', 'is_crisis'])['sales'].mean().reset_index()\n",
    "\n",
    "\n",
    "avg_sales_by_state_crisis = df.groupby(['state', 'is_crisis'])['sales'].mean().reset_index()\n",
    "\n",
    "\n",
    "print(avg_sales_by_city_crisis)\n",
    "print(avg_sales_by_state_crisis)"
   ]
  },
  {
   "cell_type": "markdown",
   "id": "69c2bf54",
   "metadata": {},
   "source": [
    "### Crisis Impact on Rolling Mean and Lagged Sales"
   ]
  },
  {
   "cell_type": "code",
   "execution_count": 113,
   "id": "74c1c76f",
   "metadata": {},
   "outputs": [
    {
     "name": "stdout",
     "output_type": "stream",
     "text": [
      "   is_crisis  sales_lag_7\n",
      "0          0          355\n",
      "1          1          492\n",
      "   is_crisis  rolling_mean_7\n",
      "0          0             356\n",
      "1          1             495\n"
     ]
    }
   ],
   "source": [
    "avg_sales_lag_7_crisis = df.groupby('is_crisis')['sales_lag_7'].mean().reset_index()\n",
    "avg_rolling_mean_7_crisis = df.groupby('is_crisis')['rolling_mean_7'].mean().reset_index()\n",
    "\n",
    "\n",
    "print(avg_sales_lag_7_crisis)\n",
    "print(avg_rolling_mean_7_crisis)"
   ]
  },
  {
   "cell_type": "markdown",
   "id": "95630f00",
   "metadata": {},
   "source": [
    "### Crisis and Store Cluster Performance"
   ]
  },
  {
   "cell_type": "code",
   "execution_count": 114,
   "id": "8a22e14a",
   "metadata": {},
   "outputs": [
    {
     "name": "stdout",
     "output_type": "stream",
     "text": [
      "    cluster  is_crisis  sales\n",
      "0         1          0    325\n",
      "1         1          1    432\n",
      "2         2          0    259\n",
      "3         2          1    390\n",
      "4         3          0    194\n",
      "5         3          1    254\n",
      "6         4          0    297\n",
      "7         4          1    338\n",
      "8         5          0  1,113\n",
      "9         5          1  1,510\n",
      "10        6          0    341\n",
      "11        6          1    533\n",
      "12        7          0    138\n",
      "13        7          1    221\n",
      "14        8          0    644\n",
      "15        8          1    896\n",
      "16        9          0    274\n",
      "17        9          1    351\n",
      "18       10          0    255\n",
      "19       10          1    375\n",
      "20       11          0    602\n",
      "21       11          1    814\n",
      "22       12          0    322\n",
      "23       12          1    512\n",
      "24       13          0    322\n",
      "25       13          1    548\n",
      "26       14          0    708\n",
      "27       14          1    853\n",
      "28       15          0    198\n",
      "29       15          1    257\n",
      "30       16          0    236\n",
      "31       16          1    424\n",
      "32       17          0    590\n",
      "33       17          1    803\n",
      "    cluster  is_crisis  transactions\n",
      "0         1          0         1,499\n",
      "1         1          1         1,526\n",
      "2         2          0           972\n",
      "3         2          1         1,275\n",
      "4         3          0           866\n",
      "5         3          1           890\n",
      "6         4          0         1,385\n",
      "7         4          1         1,325\n",
      "8         5          0         4,325\n",
      "9         5          1         4,416\n",
      "10        6          0         1,583\n",
      "11        6          1         1,805\n",
      "12        7          0           826\n",
      "13        7          1         1,064\n",
      "14        8          0         2,575\n",
      "15        8          1         2,668\n",
      "16        9          0         1,281\n",
      "17        9          1         1,280\n",
      "18       10          0         1,012\n",
      "19       10          1         1,146\n",
      "20       11          0         2,193\n",
      "21       11          1         2,205\n",
      "22       12          0         1,361\n",
      "23       12          1         1,619\n",
      "24       13          0         1,487\n",
      "25       13          1         1,722\n",
      "26       14          0         3,278\n",
      "27       14          1         3,184\n",
      "28       15          0         1,129\n",
      "29       15          1         1,190\n",
      "30       16          0         1,230\n",
      "31       16          1         1,344\n",
      "32       17          0         1,709\n",
      "33       17          1         1,767\n"
     ]
    }
   ],
   "source": [
    "avg_sales_by_cluster_crisis = df.groupby(['cluster', 'is_crisis'])['sales'].mean().reset_index()\n",
    "avg_transactions_by_cluster_crisis = df.groupby(['cluster', 'is_crisis'])['transactions'].mean().reset_index()\n",
    "\n",
    "\n",
    "print(avg_sales_by_cluster_crisis)\n",
    "print(avg_transactions_by_cluster_crisis)"
   ]
  },
  {
   "cell_type": "code",
   "execution_count": null,
   "id": "d513ab71",
   "metadata": {},
   "outputs": [],
   "source": []
  }
 ],
 "metadata": {
  "kernelspec": {
   "display_name": "base",
   "language": "python",
   "name": "python3"
  },
  "language_info": {
   "codemirror_mode": {
    "name": "ipython",
    "version": 3
   },
   "file_extension": ".py",
   "mimetype": "text/x-python",
   "name": "python",
   "nbconvert_exporter": "python",
   "pygments_lexer": "ipython3",
   "version": "3.12.7"
  }
 },
 "nbformat": 4,
 "nbformat_minor": 5
}
