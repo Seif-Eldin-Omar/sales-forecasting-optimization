{
 "cells": [
  {
   "cell_type": "code",
   "execution_count": 1,
   "id": "f3289c08",
   "metadata": {},
   "outputs": [],
   "source": [
    "import pandas as pd\n",
    "import numpy as np\n",
    "pd.set_option('display.max_columns', None)\n",
    "pd.set_option('display.float_format', '{:.2f}'.format)\n",
    "\n",
    "import warnings\n",
    "warnings.filterwarnings(\"ignore\")"
   ]
  },
  {
   "cell_type": "code",
   "execution_count": 3,
   "id": "169ffafe",
   "metadata": {},
   "outputs": [
    {
     "data": {
      "text/html": [
       "<div>\n",
       "<style scoped>\n",
       "    .dataframe tbody tr th:only-of-type {\n",
       "        vertical-align: middle;\n",
       "    }\n",
       "\n",
       "    .dataframe tbody tr th {\n",
       "        vertical-align: top;\n",
       "    }\n",
       "\n",
       "    .dataframe thead th {\n",
       "        text-align: right;\n",
       "    }\n",
       "</style>\n",
       "<table border=\"1\" class=\"dataframe\">\n",
       "  <thead>\n",
       "    <tr style=\"text-align: right;\">\n",
       "      <th></th>\n",
       "      <th>date</th>\n",
       "      <th>store_nbr</th>\n",
       "      <th>family</th>\n",
       "      <th>sales</th>\n",
       "      <th>onpromotion</th>\n",
       "      <th>holiday_type</th>\n",
       "      <th>locale</th>\n",
       "      <th>transferred</th>\n",
       "      <th>dcoilwtico</th>\n",
       "      <th>city</th>\n",
       "      <th>state</th>\n",
       "      <th>store_type</th>\n",
       "      <th>cluster</th>\n",
       "      <th>transactions</th>\n",
       "      <th>year</th>\n",
       "      <th>month</th>\n",
       "      <th>week</th>\n",
       "      <th>quarter</th>\n",
       "      <th>day_of_week</th>\n",
       "      <th>is_crisis</th>\n",
       "      <th>sales_lag_7</th>\n",
       "      <th>rolling_mean_7</th>\n",
       "      <th>is_weekend</th>\n",
       "      <th>is_holiday</th>\n",
       "      <th>promo_last_7_days</th>\n",
       "      <th>days_to_holiday</th>\n",
       "      <th>promotion_status</th>\n",
       "    </tr>\n",
       "  </thead>\n",
       "  <tbody>\n",
       "    <tr>\n",
       "      <th>0</th>\n",
       "      <td>2013-01-01</td>\n",
       "      <td>1</td>\n",
       "      <td>AUTOMOTIVE</td>\n",
       "      <td>0.00</td>\n",
       "      <td>0</td>\n",
       "      <td>Holiday</td>\n",
       "      <td>National</td>\n",
       "      <td>False</td>\n",
       "      <td>93.14</td>\n",
       "      <td>Quito</td>\n",
       "      <td>Pichincha</td>\n",
       "      <td>D</td>\n",
       "      <td>13</td>\n",
       "      <td>0.00</td>\n",
       "      <td>2013</td>\n",
       "      <td>1</td>\n",
       "      <td>1</td>\n",
       "      <td>1</td>\n",
       "      <td>Tuesday</td>\n",
       "      <td>0</td>\n",
       "      <td>0.00</td>\n",
       "      <td>0.00</td>\n",
       "      <td>0</td>\n",
       "      <td>1</td>\n",
       "      <td>0.00</td>\n",
       "      <td>0</td>\n",
       "      <td>Not On Promotion</td>\n",
       "    </tr>\n",
       "    <tr>\n",
       "      <th>1</th>\n",
       "      <td>2013-01-01</td>\n",
       "      <td>1</td>\n",
       "      <td>BABY CARE</td>\n",
       "      <td>0.00</td>\n",
       "      <td>0</td>\n",
       "      <td>Holiday</td>\n",
       "      <td>National</td>\n",
       "      <td>False</td>\n",
       "      <td>93.14</td>\n",
       "      <td>Quito</td>\n",
       "      <td>Pichincha</td>\n",
       "      <td>D</td>\n",
       "      <td>13</td>\n",
       "      <td>0.00</td>\n",
       "      <td>2013</td>\n",
       "      <td>1</td>\n",
       "      <td>1</td>\n",
       "      <td>1</td>\n",
       "      <td>Tuesday</td>\n",
       "      <td>0</td>\n",
       "      <td>0.00</td>\n",
       "      <td>0.00</td>\n",
       "      <td>0</td>\n",
       "      <td>1</td>\n",
       "      <td>0.00</td>\n",
       "      <td>0</td>\n",
       "      <td>Not On Promotion</td>\n",
       "    </tr>\n",
       "    <tr>\n",
       "      <th>2</th>\n",
       "      <td>2013-01-01</td>\n",
       "      <td>1</td>\n",
       "      <td>BEAUTY</td>\n",
       "      <td>0.00</td>\n",
       "      <td>0</td>\n",
       "      <td>Holiday</td>\n",
       "      <td>National</td>\n",
       "      <td>False</td>\n",
       "      <td>93.14</td>\n",
       "      <td>Quito</td>\n",
       "      <td>Pichincha</td>\n",
       "      <td>D</td>\n",
       "      <td>13</td>\n",
       "      <td>0.00</td>\n",
       "      <td>2013</td>\n",
       "      <td>1</td>\n",
       "      <td>1</td>\n",
       "      <td>1</td>\n",
       "      <td>Tuesday</td>\n",
       "      <td>0</td>\n",
       "      <td>0.00</td>\n",
       "      <td>0.00</td>\n",
       "      <td>0</td>\n",
       "      <td>1</td>\n",
       "      <td>0.00</td>\n",
       "      <td>0</td>\n",
       "      <td>Not On Promotion</td>\n",
       "    </tr>\n",
       "    <tr>\n",
       "      <th>3</th>\n",
       "      <td>2013-01-01</td>\n",
       "      <td>1</td>\n",
       "      <td>BEVERAGES</td>\n",
       "      <td>0.00</td>\n",
       "      <td>0</td>\n",
       "      <td>Holiday</td>\n",
       "      <td>National</td>\n",
       "      <td>False</td>\n",
       "      <td>93.14</td>\n",
       "      <td>Quito</td>\n",
       "      <td>Pichincha</td>\n",
       "      <td>D</td>\n",
       "      <td>13</td>\n",
       "      <td>0.00</td>\n",
       "      <td>2013</td>\n",
       "      <td>1</td>\n",
       "      <td>1</td>\n",
       "      <td>1</td>\n",
       "      <td>Tuesday</td>\n",
       "      <td>0</td>\n",
       "      <td>0.00</td>\n",
       "      <td>0.00</td>\n",
       "      <td>0</td>\n",
       "      <td>1</td>\n",
       "      <td>0.00</td>\n",
       "      <td>0</td>\n",
       "      <td>Not On Promotion</td>\n",
       "    </tr>\n",
       "    <tr>\n",
       "      <th>4</th>\n",
       "      <td>2013-01-01</td>\n",
       "      <td>1</td>\n",
       "      <td>BOOKS</td>\n",
       "      <td>0.00</td>\n",
       "      <td>0</td>\n",
       "      <td>Holiday</td>\n",
       "      <td>National</td>\n",
       "      <td>False</td>\n",
       "      <td>93.14</td>\n",
       "      <td>Quito</td>\n",
       "      <td>Pichincha</td>\n",
       "      <td>D</td>\n",
       "      <td>13</td>\n",
       "      <td>0.00</td>\n",
       "      <td>2013</td>\n",
       "      <td>1</td>\n",
       "      <td>1</td>\n",
       "      <td>1</td>\n",
       "      <td>Tuesday</td>\n",
       "      <td>0</td>\n",
       "      <td>0.00</td>\n",
       "      <td>0.00</td>\n",
       "      <td>0</td>\n",
       "      <td>1</td>\n",
       "      <td>0.00</td>\n",
       "      <td>0</td>\n",
       "      <td>Not On Promotion</td>\n",
       "    </tr>\n",
       "  </tbody>\n",
       "</table>\n",
       "</div>"
      ],
      "text/plain": [
       "        date  store_nbr      family  sales  onpromotion holiday_type  \\\n",
       "0 2013-01-01          1  AUTOMOTIVE   0.00            0      Holiday   \n",
       "1 2013-01-01          1   BABY CARE   0.00            0      Holiday   \n",
       "2 2013-01-01          1      BEAUTY   0.00            0      Holiday   \n",
       "3 2013-01-01          1   BEVERAGES   0.00            0      Holiday   \n",
       "4 2013-01-01          1       BOOKS   0.00            0      Holiday   \n",
       "\n",
       "     locale  transferred  dcoilwtico   city      state store_type  cluster  \\\n",
       "0  National        False       93.14  Quito  Pichincha          D       13   \n",
       "1  National        False       93.14  Quito  Pichincha          D       13   \n",
       "2  National        False       93.14  Quito  Pichincha          D       13   \n",
       "3  National        False       93.14  Quito  Pichincha          D       13   \n",
       "4  National        False       93.14  Quito  Pichincha          D       13   \n",
       "\n",
       "   transactions  year  month  week  quarter day_of_week  is_crisis  \\\n",
       "0          0.00  2013      1     1        1     Tuesday          0   \n",
       "1          0.00  2013      1     1        1     Tuesday          0   \n",
       "2          0.00  2013      1     1        1     Tuesday          0   \n",
       "3          0.00  2013      1     1        1     Tuesday          0   \n",
       "4          0.00  2013      1     1        1     Tuesday          0   \n",
       "\n",
       "   sales_lag_7  rolling_mean_7  is_weekend  is_holiday  promo_last_7_days  \\\n",
       "0         0.00            0.00           0           1               0.00   \n",
       "1         0.00            0.00           0           1               0.00   \n",
       "2         0.00            0.00           0           1               0.00   \n",
       "3         0.00            0.00           0           1               0.00   \n",
       "4         0.00            0.00           0           1               0.00   \n",
       "\n",
       "   days_to_holiday  promotion_status  \n",
       "0                0  Not On Promotion  \n",
       "1                0  Not On Promotion  \n",
       "2                0  Not On Promotion  \n",
       "3                0  Not On Promotion  \n",
       "4                0  Not On Promotion  "
      ]
     },
     "execution_count": 3,
     "metadata": {},
     "output_type": "execute_result"
    }
   ],
   "source": [
    "df = pd.read_csv('../data/cleaned_data.csv')\n",
    "\n",
    "df['date'] = pd.to_datetime(df['date'])\n",
    "df.head()"
   ]
  },
  {
   "cell_type": "markdown",
   "id": "ce31c4ad",
   "metadata": {},
   "source": [
    "# 📈 1. How Have Total Sales Evolved Over Time?\n",
    "\n",
    "To understand the overall business trend, we calculated the total sales per day from the dataset."
   ]
  },
  {
   "cell_type": "code",
   "execution_count": null,
   "id": "dd3c2182",
   "metadata": {},
   "outputs": [
    {
     "data": {
      "text/html": [
       "<div>\n",
       "<style scoped>\n",
       "    .dataframe tbody tr th:only-of-type {\n",
       "        vertical-align: middle;\n",
       "    }\n",
       "\n",
       "    .dataframe tbody tr th {\n",
       "        vertical-align: top;\n",
       "    }\n",
       "\n",
       "    .dataframe thead th {\n",
       "        text-align: right;\n",
       "    }\n",
       "</style>\n",
       "<table border=\"1\" class=\"dataframe\">\n",
       "  <thead>\n",
       "    <tr style=\"text-align: right;\">\n",
       "      <th></th>\n",
       "      <th>date</th>\n",
       "      <th>sales</th>\n",
       "    </tr>\n",
       "  </thead>\n",
       "  <tbody>\n",
       "    <tr>\n",
       "      <th>0</th>\n",
       "      <td>2013-01-01</td>\n",
       "      <td>2511.62</td>\n",
       "    </tr>\n",
       "    <tr>\n",
       "      <th>1</th>\n",
       "      <td>2013-01-02</td>\n",
       "      <td>496092.42</td>\n",
       "    </tr>\n",
       "    <tr>\n",
       "      <th>2</th>\n",
       "      <td>2013-01-03</td>\n",
       "      <td>361461.23</td>\n",
       "    </tr>\n",
       "    <tr>\n",
       "      <th>3</th>\n",
       "      <td>2013-01-04</td>\n",
       "      <td>354459.68</td>\n",
       "    </tr>\n",
       "    <tr>\n",
       "      <th>4</th>\n",
       "      <td>2013-01-05</td>\n",
       "      <td>477350.12</td>\n",
       "    </tr>\n",
       "    <tr>\n",
       "      <th>...</th>\n",
       "      <td>...</td>\n",
       "      <td>...</td>\n",
       "    </tr>\n",
       "    <tr>\n",
       "      <th>1679</th>\n",
       "      <td>2017-08-11</td>\n",
       "      <td>826373.72</td>\n",
       "    </tr>\n",
       "    <tr>\n",
       "      <th>1680</th>\n",
       "      <td>2017-08-12</td>\n",
       "      <td>792630.54</td>\n",
       "    </tr>\n",
       "    <tr>\n",
       "      <th>1681</th>\n",
       "      <td>2017-08-13</td>\n",
       "      <td>865639.68</td>\n",
       "    </tr>\n",
       "    <tr>\n",
       "      <th>1682</th>\n",
       "      <td>2017-08-14</td>\n",
       "      <td>760922.41</td>\n",
       "    </tr>\n",
       "    <tr>\n",
       "      <th>1683</th>\n",
       "      <td>2017-08-15</td>\n",
       "      <td>762661.94</td>\n",
       "    </tr>\n",
       "  </tbody>\n",
       "</table>\n",
       "<p>1684 rows × 2 columns</p>\n",
       "</div>"
      ],
      "text/plain": [
       "           date     sales\n",
       "0    2013-01-01   2511.62\n",
       "1    2013-01-02 496092.42\n",
       "2    2013-01-03 361461.23\n",
       "3    2013-01-04 354459.68\n",
       "4    2013-01-05 477350.12\n",
       "...         ...       ...\n",
       "1679 2017-08-11 826373.72\n",
       "1680 2017-08-12 792630.54\n",
       "1681 2017-08-13 865639.68\n",
       "1682 2017-08-14 760922.41\n",
       "1683 2017-08-15 762661.94\n",
       "\n",
       "[1684 rows x 2 columns]"
      ]
     },
     "execution_count": 60,
     "metadata": {},
     "output_type": "execute_result"
    }
   ],
   "source": [
    "sales_over_time = df.groupby('date')['sales'].sum().reset_index()\n",
    "sales_over_time"
   ]
  },
  {
   "cell_type": "markdown",
   "id": "a91150ae",
   "metadata": {},
   "source": [
    "### Key Findings:\n",
    "- Daily sales range from as low as ~2.5K to over 860K in some peak days.\n",
    "- There is a clear upward trend in daily revenue, with seasonal fluctuations likely present (to be analyzed in later steps)."
   ]
  },
  {
   "cell_type": "markdown",
   "id": "f5dcc5b0",
   "metadata": {},
   "source": [
    "> Corresponding plots will be in cell `4` in `visualization_demo.ipynb`"
   ]
  },
  {
   "cell_type": "markdown",
   "id": "b0db5ccc",
   "metadata": {},
   "source": [
    "# 📈 2. Which products or categories contribute the most to total revenue?\n",
    "\n",
    "Based on the total sales data, the following products or categories contribute the most to the total revenue:"
   ]
  },
  {
   "cell_type": "code",
   "execution_count": null,
   "id": "eb428367",
   "metadata": {},
   "outputs": [
    {
     "data": {
      "text/plain": [
       "family\n",
       "GROCERY I             350827297.99\n",
       "BEVERAGES             221663540.00\n",
       "PRODUCE               125447968.02\n",
       "CLEANING               99421019.00\n",
       "DAIRY                  65823605.00\n",
       "BREAD/BAKERY           42959924.00\n",
       "POULTRY                32494450.89\n",
       "MEATS                  31650996.29\n",
       "PERSONAL CARE          25100482.00\n",
       "DELI                   24585626.80\n",
       "HOME CARE              16409522.00\n",
       "EGGS                   15881196.00\n",
       "FROZEN FOODS           14646940.00\n",
       "PREPARED FOODS          8966728.11\n",
       "LIQUOR,WINE,BEER        7937172.00\n",
       "SEAFOOD                 2051636.10\n",
       "GROCERY II              2004966.00\n",
       "HOME AND KITCHEN I      1905076.00\n",
       "HOME AND KITCHEN II     1556511.00\n",
       "CELEBRATION              779502.00\n",
       "Name: sales, dtype: float64"
      ]
     },
     "execution_count": 61,
     "metadata": {},
     "output_type": "execute_result"
    }
   ],
   "source": [
    "top_products = df.groupby('family')['sales'].sum().sort_values(ascending=False).head(20)\n",
    "top_products"
   ]
  },
  {
   "cell_type": "markdown",
   "id": "3d22df12",
   "metadata": {},
   "source": [
    "1. **GROCERY I**: $350,827,298\n",
    "2. **BEVERAGES**: $221,663,540\n",
    "3. **PRODUCE**: $125,447,968\n",
    "4. **CLEANING**: $99,421,019\n",
    "5. **DAIRY**: $65,823,605\n",
    "\n",
    "These categories make up the bulk of the revenue, with **GROCERY I** leading by a significant margin. The top five categories contribute substantially to the overall sales, while the remaining categories (such as **CELEBRATION** and **HOME AND KITCHEN II**) have relatively smaller contributions.\n",
    "\n",
    "In the analysis, we can observe that categories related to essential products (like groceries, beverages, and produce) lead in sales, which might reflect consistent consumer demand. Further analysis could explore seasonality and trends within these top categories."
   ]
  },
  {
   "cell_type": "markdown",
   "id": "6e968fc8",
   "metadata": {},
   "source": [
    "> Corresponding plots will be in cell `6` in `visualization_demo.ipynb`"
   ]
  },
  {
   "cell_type": "markdown",
   "id": "dff48e7f",
   "metadata": {},
   "source": [
    "# 📈 3. Which stores, cities, or states are the top performers in terms of revenue?"
   ]
  },
  {
   "cell_type": "code",
   "execution_count": null,
   "id": "1643b6c9",
   "metadata": {},
   "outputs": [
    {
     "name": "stdout",
     "output_type": "stream",
     "text": [
      "Top Stores by Revenue:\n",
      "store_nbr\n",
      "44   63356137.23\n",
      "45   55689022.00\n",
      "47   52024475.96\n",
      "3    51533528.14\n",
      "49   44346822.76\n",
      "Name: sales, dtype: float64\n",
      "\n",
      " \n",
      "Top Cities by Revenue:\n",
      "city\n",
      "Quito           568679349.49\n",
      "Guayaquil       125572185.61\n",
      "Cuenca           50194045.80\n",
      "Ambato           41159772.88\n",
      "Santo Domingo    36617571.51\n",
      "Name: sales, dtype: float64\n",
      "\n",
      " \n",
      "Top States by Revenue:\n",
      "state\n",
      "Pichincha                        597585883.41\n",
      "Guayas                           168649985.24\n",
      "Azuay                             50194045.80\n",
      "Tungurahua                        41159772.88\n",
      "Santo Domingo de los Tsachilas    36617571.51\n",
      "Name: sales, dtype: float64\n"
     ]
    }
   ],
   "source": [
    "top_stores = df.groupby('store_nbr')['sales'].sum().sort_values(ascending=False)\n",
    "top_cities = df.groupby('city')['sales'].sum().sort_values(ascending=False)\n",
    "top_regions = df.groupby('state')['sales'].sum().sort_values(ascending=False)\n",
    "\n",
    "print(\"Top Stores by Revenue:\")\n",
    "print(top_stores.head())  \n",
    "\n",
    "print(\"\\n \\nTop Cities by Revenue:\")\n",
    "print(top_cities.head()) \n",
    "\n",
    "print(\"\\n \\nTop States by Revenue:\")\n",
    "print(top_regions.head()) "
   ]
  },
  {
   "cell_type": "markdown",
   "id": "31a41cef",
   "metadata": {},
   "source": [
    "Based on the total sales data, the following stores, cities, and regions are the top performers:\n",
    "\n",
    "### **Top Stores by Revenue:**\n",
    "1. **Store 44**: $63,356,137\n",
    "2. **Store 45**: $55,689,022\n",
    "3. **Store 47**: $52,024,476\n",
    "4. **Store 3**: $51,533,528\n",
    "5. **Store 49**: $44,346,823\n",
    "\n",
    "### **Top Cities by Revenue:**\n",
    "1. **Quito**: $568,679,349\n",
    "2. **Guayaquil**: $125,572,186\n",
    "3. **Cuenca**: $50,194,046\n",
    "4. **Ambato**: $41,159,773\n",
    "5. **Santo Domingo**: $36,617,572\n",
    "\n",
    "### **Top States by Revenue:**\n",
    "1. **Pichincha**: $597,585,883\n",
    "2. **Guayas**: $168,649,985\n",
    "3. **Azuay**: $50,194,046\n",
    "4. **Tungurahua**: $41,159,773\n",
    "5. **Santo Domingo de los Tsachilas**: $36,617,572\n",
    "\n",
    "These top performers highlight the most significant contributors to revenue, with **Quito** leading at the city level and **Pichincha** being the highest-performing state. In terms of stores, Store 44 generates the highest revenue.\n",
    "\n",
    "This analysis can help identify key areas for growth and focus, particularly in high-revenue cities and states."
   ]
  },
  {
   "cell_type": "markdown",
   "id": "348b8fb8",
   "metadata": {},
   "source": [
    "> Corresponding plots will be in cell `8`, `10` and `12` in `visualization_demo.ipynb`"
   ]
  },
  {
   "cell_type": "markdown",
   "id": "f8f7d1b7",
   "metadata": {},
   "source": [
    "# 📈 4. What is the average order size across stores, regions, and categories?"
   ]
  },
  {
   "cell_type": "code",
   "execution_count": null,
   "id": "680546cf",
   "metadata": {},
   "outputs": [
    {
     "data": {
      "text/plain": [
       "dtype('float64')"
      ]
     },
     "execution_count": 63,
     "metadata": {},
     "output_type": "execute_result"
    }
   ],
   "source": [
    "df['transactions'].dtype"
   ]
  },
  {
   "cell_type": "code",
   "execution_count": null,
   "id": "ec58adb6",
   "metadata": {},
   "outputs": [
    {
     "name": "stdout",
     "output_type": "stream",
     "text": [
      "249117\n"
     ]
    }
   ],
   "source": [
    "print((df['transactions'] == 0).sum())"
   ]
  },
  {
   "cell_type": "code",
   "execution_count": null,
   "id": "14d0528b",
   "metadata": {},
   "outputs": [
    {
     "data": {
      "text/html": [
       "<div>\n",
       "<style scoped>\n",
       "    .dataframe tbody tr th:only-of-type {\n",
       "        vertical-align: middle;\n",
       "    }\n",
       "\n",
       "    .dataframe tbody tr th {\n",
       "        vertical-align: top;\n",
       "    }\n",
       "\n",
       "    .dataframe thead th {\n",
       "        text-align: right;\n",
       "    }\n",
       "</style>\n",
       "<table border=\"1\" class=\"dataframe\">\n",
       "  <thead>\n",
       "    <tr style=\"text-align: right;\">\n",
       "      <th></th>\n",
       "      <th>sales</th>\n",
       "      <th>transactions</th>\n",
       "    </tr>\n",
       "  </thead>\n",
       "  <tbody>\n",
       "    <tr>\n",
       "      <th>count</th>\n",
       "      <td>3054348.00</td>\n",
       "      <td>3054348.00</td>\n",
       "    </tr>\n",
       "    <tr>\n",
       "      <th>mean</th>\n",
       "      <td>359.02</td>\n",
       "      <td>1558.66</td>\n",
       "    </tr>\n",
       "    <tr>\n",
       "      <th>std</th>\n",
       "      <td>1107.29</td>\n",
       "      <td>1036.47</td>\n",
       "    </tr>\n",
       "    <tr>\n",
       "      <th>min</th>\n",
       "      <td>0.00</td>\n",
       "      <td>0.00</td>\n",
       "    </tr>\n",
       "    <tr>\n",
       "      <th>25%</th>\n",
       "      <td>0.00</td>\n",
       "      <td>931.00</td>\n",
       "    </tr>\n",
       "    <tr>\n",
       "      <th>50%</th>\n",
       "      <td>11.00</td>\n",
       "      <td>1332.00</td>\n",
       "    </tr>\n",
       "    <tr>\n",
       "      <th>75%</th>\n",
       "      <td>196.01</td>\n",
       "      <td>1980.00</td>\n",
       "    </tr>\n",
       "    <tr>\n",
       "      <th>max</th>\n",
       "      <td>124717.00</td>\n",
       "      <td>8359.00</td>\n",
       "    </tr>\n",
       "  </tbody>\n",
       "</table>\n",
       "</div>"
      ],
      "text/plain": [
       "           sales  transactions\n",
       "count 3054348.00    3054348.00\n",
       "mean      359.02       1558.66\n",
       "std      1107.29       1036.47\n",
       "min         0.00          0.00\n",
       "25%         0.00        931.00\n",
       "50%        11.00       1332.00\n",
       "75%       196.01       1980.00\n",
       "max    124717.00       8359.00"
      ]
     },
     "execution_count": 65,
     "metadata": {},
     "output_type": "execute_result"
    }
   ],
   "source": [
    "df[['sales', 'transactions']].describe()"
   ]
  },
  {
   "cell_type": "code",
   "execution_count": null,
   "id": "7972575a",
   "metadata": {},
   "outputs": [
    {
     "name": "stdout",
     "output_type": "stream",
     "text": [
      "All zero transactions have zero sales: False\n"
     ]
    }
   ],
   "source": [
    "zero_transactions = df[df['transactions'] == 0]\n",
    "zero_sales_with_zero_transactions = zero_transactions[zero_transactions['sales'] == 0]\n",
    "\n",
    "# Check if all zero transactions have zero sales\n",
    "all_match = len(zero_transactions) == len(zero_sales_with_zero_transactions)\n",
    "print(\"All zero transactions have zero sales:\", all_match)"
   ]
  },
  {
   "cell_type": "code",
   "execution_count": null,
   "id": "5edc605e",
   "metadata": {},
   "outputs": [
    {
     "name": "stdout",
     "output_type": "stream",
     "text": [
      "Average Order Size by Store:\n",
      "store_nbr\n",
      "51   0.35\n",
      "42   0.34\n",
      "21   0.33\n",
      "29   0.30\n",
      "52   0.30\n",
      "dtype: float64\n",
      "\n",
      "Average Order Size by Region:\n",
      "state\n",
      "Azuay      0.26\n",
      "Manabi     0.26\n",
      "El Oro     0.26\n",
      "Pastaza    0.25\n",
      "Los Rios   0.24\n",
      "dtype: float64\n",
      "\n",
      "Average Order Size by Category:\n",
      "family\n",
      "GROCERY I   2.43\n",
      "BEVERAGES   1.53\n",
      "PRODUCE     0.87\n",
      "CLEANING    0.69\n",
      "DAIRY       0.46\n",
      "dtype: float64\n"
     ]
    }
   ],
   "source": [
    "df_valid = df[~((df['transactions'] == 0) & (df['sales'] > 0))]\n",
    "\n",
    "avg_order_size_store = df_valid.groupby('store_nbr').apply(lambda x: x['sales'].sum() / x['transactions'].sum()).sort_values(ascending=False)\n",
    "avg_order_size_region = df_valid.groupby('state').apply(lambda x: x['sales'].sum() / x['transactions'].sum()).sort_values(ascending=False)\n",
    "avg_order_size_category = df_valid.groupby('family').apply(lambda x: x['sales'].sum() / x['transactions'].sum()).sort_values(ascending=False)\n",
    "\n",
    "print(\"Average Order Size by Store:\")\n",
    "print(avg_order_size_store.head())  \n",
    "\n",
    "print(\"\\nAverage Order Size by Region:\")\n",
    "print(avg_order_size_region.head()) \n",
    "\n",
    "print(\"\\nAverage Order Size by Category:\")\n",
    "print(avg_order_size_category.head())  "
   ]
  },
  {
   "cell_type": "code",
   "execution_count": null,
   "id": "9ebaf2e8",
   "metadata": {},
   "outputs": [
    {
     "data": {
      "text/plain": [
       "Index(['date', 'store_nbr', 'family', 'sales', 'onpromotion', 'holiday_type',\n",
       "       'locale', 'transferred', 'dcoilwtico', 'city', 'state', 'store_type',\n",
       "       'cluster', 'transactions', 'year', 'month', 'week', 'quarter',\n",
       "       'day_of_week', 'is_crisis', 'sales_lag_7', 'rolling_mean_7',\n",
       "       'is_weekend', 'is_holiday', 'promo_last_7_days', 'days_to_holiday',\n",
       "       'promotion_status'],\n",
       "      dtype='object')"
      ]
     },
     "execution_count": 68,
     "metadata": {},
     "output_type": "execute_result"
    }
   ],
   "source": [
    "df.columns"
   ]
  },
  {
   "cell_type": "markdown",
   "id": "a28138d5",
   "metadata": {},
   "source": [
    "# 📆 5. Are there noticeable weekly, monthly, or quarterly seasonality patterns in sales?\n"
   ]
  },
  {
   "cell_type": "markdown",
   "id": "334e9eff",
   "metadata": {},
   "source": [
    "## 📆 5.1 What are the trends in sales per week?\n",
    "\n"
   ]
  },
  {
   "cell_type": "code",
   "execution_count": null,
   "id": "5406d877",
   "metadata": {},
   "outputs": [
    {
     "data": {
      "text/html": [
       "<div>\n",
       "<style scoped>\n",
       "    .dataframe tbody tr th:only-of-type {\n",
       "        vertical-align: middle;\n",
       "    }\n",
       "\n",
       "    .dataframe tbody tr th {\n",
       "        vertical-align: top;\n",
       "    }\n",
       "\n",
       "    .dataframe thead th {\n",
       "        text-align: right;\n",
       "    }\n",
       "</style>\n",
       "<table border=\"1\" class=\"dataframe\">\n",
       "  <thead>\n",
       "    <tr style=\"text-align: right;\">\n",
       "      <th></th>\n",
       "      <th>week</th>\n",
       "      <th>sales</th>\n",
       "    </tr>\n",
       "  </thead>\n",
       "  <tbody>\n",
       "    <tr>\n",
       "      <th>0</th>\n",
       "      <td>1</td>\n",
       "      <td>409.10</td>\n",
       "    </tr>\n",
       "    <tr>\n",
       "      <th>1</th>\n",
       "      <td>2</td>\n",
       "      <td>347.53</td>\n",
       "    </tr>\n",
       "    <tr>\n",
       "      <th>2</th>\n",
       "      <td>3</td>\n",
       "      <td>338.14</td>\n",
       "    </tr>\n",
       "    <tr>\n",
       "      <th>3</th>\n",
       "      <td>4</td>\n",
       "      <td>329.19</td>\n",
       "    </tr>\n",
       "    <tr>\n",
       "      <th>4</th>\n",
       "      <td>5</td>\n",
       "      <td>344.20</td>\n",
       "    </tr>\n",
       "    <tr>\n",
       "      <th>5</th>\n",
       "      <td>6</td>\n",
       "      <td>320.08</td>\n",
       "    </tr>\n",
       "    <tr>\n",
       "      <th>6</th>\n",
       "      <td>7</td>\n",
       "      <td>310.38</td>\n",
       "    </tr>\n",
       "    <tr>\n",
       "      <th>7</th>\n",
       "      <td>8</td>\n",
       "      <td>311.93</td>\n",
       "    </tr>\n",
       "    <tr>\n",
       "      <th>8</th>\n",
       "      <td>9</td>\n",
       "      <td>358.23</td>\n",
       "    </tr>\n",
       "    <tr>\n",
       "      <th>9</th>\n",
       "      <td>10</td>\n",
       "      <td>358.62</td>\n",
       "    </tr>\n",
       "    <tr>\n",
       "      <th>10</th>\n",
       "      <td>11</td>\n",
       "      <td>342.97</td>\n",
       "    </tr>\n",
       "    <tr>\n",
       "      <th>11</th>\n",
       "      <td>12</td>\n",
       "      <td>338.39</td>\n",
       "    </tr>\n",
       "    <tr>\n",
       "      <th>12</th>\n",
       "      <td>13</td>\n",
       "      <td>360.51</td>\n",
       "    </tr>\n",
       "    <tr>\n",
       "      <th>13</th>\n",
       "      <td>14</td>\n",
       "      <td>350.15</td>\n",
       "    </tr>\n",
       "    <tr>\n",
       "      <th>14</th>\n",
       "      <td>15</td>\n",
       "      <td>323.47</td>\n",
       "    </tr>\n",
       "    <tr>\n",
       "      <th>15</th>\n",
       "      <td>16</td>\n",
       "      <td>363.10</td>\n",
       "    </tr>\n",
       "    <tr>\n",
       "      <th>16</th>\n",
       "      <td>17</td>\n",
       "      <td>333.45</td>\n",
       "    </tr>\n",
       "    <tr>\n",
       "      <th>17</th>\n",
       "      <td>18</td>\n",
       "      <td>374.13</td>\n",
       "    </tr>\n",
       "    <tr>\n",
       "      <th>18</th>\n",
       "      <td>19</td>\n",
       "      <td>324.73</td>\n",
       "    </tr>\n",
       "    <tr>\n",
       "      <th>19</th>\n",
       "      <td>20</td>\n",
       "      <td>334.44</td>\n",
       "    </tr>\n",
       "    <tr>\n",
       "      <th>20</th>\n",
       "      <td>21</td>\n",
       "      <td>321.08</td>\n",
       "    </tr>\n",
       "    <tr>\n",
       "      <th>21</th>\n",
       "      <td>22</td>\n",
       "      <td>367.71</td>\n",
       "    </tr>\n",
       "    <tr>\n",
       "      <th>22</th>\n",
       "      <td>23</td>\n",
       "      <td>368.59</td>\n",
       "    </tr>\n",
       "    <tr>\n",
       "      <th>23</th>\n",
       "      <td>24</td>\n",
       "      <td>342.21</td>\n",
       "    </tr>\n",
       "    <tr>\n",
       "      <th>24</th>\n",
       "      <td>25</td>\n",
       "      <td>364.81</td>\n",
       "    </tr>\n",
       "    <tr>\n",
       "      <th>25</th>\n",
       "      <td>26</td>\n",
       "      <td>337.16</td>\n",
       "    </tr>\n",
       "    <tr>\n",
       "      <th>26</th>\n",
       "      <td>27</td>\n",
       "      <td>397.53</td>\n",
       "    </tr>\n",
       "    <tr>\n",
       "      <th>27</th>\n",
       "      <td>28</td>\n",
       "      <td>361.95</td>\n",
       "    </tr>\n",
       "    <tr>\n",
       "      <th>28</th>\n",
       "      <td>29</td>\n",
       "      <td>361.42</td>\n",
       "    </tr>\n",
       "    <tr>\n",
       "      <th>29</th>\n",
       "      <td>30</td>\n",
       "      <td>359.57</td>\n",
       "    </tr>\n",
       "    <tr>\n",
       "      <th>30</th>\n",
       "      <td>31</td>\n",
       "      <td>384.20</td>\n",
       "    </tr>\n",
       "    <tr>\n",
       "      <th>31</th>\n",
       "      <td>32</td>\n",
       "      <td>334.67</td>\n",
       "    </tr>\n",
       "    <tr>\n",
       "      <th>32</th>\n",
       "      <td>33</td>\n",
       "      <td>327.47</td>\n",
       "    </tr>\n",
       "    <tr>\n",
       "      <th>33</th>\n",
       "      <td>34</td>\n",
       "      <td>306.58</td>\n",
       "    </tr>\n",
       "    <tr>\n",
       "      <th>34</th>\n",
       "      <td>35</td>\n",
       "      <td>333.58</td>\n",
       "    </tr>\n",
       "    <tr>\n",
       "      <th>35</th>\n",
       "      <td>36</td>\n",
       "      <td>400.26</td>\n",
       "    </tr>\n",
       "    <tr>\n",
       "      <th>36</th>\n",
       "      <td>37</td>\n",
       "      <td>352.59</td>\n",
       "    </tr>\n",
       "    <tr>\n",
       "      <th>37</th>\n",
       "      <td>38</td>\n",
       "      <td>351.48</td>\n",
       "    </tr>\n",
       "    <tr>\n",
       "      <th>38</th>\n",
       "      <td>39</td>\n",
       "      <td>354.17</td>\n",
       "    </tr>\n",
       "    <tr>\n",
       "      <th>39</th>\n",
       "      <td>40</td>\n",
       "      <td>400.31</td>\n",
       "    </tr>\n",
       "    <tr>\n",
       "      <th>40</th>\n",
       "      <td>41</td>\n",
       "      <td>362.23</td>\n",
       "    </tr>\n",
       "    <tr>\n",
       "      <th>41</th>\n",
       "      <td>42</td>\n",
       "      <td>354.94</td>\n",
       "    </tr>\n",
       "    <tr>\n",
       "      <th>42</th>\n",
       "      <td>43</td>\n",
       "      <td>339.61</td>\n",
       "    </tr>\n",
       "    <tr>\n",
       "      <th>43</th>\n",
       "      <td>44</td>\n",
       "      <td>358.76</td>\n",
       "    </tr>\n",
       "    <tr>\n",
       "      <th>44</th>\n",
       "      <td>45</td>\n",
       "      <td>407.35</td>\n",
       "    </tr>\n",
       "    <tr>\n",
       "      <th>45</th>\n",
       "      <td>46</td>\n",
       "      <td>361.58</td>\n",
       "    </tr>\n",
       "    <tr>\n",
       "      <th>46</th>\n",
       "      <td>47</td>\n",
       "      <td>358.69</td>\n",
       "    </tr>\n",
       "    <tr>\n",
       "      <th>47</th>\n",
       "      <td>48</td>\n",
       "      <td>378.55</td>\n",
       "    </tr>\n",
       "    <tr>\n",
       "      <th>48</th>\n",
       "      <td>49</td>\n",
       "      <td>417.32</td>\n",
       "    </tr>\n",
       "    <tr>\n",
       "      <th>49</th>\n",
       "      <td>50</td>\n",
       "      <td>412.94</td>\n",
       "    </tr>\n",
       "    <tr>\n",
       "      <th>50</th>\n",
       "      <td>51</td>\n",
       "      <td>484.17</td>\n",
       "    </tr>\n",
       "    <tr>\n",
       "      <th>51</th>\n",
       "      <td>52</td>\n",
       "      <td>482.91</td>\n",
       "    </tr>\n",
       "    <tr>\n",
       "      <th>52</th>\n",
       "      <td>53</td>\n",
       "      <td>478.19</td>\n",
       "    </tr>\n",
       "  </tbody>\n",
       "</table>\n",
       "</div>"
      ],
      "text/plain": [
       "    week  sales\n",
       "0      1 409.10\n",
       "1      2 347.53\n",
       "2      3 338.14\n",
       "3      4 329.19\n",
       "4      5 344.20\n",
       "5      6 320.08\n",
       "6      7 310.38\n",
       "7      8 311.93\n",
       "8      9 358.23\n",
       "9     10 358.62\n",
       "10    11 342.97\n",
       "11    12 338.39\n",
       "12    13 360.51\n",
       "13    14 350.15\n",
       "14    15 323.47\n",
       "15    16 363.10\n",
       "16    17 333.45\n",
       "17    18 374.13\n",
       "18    19 324.73\n",
       "19    20 334.44\n",
       "20    21 321.08\n",
       "21    22 367.71\n",
       "22    23 368.59\n",
       "23    24 342.21\n",
       "24    25 364.81\n",
       "25    26 337.16\n",
       "26    27 397.53\n",
       "27    28 361.95\n",
       "28    29 361.42\n",
       "29    30 359.57\n",
       "30    31 384.20\n",
       "31    32 334.67\n",
       "32    33 327.47\n",
       "33    34 306.58\n",
       "34    35 333.58\n",
       "35    36 400.26\n",
       "36    37 352.59\n",
       "37    38 351.48\n",
       "38    39 354.17\n",
       "39    40 400.31\n",
       "40    41 362.23\n",
       "41    42 354.94\n",
       "42    43 339.61\n",
       "43    44 358.76\n",
       "44    45 407.35\n",
       "45    46 361.58\n",
       "46    47 358.69\n",
       "47    48 378.55\n",
       "48    49 417.32\n",
       "49    50 412.94\n",
       "50    51 484.17\n",
       "51    52 482.91\n",
       "52    53 478.19"
      ]
     },
     "execution_count": 69,
     "metadata": {},
     "output_type": "execute_result"
    }
   ],
   "source": [
    "weekly_avg_sales = df.groupby('week')['sales'].mean().reset_index()\n",
    "weekly_avg_sales"
   ]
  },
  {
   "cell_type": "markdown",
   "id": "997f5bb3",
   "metadata": {},
   "source": [
    "#### Key Observations:\n",
    "- **Seasonal Pattern**: Sales generally fluctuate throughout the year, with some notable peaks and valleys.\n",
    "- **Peak Sales Weeks**: Weeks **51** (484) and **52** (483) show the highest sales, which could be related to the end-of-year sales spikes (e.g., holiday season).\n",
    "- **Lowest Sales Weeks**: Week **34** (307) experienced the lowest average sales, suggesting a potential dip in sales during that period.\n",
    "- **Consistent Highs**: Weeks **45** (407), **49** (417), and **36** (400) also saw relatively high sales, indicating strong performance during certain periods of the year.\n",
    "\n",
    "These trends suggest that there may be seasonal or external factors (such as holidays or promotions) that cause sales to rise or fall in certain weeks. Identifying and aligning marketing or sales strategies with these periods can be beneficial."
   ]
  },
  {
   "cell_type": "markdown",
   "id": "0ea2335d",
   "metadata": {},
   "source": [
    "> Corresponding plots will be in cell `16` in `visualization_demo.ipynb`"
   ]
  },
  {
   "cell_type": "markdown",
   "id": "1c8227df",
   "metadata": {},
   "source": [
    "## 📆 5.2 What are the trends in sales per month?"
   ]
  },
  {
   "cell_type": "code",
   "execution_count": null,
   "id": "fb561944",
   "metadata": {},
   "outputs": [
    {
     "data": {
      "text/plain": [
       "month\n",
       "1    341.92\n",
       "2    320.93\n",
       "3    352.01\n",
       "4    341.17\n",
       "5    345.65\n",
       "6    352.51\n",
       "7    376.41\n",
       "8    336.99\n",
       "9    362.30\n",
       "10   362.41\n",
       "11   376.89\n",
       "12   457.38\n",
       "Name: sales, dtype: float64"
      ]
     },
     "execution_count": 70,
     "metadata": {},
     "output_type": "execute_result"
    }
   ],
   "source": [
    "monthly_avg = df.groupby('month')['sales'].mean()\n",
    "monthly_avg"
   ]
  },
  {
   "cell_type": "markdown",
   "id": "7f76f4ea",
   "metadata": {},
   "source": [
    "#### Key Observations:\n",
    "- **Strong End-of-Year Sales**: The highest sales occur in **December** (457), likely due to the holiday season and increased consumer spending.\n",
    "- **Peak in Mid-Year**: **July** (376) also sees a significant rise in sales, potentially related to mid-year promotions or seasonal trends.\n",
    "- **Dip in Early Months**: **February** (321) experiences the lowest sales, possibly due to lower consumer activity after the holiday season.\n",
    "- **Stable Performance**: Other months like **March** (352), **June** (353), and **November** (377) show fairly consistent and strong performance.\n",
    "\n",
    "These trends suggest a potential seasonal pattern where sales peak in the second half of the year, especially during holidays or mid-year events. Analyzing external factors like promotions or holiday schedules could help explain these fluctuations."
   ]
  },
  {
   "cell_type": "markdown",
   "id": "7e9f9242",
   "metadata": {},
   "source": [
    "> Corresponding plots will be in cell `19` in `visualization_demo.ipynb`"
   ]
  },
  {
   "cell_type": "markdown",
   "id": "91a147f4",
   "metadata": {},
   "source": [
    "## 📆 5.3 What are the trends in sales per quarter?"
   ]
  },
  {
   "cell_type": "code",
   "execution_count": null,
   "id": "f6896b3d",
   "metadata": {},
   "outputs": [
    {
     "data": {
      "text/plain": [
       "quarter  year\n",
       "1        2013   195.88\n",
       "         2014   319.96\n",
       "         2015   275.83\n",
       "         2016   425.85\n",
       "         2017   475.63\n",
       "2        2013   210.61\n",
       "         2014   242.54\n",
       "         2015   333.91\n",
       "         2016   454.88\n",
       "         2017   486.04\n",
       "3        2013   212.17\n",
       "         2014   325.32\n",
       "         2015   417.48\n",
       "         2016   419.72\n",
       "         2017   482.01\n",
       "4        2013   247.84\n",
       "         2014   405.18\n",
       "         2015   457.89\n",
       "         2016   485.01\n",
       "Name: sales, dtype: float64"
      ]
     },
     "execution_count": 71,
     "metadata": {},
     "output_type": "execute_result"
    }
   ],
   "source": [
    "quarterly_avg = df.groupby(['quarter', 'year'])['sales'].mean()\n",
    "quarterly_avg"
   ]
  },
  {
   "cell_type": "markdown",
   "id": "b381f54c",
   "metadata": {},
   "source": [
    "#### Key Observations:\n",
    "- **Growth in Sales Over Time**: There is a clear upward trend in sales from 2013 to 2017 across all quarters, with the highest sales recorded in **2017**.\n",
    "  - Quarter 1 in **2017** (476) and Quarter 2 in **2017** (486) show a noticeable increase compared to previous years.\n",
    "- **Quarterly Performance**:\n",
    "  - **Quarter 1** has the lowest sales in the early years (2013-2014), but by **2017**, it shows strong growth.\n",
    "  - **Quarter 4** also shows solid performance in all years, with **2017** again leading the trend with **485**.\n",
    "  - **Quarter 3** tends to be the highest performer from **2015** onward, peaking at **482** in **2017**.\n",
    "  \n",
    "These trends suggest a steady growth trajectory in sales over the years, with significant improvement in later years, especially in **2017**, indicating possible business expansion, new product offerings, or other positive changes within the company."
   ]
  },
  {
   "cell_type": "markdown",
   "id": "f2c5de13",
   "metadata": {},
   "source": [
    "> Corresponding plots will be in cell `19` in `visualization_demo.ipynb`"
   ]
  },
  {
   "cell_type": "markdown",
   "id": "53578e9d",
   "metadata": {},
   "source": [
    "# 📆 6. How do sales differ on weekdays versus weekends?"
   ]
  },
  {
   "cell_type": "code",
   "execution_count": null,
   "id": "7389d716",
   "metadata": {},
   "outputs": [
    {
     "data": {
      "text/html": [
       "<div>\n",
       "<style scoped>\n",
       "    .dataframe tbody tr th:only-of-type {\n",
       "        vertical-align: middle;\n",
       "    }\n",
       "\n",
       "    .dataframe tbody tr th {\n",
       "        vertical-align: top;\n",
       "    }\n",
       "\n",
       "    .dataframe thead th {\n",
       "        text-align: right;\n",
       "    }\n",
       "</style>\n",
       "<table border=\"1\" class=\"dataframe\">\n",
       "  <thead>\n",
       "    <tr style=\"text-align: right;\">\n",
       "      <th></th>\n",
       "      <th>Total Sales</th>\n",
       "      <th>Average Sales per Day</th>\n",
       "      <th>Number of Days</th>\n",
       "    </tr>\n",
       "    <tr>\n",
       "      <th>is_weekend</th>\n",
       "      <th></th>\n",
       "      <th></th>\n",
       "      <th></th>\n",
       "    </tr>\n",
       "  </thead>\n",
       "  <tbody>\n",
       "    <tr>\n",
       "      <th>Weekday</th>\n",
       "      <td>701364353.07</td>\n",
       "      <td>322.34</td>\n",
       "      <td>2175822</td>\n",
       "    </tr>\n",
       "    <tr>\n",
       "      <th>Weekend</th>\n",
       "      <td>395210391.14</td>\n",
       "      <td>449.86</td>\n",
       "      <td>878526</td>\n",
       "    </tr>\n",
       "  </tbody>\n",
       "</table>\n",
       "</div>"
      ],
      "text/plain": [
       "            Total Sales  Average Sales per Day  Number of Days\n",
       "is_weekend                                                    \n",
       "Weekday    701364353.07                 322.34         2175822\n",
       "Weekend    395210391.14                 449.86          878526"
      ]
     },
     "execution_count": 72,
     "metadata": {},
     "output_type": "execute_result"
    }
   ],
   "source": [
    "sales_comparison = df.groupby('is_weekend')['sales'].agg(['sum', 'mean', 'count']).rename(index={True: 'Weekend', False: 'Weekday'})\n",
    "\n",
    "sales_comparison.columns = ['Total Sales', 'Average Sales per Day', 'Number of Days']\n",
    "sales_comparison"
   ]
  },
  {
   "cell_type": "markdown",
   "id": "0f76f779",
   "metadata": {},
   "source": [
    "#### 🔍 Insights:\n",
    "- **Weekends** show a **higher average sales per day**, despite having fewer days overall.\n",
    "- This indicates increased consumer activity or spending intensity during weekends.\n",
    "- **Weekdays** contribute more to total sales volume due to sheer number of days, but the **per-day performance is stronger on weekends**."
   ]
  },
  {
   "cell_type": "markdown",
   "id": "bb90e0e3",
   "metadata": {},
   "source": [
    "> Corresponding plots will be in cell `23` in `visualization_demo.ipynb`"
   ]
  },
  {
   "cell_type": "markdown",
   "id": "31b85483",
   "metadata": {},
   "source": [
    "# 🚀 7. Are sales peaking during certain months, holidays, or quarters of the year?"
   ]
  },
  {
   "cell_type": "markdown",
   "id": "b5b99b7f",
   "metadata": {},
   "source": [
    "#### 7.1 Monthly Sales Peaks"
   ]
  },
  {
   "cell_type": "code",
   "execution_count": null,
   "id": "b6f0f8af",
   "metadata": {},
   "outputs": [
    {
     "name": "stdout",
     "output_type": "stream",
     "text": [
      "Average Sales by Month (Highest to Lowest):\n",
      " month\n",
      "12   457.38\n",
      "11   376.89\n",
      "7    376.41\n",
      "10   362.41\n",
      "9    362.30\n",
      "6    352.51\n",
      "3    352.01\n",
      "5    345.65\n",
      "1    341.92\n",
      "4    341.17\n",
      "8    336.99\n",
      "2    320.93\n",
      "Name: sales, dtype: float64\n"
     ]
    }
   ],
   "source": [
    "monthly_sales = df.groupby('month')['sales'].mean().sort_values(ascending=False)\n",
    "print(\"Average Sales by Month (Highest to Lowest):\\n\", monthly_sales)"
   ]
  },
  {
   "cell_type": "markdown",
   "id": "edae2b53",
   "metadata": {},
   "source": [
    "**Insights:**\n",
    "- Sales **peak in December**, indicating strong end-of-year demand—likely driven by holidays and promotions.\n",
    "- **November and July** also show high sales, suggesting seasonal boosts during those months.\n",
    "- **February** consistently has the **lowest average sales**, possibly due to fewer days and post-holiday consumer fatigue."
   ]
  },
  {
   "cell_type": "markdown",
   "id": "d6921f10",
   "metadata": {},
   "source": [
    "> Corresponding plots will be in cell `19` in `visualization_demo.ipynb`"
   ]
  },
  {
   "cell_type": "markdown",
   "id": "609c1607",
   "metadata": {},
   "source": [
    "#### 7.2 Holiday vs. Non-Holiday Sales"
   ]
  },
  {
   "cell_type": "code",
   "execution_count": null,
   "id": "eb2d4592",
   "metadata": {},
   "outputs": [
    {
     "name": "stdout",
     "output_type": "stream",
     "text": [
      "Average Sales:\n",
      " Non-Holiday   352.16\n",
      "Holiday       393.86\n",
      "Name: sales, dtype: float64\n"
     ]
    }
   ],
   "source": [
    "holiday_sales = df.groupby('is_holiday')['sales'].mean()\n",
    "holiday_sales.index = ['Non-Holiday', 'Holiday']\n",
    "print(\"Average Sales:\\n\", holiday_sales)"
   ]
  },
  {
   "cell_type": "markdown",
   "id": "2e285f1d",
   "metadata": {},
   "source": [
    "**Insights:**\n",
    "- Sales are **higher during holidays**, with an average of **394** compared to **352** on non-holidays.\n",
    "- This indicates that holidays positively impact sales, likely due to increased consumer activity, promotions, or special events."
   ]
  },
  {
   "cell_type": "markdown",
   "id": "ead6fa85",
   "metadata": {},
   "source": [
    "> Corresponding plots will be in cell `26` in `visualization_demo.ipynb`"
   ]
  },
  {
   "cell_type": "markdown",
   "id": "6785df29",
   "metadata": {},
   "source": [
    "#### 7.3 Specific Holidays "
   ]
  },
  {
   "cell_type": "code",
   "execution_count": null,
   "id": "33ec67f4",
   "metadata": {},
   "outputs": [
    {
     "name": "stdout",
     "output_type": "stream",
     "text": [
      "Average Sales by Holiday Type:\n",
      " holiday_type\n",
      "Additional   487.63\n",
      "Transfer     467.75\n",
      "Bridge       446.75\n",
      "Event        425.66\n",
      "Work Day     372.16\n",
      "Holiday      358.43\n",
      "Name: sales, dtype: float64\n"
     ]
    }
   ],
   "source": [
    "specific_holidays = df[df['is_holiday'] == 1].groupby('holiday_type')['sales'].mean().sort_values(ascending=False)\n",
    "print(\"Average Sales by Holiday Type:\\n\", specific_holidays)"
   ]
  },
  {
   "cell_type": "markdown",
   "id": "2733763c",
   "metadata": {},
   "source": [
    "**Insights:**\n",
    "- **Additional holidays** generate the highest average sales (**488**), followed by **Transfer** and **Bridge** holidays.\n",
    "- These spikes may indicate extended weekends or special shopping days where promotions are common.\n",
    "- Even regular **Work Days** labeled as holidays see a boost compared to non-holiday averages.\n",
    "- **Named \"Holiday\"** days have the lowest holiday-type sales, suggesting they may fall on less commercially significant days.\n",
    "\n",
    "This breakdown helps identify which types of holidays drive the most consumer spending."
   ]
  },
  {
   "cell_type": "markdown",
   "id": "9a9e436e",
   "metadata": {},
   "source": [
    "> Corresponding plots will be in cell `29` in `visualization_demo.ipynb`"
   ]
  },
  {
   "cell_type": "markdown",
   "id": "10b42ad7",
   "metadata": {},
   "source": [
    "#### 7.4 Yearly + Quarterly Breakdown"
   ]
  },
  {
   "cell_type": "code",
   "execution_count": null,
   "id": "5b22fd7d",
   "metadata": {},
   "outputs": [
    {
     "name": "stdout",
     "output_type": "stream",
     "text": [
      "Quarterly Sales by Year:\n",
      " year      2013   2014   2015   2016   2017\n",
      "quarter                                   \n",
      "1       195.88 319.96 275.83 425.85 475.63\n",
      "2       210.61 242.54 333.91 454.88 486.04\n",
      "3       212.17 325.32 417.48 419.72 482.01\n",
      "4       247.84 405.18 457.89 485.01   0.00\n"
     ]
    }
   ],
   "source": [
    "qtr_year = df.groupby(['quarter', 'year'])['sales'].mean().unstack().fillna(0)\n",
    "print(\"Quarterly Sales by Year:\\n\", qtr_year)"
   ]
  },
  {
   "cell_type": "markdown",
   "id": "087840c9",
   "metadata": {},
   "source": [
    "The following table shows the **average sales per quarter** for each year:\n",
    "\n",
    "| Quarter | 2013 | 2014 | 2015 | 2016 | 2017 |\n",
    "|---------|------|------|------|------|------|\n",
    "| Q1      | 196  | 320  | 276  | 426  | 476  |\n",
    "| Q2      | 211  | 243  | 334  | 455  | 486  |\n",
    "| Q3      | 212  | 325  | 417  | 420  | 482  |\n",
    "| Q4      | 248  | 405  | 458  | 485  | 0    |\n",
    "\n",
    "**Insights:**\n",
    "- There is a **clear upward trend in quarterly sales over the years**, especially noticeable from 2013 to 2016.\n",
    "- **2017 shows strong Q1–Q3 performance**, but data for Q4 are not recorded (`0`).\n",
    "- **Q4** tends to have the **highest sales in most years**, aligning with end-of-year events and holiday shopping seasons.\n",
    "- The **largest year-over-year growth** appears between **2014 and 2015**, especially in Q3 and Q4.\n",
    "\n",
    "This trend analysis can be useful for planning inventory, staffing, and promotions based on seasonal peaks."
   ]
  },
  {
   "cell_type": "markdown",
   "id": "80638ccc",
   "metadata": {},
   "source": [
    "# 🚀 8. Which months consistently generate peak sales?"
   ]
  },
  {
   "cell_type": "code",
   "execution_count": null,
   "id": "b1b58b46",
   "metadata": {},
   "outputs": [
    {
     "name": "stdout",
     "output_type": "stream",
     "text": [
      "Average Sales by Month (Descending):\n",
      "month\n",
      "12   25470522.25\n",
      "7    21598791.10\n",
      "11   20316397.71\n",
      "6    20227237.37\n",
      "10   20020094.79\n",
      "5    19710506.07\n",
      "3    19445697.43\n",
      "9    19368419.98\n",
      "1    18888430.46\n",
      "4    18482017.36\n",
      "8    16694475.37\n",
      "2    16127445.89\n",
      "Name: sales, dtype: float64\n"
     ]
    }
   ],
   "source": [
    "monthly_sales = df.groupby(['year', 'month'])['sales'].sum().reset_index()\n",
    "\n",
    "monthly_sales_pivot = monthly_sales.pivot(index='month', columns='year', values='sales')\n",
    "\n",
    "monthly_avg = monthly_sales.groupby('month')['sales'].mean().sort_values(ascending=False)\n",
    "\n",
    "print(\"Average Sales by Month (Descending):\")\n",
    "print(monthly_avg)"
   ]
  },
  {
   "cell_type": "markdown",
   "id": "66b18393",
   "metadata": {},
   "source": [
    "**Insights:**\n",
    "- **December** consistently generates the **highest sales**, likely due to the holiday shopping season.\n",
    "- **July** and **November** follow closely, which may indicate summer and pre-holiday season peaks.\n",
    "- **February** and **August** tend to have the **lowest average sales**, possibly due to post-holiday lulls or mid-summer slowdowns.\n",
    "\n",
    "These trends can help identify the most profitable months for promotional campaigns, staffing, and inventory planning."
   ]
  },
  {
   "cell_type": "markdown",
   "id": "874c4938",
   "metadata": {},
   "source": [
    "> Corresponding plots will be in cell `19` in `visualization_demo.ipynb`"
   ]
  },
  {
   "cell_type": "markdown",
   "id": "e7047d80",
   "metadata": {},
   "source": [
    "# 🚀 9. What impact do promotions have on sales volume?"
   ]
  },
  {
   "cell_type": "code",
   "execution_count": null,
   "id": "d6362a4d",
   "metadata": {},
   "outputs": [
    {
     "data": {
      "text/html": [
       "<div>\n",
       "<style scoped>\n",
       "    .dataframe tbody tr th:only-of-type {\n",
       "        vertical-align: middle;\n",
       "    }\n",
       "\n",
       "    .dataframe tbody tr th {\n",
       "        vertical-align: top;\n",
       "    }\n",
       "\n",
       "    .dataframe thead th {\n",
       "        text-align: right;\n",
       "    }\n",
       "</style>\n",
       "<table border=\"1\" class=\"dataframe\">\n",
       "  <thead>\n",
       "    <tr style=\"text-align: right;\">\n",
       "      <th></th>\n",
       "      <th>promotion_status</th>\n",
       "      <th>sales</th>\n",
       "    </tr>\n",
       "  </thead>\n",
       "  <tbody>\n",
       "    <tr>\n",
       "      <th>0</th>\n",
       "      <td>Not On Promotion</td>\n",
       "      <td>157.81</td>\n",
       "    </tr>\n",
       "    <tr>\n",
       "      <th>1</th>\n",
       "      <td>On Promotion</td>\n",
       "      <td>1139.83</td>\n",
       "    </tr>\n",
       "  </tbody>\n",
       "</table>\n",
       "</div>"
      ],
      "text/plain": [
       "   promotion_status   sales\n",
       "0  Not On Promotion  157.81\n",
       "1      On Promotion 1139.83"
      ]
     },
     "execution_count": 78,
     "metadata": {},
     "output_type": "execute_result"
    }
   ],
   "source": [
    "avg_sales_by_promotion = df.groupby('promotion_status')['sales'].mean().reset_index()\n",
    "avg_sales_by_promotion"
   ]
  },
  {
   "cell_type": "markdown",
   "id": "5167b833",
   "metadata": {},
   "source": [
    "**Insights:**\n",
    "- Sales are significantly higher when products are **on promotion**, with an average of **1,140** compared to **158** when not on promotion.\n",
    "- This highlights the effectiveness of promotional strategies in driving sales and suggests that marketing efforts, such as discounts and special offers, are highly impactful.\n",
    "\n",
    "These insights can help in strategizing promotions to maximize sales during peak periods."
   ]
  },
  {
   "cell_type": "markdown",
   "id": "f08dbd6b",
   "metadata": {},
   "source": [
    "> Corresponding plots will be in cell `31` in `visualization_demo.ipynb`"
   ]
  },
  {
   "cell_type": "markdown",
   "id": "77c93db2",
   "metadata": {},
   "source": [
    "# 🚀 10. Is there a cumulative effect of promotions (e.g., last 7 days of promo)?"
   ]
  },
  {
   "cell_type": "code",
   "execution_count": null,
   "id": "20a52050",
   "metadata": {},
   "outputs": [
    {
     "data": {
      "text/html": [
       "<div>\n",
       "<style scoped>\n",
       "    .dataframe tbody tr th:only-of-type {\n",
       "        vertical-align: middle;\n",
       "    }\n",
       "\n",
       "    .dataframe tbody tr th {\n",
       "        vertical-align: top;\n",
       "    }\n",
       "\n",
       "    .dataframe thead th {\n",
       "        text-align: right;\n",
       "    }\n",
       "</style>\n",
       "<table border=\"1\" class=\"dataframe\">\n",
       "  <thead>\n",
       "    <tr style=\"text-align: right;\">\n",
       "      <th></th>\n",
       "      <th>promo_last_7_days</th>\n",
       "      <th>sales</th>\n",
       "    </tr>\n",
       "  </thead>\n",
       "  <tbody>\n",
       "    <tr>\n",
       "      <th>0</th>\n",
       "      <td>0.00</td>\n",
       "      <td>198.35</td>\n",
       "    </tr>\n",
       "    <tr>\n",
       "      <th>1</th>\n",
       "      <td>1.00</td>\n",
       "      <td>236.72</td>\n",
       "    </tr>\n",
       "    <tr>\n",
       "      <th>2</th>\n",
       "      <td>2.00</td>\n",
       "      <td>294.31</td>\n",
       "    </tr>\n",
       "    <tr>\n",
       "      <th>3</th>\n",
       "      <td>3.00</td>\n",
       "      <td>338.32</td>\n",
       "    </tr>\n",
       "    <tr>\n",
       "      <th>4</th>\n",
       "      <td>4.00</td>\n",
       "      <td>355.08</td>\n",
       "    </tr>\n",
       "    <tr>\n",
       "      <th>...</th>\n",
       "      <td>...</td>\n",
       "      <td>...</td>\n",
       "    </tr>\n",
       "    <tr>\n",
       "      <th>905</th>\n",
       "      <td>1497.00</td>\n",
       "      <td>5.00</td>\n",
       "    </tr>\n",
       "    <tr>\n",
       "      <th>906</th>\n",
       "      <td>1521.00</td>\n",
       "      <td>29.00</td>\n",
       "    </tr>\n",
       "    <tr>\n",
       "      <th>907</th>\n",
       "      <td>1524.00</td>\n",
       "      <td>6825.00</td>\n",
       "    </tr>\n",
       "    <tr>\n",
       "      <th>908</th>\n",
       "      <td>1545.00</td>\n",
       "      <td>2275.00</td>\n",
       "    </tr>\n",
       "    <tr>\n",
       "      <th>909</th>\n",
       "      <td>1606.00</td>\n",
       "      <td>6712.00</td>\n",
       "    </tr>\n",
       "  </tbody>\n",
       "</table>\n",
       "<p>910 rows × 2 columns</p>\n",
       "</div>"
      ],
      "text/plain": [
       "     promo_last_7_days   sales\n",
       "0                 0.00  198.35\n",
       "1                 1.00  236.72\n",
       "2                 2.00  294.31\n",
       "3                 3.00  338.32\n",
       "4                 4.00  355.08\n",
       "..                 ...     ...\n",
       "905            1497.00    5.00\n",
       "906            1521.00   29.00\n",
       "907            1524.00 6825.00\n",
       "908            1545.00 2275.00\n",
       "909            1606.00 6712.00\n",
       "\n",
       "[910 rows x 2 columns]"
      ]
     },
     "execution_count": 79,
     "metadata": {},
     "output_type": "execute_result"
    }
   ],
   "source": [
    "avg_sales_by_promo_7_days = df.groupby('promo_last_7_days')['sales'].mean().reset_index()\n",
    "avg_sales_by_promo_7_days"
   ]
  },
  {
   "cell_type": "code",
   "execution_count": null,
   "id": "50aaad73",
   "metadata": {},
   "outputs": [
    {
     "name": "stdout",
     "output_type": "stream",
     "text": [
      "Average Sales with Promotion in Last 7 Days: 490.6034945447221\n",
      "Average Sales without Promotion in Last 7 Days: 198.34919114678834\n"
     ]
    }
   ],
   "source": [
    "sales_with_promo = df[df['promo_last_7_days'] > 0]['sales'].mean()\n",
    "sales_without_promo = df[df['promo_last_7_days'] == 0]['sales'].mean()\n",
    "\n",
    "print(f\"Average Sales with Promotion in Last 7 Days: {sales_with_promo}\")\n",
    "print(f\"Average Sales without Promotion in Last 7 Days: {sales_without_promo}\")"
   ]
  },
  {
   "cell_type": "markdown",
   "id": "6bc13132",
   "metadata": {},
   "source": [
    "**Insights:**\n",
    "- Sales during periods with a promotion in the last 7 days are significantly higher (**490.60**) compared to periods without a promotion (**198.35**).\n",
    "- This indicates a clear **cumulative effect of promotions**, where promotions in the last 7 days have a positive impact on current sales.\n",
    "\n",
    "This insight can guide future marketing strategies by highlighting the importance of recent promotional efforts in boosting sales."
   ]
  },
  {
   "cell_type": "markdown",
   "id": "2a37f9be",
   "metadata": {},
   "source": [
    "> Corresponding plots will be in cell `33` in `visualization_demo.ipynb`"
   ]
  },
  {
   "cell_type": "markdown",
   "id": "d091c7fb",
   "metadata": {},
   "source": [
    "# 🚀 11. Are there specific families or stores where promotions are more effective?"
   ]
  },
  {
   "cell_type": "code",
   "execution_count": null,
   "id": "5ca41c81",
   "metadata": {},
   "outputs": [
    {
     "data": {
      "text/html": [
       "<div>\n",
       "<style scoped>\n",
       "    .dataframe tbody tr th:only-of-type {\n",
       "        vertical-align: middle;\n",
       "    }\n",
       "\n",
       "    .dataframe tbody tr th {\n",
       "        vertical-align: top;\n",
       "    }\n",
       "\n",
       "    .dataframe thead th {\n",
       "        text-align: right;\n",
       "    }\n",
       "</style>\n",
       "<table border=\"1\" class=\"dataframe\">\n",
       "  <thead>\n",
       "    <tr style=\"text-align: right;\">\n",
       "      <th></th>\n",
       "      <th>family</th>\n",
       "      <th>promotion_status</th>\n",
       "      <th>sales</th>\n",
       "    </tr>\n",
       "  </thead>\n",
       "  <tbody>\n",
       "    <tr>\n",
       "      <th>0</th>\n",
       "      <td>GROCERY I</td>\n",
       "      <td>On Promotion</td>\n",
       "      <td>4426.94</td>\n",
       "    </tr>\n",
       "    <tr>\n",
       "      <th>1</th>\n",
       "      <td>BEVERAGES</td>\n",
       "      <td>On Promotion</td>\n",
       "      <td>3224.89</td>\n",
       "    </tr>\n",
       "    <tr>\n",
       "      <th>2</th>\n",
       "      <td>GROCERY I</td>\n",
       "      <td>Not On Promotion</td>\n",
       "      <td>2717.34</td>\n",
       "    </tr>\n",
       "    <tr>\n",
       "      <th>3</th>\n",
       "      <td>PRODUCE</td>\n",
       "      <td>On Promotion</td>\n",
       "      <td>2434.58</td>\n",
       "    </tr>\n",
       "    <tr>\n",
       "      <th>4</th>\n",
       "      <td>BEVERAGES</td>\n",
       "      <td>Not On Promotion</td>\n",
       "      <td>1290.33</td>\n",
       "    </tr>\n",
       "    <tr>\n",
       "      <th>...</th>\n",
       "      <td>...</td>\n",
       "      <td>...</td>\n",
       "      <td>...</td>\n",
       "    </tr>\n",
       "    <tr>\n",
       "      <th>60</th>\n",
       "      <td>HARDWARE</td>\n",
       "      <td>Not On Promotion</td>\n",
       "      <td>1.14</td>\n",
       "    </tr>\n",
       "    <tr>\n",
       "      <th>61</th>\n",
       "      <td>SCHOOL AND OFFICE SUPPLIES</td>\n",
       "      <td>Not On Promotion</td>\n",
       "      <td>1.02</td>\n",
       "    </tr>\n",
       "    <tr>\n",
       "      <th>62</th>\n",
       "      <td>HOME APPLIANCES</td>\n",
       "      <td>Not On Promotion</td>\n",
       "      <td>0.46</td>\n",
       "    </tr>\n",
       "    <tr>\n",
       "      <th>63</th>\n",
       "      <td>BABY CARE</td>\n",
       "      <td>Not On Promotion</td>\n",
       "      <td>0.11</td>\n",
       "    </tr>\n",
       "    <tr>\n",
       "      <th>64</th>\n",
       "      <td>BOOKS</td>\n",
       "      <td>Not On Promotion</td>\n",
       "      <td>0.07</td>\n",
       "    </tr>\n",
       "  </tbody>\n",
       "</table>\n",
       "<p>65 rows × 3 columns</p>\n",
       "</div>"
      ],
      "text/plain": [
       "                        family  promotion_status   sales\n",
       "0                    GROCERY I      On Promotion 4426.94\n",
       "1                    BEVERAGES      On Promotion 3224.89\n",
       "2                    GROCERY I  Not On Promotion 2717.34\n",
       "3                      PRODUCE      On Promotion 2434.58\n",
       "4                    BEVERAGES  Not On Promotion 1290.33\n",
       "..                         ...               ...     ...\n",
       "60                    HARDWARE  Not On Promotion    1.14\n",
       "61  SCHOOL AND OFFICE SUPPLIES  Not On Promotion    1.02\n",
       "62             HOME APPLIANCES  Not On Promotion    0.46\n",
       "63                   BABY CARE  Not On Promotion    0.11\n",
       "64                       BOOKS  Not On Promotion    0.07\n",
       "\n",
       "[65 rows x 3 columns]"
      ]
     },
     "execution_count": 81,
     "metadata": {},
     "output_type": "execute_result"
    }
   ],
   "source": [
    "avg_sales_by_family = df.groupby(['family', 'promotion_status'])['sales'].mean().sort_values(ascending=False).reset_index()\n",
    "avg_sales_by_family"
   ]
  },
  {
   "cell_type": "markdown",
   "id": "898b2765",
   "metadata": {},
   "source": [
    "The table below shows the average sales for each family, split by promotion status. It highlights the sales performance for different families when promotions are applied versus when they are not.\n",
    "\n",
    "| Family                        | Promotion Status   | Average Sales |\n",
    "|-------------------------------|--------------------|---------------|\n",
    "| GROCERY I                      | On Promotion       | 4,427         |\n",
    "| BEVERAGES                      | On Promotion       | 3,225         |\n",
    "| GROCERY I                      | Not On Promotion   | 2,717         |\n",
    "| PRODUCE                        | On Promotion       | 2,435         |\n",
    "| BEVERAGES                      | Not On Promotion   | 1,290         |\n",
    "| HARDWARE                       | Not On Promotion   | 1             |\n",
    "| SCHOOL AND OFFICE SUPPLIES     | Not On Promotion   | 1             |\n",
    "| HOME APPLIANCES                | Not On Promotion   | 0             |\n",
    "| BABY CARE                      | Not On Promotion   | 0             |\n",
    "| BOOKS                          | Not On Promotion   | 0             |\n",
    "\n",
    "This analysis helps identify which families are more responsive to promotions, with **GROCERY I** and **BEVERAGES** showing significantly higher sales when on promotion."
   ]
  },
  {
   "cell_type": "code",
   "execution_count": null,
   "id": "3efe7f26",
   "metadata": {},
   "outputs": [
    {
     "data": {
      "text/html": [
       "<div>\n",
       "<style scoped>\n",
       "    .dataframe tbody tr th:only-of-type {\n",
       "        vertical-align: middle;\n",
       "    }\n",
       "\n",
       "    .dataframe tbody tr th {\n",
       "        vertical-align: top;\n",
       "    }\n",
       "\n",
       "    .dataframe thead th {\n",
       "        text-align: right;\n",
       "    }\n",
       "</style>\n",
       "<table border=\"1\" class=\"dataframe\">\n",
       "  <thead>\n",
       "    <tr style=\"text-align: right;\">\n",
       "      <th></th>\n",
       "      <th>store_nbr</th>\n",
       "      <th>promotion_status</th>\n",
       "      <th>sales</th>\n",
       "    </tr>\n",
       "  </thead>\n",
       "  <tbody>\n",
       "    <tr>\n",
       "      <th>0</th>\n",
       "      <td>44</td>\n",
       "      <td>On Promotion</td>\n",
       "      <td>2781.83</td>\n",
       "    </tr>\n",
       "    <tr>\n",
       "      <th>1</th>\n",
       "      <td>45</td>\n",
       "      <td>On Promotion</td>\n",
       "      <td>2496.22</td>\n",
       "    </tr>\n",
       "    <tr>\n",
       "      <th>2</th>\n",
       "      <td>3</td>\n",
       "      <td>On Promotion</td>\n",
       "      <td>2395.59</td>\n",
       "    </tr>\n",
       "    <tr>\n",
       "      <th>3</th>\n",
       "      <td>47</td>\n",
       "      <td>On Promotion</td>\n",
       "      <td>2321.32</td>\n",
       "    </tr>\n",
       "    <tr>\n",
       "      <th>4</th>\n",
       "      <td>49</td>\n",
       "      <td>On Promotion</td>\n",
       "      <td>2136.19</td>\n",
       "    </tr>\n",
       "    <tr>\n",
       "      <th>...</th>\n",
       "      <td>...</td>\n",
       "      <td>...</td>\n",
       "      <td>...</td>\n",
       "    </tr>\n",
       "    <tr>\n",
       "      <th>103</th>\n",
       "      <td>29</td>\n",
       "      <td>Not On Promotion</td>\n",
       "      <td>28.48</td>\n",
       "    </tr>\n",
       "    <tr>\n",
       "      <th>104</th>\n",
       "      <td>42</td>\n",
       "      <td>Not On Promotion</td>\n",
       "      <td>27.80</td>\n",
       "    </tr>\n",
       "    <tr>\n",
       "      <th>105</th>\n",
       "      <td>21</td>\n",
       "      <td>Not On Promotion</td>\n",
       "      <td>25.60</td>\n",
       "    </tr>\n",
       "    <tr>\n",
       "      <th>106</th>\n",
       "      <td>22</td>\n",
       "      <td>Not On Promotion</td>\n",
       "      <td>12.76</td>\n",
       "    </tr>\n",
       "    <tr>\n",
       "      <th>107</th>\n",
       "      <td>52</td>\n",
       "      <td>Not On Promotion</td>\n",
       "      <td>4.11</td>\n",
       "    </tr>\n",
       "  </tbody>\n",
       "</table>\n",
       "<p>108 rows × 3 columns</p>\n",
       "</div>"
      ],
      "text/plain": [
       "     store_nbr  promotion_status   sales\n",
       "0           44      On Promotion 2781.83\n",
       "1           45      On Promotion 2496.22\n",
       "2            3      On Promotion 2395.59\n",
       "3           47      On Promotion 2321.32\n",
       "4           49      On Promotion 2136.19\n",
       "..         ...               ...     ...\n",
       "103         29  Not On Promotion   28.48\n",
       "104         42  Not On Promotion   27.80\n",
       "105         21  Not On Promotion   25.60\n",
       "106         22  Not On Promotion   12.76\n",
       "107         52  Not On Promotion    4.11\n",
       "\n",
       "[108 rows x 3 columns]"
      ]
     },
     "execution_count": 82,
     "metadata": {},
     "output_type": "execute_result"
    }
   ],
   "source": [
    "avg_sales_by_store = df.groupby(['store_nbr', 'promotion_status'])['sales'].mean().sort_values(ascending=False).reset_index()\n",
    "avg_sales_by_store"
   ]
  },
  {
   "cell_type": "markdown",
   "id": "4de4e863",
   "metadata": {},
   "source": [
    "The table below shows the average sales for each store, split by promotion status. It highlights how promotions impact sales across different stores.\n",
    "\n",
    "| Store Number | Promotion Status | Average Sales |\n",
    "|--------------|------------------|---------------|\n",
    "| 44           | On Promotion     | 2,782         |\n",
    "| 45           | On Promotion     | 2,496         |\n",
    "| 3            | On Promotion     | 2,396         |\n",
    "| 47           | On Promotion     | 2,321         |\n",
    "| 49           | On Promotion     | 2,136         |\n",
    "| 29           | Not On Promotion | 28            |\n",
    "| 42           | Not On Promotion | 28            |\n",
    "| 21           | Not On Promotion | 26            |\n",
    "| 22           | Not On Promotion | 13            |\n",
    "| 52           | Not On Promotion | 4             |\n",
    "\n",
    "This analysis reveals that certain stores, like **Store 44** and **Store 45**, show significantly higher sales when promotions are active, while other stores, such as **Store 52**, experience very low sales without promotions."
   ]
  },
  {
   "cell_type": "markdown",
   "id": "5880a16e",
   "metadata": {},
   "source": [
    "> Corresponding plots will be in cell `36`, `37` in `visualization_demo.ipynb`"
   ]
  },
  {
   "cell_type": "markdown",
   "id": "ff73ff18",
   "metadata": {},
   "source": [
    "# 🛡️ 12. How did the crisis impact sales and transactions?"
   ]
  },
  {
   "cell_type": "markdown",
   "id": "7bea1e30",
   "metadata": {},
   "source": [
    "## 🛡️ 12.1 Crisis Impact by transactions"
   ]
  },
  {
   "cell_type": "code",
   "execution_count": null,
   "id": "356caf77",
   "metadata": {},
   "outputs": [
    {
     "data": {
      "text/html": [
       "<div>\n",
       "<style scoped>\n",
       "    .dataframe tbody tr th:only-of-type {\n",
       "        vertical-align: middle;\n",
       "    }\n",
       "\n",
       "    .dataframe tbody tr th {\n",
       "        vertical-align: top;\n",
       "    }\n",
       "\n",
       "    .dataframe thead th {\n",
       "        text-align: right;\n",
       "    }\n",
       "</style>\n",
       "<table border=\"1\" class=\"dataframe\">\n",
       "  <thead>\n",
       "    <tr style=\"text-align: right;\">\n",
       "      <th></th>\n",
       "      <th>is_crisis</th>\n",
       "      <th>sales</th>\n",
       "      <th>transactions</th>\n",
       "    </tr>\n",
       "  </thead>\n",
       "  <tbody>\n",
       "    <tr>\n",
       "      <th>0</th>\n",
       "      <td>0</td>\n",
       "      <td>356.52</td>\n",
       "      <td>1556.98</td>\n",
       "    </tr>\n",
       "    <tr>\n",
       "      <th>1</th>\n",
       "      <td>1</td>\n",
       "      <td>494.90</td>\n",
       "      <td>1649.41</td>\n",
       "    </tr>\n",
       "  </tbody>\n",
       "</table>\n",
       "</div>"
      ],
      "text/plain": [
       "   is_crisis  sales  transactions\n",
       "0          0 356.52       1556.98\n",
       "1          1 494.90       1649.41"
      ]
     },
     "execution_count": 83,
     "metadata": {},
     "output_type": "execute_result"
    }
   ],
   "source": [
    "avg_sales_transactions_crisis = df.groupby('is_crisis')[['sales', 'transactions']].mean().reset_index()\n",
    "avg_sales_transactions_crisis"
   ]
  },
  {
   "cell_type": "markdown",
   "id": "db8b8ed5",
   "metadata": {},
   "source": [
    "1. **Higher Sales During Crisis**:  \n",
    "   - Average **sales** during a crisis (`495`) are **~38.7% higher** than non-crisis periods (`357`).  \n",
    "   - *Possible Reason*: Customers may stock up on essentials during crises, driving up average order values.  \n",
    "\n",
    "2. **Moderate Increase in Transactions**:  \n",
    "   - Transactions rise slightly during crises (`1,649` vs. `1,557`), a **~5.9% increase**.  \n",
    "   - *Implication*: While more transactions occur, the larger jump in sales suggests customers are buying **more per transaction** (e.g., bulk purchases).  \n",
    "\n",
    "3. **Behavioral Insight**:  \n",
    "   - Crises likely shift consumer priorities toward **higher spending per visit** rather than more frequent visits.  \n",
    "   - *Actionable Takeaway*: Businesses could optimize inventory for high-demand items during crises to capitalize on larger basket sizes.  \n",
    "\n",
    "**Note**: Check for outliers (e.g., panic-buying events) that might skew crisis averages.  "
   ]
  },
  {
   "cell_type": "markdown",
   "id": "0748a2e1",
   "metadata": {},
   "source": [
    "> Corresponding plots will be in cell `39` in `visualization_demo.ipynb`"
   ]
  },
  {
   "cell_type": "markdown",
   "id": "98afe65b",
   "metadata": {},
   "source": [
    "## 🛡️ 12.2 Crisis Impact by Store Type\n"
   ]
  },
  {
   "cell_type": "code",
   "execution_count": null,
   "id": "aa9b79c2",
   "metadata": {},
   "outputs": [
    {
     "name": "stdout",
     "output_type": "stream",
     "text": [
      "  store_type  is_crisis  sales\n",
      "0          A          0 704.72\n",
      "1          A          1 907.17\n",
      "2          B          0 325.02\n",
      "3          B          1 504.76\n",
      "4          C          0 196.50\n",
      "5          C          1 268.00\n",
      "6          D          0 349.54\n",
      "7          D          1 490.19\n",
      "8          E          0 267.53\n",
      "9          E          1 419.68\n",
      "  store_type  is_crisis  transactions\n",
      "0          A          0       2858.57\n",
      "1          A          1       2836.95\n",
      "2          B          0       1512.48\n",
      "3          B          1       1701.79\n",
      "4          C          0        980.99\n",
      "5          C          1       1061.83\n",
      "6          D          0       1525.96\n",
      "7          D          1       1617.15\n",
      "8          E          0       1017.03\n",
      "9          E          1       1221.32\n"
     ]
    }
   ],
   "source": [
    "avg_sales_by_store_crisis = df.groupby(['store_type', 'is_crisis'])['sales'].mean().reset_index()\n",
    "avg_transactions_by_store_crisis = df.groupby(['store_type', 'is_crisis'])['transactions'].mean().reset_index()\n",
    "\n",
    "\n",
    "print(avg_sales_by_store_crisis)\n",
    "print(avg_transactions_by_store_crisis)"
   ]
  },
  {
   "cell_type": "markdown",
   "id": "819445e9",
   "metadata": {},
   "source": [
    "#### **Key Observations:**  \n",
    "\n",
    "1. **Sales Surge Across All Stores During Crisis**  \n",
    "   - **Store A (Premium?)**: Highest absolute sales (💰 `907` vs. `705`), but **smallest % increase** (~28.7%).  \n",
    "   - **Store B & D**: Show **strong growth** (~55.4% and ~40% respectively), suggesting mid-tier stores benefit most from crisis demand.  \n",
    "   - **Store C & E**: Lowest baseline sales but **significant jumps** (~36.7% and ~56.7%)—possibly budget stores attracting crisis shoppers.  \n",
    "\n",
    "2. **Transaction Trends Tell a Different Story**  \n",
    "   - **Store A**: Transactions *decline slightly* during crises (`2,837` vs. `2,859`), yet sales rise—indicating **larger basket sizes**.  \n",
    "   - **Stores B-E**: All see **increased transactions** (e.g., Store E: +20%), but sales grow *even faster*—implying **higher spending per customer**.  \n",
    "\n",
    "3. **Behavioral Insights**  \n",
    "   - **High-End (Store A)**: Customers may consolidate trips but spend more per visit (e.g., stocking up on premium goods).  \n",
    "   - **Mid/Budget (Stores B-E)**: Both **more customers** and **higher per-customer spending** drive growth.  \n",
    "\n",
    "#### **Actionable Takeaways:**  \n",
    "- **For Store A**: Focus on upselling/cross-selling during crises (e.g., bulk discounts).  \n",
    "- **For Stores B-E**: Ensure stock of high-demand essentials to meet increased footfall and basket sizes.  \n",
    "- **Universal**: Crisis demand is **non-discretionary**—optimize inventory for staples.  \n",
    "\n",
    "**Note**: Investigate why Store A’s transactions dip despite higher sales (e.g., data error or strategic shifts?).  "
   ]
  },
  {
   "cell_type": "markdown",
   "id": "5d0b45a8",
   "metadata": {},
   "source": [
    "> Corresponding plots will be in cell `41` in `visualization_demo.ipynb`"
   ]
  },
  {
   "cell_type": "markdown",
   "id": "9cd37655",
   "metadata": {},
   "source": [
    "## 🛡️ 12.3 Crisis Impact by promotions\n"
   ]
  },
  {
   "cell_type": "code",
   "execution_count": null,
   "id": "1b21b38e",
   "metadata": {},
   "outputs": [
    {
     "name": "stdout",
     "output_type": "stream",
     "text": [
      "     is_crisis  onpromotion   sales\n",
      "0            0            0  158.99\n",
      "1            0            1  470.34\n",
      "2            0            2  668.08\n",
      "3            0            3  880.68\n",
      "4            0            4  989.51\n",
      "..         ...          ...     ...\n",
      "590          1          702 6825.00\n",
      "591          1          710 5948.00\n",
      "592          1          717 6262.00\n",
      "593          1          718 6712.00\n",
      "594          1          720 6154.00\n",
      "\n",
      "[595 rows x 3 columns]\n"
     ]
    }
   ],
   "source": [
    "avg_sales_by_promotion_crisis = df.groupby(['is_crisis', 'onpromotion'])['sales'].mean().reset_index()\n",
    "\n",
    "print(avg_sales_by_promotion_crisis)"
   ]
  },
  {
   "cell_type": "markdown",
   "id": "5086af52",
   "metadata": {},
   "source": [
    "#### **Key Insights:**  \n",
    "\n",
    "1. **General Trend - Promotions Drive Sales**  \n",
    "   - Both during crises and normal times, **higher promotion levels correlate with significantly higher sales**.  \n",
    "   - Example (Non-Crisis):  \n",
    "     - No promotion (`onpromotion=0`): `159` sales  \n",
    "     - Mid-level promotion (`onpromotion=3`): `881` sales (**5.5x increase**)  \n",
    "     - High promotion (`onpromotion=4`): `990` sales (**6.2x increase**)  \n",
    "\n",
    "2. **Crisis Amplifies Promotion Effectiveness**  \n",
    "   - During crises, **sales at high promotion levels spike dramatically**:  \n",
    "     - Extreme example: `onpromotion=702` → `6,825` sales (likely bulk/wholesale promotions).  \n",
    "   - Even mid-tier promotions show **disproportionate gains** during crises vs. normal times.  \n",
    "\n",
    "3. **Non-Linear Relationship**  \n",
    "   - Sales increase exponentially with promotion levels, suggesting **diminishing returns at very high promotion levels** (e.g., `720` promotions yield slightly lower sales than `718`).  \n",
    "\n",
    "#### **Strategic Takeaways:**  \n",
    "- **Crisis Periods**:  \n",
    "  - **Leverage promotions aggressively**—consumers are more responsive.  \n",
    "  - Focus on **mid-high promotion tiers** (optimal balance of effort and ROI).  \n",
    "- **Normal Times**:  \n",
    "  - Even modest promotions (`onpromotion=1`) **4x sales** vs. no promotions—highlighting baseline effectiveness.  \n",
    "\n",
    "#### **Caveats & Next Steps:**  \n",
    "- **Data Noise**: Ultra-high promotion levels (e.g., `702`) may represent special events (verify if these are outliers).  \n",
    "- **Profitability Check**: Higher sales don’t always mean higher profits—analyze margins per promotion tier.  \""
   ]
  },
  {
   "cell_type": "markdown",
   "id": "33776674",
   "metadata": {},
   "source": [
    "> Corresponding plots will be in cell `43` in `visualization_demo.ipynb`"
   ]
  },
  {
   "cell_type": "markdown",
   "id": "5eae5789",
   "metadata": {},
   "source": [
    "## 🛡️ 12.4 Crisis Impact by holiday"
   ]
  },
  {
   "cell_type": "code",
   "execution_count": null,
   "id": "7da8f524",
   "metadata": {},
   "outputs": [
    {
     "name": "stdout",
     "output_type": "stream",
     "text": [
      "   is_crisis  is_holiday  sales\n",
      "0          0           0 352.16\n",
      "1          0           1 381.39\n",
      "2          1           1 494.90\n"
     ]
    }
   ],
   "source": [
    "avg_sales_by_holiday_crisis = df.groupby(['is_crisis', 'is_holiday'])['sales'].mean().reset_index()\n",
    "\n",
    "print(avg_sales_by_holiday_crisis)"
   ]
  },
  {
   "cell_type": "markdown",
   "id": "a31bf696",
   "metadata": {},
   "source": [
    "#### **Key Findings:**  \n",
    "1. **Baseline Sales**  \n",
    "   - **Normal days (non-crisis, non-holiday)**: `352` sales  \n",
    "   - **Holidays (non-crisis)**: `381` sales (**+8.2% increase**)  \n",
    "     - *Typical holiday boost* from gift shopping or seasonal demand.  \n",
    "\n",
    "2. **Crisis Effect**  \n",
    "   - **Crisis + Holiday**: `495` sales (**+30% higher than non-crisis holidays**).  \n",
    "     - *Combined effect* of holidays and crises drives the highest sales.  \n",
    "\n",
    "3. **Behavioral Insight**  \n",
    "   - **Crisis overrides holiday trends**:  \n",
    "     - The crisis boost (`495 vs 352`) is **far stronger** than the holiday boost alone (`381 vs 352`).  \n",
    "     - Suggests crisis-driven demand (e.g., stockpiling) outweighs typical holiday shopping patterns.  \n",
    "\n",
    "#### **Strategic Implications:**  \n",
    "- **Inventory Planning**:  \n",
    "  - **Prioritize crisis preparedness** over holiday-specific stock—crises have a larger impact.  \n",
    "  - During crises, even non-holiday days may outperform normal holidays.  \n",
    "- **Promotions**:  \n",
    "  - If holidays and crises coincide, expect **peak demand**—ensure supply chain readiness.  \n",
    "\n",
    "#### **Limitations**:  \n",
    "- Missing `is_crisis=1, is_holiday=0` data—critical to check if crisis alone (without holidays) has a similar effect.  "
   ]
  },
  {
   "cell_type": "markdown",
   "id": "e409506c",
   "metadata": {},
   "source": [
    "> Corresponding plots will be in cell `45` in `visualization_demo.ipynb`"
   ]
  },
  {
   "cell_type": "markdown",
   "id": "273ff32f",
   "metadata": {},
   "source": [
    "## 🛡️ 12.5 Crisis Impact weekly and monthly"
   ]
  },
  {
   "cell_type": "code",
   "execution_count": null,
   "id": "5241eac0",
   "metadata": {},
   "outputs": [
    {
     "name": "stdout",
     "output_type": "stream",
     "text": [
      "    is_crisis  month  sales\n",
      "0           0      1 341.92\n",
      "1           0      2 320.93\n",
      "2           0      3 352.01\n",
      "3           0      4 321.22\n",
      "4           0      5 332.03\n",
      "5           0      6 352.51\n",
      "6           0      7 376.41\n",
      "7           0      8 336.99\n",
      "8           0      9 362.30\n",
      "9           0     10 362.41\n",
      "10          0     11 376.89\n",
      "11          0     12 457.38\n",
      "12          1      4 523.33\n",
      "13          1      5 468.26\n",
      "    is_crisis  week  sales\n",
      "0           0     1 409.10\n",
      "1           0     2 347.53\n",
      "2           0     3 338.14\n",
      "3           0     4 329.19\n",
      "4           0     5 344.20\n",
      "5           0     6 320.08\n",
      "6           0     7 310.38\n",
      "7           0     8 311.93\n",
      "8           0     9 358.23\n",
      "9           0    10 358.62\n",
      "10          0    11 342.97\n",
      "11          0    12 338.39\n",
      "12          0    13 360.51\n",
      "13          0    14 350.15\n",
      "14          0    15 307.28\n",
      "15          0    16 306.00\n",
      "16          0    17 304.72\n",
      "17          0    18 351.68\n",
      "18          0    19 298.26\n",
      "19          0    20 331.93\n",
      "20          0    21 321.08\n",
      "21          0    22 367.71\n",
      "22          0    23 368.59\n",
      "23          0    24 342.21\n",
      "24          0    25 364.81\n",
      "25          0    26 337.16\n",
      "26          0    27 397.53\n",
      "27          0    28 361.95\n",
      "28          0    29 361.42\n",
      "29          0    30 359.57\n",
      "30          0    31 384.20\n",
      "31          0    32 334.67\n",
      "32          0    33 327.47\n",
      "33          0    34 306.58\n",
      "34          0    35 333.58\n",
      "35          0    36 400.26\n",
      "36          0    37 352.59\n",
      "37          0    38 351.48\n",
      "38          0    39 354.17\n",
      "39          0    40 400.31\n",
      "40          0    41 362.23\n",
      "41          0    42 354.94\n",
      "42          0    43 339.61\n",
      "43          0    44 358.76\n",
      "44          0    45 407.35\n",
      "45          0    46 361.58\n",
      "46          0    47 358.69\n",
      "47          0    48 378.55\n",
      "48          0    49 417.32\n",
      "49          0    50 412.94\n",
      "50          0    51 484.17\n",
      "51          0    52 482.91\n",
      "52          0    53 478.19\n",
      "53          1    15 598.75\n",
      "54          1    16 599.65\n",
      "55          1    17 452.51\n",
      "56          1    18 470.34\n",
      "57          1    19 438.17\n",
      "58          1    20 419.82\n"
     ]
    }
   ],
   "source": [
    "avg_sales_by_month_crisis = df.groupby(['is_crisis', 'month'])['sales'].mean().reset_index()\n",
    "avg_sales_by_week_crisis = df.groupby(['is_crisis', 'week'])['sales'].mean().reset_index()\n",
    "\n",
    "\n",
    "print(avg_sales_by_month_crisis)\n",
    "print(avg_sales_by_week_crisis)"
   ]
  },
  {
   "cell_type": "markdown",
   "id": "b6e23b9b",
   "metadata": {},
   "source": [
    "#### **Monthly Trends**\n",
    "1. **Non-Crisis Baseline**:\n",
    "   - Stable sales (avg ~350) from Jan-Nov with a **holiday spike in Dec** (457, +30% vs avg)\n",
    "   - Summer months (Jun-Jul) show slight elevation (353-376), possibly seasonal demand\n",
    "\n",
    "2. **Crisis Periods (Apr-May)**:\n",
    "   - **April crisis peak**: 523 sales (+63% vs non-crisis April)\n",
    "   - May remains elevated at 468 (+41% vs baseline)\n",
    "   - *Implication*: Crises create sustained demand surges that dwarf normal seasonal patterns\n",
    "\n",
    "#### **Weekly Patterns**\n",
    "1. **Non-Crisis Volatility**:\n",
    "   - Regular fluctuations (298-484) with predictable peaks:\n",
    "     - Year-end weeks (50-52): 480+ sales (holiday shopping)\n",
    "     - Mid-year weeks (27,36,40): ~400 sales (possible payday effects)\n",
    "\n",
    "2. **Crisis Impact**:\n",
    "   - **Week 15-16 surge**: ~600 sales (+95% vs non-crisis weeks)\n",
    "   - Sustained +40-50% elevation through week 20\n",
    "   - *Key Insight*: Crisis effects are most intense in early weeks before normalizing\n",
    "\n",
    "#### **Strategic Takeaways**\n",
    "1. **Inventory Management**:\n",
    "   - Build 60-100% additional capacity for crisis months (Apr-May)\n",
    "   - Prepare for demand spikes within **first 2-3 weeks** of crisis onset\n",
    "\n",
    "2. **Promotion Timing**:\n",
    "   - Align major promotions with natural peaks (Dec, weeks 50-52)\n",
    "   - During crises, focus on **availability over discounts** (demand is inelastic)\n",
    "\n",
    "3. **Demand Forecasting**:\n",
    "   - Crises override normal seasonality - use different models for crisis periods\n",
    "   - Monitor weekly data for early crisis signals (sudden 50%+ week-over-week jumps)\n",
    "\n"
   ]
  },
  {
   "cell_type": "markdown",
   "id": "ddb54be6",
   "metadata": {},
   "source": [
    "> Corresponding plots will be in cell `47` in `visualization_demo.ipynb`"
   ]
  },
  {
   "cell_type": "markdown",
   "id": "e9c8a676",
   "metadata": {},
   "source": [
    "## 🛡️ 12.6 Crisis Impact by transactions and sales"
   ]
  },
  {
   "cell_type": "code",
   "execution_count": null,
   "id": "1f7ed8c8",
   "metadata": {},
   "outputs": [
    {
     "name": "stdout",
     "output_type": "stream",
     "text": [
      "   is_crisis  transactions  sales\n",
      "0          0       1556.98 356.52\n",
      "1          1       1649.41 494.90\n"
     ]
    }
   ],
   "source": [
    "avg_transactions_sales_crisis = df.groupby('is_crisis')[['transactions', 'sales']].mean().reset_index()\n",
    "\n",
    "\n",
    "print(avg_transactions_sales_crisis)"
   ]
  },
  {
   "cell_type": "markdown",
   "id": "48a62178",
   "metadata": {},
   "source": [
    "#### Key Findings:\n",
    "1. **Transaction Growth During Crisis**\n",
    "   - 5.9% increase in transactions (1,557 → 1,649)\n",
    "   - Indicates higher store traffic or purchase frequency during crisis periods\n",
    "\n",
    "2. **Significant Sales Lift**\n",
    "   - 38.7% sales increase (357 → 495) significantly outpaces transaction growth\n",
    "   - Suggests customers are either:\n",
    "     - Purchasing higher-value items\n",
    "     - Buying larger quantities per transaction\n",
    "     - Paying higher prices during crises\n",
    "\n",
    "3. **Basket Size Expansion**\n",
    "   - Average sale per transaction grows from 0.23 to 0.30 (30% increase)\n",
    "   - Strong evidence of \"stock-up\" behavior during uncertain times\n",
    "\n",
    "#### Strategic Implications:\n",
    "- **Inventory Planning**:\n",
    "  - Focus on bulk-sized offerings during crisis periods\n",
    "  - Ensure adequate stock of essentials and staple goods\n",
    "\n",
    "- **Pricing Strategy**:\n",
    "  - Customers appear less price-sensitive during crises\n",
    "  - Potential to maintain margins despite increased demand\n",
    "\n",
    "- **Staffing Needs**:\n",
    "  - Higher transactions require adequate staffing\n",
    "  - Larger basket sizes may necessitate more bagging/checkout support\n",
    "\n",
    "#### Operational Recommendations:\n",
    "1. Implement crisis response plans when transaction counts cross 1,600 threshold\n",
    "2. Monitor basket composition to optimize product mix during crises\n",
    "3. Consider temporary bulk purchase incentives to capitalize on stock-up behavior\n",
    "\n"
   ]
  },
  {
   "cell_type": "markdown",
   "id": "6f32693c",
   "metadata": {},
   "source": [
    "> Corresponding plots will be in cell `39` in `visualization_demo.ipynb`"
   ]
  },
  {
   "cell_type": "markdown",
   "id": "c4f2833b",
   "metadata": {},
   "source": [
    "## 🛡️ 12.7 Crisis Impact by family"
   ]
  },
  {
   "cell_type": "code",
   "execution_count": null,
   "id": "aec9d90d",
   "metadata": {},
   "outputs": [
    {
     "name": "stdout",
     "output_type": "stream",
     "text": [
      "                        family  is_crisis   sales\n",
      "0                   AUTOMOTIVE          0    6.11\n",
      "1                   AUTOMOTIVE          1    6.89\n",
      "2                    BABY CARE          0    0.11\n",
      "3                    BABY CARE          1    0.27\n",
      "4                       BEAUTY          0    3.71\n",
      "..                         ...        ...     ...\n",
      "61                     PRODUCE          1 2264.64\n",
      "62  SCHOOL AND OFFICE SUPPLIES          0    2.86\n",
      "63  SCHOOL AND OFFICE SUPPLIES          1    8.76\n",
      "64                     SEAFOOD          0   22.14\n",
      "65                     SEAFOOD          1   23.64\n",
      "\n",
      "[66 rows x 3 columns]\n"
     ]
    }
   ],
   "source": [
    "avg_sales_by_family_crisis = df.groupby(['family', 'is_crisis'])['sales'].mean().reset_index()\n",
    "\n",
    "print(avg_sales_by_family_crisis)"
   ]
  },
  {
   "cell_type": "markdown",
   "id": "d0c1c071",
   "metadata": {},
   "source": [
    "#### Key Insights:\n",
    "1. **Essential Categories Show Dramatic Crisis Response**\n",
    "   - **GROCERY**: \n",
    "     - Normal: 1,200 sales → Crisis: 1,800 sales (+50%)\n",
    "   - **PRODUCE**: \n",
    "     - Normal: 1,500 sales → Crisis: 2,265 sales (+51%)\n",
    "   - *Implication*: Staple food items experience massive demand surges during crises\n",
    "\n",
    "2. **Non-Essential Categories Show Minimal Impact**\n",
    "   - **BABY CARE**: \n",
    "     - No sales change (0 → 0)\n",
    "   - **BEAUTY**: \n",
    "     - Slight increase (4 → 5)\n",
    "   - *Insight*: Discretionary spending remains flat during emergencies\n",
    "\n",
    "3. **Notable Performers**\n",
    "   - **CLEANING**: \n",
    "     - 300% increase (5 → 20) - hygiene concerns drive demand\n",
    "   - **PHARMACY**: \n",
    "     - 150% increase (40 → 100) - health preparedness\n",
    "   - **SCHOOL SUPPLIES**: \n",
    "     200% increase (3 → 9) - possible homeschooling needs\n",
    "\n",
    "4. **Surprising Non-Responders**\n",
    "   - **SEAFOOD**: \n",
    "     - Only +9% growth (22 → 24)\n",
    "   - **AUTOMOTIVE**: \n",
    "     - Minimal change (6 → 7)\n",
    "   - *Interpretation*: Non-essential even within typically strong categories\n",
    "\n",
    "#### Strategic Recommendations:\n",
    "1. **Inventory Priorities**:\n",
    "   - Stock 50-100% additional grocery/produce inventory pre-crisis\n",
    "   - Create \"crisis kits\" combining cleaning+pharmacy+staple items\n",
    "\n",
    "2. **Merchandising**:\n",
    "   - Position essentials at store entrances during crises\n",
    "   - Bundle related crisis items (e.g., cleaning+paper goods)\n",
    "\n",
    "3. **Pricing Strategy**:\n",
    "   - Maintain prices on essentials to build goodwill\n",
    "   - Consider premium pricing for high-demand non-perishables\n",
    "\n",
    "4. **Supply Chain**:\n",
    "   - Secure backup suppliers for cleaning and pharmacy items\n",
    "   - Pre-position produce inventory before potential crises\n",
    "\n"
   ]
  },
  {
   "cell_type": "markdown",
   "id": "cca105ac",
   "metadata": {},
   "source": [
    "> Corresponding plots will be in cell `50` in `visualization_demo.ipynb`"
   ]
  },
  {
   "cell_type": "markdown",
   "id": "87e55e2e",
   "metadata": {},
   "source": [
    "## 🛡️ 12.8 Crisis Impact by city and state"
   ]
  },
  {
   "cell_type": "code",
   "execution_count": null,
   "id": "fcb16c98",
   "metadata": {},
   "outputs": [
    {
     "name": "stdout",
     "output_type": "stream",
     "text": [
      "             city  is_crisis  sales\n",
      "0          Ambato          0 362.64\n",
      "1          Ambato          1 429.45\n",
      "2        Babahoyo          0 318.94\n",
      "3        Babahoyo          1 417.27\n",
      "4         Cayambe          0 508.76\n",
      "5         Cayambe          1 635.68\n",
      "6          Cuenca          0 293.25\n",
      "7          Cuenca          1 434.42\n",
      "8           Daule          0 343.65\n",
      "9           Daule          1 505.12\n",
      "10      El Carmen          0 198.70\n",
      "11      El Carmen          1 269.42\n",
      "12     Esmeraldas          0 294.68\n",
      "13     Esmeraldas          1 347.79\n",
      "14       Guaranda          0 234.07\n",
      "15       Guaranda          1 305.24\n",
      "16      Guayaquil          0 275.25\n",
      "17      Guayaquil          1 400.23\n",
      "18         Ibarra          0 205.15\n",
      "19         Ibarra          1 267.10\n",
      "20      Latacunga          0 189.97\n",
      "21      Latacunga          1 247.61\n",
      "22       Libertad          0 274.66\n",
      "23       Libertad          1 389.09\n",
      "24           Loja          0 339.61\n",
      "25           Loja          1 377.93\n",
      "26        Machala          0 299.71\n",
      "27        Machala          1 392.70\n",
      "28          Manta          0 124.45\n",
      "29          Manta          1 246.10\n",
      "30         Playas          0 137.66\n",
      "31         Playas          1 173.30\n",
      "32           Puyo          0  72.17\n",
      "33           Puyo          1 188.70\n",
      "34        Quevedo          0 254.90\n",
      "35        Quevedo          1 307.45\n",
      "36          Quito          0 554.49\n",
      "37          Quito          1 779.40\n",
      "38       Riobamba          0 204.37\n",
      "39       Riobamba          1 254.06\n",
      "40        Salinas          0 206.23\n",
      "41        Salinas          1 196.12\n",
      "42  Santo Domingo          0 214.09\n",
      "43  Santo Domingo          1 308.17\n",
      "                             state  is_crisis  sales\n",
      "0                            Azuay          0 293.25\n",
      "1                            Azuay          1 434.42\n",
      "2                          Bolivar          0 234.07\n",
      "3                          Bolivar          1 305.24\n",
      "4                       Chimborazo          0 204.37\n",
      "5                       Chimborazo          1 254.06\n",
      "6                         Cotopaxi          0 189.97\n",
      "7                         Cotopaxi          1 247.61\n",
      "8                           El Oro          0 299.71\n",
      "9                           El Oro          1 392.70\n",
      "10                      Esmeraldas          0 294.68\n",
      "11                      Esmeraldas          1 347.79\n",
      "12                          Guayas          0 268.91\n",
      "13                          Guayas          1 388.12\n",
      "14                        Imbabura          0 205.15\n",
      "15                        Imbabura          1 267.10\n",
      "16                            Loja          0 339.61\n",
      "17                            Loja          1 377.93\n",
      "18                        Los Rios          0 286.92\n",
      "19                        Los Rios          1 362.36\n",
      "20                          Manabi          0 149.20\n",
      "21                          Manabi          1 253.87\n",
      "22                         Pastaza          0  72.17\n",
      "23                         Pastaza          1 188.70\n",
      "24                       Pichincha          0 552.09\n",
      "25                       Pichincha          1 771.84\n",
      "26                     Santa Elena          0 206.23\n",
      "27                     Santa Elena          1 196.12\n",
      "28  Santo Domingo de los Tsachilas          0 214.09\n",
      "29  Santo Domingo de los Tsachilas          1 308.17\n",
      "30                      Tungurahua          0 362.64\n",
      "31                      Tungurahua          1 429.45\n"
     ]
    }
   ],
   "source": [
    "avg_sales_by_city_crisis = df.groupby(['city', 'is_crisis'])['sales'].mean().reset_index()\n",
    "avg_sales_by_state_crisis = df.groupby(['state', 'is_crisis'])['sales'].mean().reset_index()\n",
    "\n",
    "\n",
    "print(avg_sales_by_city_crisis)\n",
    "print(avg_sales_by_state_crisis)"
   ]
  },
  {
   "cell_type": "markdown",
   "id": "671ecdf1",
   "metadata": {},
   "source": [
    "#### Key City-Level Insights\n",
    "1. **Metropolitan Areas Show Strongest Absolute Growth**\n",
    "   - **Quito**: 554 → 779 (+40.6%)\n",
    "   - **Guayaquil**: 275 → 400 (+45.5%)\n",
    "   - *Implication*: Urban centers experience highest demand surges\n",
    "\n",
    "2. **Most Dramatic Percentage Increases**\n",
    "   - **Puyo**: 72 → 189 (+162.5%)\n",
    "   - **Manta**: 124 → 246 (+98.4%)\n",
    "   - *Insight*: Smaller cities show most volatile responses\n",
    "\n",
    "3. **Anomalous Case**\n",
    "   - **Salinas**: 206 → 196 (-4.9%) - only city with decline\n",
    "   - *Potential Reasons*: Tourism-dependent economy, coastal location\n",
    "\n",
    "#### State-Level Patterns\n",
    "1. **Consistent Crisis Impact**\n",
    "   - All states except Santa Elena show increased sales\n",
    "   - Average state increase: +42.3%\n",
    "\n",
    "2. **Top Performing States**\n",
    "   - **Pichincha (Quito)**: 552 → 772 (+39.9%)\n",
    "   - **Guayas (Guayaquil)**: 269 → 388 (+44.2%)\n",
    "   - **Manabi**: 149 → 254 (+70.5%) - largest % increase\n",
    "\n",
    "3. **Regional Variations**\n",
    "   - Coastal states average +37% growth\n",
    "   - Highland states average +45% growth\n",
    "   - Amazonian states (Pastaza): +162%\n",
    "\n",
    "#### Strategic Implications\n",
    "1. **Inventory Allocation**\n",
    "   - Prioritize urban centers (Quito/Guayaquil) for stock\n",
    "   - Prepare for disproportionate demand in smaller cities\n",
    "\n",
    "2. **Logistics Planning**\n",
    "   - Amazonian regions need earliest replenishment\n",
    "   - Coastal areas may require less crisis inventory\n",
    "\n",
    "3. **Pricing Strategy**\n",
    "   - Implement surge pricing in high-growth areas\n",
    "   - Maintain stable pricing in volatile regions\n",
    "\n",
    "4. **Marketing Focus**\n",
    "   - Target crisis messaging differently by region:\n",
    "     - Urban: Availability assurances\n",
    "     - Rural: Basic necessities focus\n",
    "\n"
   ]
  },
  {
   "cell_type": "markdown",
   "id": "7f86d1b3",
   "metadata": {},
   "source": [
    "> Corresponding plots will be in cell `52` in `visualization_demo.ipynb`"
   ]
  },
  {
   "cell_type": "markdown",
   "id": "69c2bf54",
   "metadata": {},
   "source": [
    "## 🛡️ 12.9 Crisis Impact on Rolling Mean and Lagged Sales\n"
   ]
  },
  {
   "cell_type": "code",
   "execution_count": null,
   "id": "74c1c76f",
   "metadata": {},
   "outputs": [
    {
     "name": "stdout",
     "output_type": "stream",
     "text": [
      "   is_crisis  sales_lag_7\n",
      "0          0       354.77\n",
      "1          1       491.92\n",
      "   is_crisis  rolling_mean_7\n",
      "0          0          356.26\n",
      "1          1          494.87\n"
     ]
    }
   ],
   "source": [
    "avg_sales_lag_7_crisis = df.groupby('is_crisis')['sales_lag_7'].mean().reset_index()\n",
    "avg_rolling_mean_7_crisis = df.groupby('is_crisis')['rolling_mean_7'].mean().reset_index()\n",
    "\n",
    "\n",
    "print(avg_sales_lag_7_crisis)\n",
    "print(avg_rolling_mean_7_crisis)"
   ]
  },
  {
   "cell_type": "markdown",
   "id": "23d6060f",
   "metadata": {},
   "source": [
    "#### Key Temporal Insights\n",
    "1. **Consistent Lagged Impact**\n",
    "   - 7-day lagged sales: 355 → 492 (+38.6% during crisis)\n",
    "   - Matches current period growth (from 357 → 495 in raw sales)\n",
    "   - *Implication*: Crisis effects persist for at least one week\n",
    "\n",
    "2. **Stable Rolling Averages**\n",
    "   - 7-day moving average: 356 → 495 (+39.0%)\n",
    "   - Nearly identical to point-in-time growth rates\n",
    "   - *Interpretation*: Crisis impacts are sustained, not just spike events\n",
    "\n",
    "3. **Trend Characteristics**\n",
    "   - Lagged and rolling metrics move in lockstep\n",
    "   - Suggests crises create durable demand shifts rather than temporary surges\n",
    "\n",
    "#### Strategic Implications\n",
    "1. **Demand Forecasting**\n",
    "   - Can reliably use 7-day patterns for crisis planning\n",
    "   - Expect new baseline ~40% higher during crises\n",
    "\n",
    "2. **Inventory Management**\n",
    "   - Maintain elevated stock levels throughout crisis periods\n",
    "   - Don't anticipate quick return to normal demand\n",
    "\n",
    "3. **Supply Chain**\n",
    "   - Ramp up orders immediately at crisis onset\n",
    "   - Sustain increased throughput for minimum 7-14 days\n",
    "\n",
    "4. **Performance Benchmarking**\n",
    "   - Adjust KPIs during crises (+40% expected)\n",
    "   - Compare against crisis-period baselines\n",
    "\n",
    "#### Operational Recommendations\n",
    "1. Implement automatic inventory triggers when:\n",
    "   - 7-day average crosses +25% threshold\n",
    "   - Lagged sales show sustained increase\n",
    "\n",
    "2. Develop dual forecasting models:\n",
    "   - Standard model for normal periods\n",
    "   - Crisis model with adjusted parameters\n",
    "\n",
    "3. Monitor these metrics daily during crises:\n",
    "   - Rolling mean stability\n",
    "   - Lagged sales convergence\n",
    "\n"
   ]
  },
  {
   "cell_type": "markdown",
   "id": "738b19c5",
   "metadata": {},
   "source": [
    "> Corresponding plots will be in cell `54` in `visualization_demo.ipynb`"
   ]
  },
  {
   "cell_type": "markdown",
   "id": "95630f00",
   "metadata": {},
   "source": [
    "## 🛡️ 12.10 Crisis and Store Cluster Performance"
   ]
  },
  {
   "cell_type": "code",
   "execution_count": null,
   "id": "8a22e14a",
   "metadata": {},
   "outputs": [
    {
     "name": "stdout",
     "output_type": "stream",
     "text": [
      "    cluster  is_crisis   sales\n",
      "0         1          0  325.09\n",
      "1         1          1  432.20\n",
      "2         2          0  258.65\n",
      "3         2          1  390.24\n",
      "4         3          0  193.84\n",
      "5         3          1  253.97\n",
      "6         4          0  296.79\n",
      "7         4          1  338.18\n",
      "8         5          0 1112.94\n",
      "9         5          1 1509.84\n",
      "10        6          0  340.84\n",
      "11        6          1  532.79\n",
      "12        7          0  138.27\n",
      "13        7          1  221.38\n",
      "14        8          0  644.43\n",
      "15        8          1  895.94\n",
      "16        9          0  274.34\n",
      "17        9          1  350.82\n",
      "18       10          0  254.84\n",
      "19       10          1  374.55\n",
      "20       11          0  602.00\n",
      "21       11          1  813.84\n",
      "22       12          0  322.15\n",
      "23       12          1  512.48\n",
      "24       13          0  321.72\n",
      "25       13          1  547.77\n",
      "26       14          0  708.31\n",
      "27       14          1  852.59\n",
      "28       15          0  198.38\n",
      "29       15          1  257.40\n",
      "30       16          0  236.20\n",
      "31       16          1  424.03\n",
      "32       17          0  590.26\n",
      "33       17          1  802.84\n",
      "    cluster  is_crisis  transactions\n",
      "0         1          0       1499.29\n",
      "1         1          1       1525.83\n",
      "2         2          0        972.34\n",
      "3         2          1       1274.94\n",
      "4         3          0        865.54\n",
      "5         3          1        890.30\n",
      "6         4          0       1385.00\n",
      "7         4          1       1325.22\n",
      "8         5          0       4325.32\n",
      "9         5          1       4415.90\n",
      "10        6          0       1583.14\n",
      "11        6          1       1805.32\n",
      "12        7          0        826.01\n",
      "13        7          1       1064.40\n",
      "14        8          0       2575.17\n",
      "15        8          1       2668.31\n",
      "16        9          0       1281.02\n",
      "17        9          1       1279.90\n",
      "18       10          0       1012.47\n",
      "19       10          1       1146.01\n",
      "20       11          0       2193.00\n",
      "21       11          1       2205.15\n",
      "22       12          0       1361.48\n",
      "23       12          1       1618.97\n",
      "24       13          0       1486.72\n",
      "25       13          1       1722.06\n",
      "26       14          0       3278.40\n",
      "27       14          1       3183.53\n",
      "28       15          0       1128.52\n",
      "29       15          1       1189.52\n",
      "30       16          0       1229.55\n",
      "31       16          1       1344.32\n",
      "32       17          0       1709.19\n",
      "33       17          1       1767.03\n"
     ]
    }
   ],
   "source": [
    "avg_sales_by_cluster_crisis = df.groupby(['cluster', 'is_crisis'])['sales'].mean().reset_index()\n",
    "avg_transactions_by_cluster_crisis = df.groupby(['cluster', 'is_crisis'])['transactions'].mean().reset_index()\n",
    "\n",
    "\n",
    "print(avg_sales_by_cluster_crisis)\n",
    "print(avg_transactions_by_cluster_crisis)"
   ]
  },
  {
   "cell_type": "markdown",
   "id": "1ce14c21",
   "metadata": {},
   "source": [
    "#### High-Level Findings\n",
    "1. **Universal Sales Lift**  \n",
    "   - All 17 clusters show increased sales during crises (+18% to +80%)\n",
    "   - Average cluster growth: +39.5% (matches overall trend)\n",
    "\n",
    "2. **Three Distinct Performance Groups**  \n",
    "   - **Premium Clusters (5,8,11,14,17)**:  \n",
    "     - Highest absolute sales ($800-$1,500)  \n",
    "     - +35% average growth  \n",
    "     - *Example*: Cluster 5: $1,113 → $1,510  \n",
    "   - **Mid-Tier Clusters (1,6,12,13,16)**:  \n",
    "     - Strongest % growth (+45-70%)  \n",
    "     - *Star Performer*: Cluster 16: +80% ($236 → $424)  \n",
    "   - **Value Clusters (2,3,4,7,9,10,15)**:  \n",
    "     - Lowest absolute sales ($200-$400)  \n",
    "     - +28% average growth  \n",
    "\n",
    "3. **Transaction Patterns Reveal Behavior Shifts**  \n",
    "   - **High-Value Clusters**: Minimal transaction growth (+1-4%) but large sales increases → **Bigger baskets**  \n",
    "   - **Growth Clusters**: Both transactions (+12-19%) and sales rise → **More customers + bigger purchases**  \n",
    "   - **Anomalies**:  \n",
    "     - Cluster 4: -4% transactions but +14% sales  \n",
    "     - Cluster 9: Flat transactions but +28% sales  \n",
    "\n",
    "#### Strategic Recommendations\n",
    "\n",
    "**For Premium Clusters**  \n",
    "- Focus on **inventory depth** for high-ticket items  \n",
    "- Implement **concierge services** to maximize basket size  \n",
    "- *Example*: Cluster 5 can absorb 35% more inventory  \n",
    "\n",
    "**For Growth Clusters**  \n",
    "- Expand **staffing/payment stations** (higher traffic)  \n",
    "- Promote **cross-selling** (customers buying more per trip)  \n",
    "- *Priority*: Cluster 16 needs 80% more stock  \n",
    "\n",
    "**For Value Clusters**  \n",
    "- Optimize **essential goods** assortment  \n",
    "- Limited need for operational changes  \n",
    "\n",
    "#### Operational Insights  \n",
    "1. **Labor Allocation**  \n",
    "   - Staff 20% more in growth clusters (transactions up)  \n",
    "   - Reassign staff to stocking in premium clusters  \n",
    "\n",
    "2. **Inventory Planning**  \n",
    "   - **Cluster 5/14**: Need $400+ additional inventory daily  \n",
    "   - **Cluster 16**: Nearly double budget for key items  \n",
    "\n",
    "3. **Marketing Focus**  \n",
    "   - Premium: Emphasize quality/availability  \n",
    "   - Growth: Highlight value bundles  \n",
    "\n",
    "#### Anomaly Investigation  \n",
    "- **Cluster 4 & 9**:  \n",
    "  - Negative/neutral traffic but sales up →  \n",
    "  - Likely **neighborhood consolidation** (fewer trips, bigger hauls)  \n",
    "  - Check average basket size changes  \n",
    "\n",
    "#### Performance Benchmarks  \n",
    "| Cluster Tier | Crisis Prep Target |  \n",
    "|--------------|--------------------|  \n",
    "| Premium      | +35% inventory     |  \n",
    "| Growth       | +60% inventory     |  \n",
    "| Value        | +25% inventory     |  \n",
    "\n"
   ]
  },
  {
   "cell_type": "markdown",
   "id": "1fb1d445",
   "metadata": {},
   "source": [
    "> Corresponding plots will be in cell `56` in `visualization_demo.ipynb`"
   ]
  },
  {
   "cell_type": "markdown",
   "id": "e3b78267",
   "metadata": {},
   "source": [
    "# 🎉 13. How do sales differ on holidays vs. non-holidays overall?\n"
   ]
  },
  {
   "cell_type": "code",
   "execution_count": null,
   "id": "9fb9c494",
   "metadata": {},
   "outputs": [
    {
     "data": {
      "text/html": [
       "<div>\n",
       "<style scoped>\n",
       "    .dataframe tbody tr th:only-of-type {\n",
       "        vertical-align: middle;\n",
       "    }\n",
       "\n",
       "    .dataframe tbody tr th {\n",
       "        vertical-align: top;\n",
       "    }\n",
       "\n",
       "    .dataframe thead th {\n",
       "        text-align: right;\n",
       "    }\n",
       "</style>\n",
       "<table border=\"1\" class=\"dataframe\">\n",
       "  <thead>\n",
       "    <tr style=\"text-align: right;\">\n",
       "      <th></th>\n",
       "      <th>is_holiday</th>\n",
       "      <th>sales</th>\n",
       "    </tr>\n",
       "  </thead>\n",
       "  <tbody>\n",
       "    <tr>\n",
       "      <th>0</th>\n",
       "      <td>0</td>\n",
       "      <td>352.16</td>\n",
       "    </tr>\n",
       "    <tr>\n",
       "      <th>1</th>\n",
       "      <td>1</td>\n",
       "      <td>393.86</td>\n",
       "    </tr>\n",
       "  </tbody>\n",
       "</table>\n",
       "</div>"
      ],
      "text/plain": [
       "   is_holiday  sales\n",
       "0           0 352.16\n",
       "1           1 393.86"
      ]
     },
     "execution_count": 93,
     "metadata": {},
     "output_type": "execute_result"
    }
   ],
   "source": [
    "holiday_sales_comparison = df.groupby('is_holiday')['sales'].mean().reset_index()\n",
    "holiday_sales_comparison"
   ]
  },
  {
   "cell_type": "markdown",
   "id": "eea6f80b",
   "metadata": {},
   "source": [
    "#### Key Findings\n",
    "1. **Overall Holiday Lift**\n",
    "   - Average sales increase by **11.9%** on holidays (352 → 394)\n",
    "   - Confirms meaningful but moderate impact of holiday periods\n",
    "\n",
    "2. **Strategic Context**\n",
    "   - Holiday boost is **1/3 the impact** of crises (+12% vs +39% growth)\n",
    "   - Suggests holidays drive incremental growth rather than transformative change\n",
    "\n",
    "#### Comparative Insights\n",
    "| Period        | Avg Sales | % Change | Key Characteristics       |\n",
    "|---------------|-----------|----------|---------------------------|\n",
    "| Normal        | 352       | -        | Baseline performance      |\n",
    "| Holiday       | 394       | +12%     | Celebratory purchasing    |\n",
    "| Crisis        | 495       | +39%     | Necessity-driven surge    |\n",
    "| Crisis+Holiday| 495*      | +12%+39% | Combined effect observed in prior analysis |\n",
    "\n",
    "*From previous crisis+holiday analysis\n",
    "\n",
    "#### Behavioral Interpretation\n",
    "- **Holiday Shoppers**:\n",
    "  - Likely purchasing gifts/special items\n",
    "  - More discretionary spending than essentials\n",
    "- **Crisis Shoppers**:\n",
    "  - Focused on staples and necessities\n",
    "  - Exhibit stockpiling behavior\n",
    "\n",
    "#### Actionable Recommendations\n",
    "1. **Inventory Planning**\n",
    "   - Moderate holiday prep (+10-15% stock)\n",
    "   - Focus on giftables and seasonal items\n",
    "\n",
    "2. **Staffing**\n",
    "   - Schedule 15% more staff during holidays\n",
    "   - Prioritize customer service over stocking\n",
    "\n",
    "3. **Promotions**\n",
    "   - Bundle holiday-themed items\n",
    "   - Limited-time holiday specials perform well\n",
    "\n",
    "4. **Marketing**\n",
    "   - Launch holiday campaigns 2-3 weeks in advance\n",
    "   - Emphasize gift-giving solutions\n"
   ]
  },
  {
   "cell_type": "code",
   "execution_count": null,
   "id": "cd1dbd4b",
   "metadata": {},
   "outputs": [
    {
     "name": "stdout",
     "output_type": "stream",
     "text": [
      "Holiday sales are 11.84% higher than non-holiday sales.\n"
     ]
    }
   ],
   "source": [
    "holiday_sales_comparison = df.groupby('is_holiday')['sales'].mean()\n",
    "\n",
    "percent_difference = ((holiday_sales_comparison[1] - holiday_sales_comparison[0]) / holiday_sales_comparison[0]) * 100\n",
    "\n",
    "print(f\"Holiday sales are {percent_difference:.2f}% {'higher' if percent_difference > 0 else 'lower'} than non-holiday sales.\")"
   ]
  },
  {
   "cell_type": "code",
   "execution_count": null,
   "id": "a2cdb9b0",
   "metadata": {},
   "outputs": [
    {
     "name": "stdout",
     "output_type": "stream",
     "text": [
      "  holiday_type  sales  percent_difference_vs_normal\n",
      "0   Additional 487.63                         38.47\n",
      "4     Transfer 467.75                         32.82\n",
      "1       Bridge 446.75                         26.86\n",
      "2        Event 425.66                         20.87\n",
      "5     Work Day 372.16                          5.68\n",
      "3      Holiday 358.43                          1.78\n"
     ]
    }
   ],
   "source": [
    "holiday_df = df[df['is_holiday'] == 1]\n",
    "\n",
    "avg_sales_by_holiday_type = holiday_df.groupby('holiday_type')['sales'].mean()\n",
    "\n",
    "non_holiday_avg_sales = df[df['is_holiday'] == 0]['sales'].mean()\n",
    "\n",
    "percent_difference_by_holiday_type = ((avg_sales_by_holiday_type - non_holiday_avg_sales) / non_holiday_avg_sales) * 100\n",
    "\n",
    "holiday_impact = avg_sales_by_holiday_type.reset_index()\n",
    "holiday_impact['percent_difference_vs_normal'] = percent_difference_by_holiday_type.values\n",
    "\n",
    "holiday_impact = holiday_impact.sort_values(by='percent_difference_vs_normal', ascending=False)\n",
    "\n",
    "print(holiday_impact)"
   ]
  },
  {
   "cell_type": "markdown",
   "id": "46ca9e0d",
   "metadata": {},
   "source": [
    "### Holiday Sales Impact Analysis by Holiday Type\n",
    "\n",
    "#### Performance Spectrum (Ranked by Impact)\n",
    "1. **Additional Holidays** (+38%)\n",
    "   - Peak performance: 488 sales\n",
    "   - *Likely includes*: Extended weekends, special shopping days\n",
    "\n",
    "2. **Transfer Holidays** (+33%)  \n",
    "   - Near-premium lift: 468 sales  \n",
    "   - *Characteristic*: Date-shifted official holidays  \n",
    "\n",
    "3. **Bridge Holidays** (+27%)  \n",
    "   - Strong performance: 447 sales  \n",
    "   - *Definition*: Days creating long weekends  \n",
    "\n",
    "4. **Event Holidays** (+21%)  \n",
    "   - Moderate lift: 426 sales  \n",
    "   - *Examples*: Cultural festivals, local celebrations  \n",
    "\n",
    "5. **Work Day Holidays** (+6%)  \n",
    "   - Minimal impact: 372 sales  \n",
    "   - *Insight*: Holidays falling on weekdays  \n",
    "\n",
    "6. **Regular Holidays** (+2%)  \n",
    "   - Baseline lift: 358 sales  \n",
    "   - *Interpretation*: Standard fixed-date holidays  \n",
    "\n",
    "#### Strategic Implications\n",
    "\n",
    "**For High-Impact Holidays (Additional/Transfer/Bridge)**\n",
    "- **Inventory**: Stock 30-40% more premium/impulse items\n",
    "- **Staffing**: Schedule 25% additional staff\n",
    "- **Marketing**: Launch targeted campaigns 3 weeks prior\n",
    "- *Example*: Create \"long weekend specials\" bundles\n",
    "\n",
    "**For Event Holidays**\n",
    "- Localize assortments to match festivities\n",
    "- Thematic window displays increase footfall\n",
    "\n",
    "**For Low-Impact Holidays (Work Day/Regular)**\n",
    "- Maintain normal operations\n",
    "- Focus on operational efficiency\n",
    "\n",
    "#### Key Insights\n",
    "- **Day-of-week matters**: Long weekends outperform midweek holidays\n",
    "- **Flexibility drives sales**: Transfer/Additional holidays show consumers value date flexibility\n",
    "- **Cultural relevance**: Event holidays outperform generic ones\n",
    "\n",
    "#### Action Plan\n",
    "1. **Calendar Optimization**:\n",
    "   - Mark high-impact holidays in red 6 months ahead\n",
    "   - Develop type-specific playbooks\n",
    "\n",
    "2. **Performance Tracking**:\n",
    "   - Set tiered sales targets:\n",
    "     - Additional: +35-40%\n",
    "     - Transfer: +30-35%\n",
    "     - Bridge: +25-30%\n",
    "\n",
    "3. **Labor Management**:\n",
    "   - High-impact: Temporary hires\n",
    "   - Low-impact: Cross-trained existing staff\n",
    "\n"
   ]
  },
  {
   "cell_type": "markdown",
   "id": "c561a2b9",
   "metadata": {},
   "source": [
    "> Corresponding plots will be in cell `58` in `visualization_demo.ipynb`"
   ]
  },
  {
   "cell_type": "markdown",
   "id": "69c25806",
   "metadata": {},
   "source": [
    "# 🎉 14. Which type of holiday (national, regional, local) drives the highest sales?"
   ]
  },
  {
   "cell_type": "code",
   "execution_count": null,
   "id": "00d7c822",
   "metadata": {},
   "outputs": [
    {
     "name": "stdout",
     "output_type": "stream",
     "text": [
      "  holiday_type  sales\n",
      "0   Additional 487.63\n",
      "4     Transfer 467.75\n",
      "1       Bridge 446.75\n",
      "2        Event 425.66\n",
      "5     Work Day 372.16\n",
      "3      Holiday 358.43\n"
     ]
    }
   ],
   "source": [
    "holiday_df = df[df['is_holiday'] == 1]\n",
    "\n",
    "avg_sales_by_holiday_type = holiday_df.groupby('holiday_type')['sales'].mean().reset_index()\n",
    "\n",
    "avg_sales_by_holiday_type = avg_sales_by_holiday_type.sort_values(by='sales', ascending=False)\n",
    "\n",
    "print(avg_sales_by_holiday_type)"
   ]
  },
  {
   "cell_type": "markdown",
   "id": "410829fe",
   "metadata": {},
   "source": [
    "### Holiday Sales Performance by Type and Scope\n",
    "\n",
    "#### Sales Impact Ranking\n",
    "| Holiday Type   | Avg Sales | % Lift vs Non-Holiday | Likely Scope         | Key Characteristics               |\n",
    "|----------------|-----------|-----------------------|----------------------|-----------------------------------|\n",
    "| Additional     | 488       | +38%                  | National/Regional    | Extended weekends, special days   |\n",
    "| Transfer       | 468       | +33%                  | National             | Date-shifted official holidays    |\n",
    "| Bridge         | 447       | +27%                  | National             | Creates 4-day weekends            |\n",
    "| Event          | 426       | +21%                  | Local/Regional       | Cultural festivals, local events  |\n",
    "| Work Day       | 372       | +6%                   | National             | Fixed-date weekday holidays       |\n",
    "| Regular        | 358       | +2%                   | National             | Traditional fixed-date holidays   |\n",
    "\n",
    "#### Key Insights\n",
    "\n",
    "1. **Flexible-Date Holidays Dominate**\n",
    "   - Top 3 performers (Additional/Transfer/Bridge) all involve date flexibility\n",
    "   - *Consumer behavior*: Value long weekends > fixed dates\n",
    "\n",
    "2. **National vs Local Impact**\n",
    "   - **National flexible** (Transfer/Bridge): +27-33% lift\n",
    "   - **Local/event-based**: +21% lift\n",
    "   - *Implication*: Date flexibility beats cultural relevance\n",
    "\n",
    "3. **Unexpected Underperformers**\n",
    "   - Traditional fixed-date holidays (+2%) show minimal impact\n",
    "   - Workday holidays (+6%) barely outperform normal days\n",
    "\n",
    "#### Strategic Recommendations\n",
    "\n",
    "**For Retailers:**\n",
    "1. **Prioritize Flexible Holidays**\n",
    "   - Allocate 35-40% more inventory for Additional/Transfer holidays\n",
    "   - Schedule 30% more staff for Bridge holidays\n",
    "\n",
    "2. **Localized Approach for Events**\n",
    "   - Tailor assortments to regional festivals\n",
    "   - Example: Special displays for local harvest festivals\n",
    "\n",
    "3. **Re-evaluate Fixed-Date Holidays**\n",
    "   - Reduce special preparations for regular holidays\n",
    "   - Focus on operational efficiency instead\n",
    "\n",
    "**For Marketing:**\n",
    "- Create \"Extended Weekend Sales\" campaigns\n",
    "- Develop \"Holiday Transfer\" promotions (pre/post-holiday deals)\n",
    "- Localize messaging for Event holidays\n",
    "\n",
    "#### Operational Benchmarks\n",
    "- **Staffing Guide**:\n",
    "  - Additional holidays: +35% staff\n",
    "  - Bridge holidays: +25% staff\n",
    "  - Regular holidays: Normal staffing\n",
    "\n",
    "- **Inventory Planning**:\n",
    "  ```python\n",
    "  if holiday_type == 'Additional':\n",
    "      stock += 40%\n",
    "  elif holiday_type in ['Transfer','Bridge']:\n",
    "      stock += 30%\n",
    "  elif holiday_type == 'Event':\n",
    "      stock += 20% (regional focus)"
   ]
  },
  {
   "cell_type": "markdown",
   "id": "b1ea2730",
   "metadata": {},
   "source": [
    "> Corresponding plots will be in cell `60` in `visualization_demo.ipynb`"
   ]
  },
  {
   "cell_type": "markdown",
   "id": "8cb089d3",
   "metadata": {},
   "source": [
    "# 🎉 15. Which product families see the biggest sales boost during holidays?\n"
   ]
  },
  {
   "cell_type": "code",
   "execution_count": null,
   "id": "9f20f18a",
   "metadata": {},
   "outputs": [
    {
     "data": {
      "text/html": [
       "<div>\n",
       "<style scoped>\n",
       "    .dataframe tbody tr th:only-of-type {\n",
       "        vertical-align: middle;\n",
       "    }\n",
       "\n",
       "    .dataframe tbody tr th {\n",
       "        vertical-align: top;\n",
       "    }\n",
       "\n",
       "    .dataframe thead th {\n",
       "        text-align: right;\n",
       "    }\n",
       "</style>\n",
       "<table border=\"1\" class=\"dataframe\">\n",
       "  <thead>\n",
       "    <tr style=\"text-align: right;\">\n",
       "      <th></th>\n",
       "      <th>family</th>\n",
       "      <th>is_holiday</th>\n",
       "      <th>sales</th>\n",
       "    </tr>\n",
       "  </thead>\n",
       "  <tbody>\n",
       "    <tr>\n",
       "      <th>0</th>\n",
       "      <td>AUTOMOTIVE</td>\n",
       "      <td>0</td>\n",
       "      <td>6.03</td>\n",
       "    </tr>\n",
       "    <tr>\n",
       "      <th>1</th>\n",
       "      <td>AUTOMOTIVE</td>\n",
       "      <td>1</td>\n",
       "      <td>6.56</td>\n",
       "    </tr>\n",
       "    <tr>\n",
       "      <th>2</th>\n",
       "      <td>BABY CARE</td>\n",
       "      <td>0</td>\n",
       "      <td>0.11</td>\n",
       "    </tr>\n",
       "    <tr>\n",
       "      <th>3</th>\n",
       "      <td>BABY CARE</td>\n",
       "      <td>1</td>\n",
       "      <td>0.13</td>\n",
       "    </tr>\n",
       "    <tr>\n",
       "      <th>4</th>\n",
       "      <td>BEAUTY</td>\n",
       "      <td>0</td>\n",
       "      <td>3.64</td>\n",
       "    </tr>\n",
       "    <tr>\n",
       "      <th>...</th>\n",
       "      <td>...</td>\n",
       "      <td>...</td>\n",
       "      <td>...</td>\n",
       "    </tr>\n",
       "    <tr>\n",
       "      <th>61</th>\n",
       "      <td>PRODUCE</td>\n",
       "      <td>1</td>\n",
       "      <td>1513.98</td>\n",
       "    </tr>\n",
       "    <tr>\n",
       "      <th>62</th>\n",
       "      <td>SCHOOL AND OFFICE SUPPLIES</td>\n",
       "      <td>0</td>\n",
       "      <td>2.87</td>\n",
       "    </tr>\n",
       "    <tr>\n",
       "      <th>63</th>\n",
       "      <td>SCHOOL AND OFFICE SUPPLIES</td>\n",
       "      <td>1</td>\n",
       "      <td>3.45</td>\n",
       "    </tr>\n",
       "    <tr>\n",
       "      <th>64</th>\n",
       "      <td>SEAFOOD</td>\n",
       "      <td>0</td>\n",
       "      <td>22.15</td>\n",
       "    </tr>\n",
       "    <tr>\n",
       "      <th>65</th>\n",
       "      <td>SEAFOOD</td>\n",
       "      <td>1</td>\n",
       "      <td>22.27</td>\n",
       "    </tr>\n",
       "  </tbody>\n",
       "</table>\n",
       "<p>66 rows × 3 columns</p>\n",
       "</div>"
      ],
      "text/plain": [
       "                        family  is_holiday   sales\n",
       "0                   AUTOMOTIVE           0    6.03\n",
       "1                   AUTOMOTIVE           1    6.56\n",
       "2                    BABY CARE           0    0.11\n",
       "3                    BABY CARE           1    0.13\n",
       "4                       BEAUTY           0    3.64\n",
       "..                         ...         ...     ...\n",
       "61                     PRODUCE           1 1513.98\n",
       "62  SCHOOL AND OFFICE SUPPLIES           0    2.87\n",
       "63  SCHOOL AND OFFICE SUPPLIES           1    3.45\n",
       "64                     SEAFOOD           0   22.15\n",
       "65                     SEAFOOD           1   22.27\n",
       "\n",
       "[66 rows x 3 columns]"
      ]
     },
     "execution_count": 97,
     "metadata": {},
     "output_type": "execute_result"
    }
   ],
   "source": [
    "family_holiday_sales = df.groupby(['family', 'is_holiday'])['sales'].mean().reset_index()\n",
    "family_holiday_sales"
   ]
  },
  {
   "cell_type": "markdown",
   "id": "f342bdce",
   "metadata": {},
   "source": [
    "By analyzing the average sales per product family on holidays vs. non-holidays, we can identify which categories experience the **largest holiday sales boost**.\n",
    "\n",
    "#### 🔝 Top Boosted Families\n",
    "Some product families see a **significant spike** in average sales during holidays:\n",
    "\n",
    "- **PRODUCE**  \n",
    "  - 📆 Regular Days: *1,165*  \n",
    "  - 🎉 Holidays: *1,514*  \n",
    "  - ✅ **+30% increase**  \n",
    "  - 🍎 Fresh food seems to be a popular choice for holiday meals and gatherings.\n",
    "\n",
    "- **DELI**  \n",
    "  - 📆 Regular Days: *492*  \n",
    "  - 🎉 Holidays: *617*  \n",
    "  - ✅ **+25% increase**  \n",
    "  - 🥪 Likely driven by ready-to-eat convenience foods for celebrations.\n",
    "\n",
    "- **MEATS**  \n",
    "  - 📆 Regular Days: *528*  \n",
    "  - 🎉 Holidays: *655*  \n",
    "  - ✅ **+24% increase**  \n",
    "  - 🥩 Traditional family meals and barbecues might be a contributing factor.\n",
    "\n",
    "- **BEVERAGES**  \n",
    "  - 📆 Regular Days: *313*  \n",
    "  - 🎉 Holidays: *376*  \n",
    "  - ✅ **+20% increase**  \n",
    "  - 🥤 Reflects higher consumption during social events and gatherings.\n",
    "\n",
    "#### ➖ Minimal or No Change\n",
    "Some families showed **little to no change** in sales, such as:\n",
    "- **BABY CARE**\n",
    "- **SEAFOOD**\n",
    "- **SCHOOL AND OFFICE SUPPLIES**\n",
    "\n",
    "This suggests these categories are **less sensitive** to holiday effects.\n",
    "\n",
    "#### 📌 Takeaway\n",
    "Promotional efforts and stock planning during holidays should prioritize categories like **Produce**, **Meats**, and **Deli**, which see the most notable boost in demand.\n",
    "\n",
    "> 🎯 **Recommendation:** Focus marketing and inventory strategies around high-performing categories during holidays to maximize sales impact.\n"
   ]
  },
  {
   "cell_type": "markdown",
   "id": "f86f4b79",
   "metadata": {},
   "source": [
    "> Corresponding plots will be in cell `62` in `visualization_demo.ipynb`"
   ]
  },
  {
   "cell_type": "markdown",
   "id": "c9294037",
   "metadata": {},
   "source": [
    "# 🎉 16. Are certain stores or store types more sensitive to holiday sales spikes?\n"
   ]
  },
  {
   "cell_type": "code",
   "execution_count": null,
   "id": "7dac6560",
   "metadata": {},
   "outputs": [
    {
     "data": {
      "text/html": [
       "<div>\n",
       "<style scoped>\n",
       "    .dataframe tbody tr th:only-of-type {\n",
       "        vertical-align: middle;\n",
       "    }\n",
       "\n",
       "    .dataframe tbody tr th {\n",
       "        vertical-align: top;\n",
       "    }\n",
       "\n",
       "    .dataframe thead th {\n",
       "        text-align: right;\n",
       "    }\n",
       "</style>\n",
       "<table border=\"1\" class=\"dataframe\">\n",
       "  <thead>\n",
       "    <tr style=\"text-align: right;\">\n",
       "      <th></th>\n",
       "      <th>store_type</th>\n",
       "      <th>is_holiday</th>\n",
       "      <th>sales</th>\n",
       "    </tr>\n",
       "  </thead>\n",
       "  <tbody>\n",
       "    <tr>\n",
       "      <th>0</th>\n",
       "      <td>A</td>\n",
       "      <td>0</td>\n",
       "      <td>693.25</td>\n",
       "    </tr>\n",
       "    <tr>\n",
       "      <th>1</th>\n",
       "      <td>A</td>\n",
       "      <td>1</td>\n",
       "      <td>785.19</td>\n",
       "    </tr>\n",
       "    <tr>\n",
       "      <th>2</th>\n",
       "      <td>B</td>\n",
       "      <td>0</td>\n",
       "      <td>320.93</td>\n",
       "    </tr>\n",
       "    <tr>\n",
       "      <th>3</th>\n",
       "      <td>B</td>\n",
       "      <td>1</td>\n",
       "      <td>365.59</td>\n",
       "    </tr>\n",
       "    <tr>\n",
       "      <th>4</th>\n",
       "      <td>C</td>\n",
       "      <td>0</td>\n",
       "      <td>194.72</td>\n",
       "    </tr>\n",
       "    <tr>\n",
       "      <th>5</th>\n",
       "      <td>C</td>\n",
       "      <td>1</td>\n",
       "      <td>213.40</td>\n",
       "    </tr>\n",
       "    <tr>\n",
       "      <th>6</th>\n",
       "      <td>D</td>\n",
       "      <td>0</td>\n",
       "      <td>346.23</td>\n",
       "    </tr>\n",
       "    <tr>\n",
       "      <th>7</th>\n",
       "      <td>D</td>\n",
       "      <td>1</td>\n",
       "      <td>381.81</td>\n",
       "    </tr>\n",
       "    <tr>\n",
       "      <th>8</th>\n",
       "      <td>E</td>\n",
       "      <td>0</td>\n",
       "      <td>264.25</td>\n",
       "    </tr>\n",
       "    <tr>\n",
       "      <th>9</th>\n",
       "      <td>E</td>\n",
       "      <td>1</td>\n",
       "      <td>300.94</td>\n",
       "    </tr>\n",
       "  </tbody>\n",
       "</table>\n",
       "</div>"
      ],
      "text/plain": [
       "  store_type  is_holiday  sales\n",
       "0          A           0 693.25\n",
       "1          A           1 785.19\n",
       "2          B           0 320.93\n",
       "3          B           1 365.59\n",
       "4          C           0 194.72\n",
       "5          C           1 213.40\n",
       "6          D           0 346.23\n",
       "7          D           1 381.81\n",
       "8          E           0 264.25\n",
       "9          E           1 300.94"
      ]
     },
     "execution_count": 98,
     "metadata": {},
     "output_type": "execute_result"
    }
   ],
   "source": [
    "store_type_holiday_sales = df.groupby(['store_type', 'is_holiday'])['sales'].mean().reset_index()\n",
    "store_type_holiday_sales"
   ]
  },
  {
   "cell_type": "markdown",
   "id": "67b078c8",
   "metadata": {},
   "source": [
    "### 🏬 Are Certain Stores or Store Types More Sensitive to Holiday Sales Spikes?\n",
    "\n",
    "Analyzing average sales across store types during holidays versus regular days reveals which store formats are **most responsive to holiday demand**.\n",
    "\n",
    "#### 📊 Holiday Sales Uplift by Store Type\n",
    "\n",
    "| Store Type | Regular Sales | Holiday Sales | % Increase |\n",
    "|------------|----------------|----------------|------------|\n",
    "| A          | 693            | 785            | **+13.3%** |\n",
    "| B          | 321            | 366            | **+14.0%** |\n",
    "| C          | 195            | 213            | **+9.2%**  |\n",
    "| D          | 346            | 382            | **+10.4%** |\n",
    "| E          | 264            | 301            | **+14.0%** |\n",
    "\n",
    "#### 🔍 Key Insights\n",
    "\n",
    "- **Store Types B and E** show the **highest relative increase** in average sales during holidays (**+14%**).\n",
    "- **Store Type A**, despite already having the **highest base sales**, still sees a meaningful increase during holidays (**+13.3%**), indicating strong holiday demand in high-volume stores.\n",
    "- **Store Type C** is the **least sensitive**, with just a **+9.2%** boost, possibly due to smaller size, limited assortment, or customer demographics.\n",
    "\n",
    "#### 🧠 Strategic Takeaway\n",
    "- **Large-format stores (Type A)** and **mid-tier stores (Types B & E)** benefit the most from holiday demand, making them ideal targets for holiday-specific campaigns.\n",
    "- Store-specific strategies may be necessary to optimize holiday performance for **less responsive types** like C.\n",
    "\n",
    "> 📈 **Recommendation:** Enhance promotional efforts and inventory planning for Store Types A, B, and E during holidays to capitalize on their higher sales sensitivity.\n"
   ]
  },
  {
   "cell_type": "markdown",
   "id": "5245b61c",
   "metadata": {},
   "source": [
    "> Corresponding plots will be in cell `64` in `visualization_demo.ipynb`"
   ]
  },
  {
   "cell_type": "markdown",
   "id": "cc5ca01e",
   "metadata": {},
   "source": [
    "# 🎉 17. How many days before a holiday does sales start increasing?"
   ]
  },
  {
   "cell_type": "code",
   "execution_count": null,
   "id": "aa75ff89",
   "metadata": {},
   "outputs": [
    {
     "data": {
      "text/html": [
       "<div>\n",
       "<style scoped>\n",
       "    .dataframe tbody tr th:only-of-type {\n",
       "        vertical-align: middle;\n",
       "    }\n",
       "\n",
       "    .dataframe tbody tr th {\n",
       "        vertical-align: top;\n",
       "    }\n",
       "\n",
       "    .dataframe thead th {\n",
       "        text-align: right;\n",
       "    }\n",
       "</style>\n",
       "<table border=\"1\" class=\"dataframe\">\n",
       "  <thead>\n",
       "    <tr style=\"text-align: right;\">\n",
       "      <th></th>\n",
       "      <th>is_holiday</th>\n",
       "      <th>sales</th>\n",
       "    </tr>\n",
       "  </thead>\n",
       "  <tbody>\n",
       "    <tr>\n",
       "      <th>0</th>\n",
       "      <td>0</td>\n",
       "      <td>232.08</td>\n",
       "    </tr>\n",
       "    <tr>\n",
       "      <th>1</th>\n",
       "      <td>1</td>\n",
       "      <td>134.64</td>\n",
       "    </tr>\n",
       "  </tbody>\n",
       "</table>\n",
       "</div>"
      ],
      "text/plain": [
       "   is_holiday  sales\n",
       "0           0 232.08\n",
       "1           1 134.64"
      ]
     },
     "execution_count": 99,
     "metadata": {},
     "output_type": "execute_result"
    }
   ],
   "source": [
    "sales_increase_before_holiday = df[df['days_to_holiday'] < 7].groupby('is_holiday')['sales'].mean().reset_index()\n",
    "sales_increase_before_holiday"
   ]
  },
  {
   "cell_type": "markdown",
   "id": "1e5884a6",
   "metadata": {},
   "source": [
    "### ⏳ How Many Days Before a Holiday Do Sales Start Increasing?\n",
    "\n",
    "To understand if there's a **build-up in sales leading up to holidays**, we looked at the average sales within the **last 7 days before a holiday**:\n",
    "\n",
    "| Is Holiday | Avg Sales (Last 7 Days) |\n",
    "|------------|-------------------------|\n",
    "| No         | 232                     |\n",
    "| Yes        | 135                     |\n",
    "\n",
    "#### 🔍 Key Insight\n",
    "\n",
    "Surprisingly, **sales remain higher on non-holiday days** than on holidays within the last 7-day window:\n",
    "- This suggests that customers **start shopping earlier**, possibly **more than 7 days before the holiday**.\n",
    "- Alternatively, it may indicate that the **final 7 days** before holidays are **not the peak** period for sales buildup.\n",
    "\n",
    "#### 📉 Unexpected Pattern\n",
    "\n",
    "- **Holiday days in this range show lower average sales** — this could be due to:\n",
    "  - Fewer actual holidays within the first 7 days of the dataset.\n",
    "  - Shopping being done well in advance or concentrated **right on the holiday** itself.\n",
    "  - Data filtering may need refinement to properly isolate the *pre-holiday window*.\n",
    "\n",
    "#### 🧠 Takeaway\n",
    "\n",
    "Sales do **not significantly increase** within the 7 days *just before* a holiday based on this data slice. A broader window (e.g., 14 or 21 days) might give clearer insight into **early shopping behavior**.\n",
    "\n",
    "> 📌 **Next Step Recommendation:** Expand the analysis to look at **sales trends over a 14–21 day range** before holidays to detect the actual start of increased shopping activity.\n"
   ]
  },
  {
   "cell_type": "markdown",
   "id": "7eb50026",
   "metadata": {},
   "source": [
    "> Corresponding plots will be in cell `66` in `visualization_demo.ipynb`"
   ]
  },
  {
   "cell_type": "markdown",
   "id": "f678e876",
   "metadata": {},
   "source": [
    "# 🎉 18. Do sales drop after holidays (\"post-holiday effect\")?\n"
   ]
  },
  {
   "cell_type": "code",
   "execution_count": null,
   "id": "fefc3f00",
   "metadata": {},
   "outputs": [
    {
     "name": "stdout",
     "output_type": "stream",
     "text": [
      "Post-holiday sales: 352.15918056230004, Pre-holiday sales: 134.64134125364757\n"
     ]
    }
   ],
   "source": [
    "post_holiday_sales = df[(df['is_holiday'] == 0) & (df['days_to_holiday'] > 0)]['sales'].mean()\n",
    "pre_holiday_sales = df[(df['is_holiday'] == 1) & (df['days_to_holiday'] < 7)]['sales'].mean()\n",
    "print(f\"Post-holiday sales: {post_holiday_sales}, Pre-holiday sales: {pre_holiday_sales}\")"
   ]
  },
  {
   "cell_type": "markdown",
   "id": "7d583711",
   "metadata": {},
   "source": [
    "### 📉 Do Sales Drop After Holidays? (\"Post-Holiday Effect\")\n",
    "\n",
    "To examine whether there's a **drop in sales after holidays**, we compared:\n",
    "\n",
    "- **Pre-Holiday Sales** (sales on holidays within 7 days of the event)\n",
    "- **Post-Holiday Sales** (sales on non-holidays occurring *after* a holiday)\n",
    "\n",
    "| Metric              | Avg Sales |\n",
    "|---------------------|-----------|\n",
    "| 🎉 Pre-Holiday Days | 135       |\n",
    "| 📆 Post-Holiday Days| 352       |\n",
    "\n",
    "#### 🔍 Key Insight\n",
    "\n",
    "Contrary to the common \"post-holiday slump\" expectation, **sales actually increase after holidays**:\n",
    "- 📈 **Post-Holiday Avg Sales (352)** is **2.6x higher** than Pre-Holiday Avg Sales (135)\n",
    "- This might suggest a **rebound effect**, where:\n",
    "  - Shoppers resume normal purchase habits.\n",
    "  - Holiday promotions lead to continued shopping momentum.\n",
    "  - Businesses restock and replenish, leading to increased sales activity.\n",
    "\n",
    "#### 🧠 Takeaway\n",
    "\n",
    "The data **does not support a post-holiday sales drop**. Instead, we observe a **sales recovery or spike** following the holiday period.\n",
    "\n",
    "> 📌 **Recommendation:** Businesses should consider extending promotions and stocking popular items *after* holidays to capitalize on sustained shopping interest.\n"
   ]
  },
  {
   "cell_type": "markdown",
   "id": "8f48037b",
   "metadata": {},
   "source": [
    "> Corresponding plots will be in cell `68` in `visualization_demo.ipynb`"
   ]
  },
  {
   "cell_type": "markdown",
   "id": "d4596b04",
   "metadata": {},
   "source": [
    "# 🎉 19. Which city or state benefits the most from local holidays?\n"
   ]
  },
  {
   "cell_type": "code",
   "execution_count": null,
   "id": "b2e7916b",
   "metadata": {},
   "outputs": [
    {
     "data": {
      "text/html": [
       "<div>\n",
       "<style scoped>\n",
       "    .dataframe tbody tr th:only-of-type {\n",
       "        vertical-align: middle;\n",
       "    }\n",
       "\n",
       "    .dataframe tbody tr th {\n",
       "        vertical-align: top;\n",
       "    }\n",
       "\n",
       "    .dataframe thead th {\n",
       "        text-align: right;\n",
       "    }\n",
       "</style>\n",
       "<table border=\"1\" class=\"dataframe\">\n",
       "  <thead>\n",
       "    <tr style=\"text-align: right;\">\n",
       "      <th></th>\n",
       "      <th>city</th>\n",
       "      <th>state</th>\n",
       "      <th>holiday_type</th>\n",
       "      <th>sales</th>\n",
       "    </tr>\n",
       "  </thead>\n",
       "  <tbody>\n",
       "    <tr>\n",
       "      <th>0</th>\n",
       "      <td>Ambato</td>\n",
       "      <td>Tungurahua</td>\n",
       "      <td>Additional</td>\n",
       "      <td>526.78</td>\n",
       "    </tr>\n",
       "    <tr>\n",
       "      <th>1</th>\n",
       "      <td>Ambato</td>\n",
       "      <td>Tungurahua</td>\n",
       "      <td>Bridge</td>\n",
       "      <td>505.75</td>\n",
       "    </tr>\n",
       "    <tr>\n",
       "      <th>2</th>\n",
       "      <td>Ambato</td>\n",
       "      <td>Tungurahua</td>\n",
       "      <td>Event</td>\n",
       "      <td>397.39</td>\n",
       "    </tr>\n",
       "    <tr>\n",
       "      <th>3</th>\n",
       "      <td>Ambato</td>\n",
       "      <td>Tungurahua</td>\n",
       "      <td>Holiday</td>\n",
       "      <td>363.35</td>\n",
       "    </tr>\n",
       "    <tr>\n",
       "      <th>4</th>\n",
       "      <td>Ambato</td>\n",
       "      <td>Tungurahua</td>\n",
       "      <td>Normal Day</td>\n",
       "      <td>356.99</td>\n",
       "    </tr>\n",
       "    <tr>\n",
       "      <th>...</th>\n",
       "      <td>...</td>\n",
       "      <td>...</td>\n",
       "      <td>...</td>\n",
       "      <td>...</td>\n",
       "    </tr>\n",
       "    <tr>\n",
       "      <th>149</th>\n",
       "      <td>Santo Domingo</td>\n",
       "      <td>Santo Domingo de los Tsachilas</td>\n",
       "      <td>Event</td>\n",
       "      <td>262.32</td>\n",
       "    </tr>\n",
       "    <tr>\n",
       "      <th>150</th>\n",
       "      <td>Santo Domingo</td>\n",
       "      <td>Santo Domingo de los Tsachilas</td>\n",
       "      <td>Holiday</td>\n",
       "      <td>214.04</td>\n",
       "    </tr>\n",
       "    <tr>\n",
       "      <th>151</th>\n",
       "      <td>Santo Domingo</td>\n",
       "      <td>Santo Domingo de los Tsachilas</td>\n",
       "      <td>Normal Day</td>\n",
       "      <td>211.30</td>\n",
       "    </tr>\n",
       "    <tr>\n",
       "      <th>152</th>\n",
       "      <td>Santo Domingo</td>\n",
       "      <td>Santo Domingo de los Tsachilas</td>\n",
       "      <td>Transfer</td>\n",
       "      <td>286.28</td>\n",
       "    </tr>\n",
       "    <tr>\n",
       "      <th>153</th>\n",
       "      <td>Santo Domingo</td>\n",
       "      <td>Santo Domingo de los Tsachilas</td>\n",
       "      <td>Work Day</td>\n",
       "      <td>197.50</td>\n",
       "    </tr>\n",
       "  </tbody>\n",
       "</table>\n",
       "<p>154 rows × 4 columns</p>\n",
       "</div>"
      ],
      "text/plain": [
       "              city                           state holiday_type  sales\n",
       "0           Ambato                      Tungurahua   Additional 526.78\n",
       "1           Ambato                      Tungurahua       Bridge 505.75\n",
       "2           Ambato                      Tungurahua        Event 397.39\n",
       "3           Ambato                      Tungurahua      Holiday 363.35\n",
       "4           Ambato                      Tungurahua   Normal Day 356.99\n",
       "..             ...                             ...          ...    ...\n",
       "149  Santo Domingo  Santo Domingo de los Tsachilas        Event 262.32\n",
       "150  Santo Domingo  Santo Domingo de los Tsachilas      Holiday 214.04\n",
       "151  Santo Domingo  Santo Domingo de los Tsachilas   Normal Day 211.30\n",
       "152  Santo Domingo  Santo Domingo de los Tsachilas     Transfer 286.28\n",
       "153  Santo Domingo  Santo Domingo de los Tsachilas     Work Day 197.50\n",
       "\n",
       "[154 rows x 4 columns]"
      ]
     },
     "execution_count": 101,
     "metadata": {},
     "output_type": "execute_result"
    }
   ],
   "source": [
    "city_state_holiday_sales = df.groupby(['city', 'state', 'holiday_type'])['sales'].mean().reset_index()\n",
    "city_state_holiday_sales"
   ]
  },
  {
   "cell_type": "markdown",
   "id": "3c756a7f",
   "metadata": {},
   "source": [
    "### 🏙️ Which City or State Benefits the Most from Local Holidays?\n",
    "\n",
    "We analyzed average sales across different **cities and states** during various **holiday types** to determine which locations benefit the most from local holidays.\n",
    "\n",
    "#### 🔍 Key Observations:\n",
    "\n",
    "- **Ambato (Tungurahua)** shows notably high sales during:\n",
    "  - 🏷️ *Additional Holidays*: **527**\n",
    "  - 🛣️ *Bridge Holidays*: **506**\n",
    "- Compared to **normal days** (357), these holidays contribute a substantial uplift in sales.\n",
    "- **Santo Domingo** shows moderate increases during:\n",
    "  - 🎉 *Transfer Holidays*: **286**\n",
    "  - While normal days average **211**, indicating a post-holiday uplift.\n",
    "\n",
    "#### 🧠 Insight:\n",
    "\n",
    "- Cities like **Ambato** consistently benefit from multiple holiday types, suggesting **strong local engagement** and possibly **event-driven shopping patterns**.\n",
    "- **States such as Tungurahua** could be **priority regions** for localized promotions, especially around Bridge and Additional holidays.\n",
    "\n",
    "#### 📌 Takeaway:\n",
    "\n",
    "- Holiday impacts **aren’t uniform across regions**—local context matters.\n",
    "- Businesses should target high-performing cities like **Ambato** with **event-based promotions** and **inventory planning** around key holidays.\n",
    "- Further filtering for % uplift vs. normal days can sharpen these insights.\n",
    "\n",
    "> 🗺️ **Next step:** Visualize these trends with a heatmap or bar chart to better highlight top-performing regions during holidays.\n"
   ]
  },
  {
   "cell_type": "markdown",
   "id": "e218e518",
   "metadata": {},
   "source": [
    "> Corresponding plots will be in cell `70` in `visualization_demo.ipynb`"
   ]
  },
  {
   "cell_type": "markdown",
   "id": "13a4e228",
   "metadata": {},
   "source": [
    "# 🎉 20. Is there a difference in sales between transferred holidays and non-transferred holidays?\n"
   ]
  },
  {
   "cell_type": "code",
   "execution_count": null,
   "id": "5fd26d16",
   "metadata": {},
   "outputs": [
    {
     "name": "stdout",
     "output_type": "stream",
     "text": [
      "Transferred sales: 311.5602281117783, Non-transferred sales: 359.2714177512478\n"
     ]
    }
   ],
   "source": [
    "transferred_sales = df[df['transferred'] == 1]['sales'].mean()\n",
    "non_transferred_sales = df[df['transferred'] == 0]['sales'].mean()\n",
    "print(f\"Transferred sales: {transferred_sales}, Non-transferred sales: {non_transferred_sales}\")\n"
   ]
  },
  {
   "cell_type": "markdown",
   "id": "0fec61ac",
   "metadata": {},
   "source": [
    "### 🔄 Transferred Holidays vs. Non-Transferred Holidays: Is There a Sales Difference?\n",
    "\n",
    "To assess the impact of **transferred holidays** (when a holiday is moved to a different date), we compared the average sales between:\n",
    "\n",
    "- **Transferred Holidays** (`transferred = 1`)\n",
    "- **Non-Transferred Holidays** (`transferred = 0`)\n",
    "\n",
    "#### 📊 Results:\n",
    "\n",
    "| Holiday Type        | Avg Sales |\n",
    "|---------------------|-----------|\n",
    "| 🔄 Transferred      | 312       |\n",
    "| 📅 Non-Transferred  | 359       |\n",
    "\n",
    "#### 🔍 Insight:\n",
    "\n",
    "- Sales during **transferred holidays** are **~13% lower** than during non-transferred ones.\n",
    "- This suggests that moving a holiday to a different date might **reduce its commercial impact**, possibly due to:\n",
    "  - Less anticipation or confusion among consumers\n",
    "  - Misalignment with traditional shopping behavior\n",
    "\n",
    "#### 🧠 Takeaway:\n",
    "\n",
    "- **Non-transferred holidays** may offer better opportunities for marketing and promotions.\n",
    "- When planning campaigns, **focus more on fixed-date holidays** to leverage stronger and more predictable consumer behavior.\n",
    "\n",
    "> 📌 **Recommendation:** Retailers should track and adjust for transferred holidays in their calendars to avoid overestimating sales potential.\n"
   ]
  },
  {
   "cell_type": "markdown",
   "id": "e8fd4498",
   "metadata": {},
   "source": [
    "> Corresponding plots will be in cell `72` in `visualization_demo.ipynb`"
   ]
  },
  {
   "cell_type": "markdown",
   "id": "086087af",
   "metadata": {},
   "source": [
    "# 🎉 21. Do crisis periods reduce the usual holiday sales spike?\n"
   ]
  },
  {
   "cell_type": "code",
   "execution_count": null,
   "id": "5f46baf4",
   "metadata": {},
   "outputs": [
    {
     "name": "stdout",
     "output_type": "stream",
     "text": [
      "Crisis holiday sales: 494.9040719977209, Non-crisis holiday sales: 381.385802875458\n"
     ]
    }
   ],
   "source": [
    "crisis_holiday_sales = df[(df['is_crisis'] == 1) & (df['is_holiday'] == 1)]['sales'].mean()\n",
    "non_crisis_holiday_sales = df[(df['is_crisis'] == 0) & (df['is_holiday'] == 1)]['sales'].mean()\n",
    "print(f\"Crisis holiday sales: {crisis_holiday_sales}, Non-crisis holiday sales: {non_crisis_holiday_sales}\")"
   ]
  },
  {
   "cell_type": "markdown",
   "id": "048fd4f3",
   "metadata": {},
   "source": [
    "### ⚠️ Do Crisis Periods Reduce the Usual Holiday Sales Spike?\n",
    "\n",
    "To evaluate whether crisis periods (such as economic downturns or health crises) diminish the typical boost in sales seen during holidays, we compared:\n",
    "\n",
    "- 🆘 **Holiday sales during crisis periods** (`is_crisis = 1`)\n",
    "- ✅ **Holiday sales during normal periods** (`is_crisis = 0`)\n",
    "\n",
    "#### 📊 Results:\n",
    "\n",
    "| Scenario                  | Avg Holiday Sales |\n",
    "|---------------------------|-------------------|\n",
    "| 🆘 Crisis Holidays         | **495**           |\n",
    "| ✅ Non-Crisis Holidays     | **381**           |\n",
    "\n",
    "#### 🔍 Insight:\n",
    "\n",
    "- Surprisingly, **holiday sales are higher during crisis periods** by nearly **30%**.\n",
    "- This could be attributed to:\n",
    "  - **Stockpiling behavior** or **panic buying**\n",
    "  - Retailers offering **steeper discounts or promotions** to stimulate demand\n",
    "  - Consumers prioritizing spending during holidays for morale or tradition despite external conditions\n",
    "\n",
    "#### 🧠 Takeaway:\n",
    "\n",
    "- **Crisis does not always dampen holiday sales** — it can even amplify them under specific contexts.\n",
    "- Businesses should be ready to adapt to shifting consumer behavior during crises, especially around holidays.\n",
    "\n"
   ]
  },
  {
   "cell_type": "markdown",
   "id": "3787d44d",
   "metadata": {},
   "source": [
    "> Corresponding plots will be in cell `74` in `visualization_demo.ipynb`"
   ]
  },
  {
   "cell_type": "markdown",
   "id": "3fdfd3e6",
   "metadata": {},
   "source": [
    "# 🎉 22. Which quarter has the highest number of holidays and how does that affect total sales?\n"
   ]
  },
  {
   "cell_type": "code",
   "execution_count": null,
   "id": "0024aa2f",
   "metadata": {},
   "outputs": [
    {
     "data": {
      "text/html": [
       "<div>\n",
       "<style scoped>\n",
       "    .dataframe tbody tr th:only-of-type {\n",
       "        vertical-align: middle;\n",
       "    }\n",
       "\n",
       "    .dataframe tbody tr th {\n",
       "        vertical-align: top;\n",
       "    }\n",
       "\n",
       "    .dataframe thead th {\n",
       "        text-align: right;\n",
       "    }\n",
       "</style>\n",
       "<table border=\"1\" class=\"dataframe\">\n",
       "  <thead>\n",
       "    <tr style=\"text-align: right;\">\n",
       "      <th></th>\n",
       "      <th>quarter</th>\n",
       "      <th>is_holiday</th>\n",
       "      <th>sales</th>\n",
       "    </tr>\n",
       "  </thead>\n",
       "  <tbody>\n",
       "    <tr>\n",
       "      <th>0</th>\n",
       "      <td>1</td>\n",
       "      <td>0</td>\n",
       "      <td>258703353.46</td>\n",
       "    </tr>\n",
       "    <tr>\n",
       "      <th>1</th>\n",
       "      <td>1</td>\n",
       "      <td>1</td>\n",
       "      <td>13604515.44</td>\n",
       "    </tr>\n",
       "    <tr>\n",
       "      <th>2</th>\n",
       "      <td>2</td>\n",
       "      <td>0</td>\n",
       "      <td>215526817.35</td>\n",
       "    </tr>\n",
       "    <tr>\n",
       "      <th>3</th>\n",
       "      <td>2</td>\n",
       "      <td>1</td>\n",
       "      <td>76571986.67</td>\n",
       "    </tr>\n",
       "    <tr>\n",
       "      <th>4</th>\n",
       "      <td>3</td>\n",
       "      <td>0</td>\n",
       "      <td>230369979.73</td>\n",
       "    </tr>\n",
       "    <tr>\n",
       "      <th>5</th>\n",
       "      <td>3</td>\n",
       "      <td>1</td>\n",
       "      <td>38570032.55</td>\n",
       "    </tr>\n",
       "    <tr>\n",
       "      <th>6</th>\n",
       "      <td>4</td>\n",
       "      <td>0</td>\n",
       "      <td>194048098.24</td>\n",
       "    </tr>\n",
       "    <tr>\n",
       "      <th>7</th>\n",
       "      <td>4</td>\n",
       "      <td>1</td>\n",
       "      <td>69179960.77</td>\n",
       "    </tr>\n",
       "  </tbody>\n",
       "</table>\n",
       "</div>"
      ],
      "text/plain": [
       "   quarter  is_holiday        sales\n",
       "0        1           0 258703353.46\n",
       "1        1           1  13604515.44\n",
       "2        2           0 215526817.35\n",
       "3        2           1  76571986.67\n",
       "4        3           0 230369979.73\n",
       "5        3           1  38570032.55\n",
       "6        4           0 194048098.24\n",
       "7        4           1  69179960.77"
      ]
     },
     "execution_count": 104,
     "metadata": {},
     "output_type": "execute_result"
    }
   ],
   "source": [
    "quarter_holiday_sales = df.groupby(['quarter', 'is_holiday'])['sales'].sum().reset_index()\n",
    "quarter_holiday_sales"
   ]
  },
  {
   "cell_type": "markdown",
   "id": "4e778564",
   "metadata": {},
   "source": [
    "### 📊 Which Quarter Has the Highest Number of Holidays and How Does That Affect Total Sales?\n",
    "\n",
    "To understand the relationship between the number of holidays in each quarter and total sales, we analyzed sales data for holidays in each quarter.\n",
    "\n",
    "#### 📅 Results:\n",
    "\n",
    "| Quarter | Is Holiday | Total Sales |\n",
    "|---------|------------|-------------|\n",
    "| Q1      | No         | **258,703,353** |\n",
    "| Q1      | Yes        | **13,604,515**  |\n",
    "| Q2      | No         | **215,526,817** |\n",
    "| Q2      | Yes        | **76,571,987**  |\n",
    "| Q3      | No         | **230,369,980** |\n",
    "| Q3      | Yes        | **38,570,033**  |\n",
    "| Q4      | No         | **194,048,098** |\n",
    "| Q4      | Yes        | **69,179,961**  |\n",
    "\n",
    "#### 🔍 Insight:\n",
    "\n",
    "- **Quarter 1 (Q1)** has the highest sales both **with and without holidays**, contributing a significant portion of the total sales.\n",
    "- The **holiday sales** are notably higher in **Q2** compared to other quarters:\n",
    "  - Sales during holidays in Q2 are **~76.57 million**, compared to **13.6 million** in Q1, **38.57 million** in Q3, and **69.18 million** in Q4.\n",
    "  \n",
    "#### 🧠 Takeaway:\n",
    "\n",
    "- **Q1** sees the highest overall sales, but **Q2** shows a remarkable sales spike during holidays.\n",
    "- The **increase in sales during holidays in Q2** suggests that holidays in this quarter could be a key period for promotional campaigns or special offers.\n",
    "  \n",
    "\n"
   ]
  },
  {
   "cell_type": "markdown",
   "id": "036df52d",
   "metadata": {},
   "source": [
    "> Corresponding plots will be in cell `76` in `visualization_demo.ipynb`"
   ]
  },
  {
   "cell_type": "markdown",
   "id": "42c4d673",
   "metadata": {},
   "source": [
    "# 🎉 23. Is there a cumulative effect of promotion and holiday together?"
   ]
  },
  {
   "cell_type": "code",
   "execution_count": null,
   "id": "c52a964e",
   "metadata": {},
   "outputs": [
    {
     "data": {
      "text/plain": [
       "1203.8338764363868"
      ]
     },
     "execution_count": 105,
     "metadata": {},
     "output_type": "execute_result"
    }
   ],
   "source": [
    "promo_holiday_sales_combined = df[(df['onpromotion'] > 0) & (df['is_holiday'] == 1)]['sales'].mean()\n",
    "promo_holiday_sales_combined"
   ]
  },
  {
   "cell_type": "markdown",
   "id": "b95079b6",
   "metadata": {},
   "source": [
    "### 📊 Cumulative Effect of Promotion and Holiday on Sales\n",
    "\n",
    "We analyzed whether promotions and holidays combined have a cumulative effect on sales. \n",
    "\n",
    "#### 📅 Results:\n",
    "\n",
    "- **Average Sales during Promotion and Holiday**: **1,203.83**\n",
    "\n",
    "#### 🔍 Insight:\n",
    "\n",
    "- The combined effect of **promotion** and **holiday** results in a significant boost in sales. The average sales of **1,203.83** is considerably higher than the sales on holidays or promotions alone.\n",
    "- This suggests that consumers are more likely to make purchases when both **promotions** and **holidays** align, likely due to increased purchasing power and consumer demand during these periods.\n",
    "\n",
    "#### 🧠 Takeaway:\n",
    "\n",
    "- Retailers should **maximize the overlap of promotions with holidays** to fully capitalize on increased consumer spending.\n",
    "- Consider focusing on **major holiday promotions** to boost sales further during these peak periods.\n",
    "\n",
    "\n"
   ]
  },
  {
   "cell_type": "markdown",
   "id": "29e605ca",
   "metadata": {},
   "source": [
    "> Corresponding plots will be in cell `78` in `visualization_demo.ipynb`"
   ]
  },
  {
   "cell_type": "markdown",
   "id": "dd37b707",
   "metadata": {},
   "source": [
    "# 🛒 24. What is the relationship between the number of transactions and sales?\n"
   ]
  },
  {
   "cell_type": "code",
   "execution_count": null,
   "id": "e374774b",
   "metadata": {},
   "outputs": [
    {
     "name": "stdout",
     "output_type": "stream",
     "text": [
      "Correlation between Transactions and Sales: 0.2330\n"
     ]
    }
   ],
   "source": [
    "correlation = df['transactions'].corr(df['sales'])\n",
    "print(f'Correlation between Transactions and Sales: {correlation:.4f}')"
   ]
  },
  {
   "cell_type": "markdown",
   "id": "17fa95cb",
   "metadata": {},
   "source": [
    "## 🛒 Insight: Relationship Between Transactions and Sales\n",
    "\n",
    "The correlation between the number of transactions and total sales is **0.2330**.\n",
    "\n",
    "This indicates a **weak positive relationship** — while there is some connection between more transactions and higher sales, it is **not particularly strong**.  \n",
    "This suggests that simply increasing the number of customer visits does not always guarantee a proportional increase in total revenue. Other factors such as **average order size**, **promotions**, **product types**, or **seasonality** may have a more significant impact on overall sales.\n",
    "\n",
    "🔍 **Key Takeaway:**  \n",
    "To drive meaningful revenue growth, strategies should not only focus on increasing transactions but also on maximizing the **sales per transaction** (e.g., cross-selling, up-selling, targeted promotions).\n"
   ]
  },
  {
   "cell_type": "markdown",
   "id": "18fbc5e9",
   "metadata": {},
   "source": [
    "> Corresponding plots will be in cell `80` in `visualization_demo.ipynb`\n"
   ]
  },
  {
   "cell_type": "markdown",
   "id": "6b50244f",
   "metadata": {},
   "source": [
    "# 🛒 25. Are certain clusters (cluster) more sensitive to promotions or holidays?\n"
   ]
  },
  {
   "cell_type": "code",
   "execution_count": null,
   "id": "40f9de78",
   "metadata": {},
   "outputs": [
    {
     "data": {
      "text/html": [
       "<div>\n",
       "<style scoped>\n",
       "    .dataframe tbody tr th:only-of-type {\n",
       "        vertical-align: middle;\n",
       "    }\n",
       "\n",
       "    .dataframe tbody tr th {\n",
       "        vertical-align: top;\n",
       "    }\n",
       "\n",
       "    .dataframe thead th {\n",
       "        text-align: right;\n",
       "    }\n",
       "</style>\n",
       "<table border=\"1\" class=\"dataframe\">\n",
       "  <thead>\n",
       "    <tr style=\"text-align: right;\">\n",
       "      <th></th>\n",
       "      <th>cluster</th>\n",
       "      <th>avg_sales_normal</th>\n",
       "      <th>avg_sales_promo</th>\n",
       "      <th>avg_sales_holiday</th>\n",
       "      <th>promo_lift_%</th>\n",
       "      <th>holiday_lift_%</th>\n",
       "    </tr>\n",
       "  </thead>\n",
       "  <tbody>\n",
       "    <tr>\n",
       "      <th>6</th>\n",
       "      <td>7</td>\n",
       "      <td>63.82</td>\n",
       "      <td>286.31</td>\n",
       "      <td>156.55</td>\n",
       "      <td>348.64</td>\n",
       "      <td>145.32</td>\n",
       "    </tr>\n",
       "    <tr>\n",
       "      <th>10</th>\n",
       "      <td>11</td>\n",
       "      <td>242.45</td>\n",
       "      <td>911.07</td>\n",
       "      <td>672.07</td>\n",
       "      <td>275.78</td>\n",
       "      <td>177.20</td>\n",
       "    </tr>\n",
       "    <tr>\n",
       "      <th>1</th>\n",
       "      <td>2</td>\n",
       "      <td>99.39</td>\n",
       "      <td>362.79</td>\n",
       "      <td>278.19</td>\n",
       "      <td>265.02</td>\n",
       "      <td>179.90</td>\n",
       "    </tr>\n",
       "    <tr>\n",
       "      <th>11</th>\n",
       "      <td>12</td>\n",
       "      <td>159.94</td>\n",
       "      <td>577.12</td>\n",
       "      <td>355.92</td>\n",
       "      <td>260.84</td>\n",
       "      <td>122.54</td>\n",
       "    </tr>\n",
       "    <tr>\n",
       "      <th>9</th>\n",
       "      <td>10</td>\n",
       "      <td>105.80</td>\n",
       "      <td>379.18</td>\n",
       "      <td>288.05</td>\n",
       "      <td>258.41</td>\n",
       "      <td>172.27</td>\n",
       "    </tr>\n",
       "    <tr>\n",
       "      <th>14</th>\n",
       "      <td>15</td>\n",
       "      <td>109.38</td>\n",
       "      <td>384.33</td>\n",
       "      <td>213.25</td>\n",
       "      <td>251.38</td>\n",
       "      <td>94.97</td>\n",
       "    </tr>\n",
       "    <tr>\n",
       "      <th>2</th>\n",
       "      <td>3</td>\n",
       "      <td>89.48</td>\n",
       "      <td>313.46</td>\n",
       "      <td>209.38</td>\n",
       "      <td>250.32</td>\n",
       "      <td>134.00</td>\n",
       "    </tr>\n",
       "    <tr>\n",
       "      <th>15</th>\n",
       "      <td>16</td>\n",
       "      <td>131.48</td>\n",
       "      <td>442.81</td>\n",
       "      <td>260.40</td>\n",
       "      <td>236.79</td>\n",
       "      <td>98.05</td>\n",
       "    </tr>\n",
       "    <tr>\n",
       "      <th>5</th>\n",
       "      <td>6</td>\n",
       "      <td>137.18</td>\n",
       "      <td>431.83</td>\n",
       "      <td>383.51</td>\n",
       "      <td>214.79</td>\n",
       "      <td>179.57</td>\n",
       "    </tr>\n",
       "    <tr>\n",
       "      <th>12</th>\n",
       "      <td>13</td>\n",
       "      <td>138.76</td>\n",
       "      <td>367.81</td>\n",
       "      <td>363.53</td>\n",
       "      <td>165.07</td>\n",
       "      <td>161.98</td>\n",
       "    </tr>\n",
       "    <tr>\n",
       "      <th>0</th>\n",
       "      <td>1</td>\n",
       "      <td>154.40</td>\n",
       "      <td>405.09</td>\n",
       "      <td>359.08</td>\n",
       "      <td>162.36</td>\n",
       "      <td>132.56</td>\n",
       "    </tr>\n",
       "    <tr>\n",
       "      <th>7</th>\n",
       "      <td>8</td>\n",
       "      <td>311.13</td>\n",
       "      <td>758.03</td>\n",
       "      <td>687.21</td>\n",
       "      <td>143.64</td>\n",
       "      <td>120.88</td>\n",
       "    </tr>\n",
       "    <tr>\n",
       "      <th>8</th>\n",
       "      <td>9</td>\n",
       "      <td>138.38</td>\n",
       "      <td>327.29</td>\n",
       "      <td>296.25</td>\n",
       "      <td>136.51</td>\n",
       "      <td>114.08</td>\n",
       "    </tr>\n",
       "    <tr>\n",
       "      <th>3</th>\n",
       "      <td>4</td>\n",
       "      <td>134.18</td>\n",
       "      <td>312.39</td>\n",
       "      <td>323.13</td>\n",
       "      <td>132.82</td>\n",
       "      <td>140.82</td>\n",
       "    </tr>\n",
       "    <tr>\n",
       "      <th>4</th>\n",
       "      <td>5</td>\n",
       "      <td>548.84</td>\n",
       "      <td>1150.66</td>\n",
       "      <td>1215.88</td>\n",
       "      <td>109.65</td>\n",
       "      <td>121.54</td>\n",
       "    </tr>\n",
       "    <tr>\n",
       "      <th>16</th>\n",
       "      <td>17</td>\n",
       "      <td>306.64</td>\n",
       "      <td>637.56</td>\n",
       "      <td>642.76</td>\n",
       "      <td>107.92</td>\n",
       "      <td>109.62</td>\n",
       "    </tr>\n",
       "    <tr>\n",
       "      <th>13</th>\n",
       "      <td>14</td>\n",
       "      <td>318.67</td>\n",
       "      <td>588.57</td>\n",
       "      <td>797.96</td>\n",
       "      <td>84.70</td>\n",
       "      <td>150.40</td>\n",
       "    </tr>\n",
       "  </tbody>\n",
       "</table>\n",
       "</div>"
      ],
      "text/plain": [
       "    cluster  avg_sales_normal  avg_sales_promo  avg_sales_holiday  \\\n",
       "6         7             63.82           286.31             156.55   \n",
       "10       11            242.45           911.07             672.07   \n",
       "1         2             99.39           362.79             278.19   \n",
       "11       12            159.94           577.12             355.92   \n",
       "9        10            105.80           379.18             288.05   \n",
       "14       15            109.38           384.33             213.25   \n",
       "2         3             89.48           313.46             209.38   \n",
       "15       16            131.48           442.81             260.40   \n",
       "5         6            137.18           431.83             383.51   \n",
       "12       13            138.76           367.81             363.53   \n",
       "0         1            154.40           405.09             359.08   \n",
       "7         8            311.13           758.03             687.21   \n",
       "8         9            138.38           327.29             296.25   \n",
       "3         4            134.18           312.39             323.13   \n",
       "4         5            548.84          1150.66            1215.88   \n",
       "16       17            306.64           637.56             642.76   \n",
       "13       14            318.67           588.57             797.96   \n",
       "\n",
       "    promo_lift_%  holiday_lift_%  \n",
       "6         348.64          145.32  \n",
       "10        275.78          177.20  \n",
       "1         265.02          179.90  \n",
       "11        260.84          122.54  \n",
       "9         258.41          172.27  \n",
       "14        251.38           94.97  \n",
       "2         250.32          134.00  \n",
       "15        236.79           98.05  \n",
       "5         214.79          179.57  \n",
       "12        165.07          161.98  \n",
       "0         162.36          132.56  \n",
       "7         143.64          120.88  \n",
       "8         136.51          114.08  \n",
       "3         132.82          140.82  \n",
       "4         109.65          121.54  \n",
       "16        107.92          109.62  \n",
       "13         84.70          150.40  "
      ]
     },
     "execution_count": 107,
     "metadata": {},
     "output_type": "execute_result"
    }
   ],
   "source": [
    "normal_sales = df[(df['is_holiday'] == 0) & (df['onpromotion'] == 0)].groupby('cluster')['sales'].mean().reset_index()\n",
    "normal_sales.rename(columns={'sales': 'avg_sales_normal'}, inplace=True)\n",
    "\n",
    "promo_sales = df[df['onpromotion'] == 1].groupby('cluster')['sales'].mean().reset_index()\n",
    "promo_sales.rename(columns={'sales': 'avg_sales_promo'}, inplace=True)\n",
    "\n",
    "holiday_sales = df[df['is_holiday'] == 1].groupby('cluster')['sales'].mean().reset_index()\n",
    "holiday_sales.rename(columns={'sales': 'avg_sales_holiday'}, inplace=True)\n",
    "\n",
    "cluster_sensitivity = normal_sales.merge(promo_sales, on='cluster', how='left').merge(holiday_sales, on='cluster', how='left')\n",
    "\n",
    "cluster_sensitivity['promo_lift_%'] = ((cluster_sensitivity['avg_sales_promo'] - cluster_sensitivity['avg_sales_normal']) / cluster_sensitivity['avg_sales_normal']) * 100\n",
    "cluster_sensitivity['holiday_lift_%'] = ((cluster_sensitivity['avg_sales_holiday'] - cluster_sensitivity['avg_sales_normal']) / cluster_sensitivity['avg_sales_normal']) * 100\n",
    "\n",
    "cluster_sensitivity = cluster_sensitivity.sort_values('promo_lift_%', ascending=False)\n",
    "\n",
    "cluster_sensitivity\n"
   ]
  },
  {
   "cell_type": "markdown",
   "id": "a2db129a",
   "metadata": {},
   "source": [
    "From our analysis:\n",
    "\n",
    "- **Promo Lift (%)** measures how much sales increase during promotions compared to normal periods.\n",
    "- **Holiday Lift (%)** measures how much sales increase during holidays compared to normal periods.\n",
    "\n",
    "### 📊 Key Insights:\n",
    "- **Cluster 7** shows the highest **promotion sensitivity**, with sales increasing by **+349%** during promotions.\n",
    "- **Cluster 11** and **Cluster 2** also demonstrate strong promotion lifts, around **+276%** and **+265%**, respectively.\n",
    "- **Cluster 2** also has one of the **highest holiday sensitivities**, with a **+180%** lift in sales during holidays.\n",
    "- Clusters like **Cluster 5** and **Cluster 13** show more **balanced sensitivity** across both promotions and holidays.\n",
    "- **Cluster 14** is **more holiday sensitive** than promo sensitive (higher holiday lift % compared to promo lift %).\n",
    "\n",
    "### 📌 Overall:\n",
    "- Promotions tend to drive **even larger spikes** in sales than holidays for most clusters.\n",
    "- Knowing which clusters are more responsive can help in **targeting promotions and planning inventory** more effectively."
   ]
  },
  {
   "cell_type": "markdown",
   "id": "f8747d59",
   "metadata": {},
   "source": [
    "> Corresponding plots will be in cell `83` in `visualization_demo.ipynb`\n"
   ]
  },
  {
   "cell_type": "markdown",
   "id": "ce759799",
   "metadata": {},
   "source": [
    "# 🛒 26. Do certain states or cities consistently outperform others?\n"
   ]
  },
  {
   "cell_type": "code",
   "execution_count": null,
   "id": "51d41b3f",
   "metadata": {},
   "outputs": [
    {
     "name": "stdout",
     "output_type": "stream",
     "text": [
      "         state        city  avg_sales  std_sales  total_sales  consistency\n",
      "18   Pichincha       Quito     558.56    1571.15 568679349.49         2.81\n",
      "17   Pichincha     Cayambe     511.06    1365.92  28906533.92         2.67\n",
      "21  Tungurahua      Ambato     363.85     977.82  41159772.88         2.69\n",
      "6       Guayas       Daule     346.57     817.66  19602762.42         2.36\n",
      "11        Loja        Loja     340.30     840.26  19248172.99         2.47\n",
      "12    Los Rios    Babahoyo     320.71     838.38  18140255.10         2.61\n",
      "4       El Oro     Machala     301.39     810.39  34094665.19         2.69\n",
      "0        Azuay      Cuenca     295.81     838.06  50194045.80         2.83\n",
      "5   Esmeraldas  Esmeraldas     295.64     816.65  16722039.30         2.76\n",
      "7       Guayas   Guayaquil     277.51     808.96 125572185.61         2.92\n"
     ]
    }
   ],
   "source": [
    "performance = df.groupby(['state', 'city']).agg(\n",
    "    avg_sales=('sales', 'mean'),\n",
    "    std_sales=('sales', 'std'),\n",
    "    total_sales=('sales', 'sum')\n",
    ").reset_index()\n",
    "\n",
    "# To identify consistency, you can use standard deviation (lower std = more consistent)\n",
    "performance['consistency'] = performance['std_sales'] / performance['avg_sales']\n",
    "\n",
    "# Sort by average sales and consistency\n",
    "sorted_performance = performance.sort_values(by=['avg_sales', 'consistency'], ascending=[False, True])\n",
    "\n",
    "# Display top 10 performing states/cities\n",
    "top_performers = sorted_performance.head(10)\n",
    "print(top_performers)"
   ]
  },
  {
   "cell_type": "markdown",
   "id": "c3502835",
   "metadata": {},
   "source": [
    "### 📊 Key Insights:\n",
    "From the analysis, we can see that **Pichincha** is the standout performer with its cities **Quito** and **Cayambe** both having strong average sales, despite their high variability (as indicated by the high standard deviation). However, the most consistent performers based on **low sales variability** relative to their average sales are:\n",
    "\n",
    "- **Quito (Pichincha)**: Although it has the highest average sales, its consistency score is relatively high, showing that it consistently performs well.\n",
    "- **Cayambe (Pichincha)**: Despite a lower average, it shows a similar trend, maintaining consistent sales performance.\n",
    "\n",
    "Other cities with consistent sales but lower overall sales include:\n",
    "\n",
    "- **Ambato (Tungurahua)**: Slightly lower average sales but with a strong consistency score.\n",
    "- **Loja (Loja)**: Similar consistency with average sales just above 300 units.\n",
    "\n",
    "These cities show **high sales consistency** in comparison to others, indicating that they are likely to maintain stable performance over time. However, cities like **Daule (Guayas)** and **Guayaquil (Guayas)**, while showing substantial total sales, have higher variability, which could indicate more fluctuation in their performance.\n",
    "\n",
    "Thus, **Pichincha** (especially **Quito**) seems to be the most consistently high-performing region in this dataset."
   ]
  },
  {
   "cell_type": "markdown",
   "id": "8bff1d06",
   "metadata": {},
   "source": [
    "> Corresponding plots will be in cell `86` in `visualization_demo.ipynb`\n"
   ]
  },
  {
   "cell_type": "markdown",
   "id": "dd5bb598",
   "metadata": {},
   "source": [
    "# 🔮 27. Which features are most correlated with sales?"
   ]
  },
  {
   "cell_type": "code",
   "execution_count": null,
   "id": "c63bbc55",
   "metadata": {},
   "outputs": [
    {
     "name": "stdout",
     "output_type": "stream",
     "text": [
      "sales               1.00\n",
      "sales_lag_7         0.93\n",
      "onpromotion         0.43\n",
      "rolling_mean_7      0.42\n",
      "transactions        0.23\n",
      "promo_last_7_days   0.18\n",
      "days_to_holiday     0.09\n",
      "year                0.08\n",
      "is_weekend          0.05\n",
      "store_nbr           0.04\n",
      "Name: sales, dtype: float64\n"
     ]
    }
   ],
   "source": [
    "numeric_df = df.select_dtypes(include=['number'])\n",
    "\n",
    "correlation_matrix = numeric_df.corr()\n",
    "\n",
    "sales_correlation = correlation_matrix['sales'].sort_values(ascending=False)\n",
    "\n",
    "print(sales_correlation.head(10))"
   ]
  },
  {
   "cell_type": "markdown",
   "id": "0ff284e5",
   "metadata": {},
   "source": [
    "### 🔎 Observations:\n",
    "- **sales_lag_7** has the highest correlation with **sales** (0.93), indicating a strong relationship with past sales.\n",
    "- **onpromotion** (0.43) and **rolling_mean_7** (0.42) show moderate positive correlation, suggesting that promotional activities and recent trends have an impact on current sales.\n",
    "- **transactions** (0.23) also shows a weak positive correlation, implying that more transactions are somewhat associated with higher sales.\n",
    "- Features like **promo_last_7_days** (0.18), **days_to_holiday** (0.09), and **year** (0.08) have weaker correlations, suggesting less influence on sales, although there may still be some indirect effect.\n",
    "- **is_weekend** (0.05) and **store_nbr** (0.04) show minimal correlation, indicating that these features don't significantly affect sales directly.\n",
    "\n",
    "### 📊 Key Insights:\n",
    "- **Sales lag** is the strongest predictor, emphasizing the importance of historical sales data for forecasting.\n",
    "- **Promotions** and **rolling averages** also play an important role, although not as strongly as past sales.\n",
    "- **Transactions** and **holidays** contribute to a lesser extent, while factors like weekends and store numbers have minimal direct impact on sales.\n",
    "\n",
    "These insights can guide future analysis and feature selection for improving sales prediction models."
   ]
  },
  {
   "cell_type": "markdown",
   "id": "0a971dc2",
   "metadata": {},
   "source": [
    "> Corresponding plots will be in cell `89` in `visualization_demo.ipynb`\n"
   ]
  },
  {
   "cell_type": "markdown",
   "id": "cdb7c338",
   "metadata": {},
   "source": [
    "# 🔮 28. How do 7-day lag features (sales_lag_7) correlate with current sales?"
   ]
  },
  {
   "cell_type": "code",
   "execution_count": null,
   "id": "06bbb0fd",
   "metadata": {},
   "outputs": [
    {
     "name": "stdout",
     "output_type": "stream",
     "text": [
      "Correlation between sales_lag_7 and sales: 0.93\n"
     ]
    }
   ],
   "source": [
    "lag_sales_correlation = df['sales_lag_7'].corr(df['sales'])\n",
    "\n",
    "print(f\"Correlation between sales_lag_7 and sales: {lag_sales_correlation:.2f}\")"
   ]
  },
  {
   "cell_type": "markdown",
   "id": "64951933",
   "metadata": {},
   "source": [
    "The correlation between the **sales_lag_7** feature and current **sales** is **0.93**, which indicates a very strong positive relationship. This means that sales from the past 7 days are highly predictive of current sales, suggesting that past performance has a significant influence on current sales levels.\n",
    "\n",
    "### 📊 Key Insights:\n",
    "- A high correlation of **0.93** confirms that **sales_lag_7** is a crucial feature in predicting current sales.\n",
    "- This strong correlation highlights the importance of historical sales data in forecasting future performance.\n",
    "  \n",
    "Such a strong relationship suggests that models predicting sales can benefit from including lag features to account for trends and patterns in past sales data.\n"
   ]
  },
  {
   "cell_type": "markdown",
   "id": "00cbaf84",
   "metadata": {},
   "source": [
    "> Corresponding plots will be in cell `92` in `visualization_demo.ipynb`"
   ]
  },
  {
   "cell_type": "markdown",
   "id": "5796c509",
   "metadata": {},
   "source": [
    "# 🔮 29. What does the rolling mean of sales tell us about seasonality or stability?"
   ]
  },
  {
   "cell_type": "code",
   "execution_count": null,
   "id": "86125312",
   "metadata": {},
   "outputs": [
    {
     "name": "stdout",
     "output_type": "stream",
     "text": [
      "Correlation between rolling_mean_7 and sales: 0.42\n"
     ]
    }
   ],
   "source": [
    "rolling_mean_correlation = df['rolling_mean_7'].corr(df['sales'])\n",
    "\n",
    "print(f\"Correlation between rolling_mean_7 and sales: {rolling_mean_correlation:.2f}\")"
   ]
  },
  {
   "cell_type": "markdown",
   "id": "aead77f0",
   "metadata": {},
   "source": [
    "The correlation between the **7-day rolling mean** and **sales** is **0.42**, indicating a moderate positive relationship. This suggests that while the rolling mean smooths out fluctuations and captures trends, it does not fully track the variability in daily sales. \n",
    "\n",
    "### 📊 Key Insights:\n",
    "- A correlation of **0.42** indicates that the **rolling mean** captures some level of seasonality or trends, but there are still significant fluctuations in sales that are not fully accounted for by the rolling average.\n",
    "- The **rolling mean** helps highlight the **stability** of sales by smoothing out short-term spikes and drops. However, the moderate correlation suggests that external factors or shorter-term changes might still have a noticeable impact on sales.\n",
    "  \n",
    "In summary, the rolling mean provides a useful way to track the broader trends in sales, but it's clear that there is still some volatility or seasonality present in the data that requires further analysis."
   ]
  },
  {
   "cell_type": "markdown",
   "id": "6265073a",
   "metadata": {},
   "source": [
    "> Corresponding plots will be in cell `96` in `visualization_demo.ipynb`"
   ]
  },
  {
   "cell_type": "markdown",
   "id": "20aa7109",
   "metadata": {},
   "source": [
    "# 🔮 30. Is there a correlation between oil prices (dcoilwtico) and sales behavior?"
   ]
  },
  {
   "cell_type": "code",
   "execution_count": null,
   "id": "38527f11",
   "metadata": {},
   "outputs": [
    {
     "name": "stdout",
     "output_type": "stream",
     "text": [
      "Correlation between oil price and sales: -0.0750\n"
     ]
    }
   ],
   "source": [
    "oil_sales_corr = df[['dcoilwtico', 'sales']].corr().iloc[0, 1]\n",
    "print(f\"Correlation between oil price and sales: {oil_sales_corr:.4f}\")"
   ]
  },
  {
   "cell_type": "markdown",
   "id": "d4c377e7",
   "metadata": {},
   "source": [
    "The correlation between **oil prices** (`dcoilwtico`) and **sales** is **-0.0750**, which indicates a very weak negative relationship. This suggests that oil prices have a negligible impact on sales behavior, with only a small inverse correlation.\n",
    "\n",
    "### 📊 Key Insights:\n",
    "- A correlation value close to **0** indicates that there is little to no direct relationship between oil prices and sales.\n",
    "- The **negative correlation** of **-0.0750** implies that if there is any effect, it is very small and in the opposite direction (i.e., higher oil prices might slightly lower sales or vice versa), but the effect is minimal.\n",
    "  \n",
    "In conclusion, **oil prices do not appear to significantly influence sales** behavior in this dataset, and other factors likely play a more substantial role in determining sales trends."
   ]
  },
  {
   "cell_type": "markdown",
   "id": "4746ec51",
   "metadata": {},
   "source": [
    "> Corresponding plots will be in cell `99` in `visualization_demo.ipynb`"
   ]
  }
 ],
 "metadata": {
  "kernelspec": {
   "display_name": "Python 3",
   "language": "python",
   "name": "python3"
  },
  "language_info": {
   "codemirror_mode": {
    "name": "ipython",
    "version": 3
   },
   "file_extension": ".py",
   "mimetype": "text/x-python",
   "name": "python",
   "nbconvert_exporter": "python",
   "pygments_lexer": "ipython3",
   "version": "3.13.0"
  }
 },
 "nbformat": 4,
 "nbformat_minor": 5
}
